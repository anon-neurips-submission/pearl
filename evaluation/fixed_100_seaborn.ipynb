{
 "cells": [
  {
   "cell_type": "code",
   "execution_count": 35,
   "metadata": {
    "pycharm": {
     "name": "#%%\n"
    }
   },
   "outputs": [],
   "source": [
    "import pandas as pd\n",
    "import seaborn as sns\n",
    "%matplotlib inline\n",
    "import matplotlib.pyplot as plt\n",
    "import numpy as np"
   ]
  },
  {
   "cell_type": "code",
   "execution_count": null,
   "metadata": {},
   "outputs": [],
   "source": [
    "\n"
   ]
  },
  {
   "cell_type": "code",
   "execution_count": null,
   "metadata": {
    "pycharm": {
     "name": "#%%\n"
    }
   },
   "outputs": [],
   "source": [
    "\n"
   ]
  },
  {
   "cell_type": "code",
   "execution_count": 36,
   "metadata": {},
   "outputs": [
    {
     "data": {
      "text/html": [
       "<div>\n",
       "<style scoped>\n",
       "    .dataframe tbody tr th:only-of-type {\n",
       "        vertical-align: middle;\n",
       "    }\n",
       "\n",
       "    .dataframe tbody tr th {\n",
       "        vertical-align: top;\n",
       "    }\n",
       "\n",
       "    .dataframe thead th {\n",
       "        text-align: right;\n",
       "    }\n",
       "</style>\n",
       "<table border=\"1\" class=\"dataframe\">\n",
       "  <thead>\n",
       "    <tr style=\"text-align: right;\">\n",
       "      <th></th>\n",
       "      <th>step</th>\n",
       "      <th>reward</th>\n",
       "      <th>length</th>\n",
       "      <th>reward_se</th>\n",
       "      <th>length_se</th>\n",
       "    </tr>\n",
       "  </thead>\n",
       "  <tbody>\n",
       "    <tr>\n",
       "      <th>0</th>\n",
       "      <td>0.0</td>\n",
       "      <td>0.230000</td>\n",
       "      <td>83.180000</td>\n",
       "      <td>0.000000</td>\n",
       "      <td>0.000000</td>\n",
       "    </tr>\n",
       "    <tr>\n",
       "      <th>1</th>\n",
       "      <td>17.0</td>\n",
       "      <td>0.114885</td>\n",
       "      <td>91.598410</td>\n",
       "      <td>0.026450</td>\n",
       "      <td>141.456200</td>\n",
       "    </tr>\n",
       "    <tr>\n",
       "      <th>2</th>\n",
       "      <td>19.0</td>\n",
       "      <td>0.076513</td>\n",
       "      <td>94.404543</td>\n",
       "      <td>0.017616</td>\n",
       "      <td>94.209798</td>\n",
       "    </tr>\n",
       "    <tr>\n",
       "      <th>3</th>\n",
       "      <td>20.0</td>\n",
       "      <td>0.182703</td>\n",
       "      <td>86.279088</td>\n",
       "      <td>0.056657</td>\n",
       "      <td>325.782332</td>\n",
       "    </tr>\n",
       "    <tr>\n",
       "      <th>4</th>\n",
       "      <td>21.0</td>\n",
       "      <td>0.146016</td>\n",
       "      <td>89.034258</td>\n",
       "      <td>0.049146</td>\n",
       "      <td>281.857932</td>\n",
       "    </tr>\n",
       "    <tr>\n",
       "      <th>...</th>\n",
       "      <td>...</td>\n",
       "      <td>...</td>\n",
       "      <td>...</td>\n",
       "      <td>...</td>\n",
       "      <td>...</td>\n",
       "    </tr>\n",
       "    <tr>\n",
       "      <th>25281</th>\n",
       "      <td>29995.0</td>\n",
       "      <td>0.929781</td>\n",
       "      <td>35.698928</td>\n",
       "      <td>0.037059</td>\n",
       "      <td>223.300288</td>\n",
       "    </tr>\n",
       "    <tr>\n",
       "      <th>25282</th>\n",
       "      <td>29997.0</td>\n",
       "      <td>0.929921</td>\n",
       "      <td>35.672556</td>\n",
       "      <td>0.036995</td>\n",
       "      <td>223.201861</td>\n",
       "    </tr>\n",
       "    <tr>\n",
       "      <th>25283</th>\n",
       "      <td>29998.0</td>\n",
       "      <td>0.930061</td>\n",
       "      <td>35.687196</td>\n",
       "      <td>0.036931</td>\n",
       "      <td>222.863072</td>\n",
       "    </tr>\n",
       "    <tr>\n",
       "      <th>25284</th>\n",
       "      <td>29999.0</td>\n",
       "      <td>0.930201</td>\n",
       "      <td>35.667841</td>\n",
       "      <td>0.036867</td>\n",
       "      <td>222.605100</td>\n",
       "    </tr>\n",
       "    <tr>\n",
       "      <th>25285</th>\n",
       "      <td>30000.0</td>\n",
       "      <td>0.928642</td>\n",
       "      <td>35.776897</td>\n",
       "      <td>0.038008</td>\n",
       "      <td>228.106859</td>\n",
       "    </tr>\n",
       "  </tbody>\n",
       "</table>\n",
       "<p>25286 rows × 5 columns</p>\n",
       "</div>"
      ],
      "text/plain": [
       "          step    reward     length  reward_se   length_se\n",
       "0          0.0  0.230000  83.180000   0.000000    0.000000\n",
       "1         17.0  0.114885  91.598410   0.026450  141.456200\n",
       "2         19.0  0.076513  94.404543   0.017616   94.209798\n",
       "3         20.0  0.182703  86.279088   0.056657  325.782332\n",
       "4         21.0  0.146016  89.034258   0.049146  281.857932\n",
       "...        ...       ...        ...        ...         ...\n",
       "25281  29995.0  0.929781  35.698928   0.037059  223.300288\n",
       "25282  29997.0  0.929921  35.672556   0.036995  223.201861\n",
       "25283  29998.0  0.930061  35.687196   0.036931  222.863072\n",
       "25284  29999.0  0.930201  35.667841   0.036867  222.605100\n",
       "25285  30000.0  0.928642  35.776897   0.038008  228.106859\n",
       "\n",
       "[25286 rows x 5 columns]"
      ]
     },
     "execution_count": 36,
     "metadata": {},
     "output_type": "execute_result"
    }
   ],
   "source": [
    "\n",
    "\n",
    "pit_agrs_100_30k = pd.read_csv('cass_exp/pit_100_each/pit_agrs_100_30k_merge.csv', header = 3)\n",
    "\n",
    "pit_agrs_100_30k.sort_values(by='step', inplace=True)\n",
    "\n",
    "step_sums = dict() \n",
    "# {key: (reward_sum, count, length_of_run) }\n",
    "\n",
    "for index, row, in pit_agrs_100_30k.iterrows():\n",
    "    step = row['step']\n",
    "    if step in step_sums:\n",
    "        # adding rewards for the step\n",
    "        step_sums[step][0] += row['run/total_reward']\n",
    "        step_sums[step][1] += 1\n",
    "        step_sums[step][2] += row['run/length']\n",
    "    else:\n",
    "        step_sums[step] = [0, 1, row['run/length']]\n",
    "        step_sums[step][0] += row['run/total_reward']\n",
    "        \n",
    "\n",
    "# take average reward and length at each saved step\n",
    "df_av_at_step = pd.DataFrame(columns=['step', 'reward', 'length'])\n",
    "\n",
    "\n",
    "for key, value in step_sums.items():\n",
    "    \n",
    "    mean_reward = value[0] / value[1]\n",
    "    mean_length = value[2] / value[1]\n",
    "    \n",
    "    \n",
    "    df_av_at_step = df_av_at_step.append({'step': key, 'reward': mean_reward, 'length': mean_length}, ignore_index=True)\n",
    "df_av_at_step.set_index('step')\n",
    "\n",
    "\n",
    "rolling = df_av_at_step.ewm(adjust = True, span=1000).mean()\n",
    "rolling_se = df_av_at_step.ewm(adjust = True, span = 1000).var()\n",
    "rolling\n",
    "\n",
    "df_av_at_step['reward'] = rolling['reward']\n",
    "df_av_at_step['reward_se'] = rolling_se['reward']\n",
    "df_av_at_step['length_se'] = rolling_se['length']\n",
    "df_av_at_step['length'] = rolling['length']\n",
    "\n",
    "df_av_at_step = df_av_at_step.fillna(0);df_av_at_step\n",
    "df_agrs = df_av_at_step\n",
    "df_agrs"
   ]
  },
  {
   "cell_type": "code",
   "execution_count": 37,
   "metadata": {},
   "outputs": [
    {
     "data": {
      "text/html": [
       "<div>\n",
       "<style scoped>\n",
       "    .dataframe tbody tr th:only-of-type {\n",
       "        vertical-align: middle;\n",
       "    }\n",
       "\n",
       "    .dataframe tbody tr th {\n",
       "        vertical-align: top;\n",
       "    }\n",
       "\n",
       "    .dataframe thead th {\n",
       "        text-align: right;\n",
       "    }\n",
       "</style>\n",
       "<table border=\"1\" class=\"dataframe\">\n",
       "  <thead>\n",
       "    <tr style=\"text-align: right;\">\n",
       "      <th></th>\n",
       "      <th>step</th>\n",
       "      <th>reward</th>\n",
       "      <th>length</th>\n",
       "      <th>reward_se</th>\n",
       "      <th>length_se</th>\n",
       "    </tr>\n",
       "  </thead>\n",
       "  <tbody>\n",
       "    <tr>\n",
       "      <th>0</th>\n",
       "      <td>0.0</td>\n",
       "      <td>0.220000</td>\n",
       "      <td>84.680000</td>\n",
       "      <td>0.000000</td>\n",
       "      <td>0.000000</td>\n",
       "    </tr>\n",
       "    <tr>\n",
       "      <th>1</th>\n",
       "      <td>22.0</td>\n",
       "      <td>0.109890</td>\n",
       "      <td>92.347660</td>\n",
       "      <td>0.024200</td>\n",
       "      <td>117.351200</td>\n",
       "    </tr>\n",
       "    <tr>\n",
       "      <th>2</th>\n",
       "      <td>23.0</td>\n",
       "      <td>0.073187</td>\n",
       "      <td>94.903543</td>\n",
       "      <td>0.016117</td>\n",
       "      <td>78.155873</td>\n",
       "    </tr>\n",
       "    <tr>\n",
       "      <th>3</th>\n",
       "      <td>24.0</td>\n",
       "      <td>0.054835</td>\n",
       "      <td>96.181482</td>\n",
       "      <td>0.012076</td>\n",
       "      <td>58.558249</td>\n",
       "    </tr>\n",
       "    <tr>\n",
       "      <th>4</th>\n",
       "      <td>25.0</td>\n",
       "      <td>0.244625</td>\n",
       "      <td>81.888184</td>\n",
       "      <td>0.188251</td>\n",
       "      <td>1060.276515</td>\n",
       "    </tr>\n",
       "    <tr>\n",
       "      <th>...</th>\n",
       "      <td>...</td>\n",
       "      <td>...</td>\n",
       "      <td>...</td>\n",
       "      <td>...</td>\n",
       "      <td>...</td>\n",
       "    </tr>\n",
       "    <tr>\n",
       "      <th>25001</th>\n",
       "      <td>29994.0</td>\n",
       "      <td>0.937135</td>\n",
       "      <td>35.748271</td>\n",
       "      <td>0.030108</td>\n",
       "      <td>181.979061</td>\n",
       "    </tr>\n",
       "    <tr>\n",
       "      <th>25002</th>\n",
       "      <td>29996.0</td>\n",
       "      <td>0.937261</td>\n",
       "      <td>35.757765</td>\n",
       "      <td>0.030055</td>\n",
       "      <td>181.660534</td>\n",
       "    </tr>\n",
       "    <tr>\n",
       "      <th>25003</th>\n",
       "      <td>29997.0</td>\n",
       "      <td>0.937386</td>\n",
       "      <td>35.773234</td>\n",
       "      <td>0.030003</td>\n",
       "      <td>181.417221</td>\n",
       "    </tr>\n",
       "    <tr>\n",
       "      <th>25004</th>\n",
       "      <td>29998.0</td>\n",
       "      <td>0.936845</td>\n",
       "      <td>35.808985</td>\n",
       "      <td>0.030090</td>\n",
       "      <td>181.693820</td>\n",
       "    </tr>\n",
       "    <tr>\n",
       "      <th>25005</th>\n",
       "      <td>30000.0</td>\n",
       "      <td>0.935116</td>\n",
       "      <td>35.927820</td>\n",
       "      <td>0.031524</td>\n",
       "      <td>188.391629</td>\n",
       "    </tr>\n",
       "  </tbody>\n",
       "</table>\n",
       "<p>25006 rows × 5 columns</p>\n",
       "</div>"
      ],
      "text/plain": [
       "          step    reward     length  reward_se    length_se\n",
       "0          0.0  0.220000  84.680000   0.000000     0.000000\n",
       "1         22.0  0.109890  92.347660   0.024200   117.351200\n",
       "2         23.0  0.073187  94.903543   0.016117    78.155873\n",
       "3         24.0  0.054835  96.181482   0.012076    58.558249\n",
       "4         25.0  0.244625  81.888184   0.188251  1060.276515\n",
       "...        ...       ...        ...        ...          ...\n",
       "25001  29994.0  0.937135  35.748271   0.030108   181.979061\n",
       "25002  29996.0  0.937261  35.757765   0.030055   181.660534\n",
       "25003  29997.0  0.937386  35.773234   0.030003   181.417221\n",
       "25004  29998.0  0.936845  35.808985   0.030090   181.693820\n",
       "25005  30000.0  0.935116  35.927820   0.031524   188.391629\n",
       "\n",
       "[25006 rows x 5 columns]"
      ]
     },
     "execution_count": 37,
     "metadata": {},
     "output_type": "execute_result"
    }
   ],
   "source": [
    "pit_no_agrs_100_30k = pd.read_csv('cass_exp/pit_100_each/pit_no_agrs_100_30k_merge.csv', header = 2)\n",
    "\n",
    "pit_no_agrs_100_30k.sort_values(by='step', inplace=True)\n",
    "\n",
    "#PIPELINE FOR AVERAGE OF MOVING AVERAGES\n",
    "\n",
    "step_sums = dict() \n",
    "# {key: (reward_sum, count, length_of_run) }\n",
    "\n",
    "for index, row, in pit_no_agrs_100_30k.iterrows():\n",
    "    step = row['step']\n",
    "    if step in step_sums:\n",
    "        # adding rewards for the step\n",
    "        step_sums[step][0] += row['run/total_reward']\n",
    "        step_sums[step][1] += 1\n",
    "        step_sums[step][2] += row['run/length']\n",
    "    else:\n",
    "        step_sums[step] = [0, 1, row['run/length']]\n",
    "        step_sums[step][0] += row['run/total_reward']\n",
    "        \n",
    "# take average reward and length at each saved step\n",
    "df_av_at_step = pd.DataFrame(columns=['step', 'reward', 'length']);df_av_at_step\n",
    "\n",
    "for key, value in step_sums.items():\n",
    "    \n",
    "    mean_reward = value[0] / value[1]\n",
    "    mean_length = value[2] / value[1]\n",
    "    \n",
    "    \n",
    "    df_av_at_step = df_av_at_step.append({'step': key, 'reward': mean_reward, 'length': mean_length}, ignore_index=True)\n",
    "\n",
    "df_av_at_step.set_index('step')\n",
    "\n",
    "rolling = df_av_at_step.ewm(adjust = True, span=1000).mean()\n",
    "rolling_se = df_av_at_step.ewm(adjust = True, span=1000).var()\n",
    "df_av_at_step['reward'] = rolling['reward']\n",
    "df_av_at_step['reward_se'] = rolling_se['reward']\n",
    "df_av_at_step['length_se'] = rolling_se['length']\n",
    "df_av_at_step['length'] = rolling['length']\n",
    "\n",
    "\n",
    "df_av_at_step = df_av_at_step.fillna(0);df_av_at_step\n",
    "df_no_agrs = df_av_at_step\n",
    "df_no_agrs"
   ]
  },
  {
   "cell_type": "code",
   "execution_count": 38,
   "metadata": {},
   "outputs": [
    {
     "data": {
      "text/plain": [
       "<matplotlib.axes._subplots.AxesSubplot at 0x7fc8b1cf5d90>"
      ]
     },
     "execution_count": 38,
     "metadata": {},
     "output_type": "execute_result"
    },
    {
     "data": {
      "image/png": "[encoded data removed]",
      "text/plain": [
       "<Figure size 432x288 with 1 Axes>"
      ]
     },
     "metadata": {
      "needs_background": "light"
     },
     "output_type": "display_data"
    }
   ],
   "source": [
    "plt.ylim(0.3, 1)\n",
    "sns.lineplot(x=\"step\", y=\"reward\", data=df_agrs)"
   ]
  },
  {
   "cell_type": "code",
   "execution_count": 39,
   "metadata": {},
   "outputs": [
    {
     "data": {
      "text/plain": [
       "<matplotlib.axes._subplots.AxesSubplot at 0x7fc8b1d7c9d0>"
      ]
     },
     "execution_count": 39,
     "metadata": {},
     "output_type": "execute_result"
    },
    {
     "data": {
      "image/png": "[encoded data removed]",
      "text/plain": [
       "<Figure size 432x288 with 1 Axes>"
      ]
     },
     "metadata": {
      "needs_background": "light"
     },
     "output_type": "display_data"
    }
   ],
   "source": [
    "plt.ylim(0.3, 1)\n",
    "sns.lineplot(x=\"step\", y=\"reward\", data=df_no_agrs)"
   ]
  },
  {
   "cell_type": "code",
   "execution_count": 40,
   "metadata": {
    "scrolled": true
   },
   "outputs": [
    {
     "data": {
      "text/plain": [
       "<matplotlib.legend.Legend at 0x7fc8b2007150>"
      ]
     },
     "execution_count": 40,
     "metadata": {},
     "output_type": "execute_result"
    },
    {
     "data": {
      "image/png": "[encoded data removed]",
      "text/plain": [
       "<Figure size 432x288 with 1 Axes>"
      ]
     },
     "metadata": {
      "needs_background": "light"
     },
     "output_type": "display_data"
    }
   ],
   "source": [
    "fig, axs = plt.subplots(ncols=1)\n",
    "plt.title('Pit 100 * 30k steps at 80 expansions')\n",
    "sns.lineplot(x=\"step\", y=\"reward\", data=df_agrs,ax=axs, ci=99)\n",
    "sns.lineplot(x=\"step\", y=\"reward\", data=df_no_agrs,ax=axs, ci=99)\n",
    "\n",
    "\n",
    "axs.fill_between(x=df_agrs[\"step\"], y1=df_agrs[\"reward\"] + df_agrs[\"reward_se\"], \n",
    "                 y2=df_agrs[\"reward\"] - df_agrs[\"reward_se\"], alpha=.5)\n",
    "axs.fill_between(x=df_no_agrs[\"step\"], y1=df_no_agrs[\"reward\"] + df_no_agrs[\"reward_se\"], \n",
    "                 y2=df_no_agrs[\"reward\"] - df_no_agrs[\"reward_se\"], alpha=.5)\n",
    "\n",
    "\n",
    "\n",
    "axs.legend(['agrs','vanilla'], loc=4)"
   ]
  },
  {
   "cell_type": "code",
   "execution_count": null,
   "metadata": {},
   "outputs": [],
   "source": []
  },
  {
   "cell_type": "code",
   "execution_count": 41,
   "metadata": {},
   "outputs": [
    {
     "data": {
      "text/plain": [
       "<matplotlib.legend.Legend at 0x7fc8b1b07290>"
      ]
     },
     "execution_count": 41,
     "metadata": {},
     "output_type": "execute_result"
    },
    {
     "data": {
      "image/png": "[encoded data removed]",
      "text/plain": [
       "<Figure size 432x288 with 1 Axes>"
      ]
     },
     "metadata": {
      "needs_background": "light"
     },
     "output_type": "display_data"
    }
   ],
   "source": [
    "fig, axs = plt.subplots(ncols=1)\n",
    "plt.title('Pit 100 * 30k steps at 80 expansions')\n",
    "sns.lineplot(x=\"step\", y=\"length\", data=df_agrs,ax=axs, ci=99)\n",
    "sns.lineplot(x=\"step\", y=\"length\", data=df_no_agrs,ax=axs, ci=99)\n",
    "\n",
    "\n",
    "axs.fill_between(x=df_agrs[\"step\"], y1=df_agrs[\"length\"] + df_agrs[\"length_se\"], \n",
    "                 y2=df_agrs[\"length\"] - df_agrs[\"length_se\"], alpha=.5)\n",
    "\n",
    "axs.fill_between(x=df_no_agrs[\"step\"], y1=df_no_agrs[\"length\"] + df_no_agrs[\"length_se\"], \n",
    "                 y2=df_no_agrs[\"length\"] - df_no_agrs[\"length_se\"], alpha=.5)\n",
    "\n",
    "\n",
    "axs.legend(['agrs','vanilla'], loc=4)"
   ]
  },
  {
   "cell_type": "code",
   "execution_count": null,
   "metadata": {},
   "outputs": [],
   "source": []
  },
  {
   "cell_type": "code",
   "execution_count": null,
   "metadata": {},
   "outputs": [],
   "source": []
  },
  {
   "cell_type": "code",
   "execution_count": null,
   "metadata": {},
   "outputs": [],
   "source": [
    "\n"
   ]
  },
  {
   "cell_type": "code",
   "execution_count": null,
   "metadata": {},
   "outputs": [],
   "source": []
  },
  {
   "cell_type": "code",
   "execution_count": null,
   "metadata": {},
   "outputs": [],
   "source": []
  },
  {
   "cell_type": "code",
   "execution_count": null,
   "metadata": {},
   "outputs": [],
   "source": []
  },
  {
   "cell_type": "code",
   "execution_count": null,
   "metadata": {},
   "outputs": [],
   "source": []
  },
  {
   "cell_type": "code",
   "execution_count": null,
   "metadata": {},
   "outputs": [],
   "source": []
  },
  {
   "cell_type": "code",
   "execution_count": null,
   "metadata": {},
   "outputs": [],
   "source": []
  },
  {
   "cell_type": "code",
   "execution_count": null,
   "metadata": {},
   "outputs": [],
   "source": []
  },
  {
   "cell_type": "code",
   "execution_count": null,
   "metadata": {},
   "outputs": [],
   "source": []
  },
  {
   "cell_type": "code",
   "execution_count": null,
   "metadata": {},
   "outputs": [],
   "source": []
  },
  {
   "cell_type": "code",
   "execution_count": null,
   "metadata": {},
   "outputs": [],
   "source": []
  },
  {
   "cell_type": "code",
   "execution_count": null,
   "metadata": {},
   "outputs": [],
   "source": [
    "# pit agrs 100 30k plot\n",
    "###########################\n",
    "\n",
    "\n",
    "sns.tsplot(time='step', value='run/total_reward', data=pit_agrs_100_30k)"
   ]
  },
  {
   "cell_type": "code",
   "execution_count": null,
   "metadata": {},
   "outputs": [],
   "source": [
    "pit_no_agrs_100_30k = pd.read_csv('cass_exp/pit_100_each/pit_no_agrs_100_30k_merge.csv', header = 2)"
   ]
  },
  {
   "cell_type": "code",
   "execution_count": null,
   "metadata": {},
   "outputs": [],
   "source": [
    "pit_no_agrs_100_30k\n"
   ]
  },
  {
   "cell_type": "code",
   "execution_count": null,
   "metadata": {},
   "outputs": [],
   "source": [
    "pit_no_agrs_100_30k.sort_values(by='step', inplace=True)"
   ]
  },
  {
   "cell_type": "code",
   "execution_count": null,
   "metadata": {},
   "outputs": [],
   "source": [
    "sns.set(style=\"darkgrid\")\n",
    "\n",
    "# Plot the responses for different events and regions\n",
    "#sns.lineplot(x=\"step\", y=\"run/total_reward\",\n",
    " #            data = pit_agrs_100_30k)\n",
    "fig, axs = plt.subplots(ncols=1)\n",
    "\n",
    "\n",
    "sns.regplot(x='step', y='run/total_reward', data=pit_no_agrs_100_30k, marker=' ', color='blue', ci=.99, ax=axs)\n",
    "sns.regplot(x='step', y='run/total_reward', data = pit_agrs_100_30k, marker = ' ', color='red', ci=.99, ax=axs)\n"
   ]
  },
  {
   "cell_type": "code",
   "execution_count": null,
   "metadata": {},
   "outputs": [],
   "source": [
    "import numpy as np; np.random.seed(1)\n",
    "\n",
    "x = pit_agrs_100_30k['step']\n",
    "y=pit_agrs_100_30k['run/total_reward']\n",
    "data = pd.DataFrame(y,x)\n",
    "fig, (ax) = plt.subplots(ncols=1, sharey=True)\n",
    "\n",
    "def tsplot(ax, data,**kw):\n",
    "    x = np.arange(data.shape[1])\n",
    "    est = np.mean(data, axis=0)\n",
    "    sd = np.std(data, axis=0)\n",
    "    cis = (est - sd, est + sd)\n",
    "    ax.fill_between(x,cis[0],cis[1],alpha=0.2, **kw)\n",
    "    ax.plot(x,est,**kw)\n",
    "    ax.margins(x=0) \n",
    "\n",
    "\n",
    "\n",
    "tsplot(ax, data)\n",
    "\n",
    "ax.set_title(\"sns.tsplot\")\n",
    "\n",
    "\n",
    "plt.show()"
   ]
  },
  {
   "cell_type": "code",
   "execution_count": null,
   "metadata": {},
   "outputs": [],
   "source": []
  },
  {
   "cell_type": "code",
   "execution_count": null,
   "metadata": {},
   "outputs": [],
   "source": [
    "time_series_array = pit_agrs_100_30k['run/total_reward']\n",
    "time_series_array"
   ]
  },
  {
   "cell_type": "code",
   "execution_count": null,
   "metadata": {},
   "outputs": [],
   "source": [
    "data"
   ]
  },
  {
   "cell_type": "code",
   "execution_count": null,
   "metadata": {},
   "outputs": [],
   "source": [
    "n_steps = 30\n",
    "\n",
    "time_series_df = pd.DataFrame(time_series_array)\n",
    "smooth_path = time_series_df.rolling(20).mean()\n",
    "smooth_path.fillna(0)\n",
    "path_deviation = time_series_df.rolling(20).std()\n",
    "path_deviation.fillna(0)\n",
    "\n",
    "left = (smooth_path-2*path_deviation).fillna(0)\n",
    "right =  (smooth_path+2*path_deviation).fillna(0)\n",
    "plt.plot(smooth_path, linewidth=2)\n",
    "plt.fill_between(path_deviation.index, left, right, color='b', alpha=.1)"
   ]
  },
  {
   "cell_type": "code",
   "execution_count": null,
   "metadata": {},
   "outputs": [],
   "source": [
    "right"
   ]
  },
  {
   "cell_type": "code",
   "execution_count": null,
   "metadata": {},
   "outputs": [],
   "source": []
  }
 ],
 "metadata": {
  "kernelspec": {
   "display_name": "Python [conda env:vgcharm] *",
   "language": "python",
   "name": "conda-env-vgcharm-py"
  },
  "language_info": {
   "codemirror_mode": {
    "name": "ipython",
    "version": 3
   },
   "file_extension": ".py",
   "mimetype": "text/x-python",
   "name": "python",
   "nbconvert_exporter": "python",
   "pygments_lexer": "ipython3",
   "version": "3.7.6"
  },
  "pycharm": {
   "stem_cell": {
    "cell_type": "raw",
    "metadata": {
     "collapsed": false
    },
    "source": [
     "\n"
    ]
   }
  }
 },
 "nbformat": 4,
 "nbformat_minor": 1
}