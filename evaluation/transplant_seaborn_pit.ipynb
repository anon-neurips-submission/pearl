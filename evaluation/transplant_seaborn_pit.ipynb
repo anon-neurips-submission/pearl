{
 "cells": [
  {
   "cell_type": "code",
   "execution_count": 5,
   "metadata": {
    "pycharm": {
     "name": "#%%\n"
    }
   },
   "outputs": [],
   "source": [
    "import pandas as pd\n",
    "import seaborn as sns\n",
    "%matplotlib inline\n",
    "import matplotlib.pyplot as plt\n",
    "import numpy as np"
   ]
  },
  {
   "cell_type": "code",
   "execution_count": null,
   "metadata": {},
   "outputs": [],
   "source": [
    "\n"
   ]
  },
  {
   "cell_type": "code",
   "execution_count": null,
   "metadata": {
    "pycharm": {
     "name": "#%%\n"
    }
   },
   "outputs": [],
   "source": [
    "\n"
   ]
  },
  {
   "cell_type": "code",
   "execution_count": 6,
   "metadata": {},
   "outputs": [
    {
     "data": {
      "text/html": [
       "<div>\n",
       "<style scoped>\n",
       "    .dataframe tbody tr th:only-of-type {\n",
       "        vertical-align: middle;\n",
       "    }\n",
       "\n",
       "    .dataframe tbody tr th {\n",
       "        vertical-align: top;\n",
       "    }\n",
       "\n",
       "    .dataframe thead th {\n",
       "        text-align: right;\n",
       "    }\n",
       "</style>\n",
       "<table border=\"1\" class=\"dataframe\">\n",
       "  <thead>\n",
       "    <tr style=\"text-align: right;\">\n",
       "      <th></th>\n",
       "      <th>step</th>\n",
       "      <th>reward</th>\n",
       "      <th>length</th>\n",
       "      <th>reward_se</th>\n",
       "      <th>length_se</th>\n",
       "    </tr>\n",
       "  </thead>\n",
       "  <tbody>\n",
       "    <tr>\n",
       "      <th>0</th>\n",
       "      <td>0.0</td>\n",
       "      <td>0.120000</td>\n",
       "      <td>451.080000</td>\n",
       "      <td>0.000000</td>\n",
       "      <td>0.000000</td>\n",
       "    </tr>\n",
       "    <tr>\n",
       "      <th>1</th>\n",
       "      <td>76.0</td>\n",
       "      <td>0.059940</td>\n",
       "      <td>475.564460</td>\n",
       "      <td>0.000052</td>\n",
       "      <td>1196.583200</td>\n",
       "    </tr>\n",
       "    <tr>\n",
       "      <th>2</th>\n",
       "      <td>93.0</td>\n",
       "      <td>0.373920</td>\n",
       "      <td>354.133850</td>\n",
       "      <td>0.089079</td>\n",
       "      <td>44701.443838</td>\n",
       "    </tr>\n",
       "    <tr>\n",
       "      <th>3</th>\n",
       "      <td>108.0</td>\n",
       "      <td>0.530910</td>\n",
       "      <td>296.678422</td>\n",
       "      <td>0.088188</td>\n",
       "      <td>42922.983070</td>\n",
       "    </tr>\n",
       "    <tr>\n",
       "      <th>4</th>\n",
       "      <td>205.0</td>\n",
       "      <td>0.424303</td>\n",
       "      <td>337.505558</td>\n",
       "      <td>0.077865</td>\n",
       "      <td>40452.768434</td>\n",
       "    </tr>\n",
       "    <tr>\n",
       "      <th>...</th>\n",
       "      <td>...</td>\n",
       "      <td>...</td>\n",
       "      <td>...</td>\n",
       "      <td>...</td>\n",
       "      <td>...</td>\n",
       "    </tr>\n",
       "    <tr>\n",
       "      <th>2542</th>\n",
       "      <td>59944.0</td>\n",
       "      <td>0.665671</td>\n",
       "      <td>228.101875</td>\n",
       "      <td>0.048288</td>\n",
       "      <td>38020.891037</td>\n",
       "    </tr>\n",
       "    <tr>\n",
       "      <th>2543</th>\n",
       "      <td>59947.0</td>\n",
       "      <td>0.666343</td>\n",
       "      <td>227.786036</td>\n",
       "      <td>0.048193</td>\n",
       "      <td>37994.021906</td>\n",
       "    </tr>\n",
       "    <tr>\n",
       "      <th>2544</th>\n",
       "      <td>59958.0</td>\n",
       "      <td>0.667014</td>\n",
       "      <td>227.438670</td>\n",
       "      <td>0.048097</td>\n",
       "      <td>37977.598485</td>\n",
       "    </tr>\n",
       "    <tr>\n",
       "      <th>2545</th>\n",
       "      <td>59992.0</td>\n",
       "      <td>0.667683</td>\n",
       "      <td>227.105074</td>\n",
       "      <td>0.048002</td>\n",
       "      <td>37956.550178</td>\n",
       "    </tr>\n",
       "    <tr>\n",
       "      <th>2546</th>\n",
       "      <td>60000.0</td>\n",
       "      <td>0.666341</td>\n",
       "      <td>227.653684</td>\n",
       "      <td>0.048201</td>\n",
       "      <td>38029.807135</td>\n",
       "    </tr>\n",
       "  </tbody>\n",
       "</table>\n",
       "<p>2547 rows × 5 columns</p>\n",
       "</div>"
      ],
      "text/plain": [
       "         step    reward      length  reward_se     length_se\n",
       "0         0.0  0.120000  451.080000   0.000000      0.000000\n",
       "1        76.0  0.059940  475.564460   0.000052   1196.583200\n",
       "2        93.0  0.373920  354.133850   0.089079  44701.443838\n",
       "3       108.0  0.530910  296.678422   0.088188  42922.983070\n",
       "4       205.0  0.424303  337.505558   0.077865  40452.768434\n",
       "...       ...       ...         ...        ...           ...\n",
       "2542  59944.0  0.665671  228.101875   0.048288  38020.891037\n",
       "2543  59947.0  0.666343  227.786036   0.048193  37994.021906\n",
       "2544  59958.0  0.667014  227.438670   0.048097  37977.598485\n",
       "2545  59992.0  0.667683  227.105074   0.048002  37956.550178\n",
       "2546  60000.0  0.666341  227.653684   0.048201  38029.807135\n",
       "\n",
       "[2547 rows x 5 columns]"
      ]
     },
     "execution_count": 6,
     "metadata": {},
     "output_type": "execute_result"
    }
   ],
   "source": [
    "\n",
    "\n",
    "pit_agrs_transplant_25_60k = pd.read_csv('../cass_exp/aug23/pit60k_25/pit_60_merge_agrs.csv', header = 2)\n",
    "\n",
    "pit_agrs_transplant_25_60k.sort_values(by='step', inplace=True)\n",
    "\n",
    "step_sums = dict() \n",
    "# {key: (reward_sum, count, length_of_run) }\n",
    "\n",
    "for index, row, in pit_agrs_transplant_25_60k.iterrows():\n",
    "    step = row['step']\n",
    "    if step in step_sums:\n",
    "        # adding rewards for the step\n",
    "        step_sums[step][0] += row['run/total_reward']\n",
    "        step_sums[step][1] += 1\n",
    "        step_sums[step][2] += row['run/length']\n",
    "    else:\n",
    "        step_sums[step] = [0, 1, row['run/length']]\n",
    "        step_sums[step][0] += row['run/total_reward']\n",
    "        \n",
    "\n",
    "# take average reward and length at each saved step\n",
    "df_av_at_step = pd.DataFrame(columns=['step', 'reward', 'length'])\n",
    "\n",
    "\n",
    "for key, value in step_sums.items():\n",
    "    \n",
    "    mean_reward = value[0] / value[1]\n",
    "    mean_length = value[2] / value[1]\n",
    "    \n",
    "    \n",
    "    df_av_at_step = df_av_at_step.append({'step': key, 'reward': mean_reward, 'length': mean_length}, ignore_index=True)\n",
    "df_av_at_step.set_index('step')\n",
    "\n",
    "\n",
    "rolling = df_av_at_step.ewm(adjust = True, span=1000).mean()\n",
    "rolling_se = df_av_at_step.ewm(adjust = True, span = 1000).var()\n",
    "rolling\n",
    "\n",
    "df_av_at_step['reward'] = rolling['reward']\n",
    "df_av_at_step['reward_se'] = rolling_se['reward']**2\n",
    "df_av_at_step['length_se'] = rolling_se['length']\n",
    "df_av_at_step['length'] = rolling['length']\n",
    "\n",
    "df_av_at_step = df_av_at_step.fillna(0);df_av_at_step\n",
    "df_agrs = df_av_at_step\n",
    "df_agrs"
   ]
  },
  {
   "cell_type": "code",
   "execution_count": 7,
   "metadata": {},
   "outputs": [
    {
     "data": {
      "text/html": [
       "<div>\n",
       "<style scoped>\n",
       "    .dataframe tbody tr th:only-of-type {\n",
       "        vertical-align: middle;\n",
       "    }\n",
       "\n",
       "    .dataframe tbody tr th {\n",
       "        vertical-align: top;\n",
       "    }\n",
       "\n",
       "    .dataframe thead th {\n",
       "        text-align: right;\n",
       "    }\n",
       "</style>\n",
       "<table border=\"1\" class=\"dataframe\">\n",
       "  <thead>\n",
       "    <tr style=\"text-align: right;\">\n",
       "      <th></th>\n",
       "      <th>step</th>\n",
       "      <th>reward</th>\n",
       "      <th>length</th>\n",
       "      <th>reward_se</th>\n",
       "      <th>length_se</th>\n",
       "    </tr>\n",
       "  </thead>\n",
       "  <tbody>\n",
       "    <tr>\n",
       "      <th>0</th>\n",
       "      <td>0.0</td>\n",
       "      <td>0.040000</td>\n",
       "      <td>483.680000</td>\n",
       "      <td>0.000000e+00</td>\n",
       "      <td>0.000000</td>\n",
       "    </tr>\n",
       "    <tr>\n",
       "      <th>1</th>\n",
       "      <td>92.0</td>\n",
       "      <td>0.019980</td>\n",
       "      <td>491.848160</td>\n",
       "      <td>6.400000e-07</td>\n",
       "      <td>133.171200</td>\n",
       "    </tr>\n",
       "    <tr>\n",
       "      <th>2</th>\n",
       "      <td>500.0</td>\n",
       "      <td>0.041140</td>\n",
       "      <td>483.590619</td>\n",
       "      <td>3.023492e-06</td>\n",
       "      <td>270.467571</td>\n",
       "    </tr>\n",
       "    <tr>\n",
       "      <th>3</th>\n",
       "      <td>592.0</td>\n",
       "      <td>0.030824</td>\n",
       "      <td>487.705280</td>\n",
       "      <td>2.502803e-06</td>\n",
       "      <td>247.582922</td>\n",
       "    </tr>\n",
       "    <tr>\n",
       "      <th>4</th>\n",
       "      <td>595.0</td>\n",
       "      <td>0.024635</td>\n",
       "      <td>490.174069</td>\n",
       "      <td>1.893176e-06</td>\n",
       "      <td>215.824137</td>\n",
       "    </tr>\n",
       "    <tr>\n",
       "      <th>...</th>\n",
       "      <td>...</td>\n",
       "      <td>...</td>\n",
       "      <td>...</td>\n",
       "      <td>...</td>\n",
       "      <td>...</td>\n",
       "    </tr>\n",
       "    <tr>\n",
       "      <th>2198</th>\n",
       "      <td>59846.0</td>\n",
       "      <td>0.322203</td>\n",
       "      <td>384.100128</td>\n",
       "      <td>4.704290e-02</td>\n",
       "      <td>29016.451655</td>\n",
       "    </tr>\n",
       "    <tr>\n",
       "      <th>2199</th>\n",
       "      <td>59893.0</td>\n",
       "      <td>0.322562</td>\n",
       "      <td>383.938099</td>\n",
       "      <td>4.688043e-02</td>\n",
       "      <td>28970.720261</td>\n",
       "    </tr>\n",
       "    <tr>\n",
       "      <th>2200</th>\n",
       "      <td>59975.0</td>\n",
       "      <td>0.323933</td>\n",
       "      <td>383.392072</td>\n",
       "      <td>4.709259e-02</td>\n",
       "      <td>29059.363518</td>\n",
       "    </tr>\n",
       "    <tr>\n",
       "      <th>2201</th>\n",
       "      <td>59979.0</td>\n",
       "      <td>0.325300</td>\n",
       "      <td>382.944254</td>\n",
       "      <td>4.730317e-02</td>\n",
       "      <td>29099.626900</td>\n",
       "    </tr>\n",
       "    <tr>\n",
       "      <th>2202</th>\n",
       "      <td>60000.0</td>\n",
       "      <td>0.324642</td>\n",
       "      <td>383.181021</td>\n",
       "      <td>4.720487e-02</td>\n",
       "      <td>29068.453280</td>\n",
       "    </tr>\n",
       "  </tbody>\n",
       "</table>\n",
       "<p>2203 rows × 5 columns</p>\n",
       "</div>"
      ],
      "text/plain": [
       "         step    reward      length     reward_se     length_se\n",
       "0         0.0  0.040000  483.680000  0.000000e+00      0.000000\n",
       "1        92.0  0.019980  491.848160  6.400000e-07    133.171200\n",
       "2       500.0  0.041140  483.590619  3.023492e-06    270.467571\n",
       "3       592.0  0.030824  487.705280  2.502803e-06    247.582922\n",
       "4       595.0  0.024635  490.174069  1.893176e-06    215.824137\n",
       "...       ...       ...         ...           ...           ...\n",
       "2198  59846.0  0.322203  384.100128  4.704290e-02  29016.451655\n",
       "2199  59893.0  0.322562  383.938099  4.688043e-02  28970.720261\n",
       "2200  59975.0  0.323933  383.392072  4.709259e-02  29059.363518\n",
       "2201  59979.0  0.325300  382.944254  4.730317e-02  29099.626900\n",
       "2202  60000.0  0.324642  383.181021  4.720487e-02  29068.453280\n",
       "\n",
       "[2203 rows x 5 columns]"
      ]
     },
     "execution_count": 7,
     "metadata": {},
     "output_type": "execute_result"
    }
   ],
   "source": [
    "pit_no_agrs_transplant_25_60k = pd.read_csv('../cass_exp/aug23/pit60k_25/pit_60_merge_no_agrs.csv', header = 2)\n",
    "\n",
    "pit_no_agrs_transplant_25_60k.sort_values(by='step', inplace=True)\n",
    "\n",
    "#PIPELINE FOR AVERAGE OF MOVING AVERAGES\n",
    "\n",
    "step_sums = dict() \n",
    "# {key: (reward_sum, count, length_of_run) }\n",
    "\n",
    "for index, row, in pit_no_agrs_transplant_25_60k.iterrows():\n",
    "    step = row['step']\n",
    "    if step in step_sums:\n",
    "        # adding rewards for the step\n",
    "        step_sums[step][0] += row['run/total_reward']\n",
    "        step_sums[step][1] += 1\n",
    "        step_sums[step][2] += row['run/length']\n",
    "    else:\n",
    "        step_sums[step] = [0, 1, row['run/length']]\n",
    "        step_sums[step][0] += row['run/total_reward']\n",
    "        \n",
    "# take average reward and length at each saved step\n",
    "df_av_at_step = pd.DataFrame(columns=['step', 'reward', 'length']);df_av_at_step\n",
    "\n",
    "for key, value in step_sums.items():\n",
    "    \n",
    "    mean_reward = value[0] / value[1]\n",
    "    mean_length = value[2] / value[1]\n",
    "    \n",
    "    \n",
    "    df_av_at_step = df_av_at_step.append({'step': key, 'reward': mean_reward, 'length': mean_length}, ignore_index=True)\n",
    "\n",
    "df_av_at_step.set_index('step')\n",
    "\n",
    "rolling = df_av_at_step.ewm(adjust = True, span=1000).mean()\n",
    "rolling_se = df_av_at_step.ewm(adjust = True, span=1000).var()\n",
    "df_av_at_step['reward'] = rolling['reward']\n",
    "df_av_at_step['reward_se'] = rolling_se['reward']**2\n",
    "df_av_at_step['length_se'] = rolling_se['length']\n",
    "df_av_at_step['length'] = rolling['length']\n",
    "\n",
    "\n",
    "df_av_at_step = df_av_at_step.fillna(0);df_av_at_step\n",
    "df_no_agrs = df_av_at_step\n",
    "df_no_agrs"
   ]
  },
  {
   "cell_type": "code",
   "execution_count": 8,
   "metadata": {
    "pycharm": {
     "name": "#%%\n"
    }
   },
   "outputs": [
    {
     "data": {
      "text/html": [
       "<div>\n",
       "<style scoped>\n",
       "    .dataframe tbody tr th:only-of-type {\n",
       "        vertical-align: middle;\n",
       "    }\n",
       "\n",
       "    .dataframe tbody tr th {\n",
       "        vertical-align: top;\n",
       "    }\n",
       "\n",
       "    .dataframe thead th {\n",
       "        text-align: right;\n",
       "    }\n",
       "</style>\n",
       "<table border=\"1\" class=\"dataframe\">\n",
       "  <thead>\n",
       "    <tr style=\"text-align: right;\">\n",
       "      <th></th>\n",
       "      <th>step</th>\n",
       "      <th>reward</th>\n",
       "      <th>length</th>\n",
       "      <th>reward_se</th>\n",
       "      <th>length_se</th>\n",
       "    </tr>\n",
       "  </thead>\n",
       "  <tbody>\n",
       "    <tr>\n",
       "      <th>0</th>\n",
       "      <td>0.0</td>\n",
       "      <td>0.038462</td>\n",
       "      <td>484.653846</td>\n",
       "      <td>0.000000e+00</td>\n",
       "      <td>0.000000</td>\n",
       "    </tr>\n",
       "    <tr>\n",
       "      <th>1</th>\n",
       "      <td>101.0</td>\n",
       "      <td>0.019212</td>\n",
       "      <td>492.334596</td>\n",
       "      <td>5.470747e-07</td>\n",
       "      <td>117.752219</td>\n",
       "    </tr>\n",
       "    <tr>\n",
       "      <th>2</th>\n",
       "      <td>500.0</td>\n",
       "      <td>0.012795</td>\n",
       "      <td>494.894843</td>\n",
       "      <td>2.426581e-07</td>\n",
       "      <td>78.422952</td>\n",
       "    </tr>\n",
       "    <tr>\n",
       "      <th>3</th>\n",
       "      <td>601.0</td>\n",
       "      <td>0.009587</td>\n",
       "      <td>496.174963</td>\n",
       "      <td>1.362221e-07</td>\n",
       "      <td>58.758357</td>\n",
       "    </tr>\n",
       "    <tr>\n",
       "      <th>4</th>\n",
       "      <td>1000.0</td>\n",
       "      <td>0.015694</td>\n",
       "      <td>493.786445</td>\n",
       "      <td>2.135233e-07</td>\n",
       "      <td>72.407623</td>\n",
       "    </tr>\n",
       "    <tr>\n",
       "      <th>...</th>\n",
       "      <td>...</td>\n",
       "      <td>...</td>\n",
       "      <td>...</td>\n",
       "      <td>...</td>\n",
       "      <td>...</td>\n",
       "    </tr>\n",
       "    <tr>\n",
       "      <th>1795</th>\n",
       "      <td>59941.0</td>\n",
       "      <td>0.534432</td>\n",
       "      <td>306.693452</td>\n",
       "      <td>6.103291e-02</td>\n",
       "      <td>33925.900181</td>\n",
       "    </tr>\n",
       "    <tr>\n",
       "      <th>1796</th>\n",
       "      <td>59962.0</td>\n",
       "      <td>0.533334</td>\n",
       "      <td>307.090595</td>\n",
       "      <td>6.107176e-02</td>\n",
       "      <td>33932.890065</td>\n",
       "    </tr>\n",
       "    <tr>\n",
       "      <th>1797</th>\n",
       "      <td>59964.0</td>\n",
       "      <td>0.534293</td>\n",
       "      <td>306.636396</td>\n",
       "      <td>6.104173e-02</td>\n",
       "      <td>33963.494708</td>\n",
       "    </tr>\n",
       "    <tr>\n",
       "      <th>1798</th>\n",
       "      <td>59998.0</td>\n",
       "      <td>0.535250</td>\n",
       "      <td>306.470749</td>\n",
       "      <td>6.101086e-02</td>\n",
       "      <td>33907.065294</td>\n",
       "    </tr>\n",
       "    <tr>\n",
       "      <th>1799</th>\n",
       "      <td>60000.0</td>\n",
       "      <td>0.534150</td>\n",
       "      <td>306.868283</td>\n",
       "      <td>6.105064e-02</td>\n",
       "      <td>33914.269497</td>\n",
       "    </tr>\n",
       "  </tbody>\n",
       "</table>\n",
       "<p>1800 rows × 5 columns</p>\n",
       "</div>"
      ],
      "text/plain": [
       "         step    reward      length     reward_se     length_se\n",
       "0         0.0  0.038462  484.653846  0.000000e+00      0.000000\n",
       "1       101.0  0.019212  492.334596  5.470747e-07    117.752219\n",
       "2       500.0  0.012795  494.894843  2.426581e-07     78.422952\n",
       "3       601.0  0.009587  496.174963  1.362221e-07     58.758357\n",
       "4      1000.0  0.015694  493.786445  2.135233e-07     72.407623\n",
       "...       ...       ...         ...           ...           ...\n",
       "1795  59941.0  0.534432  306.693452  6.103291e-02  33925.900181\n",
       "1796  59962.0  0.533334  307.090595  6.107176e-02  33932.890065\n",
       "1797  59964.0  0.534293  306.636396  6.104173e-02  33963.494708\n",
       "1798  59998.0  0.535250  306.470749  6.101086e-02  33907.065294\n",
       "1799  60000.0  0.534150  306.868283  6.105064e-02  33914.269497\n",
       "\n",
       "[1800 rows x 5 columns]"
      ]
     },
     "execution_count": 8,
     "metadata": {},
     "output_type": "execute_result"
    }
   ],
   "source": [
    "pit_agrs_no_transplant_25_60k = pd.read_csv('../cass_exp/aug23/pit60k_25/pit_60_merge_agrs_no_t.csv', header = 2)\n",
    "\n",
    "pit_agrs_no_transplant_25_60k.sort_values(by='step', inplace=True)\n",
    "\n",
    "#PIPELINE FOR AVERAGE OF MOVING AVERAGES\n",
    "\n",
    "step_sums = dict()\n",
    "# {key: (reward_sum, count, length_of_run) }\n",
    "\n",
    "for index, row, in pit_agrs_no_transplant_25_60k.iterrows():\n",
    "    step = row['step']\n",
    "    if step in step_sums:\n",
    "        # adding rewards for the step\n",
    "        step_sums[step][0] += row['run/total_reward']\n",
    "        step_sums[step][1] += 1\n",
    "        step_sums[step][2] += row['run/length']\n",
    "    else:\n",
    "        step_sums[step] = [0, 1, row['run/length']]\n",
    "        step_sums[step][0] += row['run/total_reward']\n",
    "\n",
    "# take average reward and length at each saved step\n",
    "df_av_at_step = pd.DataFrame(columns=['step', 'reward', 'length']);df_av_at_step\n",
    "\n",
    "for key, value in step_sums.items():\n",
    "\n",
    "    mean_reward = value[0] / value[1]\n",
    "    mean_length = value[2] / value[1]\n",
    "\n",
    "\n",
    "    df_av_at_step = df_av_at_step.append({'step': key, 'reward': mean_reward, 'length': mean_length}, ignore_index=True)\n",
    "\n",
    "df_av_at_step.set_index('step')\n",
    "\n",
    "rolling = df_av_at_step.ewm(adjust = True, span=1000).mean()\n",
    "rolling_se = df_av_at_step.ewm(adjust = True, span=1000).var()\n",
    "\n",
    "\n",
    "\n",
    "df_av_at_step['reward'] = rolling['reward']\n",
    "df_av_at_step['reward_se'] = rolling_se['reward']**2\n",
    "df_av_at_step['length_se'] = rolling_se['length']\n",
    "df_av_at_step['length'] = rolling['length']\n",
    "\n",
    "\n",
    "df_av_at_step = df_av_at_step.fillna(0);df_av_at_step\n",
    "df_agrs_no = df_av_at_step\n",
    "df_agrs_no\n"
   ]
  },
  {
   "cell_type": "code",
   "execution_count": 9,
   "metadata": {},
   "outputs": [
    {
     "data": {
      "text/plain": [
       "<matplotlib.axes._subplots.AxesSubplot at 0x7f6946a39e50>"
      ]
     },
     "execution_count": 9,
     "metadata": {},
     "output_type": "execute_result"
    },
    {
     "data": {
      "image/png": "[encoded data removed]",
      "text/plain": [
       "<Figure size 432x288 with 1 Axes>"
      ]
     },
     "metadata": {
      "needs_background": "light"
     },
     "output_type": "display_data"
    }
   ],
   "source": [
    "plt.ylim(0.3, 1)\n",
    "sns.lineplot(x=\"step\", y=\"reward\", data=df_agrs)"
   ]
  },
  {
   "cell_type": "code",
   "execution_count": 10,
   "metadata": {},
   "outputs": [
    {
     "data": {
      "text/plain": [
       "<matplotlib.axes._subplots.AxesSubplot at 0x7f69469b1650>"
      ]
     },
     "execution_count": 10,
     "metadata": {},
     "output_type": "execute_result"
    },
    {
     "data": {
      "image/png": "[encoded data removed]",
      "text/plain": [
       "<Figure size 432x288 with 1 Axes>"
      ]
     },
     "metadata": {
      "needs_background": "light"
     },
     "output_type": "display_data"
    }
   ],
   "source": [
    "plt.ylim(0.3, 1)\n",
    "sns.lineplot(x=\"step\", y=\"reward\", data=df_no_agrs)"
   ]
  },
  {
   "cell_type": "code",
   "execution_count": 11,
   "metadata": {},
   "outputs": [
    {
     "data": {
      "text/plain": [
       "['#4c72b0',\n",
       " '#dd8452',\n",
       " '#55a868',\n",
       " '#c44e52',\n",
       " '#8172b3',\n",
       " '#937860',\n",
       " '#da8bc3',\n",
       " '#8c8c8c',\n",
       " '#ccb974',\n",
       " '#64b5cd']"
      ]
     },
     "execution_count": 11,
     "metadata": {},
     "output_type": "execute_result"
    }
   ],
   "source": [
    "\n",
    "pal = sns.color_palette('deep')\n",
    "pal.as_hex()"
   ]
  },
  {
   "cell_type": "code",
   "execution_count": 28,
   "metadata": {},
   "outputs": [
    {
     "data": {
      "text/plain": [
       "<matplotlib.legend.Legend at 0x7f6946041dd0>"
      ]
     },
     "execution_count": 28,
     "metadata": {},
     "output_type": "execute_result"
    },
    {
     "data": {
      "image/png": "[encoded data removed]",
      "text/plain": [
       "<Figure size 432x288 with 1 Axes>"
      ]
     },
     "metadata": {
      "needs_background": "light"
     },
     "output_type": "display_data"
    }
   ],
   "source": [
    "fig, axs = plt.subplots(ncols=1)\n",
    "#plt.title('Treasure Pit, 25x25 Fixed')\n",
    "\n",
    "sns.lineplot(x=\"step\", y=\"reward\", data=df_agrs_no,ax=axs, ci=99, linewidth=0.75)\n",
    "sns.lineplot(x=\"step\", y=\"reward\", data=df_no_agrs,ax=axs, ci=99, linewidth=0.75)\n",
    "sns.lineplot(x=\"step\", y=\"reward\", data=df_agrs,ax=axs, ci=99, linewidth=0.75)\n",
    "\n",
    "axs.fill_between(x=df_no_agrs[\"step\"], y1=df_no_agrs[\"reward\"] + df_no_agrs[\"reward_se\"], \n",
    "                 y2=df_no_agrs[\"reward\"] - df_no_agrs[\"reward_se\"], alpha=.5, color='#dd8452')\n",
    "axs.fill_between(x=df_agrs_no[\"step\"], y1=df_agrs_no[\"reward\"] + df_agrs_no[\"reward_se\"], \n",
    "                 y2=df_agrs_no[\"reward\"] - df_agrs_no[\"reward_se\"], alpha=.5, color='#4c72b0')\n",
    "\n",
    "axs.fill_between(x=df_agrs[\"step\"], y1=df_agrs[\"reward\"] + df_agrs[\"reward_se\"], \n",
    "                 y2=df_agrs[\"reward\"] - df_agrs[\"reward_se\"], alpha=.5, color='#55a868')\n",
    "axs.set(xlabel='Play steps', ylabel='Win rate')\n",
    "\n",
    "axs.legend(['Automaton','No Automaton', 'Transfer, $c_{rate}$ = .997'], loc=2)"
   ]
  },
  {
   "cell_type": "code",
   "execution_count": 13,
   "metadata": {},
   "outputs": [
    {
     "ename": "IndentationError",
     "evalue": "unexpected indent (<ipython-input-13-7e4189dfb747>, line 9)",
     "output_type": "error",
     "traceback": [
      "\u001b[0;36m  File \u001b[0;32m\"<ipython-input-13-7e4189dfb747>\"\u001b[0;36m, line \u001b[0;32m9\u001b[0m\n\u001b[0;31m    y2=df_no_agrs[\"length\"] - df_no_agrs[\"length_se\"], alpha=.5, color='#55a868')\u001b[0m\n\u001b[0m    ^\u001b[0m\n\u001b[0;31mIndentationError\u001b[0m\u001b[0;31m:\u001b[0m unexpected indent\n"
     ]
    }
   ],
   "source": [
    "fig, axs = plt.subplots(ncols=1)\n",
    "plt.title('Pqr transplant 25 * 60k steps at 80 expansions')\n",
    "sns.lineplot(x=\"step\", y=\"length\", data=df_agrs,ax=axs, ci=99)\n",
    "sns.lineplot(x=\"step\", y=\"length\", data=df_agrs_no,ax=axs, ci=99)\n",
    "sns.lineplot(x=\"step\", y=\"length\", data=df_no_agrs,ax=axs, ci=99)\n",
    "\n",
    "axs.set(ylim=(180, 250))\n",
    "#axs.fill_between(x=df_no_agrs[\"step\"], y1=df_no_agrs[\"length\"] + df_no_agrs[\"length_se\"], \n",
    "                 y2=df_no_agrs[\"length\"] - df_no_agrs[\"length_se\"], alpha=.5, color='#55a868')\n",
    "#axs.fill_between(x=df_agrs_no[\"step\"], y1=df_agrs_no[\"length\"] + df_agrs_no[\"length_se\"], \n",
    "                 y2=df_agrs_no[\"length\"] - df_agrs_no[\"length_se\"], alpha=.5, color='#dd8452')\n",
    "\n",
    "#axs.fill_between(x=df_agrs[\"step\"], y1=df_agrs[\"length\"] + df_agrs[\"length_se\"], \n",
    "                 y2=df_agrs[\"length\"] - df_agrs[\"length_se\"], alpha=.5, color='#4c72b0')\n",
    "axs.legend(['transplant','agrs', 'vanilla'], loc=4)"
   ]
  },
  {
   "cell_type": "code",
   "execution_count": null,
   "metadata": {},
   "outputs": [],
   "source": []
  },
  {
   "cell_type": "code",
   "execution_count": null,
   "metadata": {},
   "outputs": [],
   "source": []
  },
  {
   "cell_type": "code",
   "execution_count": null,
   "metadata": {},
   "outputs": [],
   "source": []
  },
  {
   "cell_type": "code",
   "execution_count": null,
   "metadata": {},
   "outputs": [],
   "source": []
  },
  {
   "cell_type": "code",
   "execution_count": null,
   "metadata": {},
   "outputs": [],
   "source": [
    "\n"
   ]
  },
  {
   "cell_type": "code",
   "execution_count": null,
   "metadata": {},
   "outputs": [],
   "source": []
  },
  {
   "cell_type": "code",
   "execution_count": null,
   "metadata": {},
   "outputs": [],
   "source": []
  },
  {
   "cell_type": "code",
   "execution_count": null,
   "metadata": {},
   "outputs": [],
   "source": []
  },
  {
   "cell_type": "code",
   "execution_count": null,
   "metadata": {},
   "outputs": [],
   "source": []
  },
  {
   "cell_type": "code",
   "execution_count": null,
   "metadata": {},
   "outputs": [],
   "source": []
  },
  {
   "cell_type": "code",
   "execution_count": null,
   "metadata": {},
   "outputs": [],
   "source": []
  },
  {
   "cell_type": "code",
   "execution_count": null,
   "metadata": {},
   "outputs": [],
   "source": []
  },
  {
   "cell_type": "code",
   "execution_count": null,
   "metadata": {},
   "outputs": [],
   "source": []
  },
  {
   "cell_type": "code",
   "execution_count": null,
   "metadata": {},
   "outputs": [],
   "source": []
  },
  {
   "cell_type": "code",
   "execution_count": null,
   "metadata": {},
   "outputs": [],
   "source": []
  },
  {
   "cell_type": "code",
   "execution_count": null,
   "metadata": {},
   "outputs": [],
   "source": [
    "# pit agrs 100 30k plot\n",
    "###########################\n",
    "\n",
    "\n",
    "sns.tsplot(time='step', value='run/total_reward', data=pit_agrs_transplant_25_60k)"
   ]
  },
  {
   "cell_type": "code",
   "execution_count": null,
   "metadata": {},
   "outputs": [],
   "source": [
    "pit_no_agrs_transplant_25_60k = pd.read_csv('cass_exp/pit_100_each/pit_no_agrs_transplant_25_60k_merge.csv', header = 2)"
   ]
  },
  {
   "cell_type": "code",
   "execution_count": null,
   "metadata": {},
   "outputs": [],
   "source": [
    "pit_no_agrs_transplant_25_60k\n"
   ]
  },
  {
   "cell_type": "code",
   "execution_count": null,
   "metadata": {},
   "outputs": [],
   "source": [
    "pit_no_agrs_transplant_25_60k.sort_values(by='step', inplace=True)"
   ]
  },
  {
   "cell_type": "code",
   "execution_count": null,
   "metadata": {},
   "outputs": [],
   "source": [
    "sns.set(style=\"darkgrid\")\n",
    "\n",
    "# Plot the responses for different events and regions\n",
    "#sns.lineplot(x=\"step\", y=\"run/total_reward\",\n",
    " #            data = pit_agrs_transplant_25_60k)\n",
    "fig, axs = plt.subplots(ncols=1)\n",
    "\n",
    "\n",
    "sns.regplot(x='step', y='run/total_reward', data=pit_no_agrs_transplant_25_60k, marker=' ', color='blue', ci=.99, ax=axs)\n",
    "sns.regplot(x='step', y='run/total_reward', data = pit_agrs_transplant_25_60k, marker = ' ', color='red', ci=.99, ax=axs)\n"
   ]
  },
  {
   "cell_type": "code",
   "execution_count": null,
   "metadata": {},
   "outputs": [],
   "source": [
    "import numpy as np; np.random.seed(1)\n",
    "\n",
    "x = pit_agrs_transplant_25_60k['step']\n",
    "y=pit_agrs_transplant_25_60k['run/total_reward']\n",
    "data = pd.DataFrame(y,x)\n",
    "fig, (ax) = plt.subplots(ncols=1, sharey=True)\n",
    "\n",
    "def tsplot(ax, data,**kw):\n",
    "    x = np.arange(data.shape[1])\n",
    "    est = np.mean(data, axis=0)\n",
    "    sd = np.std(data, axis=0)\n",
    "    cis = (est - sd, est + sd)\n",
    "    ax.fill_between(x,cis[0],cis[1],alpha=0.2, **kw)\n",
    "    ax.plot(x,est,**kw)\n",
    "    ax.margins(x=0) \n",
    "\n",
    "\n",
    "\n",
    "tsplot(ax, data)\n",
    "\n",
    "ax.set_title(\"sns.tsplot\")\n",
    "\n",
    "\n",
    "plt.show()"
   ]
  },
  {
   "cell_type": "code",
   "execution_count": null,
   "metadata": {},
   "outputs": [],
   "source": []
  },
  {
   "cell_type": "code",
   "execution_count": null,
   "metadata": {},
   "outputs": [],
   "source": [
    "time_series_array = pit_agrs_transplant_25_60k['run/total_reward']\n",
    "time_series_array"
   ]
  },
  {
   "cell_type": "code",
   "execution_count": null,
   "metadata": {},
   "outputs": [],
   "source": [
    "data"
   ]
  },
  {
   "cell_type": "code",
   "execution_count": null,
   "metadata": {},
   "outputs": [],
   "source": [
    "n_steps = 30\n",
    "\n",
    "time_series_df = pd.DataFrame(time_series_array)\n",
    "smooth_path = time_series_df.rolling(20).mean()\n",
    "smooth_path.fillna(0)\n",
    "path_deviation = time_series_df.rolling(20).std()\n",
    "path_deviation.fillna(0)\n",
    "\n",
    "left = (smooth_path-2*path_deviation).fillna(0)\n",
    "right =  (smooth_path+2*path_deviation).fillna(0)\n",
    "plt.plot(smooth_path, linewidth=2)\n",
    "plt.fill_between(path_deviation.index, left, right, color='b', alpha=.1)"
   ]
  },
  {
   "cell_type": "code",
   "execution_count": null,
   "metadata": {},
   "outputs": [],
   "source": [
    "right"
   ]
  },
  {
   "cell_type": "code",
   "execution_count": null,
   "metadata": {},
   "outputs": [],
   "source": []
  }
 ],
 "metadata": {
  "kernelspec": {
   "display_name": "Python [conda env:vgcharm] *",
   "language": "python",
   "name": "conda-env-vgcharm-py"
  },
  "language_info": {
   "codemirror_mode": {
    "name": "ipython",
    "version": 3
   },
   "file_extension": ".py",
   "mimetype": "text/x-python",
   "name": "python",
   "nbconvert_exporter": "python",
   "pygments_lexer": "ipython3",
   "version": "3.7.6"
  },
  "pycharm": {
   "stem_cell": {
    "cell_type": "raw",
    "metadata": {
     "collapsed": false
    },
    "source": [
     "\n"
    ]
   }
  }
 },
 "nbformat": 4,
 "nbformat_minor": 1
}
