{
 "cells": [
  {
   "cell_type": "code",
   "execution_count": 1,
   "metadata": {
    "pycharm": {
     "name": "#%%\n"
    }
   },
   "outputs": [],
   "source": [
    "import pandas as pd\n",
    "import seaborn as sns\n",
    "%matplotlib inline\n",
    "import matplotlib.pyplot as plt\n",
    "import numpy as np"
   ]
  },
  {
   "cell_type": "code",
   "execution_count": null,
   "metadata": {},
   "outputs": [],
   "source": [
    "\n"
   ]
  },
  {
   "cell_type": "code",
   "execution_count": null,
   "metadata": {
    "pycharm": {
     "name": "#%%\n"
    }
   },
   "outputs": [],
   "source": [
    "\n"
   ]
  },
  {
   "cell_type": "code",
   "execution_count": 2,
   "metadata": {},
   "outputs": [],
   "source": [
    "pqr_agrs_100_30k = pd.read_csv('../cass_exp/pqr_100_each/pqr_agrs_100_30k_merge.csv', header = 2)"
   ]
  },
  {
   "cell_type": "code",
   "execution_count": 3,
   "metadata": {},
   "outputs": [
    {
     "data": {
      "text/html": [
       "<div>\n",
       "<style scoped>\n",
       "    .dataframe tbody tr th:only-of-type {\n",
       "        vertical-align: middle;\n",
       "    }\n",
       "\n",
       "    .dataframe tbody tr th {\n",
       "        vertical-align: top;\n",
       "    }\n",
       "\n",
       "    .dataframe thead th {\n",
       "        text-align: right;\n",
       "    }\n",
       "</style>\n",
       "<table border=\"1\" class=\"dataframe\">\n",
       "  <thead>\n",
       "    <tr style=\"text-align: right;\">\n",
       "      <th></th>\n",
       "      <th>wall_time</th>\n",
       "      <th>step</th>\n",
       "      <th>run/total_reward</th>\n",
       "      <th>run/length</th>\n",
       "      <th>loss/value_loss</th>\n",
       "      <th>loss/policy_loss</th>\n",
       "      <th>loss/agent_loss</th>\n",
       "      <th>loss/entropy</th>\n",
       "      <th>total_loss</th>\n",
       "    </tr>\n",
       "  </thead>\n",
       "  <tbody>\n",
       "    <tr>\n",
       "      <th>0</th>\n",
       "      <td>1.597846e+09</td>\n",
       "      <td>0</td>\n",
       "      <td>1.0</td>\n",
       "      <td>4.0</td>\n",
       "      <td>1.635624e-01</td>\n",
       "      <td>1.607455</td>\n",
       "      <td>1.771018</td>\n",
       "      <td>1.730622</td>\n",
       "      <td>1.771018</td>\n",
       "    </tr>\n",
       "    <tr>\n",
       "      <th>1</th>\n",
       "      <td>1.597846e+09</td>\n",
       "      <td>4</td>\n",
       "      <td>1.0</td>\n",
       "      <td>5.0</td>\n",
       "      <td>4.242877e-03</td>\n",
       "      <td>1.532532</td>\n",
       "      <td>1.536775</td>\n",
       "      <td>1.661310</td>\n",
       "      <td>1.536775</td>\n",
       "    </tr>\n",
       "    <tr>\n",
       "      <th>2</th>\n",
       "      <td>1.597846e+09</td>\n",
       "      <td>9</td>\n",
       "      <td>1.0</td>\n",
       "      <td>6.0</td>\n",
       "      <td>1.466499e-08</td>\n",
       "      <td>1.477730</td>\n",
       "      <td>1.477730</td>\n",
       "      <td>1.463708</td>\n",
       "      <td>1.477730</td>\n",
       "    </tr>\n",
       "    <tr>\n",
       "      <th>3</th>\n",
       "      <td>1.597846e+09</td>\n",
       "      <td>15</td>\n",
       "      <td>1.0</td>\n",
       "      <td>6.0</td>\n",
       "      <td>1.209064e-10</td>\n",
       "      <td>1.466314</td>\n",
       "      <td>1.466314</td>\n",
       "      <td>1.440471</td>\n",
       "      <td>1.466314</td>\n",
       "    </tr>\n",
       "    <tr>\n",
       "      <th>4</th>\n",
       "      <td>1.597846e+09</td>\n",
       "      <td>21</td>\n",
       "      <td>1.0</td>\n",
       "      <td>8.0</td>\n",
       "      <td>1.043098e-09</td>\n",
       "      <td>1.386668</td>\n",
       "      <td>1.386668</td>\n",
       "      <td>1.469950</td>\n",
       "      <td>1.386668</td>\n",
       "    </tr>\n",
       "    <tr>\n",
       "      <th>...</th>\n",
       "      <td>...</td>\n",
       "      <td>...</td>\n",
       "      <td>...</td>\n",
       "      <td>...</td>\n",
       "      <td>...</td>\n",
       "      <td>...</td>\n",
       "      <td>...</td>\n",
       "      <td>...</td>\n",
       "      <td>...</td>\n",
       "    </tr>\n",
       "    <tr>\n",
       "      <th>182453</th>\n",
       "      <td>1.597833e+09</td>\n",
       "      <td>29825</td>\n",
       "      <td>1.0</td>\n",
       "      <td>37.0</td>\n",
       "      <td>3.887827e-09</td>\n",
       "      <td>0.935341</td>\n",
       "      <td>0.935341</td>\n",
       "      <td>0.784651</td>\n",
       "      <td>0.935341</td>\n",
       "    </tr>\n",
       "    <tr>\n",
       "      <th>182454</th>\n",
       "      <td>1.597833e+09</td>\n",
       "      <td>29862</td>\n",
       "      <td>1.0</td>\n",
       "      <td>23.0</td>\n",
       "      <td>1.000000e-02</td>\n",
       "      <td>0.806829</td>\n",
       "      <td>0.816829</td>\n",
       "      <td>0.847733</td>\n",
       "      <td>0.816829</td>\n",
       "    </tr>\n",
       "    <tr>\n",
       "      <th>182455</th>\n",
       "      <td>1.597833e+09</td>\n",
       "      <td>29885</td>\n",
       "      <td>1.0</td>\n",
       "      <td>28.0</td>\n",
       "      <td>2.000000e-02</td>\n",
       "      <td>0.979510</td>\n",
       "      <td>0.999510</td>\n",
       "      <td>0.889129</td>\n",
       "      <td>0.999510</td>\n",
       "    </tr>\n",
       "    <tr>\n",
       "      <th>182456</th>\n",
       "      <td>1.597833e+09</td>\n",
       "      <td>29913</td>\n",
       "      <td>1.0</td>\n",
       "      <td>24.0</td>\n",
       "      <td>1.719513e-14</td>\n",
       "      <td>0.752453</td>\n",
       "      <td>0.752453</td>\n",
       "      <td>0.760864</td>\n",
       "      <td>0.752453</td>\n",
       "    </tr>\n",
       "    <tr>\n",
       "      <th>182457</th>\n",
       "      <td>1.597833e+09</td>\n",
       "      <td>29937</td>\n",
       "      <td>1.0</td>\n",
       "      <td>16.0</td>\n",
       "      <td>9.094947e-15</td>\n",
       "      <td>1.011208</td>\n",
       "      <td>1.011208</td>\n",
       "      <td>0.870594</td>\n",
       "      <td>1.011208</td>\n",
       "    </tr>\n",
       "  </tbody>\n",
       "</table>\n",
       "<p>182458 rows × 9 columns</p>\n",
       "</div>"
      ],
      "text/plain": [
       "           wall_time   step  run/total_reward  run/length  loss/value_loss  \\\n",
       "0       1.597846e+09      0               1.0         4.0     1.635624e-01   \n",
       "1       1.597846e+09      4               1.0         5.0     4.242877e-03   \n",
       "2       1.597846e+09      9               1.0         6.0     1.466499e-08   \n",
       "3       1.597846e+09     15               1.0         6.0     1.209064e-10   \n",
       "4       1.597846e+09     21               1.0         8.0     1.043098e-09   \n",
       "...              ...    ...               ...         ...              ...   \n",
       "182453  1.597833e+09  29825               1.0        37.0     3.887827e-09   \n",
       "182454  1.597833e+09  29862               1.0        23.0     1.000000e-02   \n",
       "182455  1.597833e+09  29885               1.0        28.0     2.000000e-02   \n",
       "182456  1.597833e+09  29913               1.0        24.0     1.719513e-14   \n",
       "182457  1.597833e+09  29937               1.0        16.0     9.094947e-15   \n",
       "\n",
       "        loss/policy_loss  loss/agent_loss  loss/entropy  total_loss  \n",
       "0               1.607455         1.771018      1.730622    1.771018  \n",
       "1               1.532532         1.536775      1.661310    1.536775  \n",
       "2               1.477730         1.477730      1.463708    1.477730  \n",
       "3               1.466314         1.466314      1.440471    1.466314  \n",
       "4               1.386668         1.386668      1.469950    1.386668  \n",
       "...                  ...              ...           ...         ...  \n",
       "182453          0.935341         0.935341      0.784651    0.935341  \n",
       "182454          0.806829         0.816829      0.847733    0.816829  \n",
       "182455          0.979510         0.999510      0.889129    0.999510  \n",
       "182456          0.752453         0.752453      0.760864    0.752453  \n",
       "182457          1.011208         1.011208      0.870594    1.011208  \n",
       "\n",
       "[182458 rows x 9 columns]"
      ]
     },
     "execution_count": 3,
     "metadata": {},
     "output_type": "execute_result"
    }
   ],
   "source": [
    "pqr_agrs_100_30k"
   ]
  },
  {
   "cell_type": "code",
   "execution_count": 4,
   "metadata": {},
   "outputs": [
    {
     "data": {
      "text/html": [
       "<div>\n",
       "<style scoped>\n",
       "    .dataframe tbody tr th:only-of-type {\n",
       "        vertical-align: middle;\n",
       "    }\n",
       "\n",
       "    .dataframe tbody tr th {\n",
       "        vertical-align: top;\n",
       "    }\n",
       "\n",
       "    .dataframe thead th {\n",
       "        text-align: right;\n",
       "    }\n",
       "</style>\n",
       "<table border=\"1\" class=\"dataframe\">\n",
       "  <thead>\n",
       "    <tr style=\"text-align: right;\">\n",
       "      <th></th>\n",
       "      <th>step</th>\n",
       "      <th>reward</th>\n",
       "      <th>length</th>\n",
       "      <th>reward_se</th>\n",
       "      <th>length_se</th>\n",
       "    </tr>\n",
       "  </thead>\n",
       "  <tbody>\n",
       "    <tr>\n",
       "      <th>0</th>\n",
       "      <td>0.0</td>\n",
       "      <td>0.920000</td>\n",
       "      <td>14.510000</td>\n",
       "      <td>0.000000</td>\n",
       "      <td>0.000000</td>\n",
       "    </tr>\n",
       "    <tr>\n",
       "      <th>1</th>\n",
       "      <td>2.0</td>\n",
       "      <td>0.960040</td>\n",
       "      <td>8.749245</td>\n",
       "      <td>0.003200</td>\n",
       "      <td>66.240050</td>\n",
       "    </tr>\n",
       "    <tr>\n",
       "      <th>2</th>\n",
       "      <td>3.0</td>\n",
       "      <td>0.973387</td>\n",
       "      <td>6.954246</td>\n",
       "      <td>0.002131</td>\n",
       "      <td>42.724032</td>\n",
       "    </tr>\n",
       "    <tr>\n",
       "      <th>3</th>\n",
       "      <td>4.0</td>\n",
       "      <td>0.980060</td>\n",
       "      <td>6.798552</td>\n",
       "      <td>0.001597</td>\n",
       "      <td>28.550772</td>\n",
       "    </tr>\n",
       "    <tr>\n",
       "      <th>4</th>\n",
       "      <td>5.0</td>\n",
       "      <td>0.984064</td>\n",
       "      <td>6.867689</td>\n",
       "      <td>0.001276</td>\n",
       "      <td>21.415432</td>\n",
       "    </tr>\n",
       "    <tr>\n",
       "      <th>...</th>\n",
       "      <td>...</td>\n",
       "      <td>...</td>\n",
       "      <td>...</td>\n",
       "      <td>...</td>\n",
       "      <td>...</td>\n",
       "    </tr>\n",
       "    <tr>\n",
       "      <th>29886</th>\n",
       "      <td>29954.0</td>\n",
       "      <td>0.987597</td>\n",
       "      <td>17.788134</td>\n",
       "      <td>0.004221</td>\n",
       "      <td>21.015798</td>\n",
       "    </tr>\n",
       "    <tr>\n",
       "      <th>29887</th>\n",
       "      <td>29961.0</td>\n",
       "      <td>0.987622</td>\n",
       "      <td>17.768577</td>\n",
       "      <td>0.004213</td>\n",
       "      <td>21.165041</td>\n",
       "    </tr>\n",
       "    <tr>\n",
       "      <th>29888</th>\n",
       "      <td>29962.0</td>\n",
       "      <td>0.987647</td>\n",
       "      <td>17.762047</td>\n",
       "      <td>0.004204</td>\n",
       "      <td>21.144078</td>\n",
       "    </tr>\n",
       "    <tr>\n",
       "      <th>29889</th>\n",
       "      <td>29969.0</td>\n",
       "      <td>0.987671</td>\n",
       "      <td>17.790494</td>\n",
       "      <td>0.004196</td>\n",
       "      <td>21.506461</td>\n",
       "    </tr>\n",
       "    <tr>\n",
       "      <th>29890</th>\n",
       "      <td>29984.0</td>\n",
       "      <td>0.987696</td>\n",
       "      <td>17.792911</td>\n",
       "      <td>0.004188</td>\n",
       "      <td>21.466411</td>\n",
       "    </tr>\n",
       "  </tbody>\n",
       "</table>\n",
       "<p>29891 rows × 5 columns</p>\n",
       "</div>"
      ],
      "text/plain": [
       "          step    reward     length  reward_se  length_se\n",
       "0          0.0  0.920000  14.510000   0.000000   0.000000\n",
       "1          2.0  0.960040   8.749245   0.003200  66.240050\n",
       "2          3.0  0.973387   6.954246   0.002131  42.724032\n",
       "3          4.0  0.980060   6.798552   0.001597  28.550772\n",
       "4          5.0  0.984064   6.867689   0.001276  21.415432\n",
       "...        ...       ...        ...        ...        ...\n",
       "29886  29954.0  0.987597  17.788134   0.004221  21.015798\n",
       "29887  29961.0  0.987622  17.768577   0.004213  21.165041\n",
       "29888  29962.0  0.987647  17.762047   0.004204  21.144078\n",
       "29889  29969.0  0.987671  17.790494   0.004196  21.506461\n",
       "29890  29984.0  0.987696  17.792911   0.004188  21.466411\n",
       "\n",
       "[29891 rows x 5 columns]"
      ]
     },
     "execution_count": 4,
     "metadata": {},
     "output_type": "execute_result"
    }
   ],
   "source": [
    "pqr_agrs_100_30k.sort_values(by='step', inplace=True)\n",
    "\n",
    "step_sums = dict() \n",
    "# {key: (reward_sum, count, length_of_run) }\n",
    "\n",
    "for index, row, in pqr_agrs_100_30k.iterrows():\n",
    "    step = row['step']\n",
    "    if step in step_sums:\n",
    "        # adding rewards for the step\n",
    "        step_sums[step][0] += row['run/total_reward']\n",
    "        step_sums[step][1] += 1\n",
    "        step_sums[step][2] += row['run/length']\n",
    "    else:\n",
    "        step_sums[step] = [0, 1, row['run/length']]\n",
    "        step_sums[step][0] += row['run/total_reward']\n",
    "        \n",
    "\n",
    "# take average reward and length at each saved step\n",
    "df_av_at_step = pd.DataFrame(columns=['step', 'reward', 'length'])\n",
    "\n",
    "\n",
    "for key, value in step_sums.items():\n",
    "    \n",
    "    mean_reward = value[0] / value[1]\n",
    "    mean_length = value[2] / value[1]\n",
    "    \n",
    "    \n",
    "    df_av_at_step = df_av_at_step.append({'step': key, 'reward': mean_reward, 'length': mean_length}, ignore_index=True)\n",
    "df_av_at_step.set_index('step')\n",
    "\n",
    "\n",
    "rolling = df_av_at_step.ewm(adjust = True, span=1000).mean()\n",
    "rolling_se = df_av_at_step.ewm(adjust = True, span = 1000).var()\n",
    "rolling\n",
    "\n",
    "df_av_at_step['reward'] = rolling['reward']\n",
    "df_av_at_step['reward_se'] = rolling_se['reward']\n",
    "df_av_at_step['length_se'] = rolling_se['length']\n",
    "df_av_at_step['length'] = rolling['length']\n",
    "\n",
    "df_av_at_step = df_av_at_step.fillna(0);df_av_at_step\n",
    "df_agrs = df_av_at_step\n",
    "df_agrs"
   ]
  },
  {
   "cell_type": "code",
   "execution_count": 5,
   "metadata": {},
   "outputs": [
    {
     "data": {
      "text/html": [
       "<div>\n",
       "<style scoped>\n",
       "    .dataframe tbody tr th:only-of-type {\n",
       "        vertical-align: middle;\n",
       "    }\n",
       "\n",
       "    .dataframe tbody tr th {\n",
       "        vertical-align: top;\n",
       "    }\n",
       "\n",
       "    .dataframe thead th {\n",
       "        text-align: right;\n",
       "    }\n",
       "</style>\n",
       "<table border=\"1\" class=\"dataframe\">\n",
       "  <thead>\n",
       "    <tr style=\"text-align: right;\">\n",
       "      <th></th>\n",
       "      <th>step</th>\n",
       "      <th>reward</th>\n",
       "      <th>length</th>\n",
       "      <th>reward_se</th>\n",
       "      <th>length_se</th>\n",
       "    </tr>\n",
       "  </thead>\n",
       "  <tbody>\n",
       "    <tr>\n",
       "      <th>0</th>\n",
       "      <td>0.0</td>\n",
       "      <td>0.940000</td>\n",
       "      <td>14.960000</td>\n",
       "      <td>0.000000</td>\n",
       "      <td>0.000000</td>\n",
       "    </tr>\n",
       "    <tr>\n",
       "      <th>1</th>\n",
       "      <td>2.0</td>\n",
       "      <td>0.970030</td>\n",
       "      <td>8.473520</td>\n",
       "      <td>0.001800</td>\n",
       "      <td>83.980800</td>\n",
       "    </tr>\n",
       "    <tr>\n",
       "      <th>2</th>\n",
       "      <td>3.0</td>\n",
       "      <td>0.980040</td>\n",
       "      <td>6.879163</td>\n",
       "      <td>0.001199</td>\n",
       "      <td>49.551500</td>\n",
       "    </tr>\n",
       "    <tr>\n",
       "      <th>3</th>\n",
       "      <td>4.0</td>\n",
       "      <td>0.985045</td>\n",
       "      <td>6.324379</td>\n",
       "      <td>0.000898</td>\n",
       "      <td>34.227521</td>\n",
       "    </tr>\n",
       "    <tr>\n",
       "      <th>4</th>\n",
       "      <td>5.0</td>\n",
       "      <td>0.988048</td>\n",
       "      <td>6.627378</td>\n",
       "      <td>0.000718</td>\n",
       "      <td>26.101709</td>\n",
       "    </tr>\n",
       "    <tr>\n",
       "      <th>...</th>\n",
       "      <td>...</td>\n",
       "      <td>...</td>\n",
       "      <td>...</td>\n",
       "      <td>...</td>\n",
       "      <td>...</td>\n",
       "    </tr>\n",
       "    <tr>\n",
       "      <th>29865</th>\n",
       "      <td>29965.0</td>\n",
       "      <td>0.988546</td>\n",
       "      <td>18.236378</td>\n",
       "      <td>0.003620</td>\n",
       "      <td>20.497177</td>\n",
       "    </tr>\n",
       "    <tr>\n",
       "      <th>29866</th>\n",
       "      <td>29970.0</td>\n",
       "      <td>0.988568</td>\n",
       "      <td>18.211929</td>\n",
       "      <td>0.003613</td>\n",
       "      <td>20.755084</td>\n",
       "    </tr>\n",
       "    <tr>\n",
       "      <th>29867</th>\n",
       "      <td>29980.0</td>\n",
       "      <td>0.988591</td>\n",
       "      <td>18.205512</td>\n",
       "      <td>0.003606</td>\n",
       "      <td>20.734207</td>\n",
       "    </tr>\n",
       "    <tr>\n",
       "      <th>29868</th>\n",
       "      <td>29990.0</td>\n",
       "      <td>0.988614</td>\n",
       "      <td>18.237069</td>\n",
       "      <td>0.003599</td>\n",
       "      <td>21.190715</td>\n",
       "    </tr>\n",
       "    <tr>\n",
       "      <th>29869</th>\n",
       "      <td>29995.0</td>\n",
       "      <td>0.988637</td>\n",
       "      <td>18.228604</td>\n",
       "      <td>0.003592</td>\n",
       "      <td>21.184210</td>\n",
       "    </tr>\n",
       "  </tbody>\n",
       "</table>\n",
       "<p>29870 rows × 5 columns</p>\n",
       "</div>"
      ],
      "text/plain": [
       "          step    reward     length  reward_se  length_se\n",
       "0          0.0  0.940000  14.960000   0.000000   0.000000\n",
       "1          2.0  0.970030   8.473520   0.001800  83.980800\n",
       "2          3.0  0.980040   6.879163   0.001199  49.551500\n",
       "3          4.0  0.985045   6.324379   0.000898  34.227521\n",
       "4          5.0  0.988048   6.627378   0.000718  26.101709\n",
       "...        ...       ...        ...        ...        ...\n",
       "29865  29965.0  0.988546  18.236378   0.003620  20.497177\n",
       "29866  29970.0  0.988568  18.211929   0.003613  20.755084\n",
       "29867  29980.0  0.988591  18.205512   0.003606  20.734207\n",
       "29868  29990.0  0.988614  18.237069   0.003599  21.190715\n",
       "29869  29995.0  0.988637  18.228604   0.003592  21.184210\n",
       "\n",
       "[29870 rows x 5 columns]"
      ]
     },
     "execution_count": 5,
     "metadata": {},
     "output_type": "execute_result"
    }
   ],
   "source": [
    "pqr_no_agrs_100_30k = pd.read_csv('../cass_exp/pqr_100_each/pqr_no_agrs_100_30k_merge.csv', header = 2)\n",
    "\n",
    "pqr_no_agrs_100_30k.sort_values(by='step', inplace=True)\n",
    "\n",
    "#PIPELINE FOR AVERAGE OF MOVING AVERAGES\n",
    "\n",
    "step_sums = dict() \n",
    "# {key: (reward_sum, count, length_of_run) }\n",
    "\n",
    "for index, row, in pqr_no_agrs_100_30k.iterrows():\n",
    "    step = row['step']\n",
    "    if step in step_sums:\n",
    "        # adding rewards for the step\n",
    "        step_sums[step][0] += row['run/total_reward']\n",
    "        step_sums[step][1] += 1\n",
    "        step_sums[step][2] += row['run/length']\n",
    "    else:\n",
    "        step_sums[step] = [0, 1, row['run/length']]\n",
    "        step_sums[step][0] += row['run/total_reward']\n",
    "        \n",
    "# take average reward and length at each saved step\n",
    "df_av_at_step = pd.DataFrame(columns=['step', 'reward', 'length']);df_av_at_step\n",
    "\n",
    "for key, value in step_sums.items():\n",
    "    \n",
    "    mean_reward = value[0] / value[1]\n",
    "    mean_length = value[2] / value[1]\n",
    "    \n",
    "    \n",
    "    df_av_at_step = df_av_at_step.append({'step': key, 'reward': mean_reward, 'length': mean_length}, ignore_index=True)\n",
    "\n",
    "df_av_at_step.set_index('step')\n",
    "\n",
    "rolling = df_av_at_step.ewm(adjust = True, span=1000).mean()\n",
    "rolling_se = df_av_at_step.ewm(adjust = True, span=1000).var()\n",
    "df_av_at_step['reward'] = rolling['reward']\n",
    "df_av_at_step['reward_se'] = rolling_se['reward']\n",
    "df_av_at_step['length_se'] = rolling_se['length']\n",
    "df_av_at_step['length'] = rolling['length']\n",
    "\n",
    "\n",
    "df_av_at_step = df_av_at_step.fillna(0);df_av_at_step\n",
    "df_no_agrs = df_av_at_step\n",
    "df_no_agrs"
   ]
  },
  {
   "cell_type": "code",
   "execution_count": 6,
   "metadata": {},
   "outputs": [
    {
     "data": {
      "text/plain": [
       "<matplotlib.axes._subplots.AxesSubplot at 0x7fa3b1f7ffd0>"
      ]
     },
     "execution_count": 6,
     "metadata": {},
     "output_type": "execute_result"
    },
    {
     "data": {
      "image/png": "[encoded data removed]",
      "text/plain": [
       "<Figure size 432x288 with 1 Axes>"
      ]
     },
     "metadata": {
      "needs_background": "light"
     },
     "output_type": "display_data"
    }
   ],
   "source": [
    "plt.ylim(0.3, 1)\n",
    "sns.lineplot(x=\"step\", y=\"reward\", data=df_agrs)"
   ]
  },
  {
   "cell_type": "code",
   "execution_count": 7,
   "metadata": {
    "pycharm": {
     "name": "#%%\n"
    }
   },
   "outputs": [
    {
     "data": {
      "text/plain": [
       "<matplotlib.axes._subplots.AxesSubplot at 0x7fa3b05bf2d0>"
      ]
     },
     "execution_count": 7,
     "metadata": {},
     "output_type": "execute_result"
    },
    {
     "data": {
      "image/png": "[encoded data removed]",
      "text/plain": [
       "<Figure size 432x288 with 1 Axes>"
      ]
     },
     "metadata": {
      "needs_background": "light"
     },
     "output_type": "display_data"
    }
   ],
   "source": [
    "plt.ylim(0.3, 1)\n",
    "sns.lineplot(x=\"step\", y=\"reward\", data=df_no_agrs)"
   ]
  },
  {
   "cell_type": "code",
   "execution_count": 8,
   "metadata": {
    "pycharm": {
     "name": "#%%\n"
    },
    "scrolled": true
   },
   "outputs": [
    {
     "data": {
      "text/plain": [
       "<matplotlib.legend.Legend at 0x7fa410391fd0>"
      ]
     },
     "execution_count": 8,
     "metadata": {},
     "output_type": "execute_result"
    },
    {
     "data": {
      "image/png": "[encoded data removed]",
      "text/plain": [
       "<Figure size 432x288 with 1 Axes>"
      ]
     },
     "metadata": {
      "needs_background": "light"
     },
     "output_type": "display_data"
    }
   ],
   "source": [
    "fig, axs = plt.subplots(ncols=1)\n",
    "plt.title('pqr 100 * 30k steps at 80 expansions')\n",
    "sns.lineplot(x=\"step\", y=\"reward\", data=df_agrs,ax=axs, ci=99)\n",
    "sns.lineplot(x=\"step\", y=\"reward\", data=df_no_agrs,ax=axs, ci=99)\n",
    "axs.ticklabel_format(axis=\"x\", style=\"sci\", scilimits=(0,0))\n",
    "\n",
    "axs.legend(['agrs','vanilla'], loc=4)"
   ]
  },
  {
   "cell_type": "code",
   "execution_count": null,
   "metadata": {},
   "outputs": [],
   "source": []
  },
  {
   "cell_type": "code",
   "execution_count": 9,
   "metadata": {},
   "outputs": [
    {
     "data": {
      "text/plain": [
       "<matplotlib.legend.Legend at 0x7fa3b0269bd0>"
      ]
     },
     "execution_count": 9,
     "metadata": {},
     "output_type": "execute_result"
    },
    {
     "data": {
      "image/png": "[encoded data removed]",
      "text/plain": [
       "<Figure size 432x288 with 1 Axes>"
      ]
     },
     "metadata": {
      "needs_background": "light"
     },
     "output_type": "display_data"
    }
   ],
   "source": [
    "fig, axs = plt.subplots(ncols=1)\n",
    "#plt.title('Mine Recycler, Fixed 10x10')\n",
    "sns.lineplot(x=\"step\", y=\"reward\", data=df_agrs,ax=axs, ci=99)\n",
    "sns.lineplot(x=\"step\", y=\"reward\", data=df_no_agrs,ax=axs, ci=99)\n",
    "\n",
    "axs.fill_between(x=df_agrs[\"step\"], y1=df_agrs[\"reward\"] + df_agrs[\"reward_se\"], \n",
    "                 y2=df_agrs[\"reward\"] - df_agrs[\"reward_se\"], alpha=.5)\n",
    "axs.fill_between(x=df_no_agrs[\"step\"], y1=df_no_agrs[\"reward\"] + df_no_agrs[\"reward_se\"], \n",
    "                 y2=df_no_agrs[\"reward\"] - df_no_agrs[\"reward_se\"], alpha=.5)\n",
    "axs.set(xlabel='Play steps', ylabel='Win rate')\n",
    "\n",
    "axs.legend(['Automaton', 'No Automaton'], loc=4)"
   ]
  },
  {
   "cell_type": "code",
   "execution_count": null,
   "metadata": {},
   "outputs": [],
   "source": []
  },
  {
   "cell_type": "code",
   "execution_count": null,
   "metadata": {},
   "outputs": [],
   "source": []
  },
  {
   "cell_type": "code",
   "execution_count": null,
   "metadata": {},
   "outputs": [],
   "source": []
  }
 ],
 "metadata": {
  "kernelspec": {
   "display_name": "Python 3",
   "language": "python",
   "name": "python3"
  },
  "language_info": {
   "codemirror_mode": {
    "name": "ipython",
    "version": 3
   },
   "file_extension": ".py",
   "mimetype": "text/x-python",
   "name": "python",
   "nbconvert_exporter": "python",
   "pygments_lexer": "ipython3",
   "version": "3.7.6"
  },
  "pycharm": {
   "stem_cell": {
    "cell_type": "raw",
    "metadata": {
     "collapsed": false
    },
    "source": [
     "\n"
    ]
   }
  }
 },
 "nbformat": 4,
 "nbformat_minor": 1
}
