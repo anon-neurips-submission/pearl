{
 "cells": [
  {
   "cell_type": "code",
   "execution_count": 13,
   "metadata": {
    "pycharm": {
     "name": "#%%\n"
    }
   },
   "outputs": [],
   "source": [
    "import pandas as pd\n",
    "import seaborn as sns\n",
    "%matplotlib inline\n",
    "import matplotlib.pyplot as plt\n",
    "import numpy as np"
   ]
  },
  {
   "cell_type": "code",
   "execution_count": null,
   "metadata": {},
   "outputs": [],
   "source": [
    "\n"
   ]
  },
  {
   "cell_type": "code",
   "execution_count": null,
   "metadata": {
    "pycharm": {
     "name": "#%%\n"
    }
   },
   "outputs": [],
   "source": [
    "\n"
   ]
  },
  {
   "cell_type": "code",
   "execution_count": 14,
   "metadata": {},
   "outputs": [],
   "source": [
    "pqr_agrs_100_30k = pd.read_csv('../cass_exp/sep7/maze_agrs_merge.csv', header = 2)"
   ]
  },
  {
   "cell_type": "code",
   "execution_count": 15,
   "metadata": {},
   "outputs": [
    {
     "data": {
      "text/html": [
       "<div>\n",
       "<style scoped>\n",
       "    .dataframe tbody tr th:only-of-type {\n",
       "        vertical-align: middle;\n",
       "    }\n",
       "\n",
       "    .dataframe tbody tr th {\n",
       "        vertical-align: top;\n",
       "    }\n",
       "\n",
       "    .dataframe thead th {\n",
       "        text-align: right;\n",
       "    }\n",
       "</style>\n",
       "<table border=\"1\" class=\"dataframe\">\n",
       "  <thead>\n",
       "    <tr style=\"text-align: right;\">\n",
       "      <th></th>\n",
       "      <th>wall_time</th>\n",
       "      <th>step</th>\n",
       "      <th>run/total_reward</th>\n",
       "      <th>run/length</th>\n",
       "      <th>loss/value_loss</th>\n",
       "      <th>loss/policy_loss</th>\n",
       "      <th>loss/agent_loss</th>\n",
       "      <th>loss/entropy</th>\n",
       "      <th>total_loss</th>\n",
       "    </tr>\n",
       "  </thead>\n",
       "  <tbody>\n",
       "    <tr>\n",
       "      <th>0</th>\n",
       "      <td>1.599146e+09</td>\n",
       "      <td>0</td>\n",
       "      <td>1.0</td>\n",
       "      <td>11.0</td>\n",
       "      <td>0.154896</td>\n",
       "      <td>1.589820</td>\n",
       "      <td>1.744717</td>\n",
       "      <td>1.707709</td>\n",
       "      <td>1.744717</td>\n",
       "    </tr>\n",
       "    <tr>\n",
       "      <th>1</th>\n",
       "      <td>1.599146e+09</td>\n",
       "      <td>11</td>\n",
       "      <td>1.0</td>\n",
       "      <td>18.0</td>\n",
       "      <td>0.079943</td>\n",
       "      <td>1.575362</td>\n",
       "      <td>1.655304</td>\n",
       "      <td>1.651052</td>\n",
       "      <td>1.655304</td>\n",
       "    </tr>\n",
       "    <tr>\n",
       "      <th>2</th>\n",
       "      <td>1.599146e+09</td>\n",
       "      <td>29</td>\n",
       "      <td>0.0</td>\n",
       "      <td>13.0</td>\n",
       "      <td>0.054362</td>\n",
       "      <td>1.559821</td>\n",
       "      <td>1.614183</td>\n",
       "      <td>1.507170</td>\n",
       "      <td>1.614183</td>\n",
       "    </tr>\n",
       "    <tr>\n",
       "      <th>3</th>\n",
       "      <td>1.599146e+09</td>\n",
       "      <td>42</td>\n",
       "      <td>1.0</td>\n",
       "      <td>23.0</td>\n",
       "      <td>0.020890</td>\n",
       "      <td>1.500514</td>\n",
       "      <td>1.521403</td>\n",
       "      <td>1.485286</td>\n",
       "      <td>1.521403</td>\n",
       "    </tr>\n",
       "    <tr>\n",
       "      <th>4</th>\n",
       "      <td>1.599146e+09</td>\n",
       "      <td>65</td>\n",
       "      <td>1.0</td>\n",
       "      <td>18.0</td>\n",
       "      <td>0.073717</td>\n",
       "      <td>1.600120</td>\n",
       "      <td>1.673837</td>\n",
       "      <td>1.549309</td>\n",
       "      <td>1.673837</td>\n",
       "    </tr>\n",
       "    <tr>\n",
       "      <th>...</th>\n",
       "      <td>...</td>\n",
       "      <td>...</td>\n",
       "      <td>...</td>\n",
       "      <td>...</td>\n",
       "      <td>...</td>\n",
       "      <td>...</td>\n",
       "      <td>...</td>\n",
       "      <td>...</td>\n",
       "      <td>...</td>\n",
       "    </tr>\n",
       "    <tr>\n",
       "      <th>83718</th>\n",
       "      <td>1.599403e+09</td>\n",
       "      <td>29567</td>\n",
       "      <td>1.0</td>\n",
       "      <td>54.0</td>\n",
       "      <td>0.015385</td>\n",
       "      <td>1.354476</td>\n",
       "      <td>1.369861</td>\n",
       "      <td>1.333744</td>\n",
       "      <td>1.369861</td>\n",
       "    </tr>\n",
       "    <tr>\n",
       "      <th>83719</th>\n",
       "      <td>1.599403e+09</td>\n",
       "      <td>29621</td>\n",
       "      <td>1.0</td>\n",
       "      <td>61.0</td>\n",
       "      <td>0.015272</td>\n",
       "      <td>1.301391</td>\n",
       "      <td>1.316663</td>\n",
       "      <td>1.283785</td>\n",
       "      <td>1.316663</td>\n",
       "    </tr>\n",
       "    <tr>\n",
       "      <th>83720</th>\n",
       "      <td>1.599403e+09</td>\n",
       "      <td>29682</td>\n",
       "      <td>1.0</td>\n",
       "      <td>54.0</td>\n",
       "      <td>0.018635</td>\n",
       "      <td>1.307172</td>\n",
       "      <td>1.325807</td>\n",
       "      <td>1.254549</td>\n",
       "      <td>1.325807</td>\n",
       "    </tr>\n",
       "    <tr>\n",
       "      <th>83721</th>\n",
       "      <td>1.599403e+09</td>\n",
       "      <td>29736</td>\n",
       "      <td>1.0</td>\n",
       "      <td>55.0</td>\n",
       "      <td>0.037272</td>\n",
       "      <td>1.227646</td>\n",
       "      <td>1.264917</td>\n",
       "      <td>1.235762</td>\n",
       "      <td>1.264917</td>\n",
       "    </tr>\n",
       "    <tr>\n",
       "      <th>83722</th>\n",
       "      <td>1.599403e+09</td>\n",
       "      <td>29791</td>\n",
       "      <td>1.0</td>\n",
       "      <td>26.0</td>\n",
       "      <td>0.013294</td>\n",
       "      <td>1.290146</td>\n",
       "      <td>1.303441</td>\n",
       "      <td>1.256158</td>\n",
       "      <td>1.303441</td>\n",
       "    </tr>\n",
       "  </tbody>\n",
       "</table>\n",
       "<p>83723 rows × 9 columns</p>\n",
       "</div>"
      ],
      "text/plain": [
       "          wall_time   step  run/total_reward  run/length  loss/value_loss  \\\n",
       "0      1.599146e+09      0               1.0        11.0         0.154896   \n",
       "1      1.599146e+09     11               1.0        18.0         0.079943   \n",
       "2      1.599146e+09     29               0.0        13.0         0.054362   \n",
       "3      1.599146e+09     42               1.0        23.0         0.020890   \n",
       "4      1.599146e+09     65               1.0        18.0         0.073717   \n",
       "...             ...    ...               ...         ...              ...   \n",
       "83718  1.599403e+09  29567               1.0        54.0         0.015385   \n",
       "83719  1.599403e+09  29621               1.0        61.0         0.015272   \n",
       "83720  1.599403e+09  29682               1.0        54.0         0.018635   \n",
       "83721  1.599403e+09  29736               1.0        55.0         0.037272   \n",
       "83722  1.599403e+09  29791               1.0        26.0         0.013294   \n",
       "\n",
       "       loss/policy_loss  loss/agent_loss  loss/entropy  total_loss  \n",
       "0              1.589820         1.744717      1.707709    1.744717  \n",
       "1              1.575362         1.655304      1.651052    1.655304  \n",
       "2              1.559821         1.614183      1.507170    1.614183  \n",
       "3              1.500514         1.521403      1.485286    1.521403  \n",
       "4              1.600120         1.673837      1.549309    1.673837  \n",
       "...                 ...              ...           ...         ...  \n",
       "83718          1.354476         1.369861      1.333744    1.369861  \n",
       "83719          1.301391         1.316663      1.283785    1.316663  \n",
       "83720          1.307172         1.325807      1.254549    1.325807  \n",
       "83721          1.227646         1.264917      1.235762    1.264917  \n",
       "83722          1.290146         1.303441      1.256158    1.303441  \n",
       "\n",
       "[83723 rows x 9 columns]"
      ]
     },
     "execution_count": 15,
     "metadata": {},
     "output_type": "execute_result"
    }
   ],
   "source": [
    "pqr_agrs_100_30k"
   ]
  },
  {
   "cell_type": "code",
   "execution_count": 16,
   "metadata": {},
   "outputs": [
    {
     "data": {
      "text/html": [
       "<div>\n",
       "<style scoped>\n",
       "    .dataframe tbody tr th:only-of-type {\n",
       "        vertical-align: middle;\n",
       "    }\n",
       "\n",
       "    .dataframe tbody tr th {\n",
       "        vertical-align: top;\n",
       "    }\n",
       "\n",
       "    .dataframe thead th {\n",
       "        text-align: right;\n",
       "    }\n",
       "</style>\n",
       "<table border=\"1\" class=\"dataframe\">\n",
       "  <thead>\n",
       "    <tr style=\"text-align: right;\">\n",
       "      <th></th>\n",
       "      <th>step</th>\n",
       "      <th>reward</th>\n",
       "      <th>length</th>\n",
       "      <th>reward_se</th>\n",
       "      <th>length_se</th>\n",
       "    </tr>\n",
       "  </thead>\n",
       "  <tbody>\n",
       "    <tr>\n",
       "      <th>0</th>\n",
       "      <td>0.0</td>\n",
       "      <td>0.850000</td>\n",
       "      <td>9.680000</td>\n",
       "      <td>0.000000</td>\n",
       "      <td>0.000000</td>\n",
       "    </tr>\n",
       "    <tr>\n",
       "      <th>1</th>\n",
       "      <td>4.0</td>\n",
       "      <td>0.925075</td>\n",
       "      <td>9.840160</td>\n",
       "      <td>0.011250</td>\n",
       "      <td>0.051200</td>\n",
       "    </tr>\n",
       "    <tr>\n",
       "      <th>2</th>\n",
       "      <td>5.0</td>\n",
       "      <td>0.950100</td>\n",
       "      <td>9.058546</td>\n",
       "      <td>0.007492</td>\n",
       "      <td>1.852849</td>\n",
       "    </tr>\n",
       "    <tr>\n",
       "      <th>3</th>\n",
       "      <td>6.0</td>\n",
       "      <td>0.948682</td>\n",
       "      <td>9.364269</td>\n",
       "      <td>0.004998</td>\n",
       "      <td>1.606372</td>\n",
       "    </tr>\n",
       "    <tr>\n",
       "      <th>4</th>\n",
       "      <td>7.0</td>\n",
       "      <td>0.958987</td>\n",
       "      <td>9.424991</td>\n",
       "      <td>0.004273</td>\n",
       "      <td>1.221917</td>\n",
       "    </tr>\n",
       "    <tr>\n",
       "      <th>...</th>\n",
       "      <td>...</td>\n",
       "      <td>...</td>\n",
       "      <td>...</td>\n",
       "      <td>...</td>\n",
       "      <td>...</td>\n",
       "    </tr>\n",
       "    <tr>\n",
       "      <th>28045</th>\n",
       "      <td>29868.0</td>\n",
       "      <td>0.966454</td>\n",
       "      <td>35.713016</td>\n",
       "      <td>0.015612</td>\n",
       "      <td>225.608114</td>\n",
       "    </tr>\n",
       "    <tr>\n",
       "      <th>28046</th>\n",
       "      <td>29872.0</td>\n",
       "      <td>0.966521</td>\n",
       "      <td>35.683620</td>\n",
       "      <td>0.015583</td>\n",
       "      <td>225.589430</td>\n",
       "    </tr>\n",
       "    <tr>\n",
       "      <th>28047</th>\n",
       "      <td>29876.0</td>\n",
       "      <td>0.966588</td>\n",
       "      <td>35.692244</td>\n",
       "      <td>0.015554</td>\n",
       "      <td>225.175890</td>\n",
       "    </tr>\n",
       "    <tr>\n",
       "      <th>28048</th>\n",
       "      <td>29883.0</td>\n",
       "      <td>0.966654</td>\n",
       "      <td>35.648903</td>\n",
       "      <td>0.015525</td>\n",
       "      <td>225.665215</td>\n",
       "    </tr>\n",
       "    <tr>\n",
       "      <th>28049</th>\n",
       "      <td>29884.0</td>\n",
       "      <td>0.966721</td>\n",
       "      <td>35.609644</td>\n",
       "      <td>0.015496</td>\n",
       "      <td>225.984952</td>\n",
       "    </tr>\n",
       "  </tbody>\n",
       "</table>\n",
       "<p>28050 rows × 5 columns</p>\n",
       "</div>"
      ],
      "text/plain": [
       "          step    reward     length  reward_se   length_se\n",
       "0          0.0  0.850000   9.680000   0.000000    0.000000\n",
       "1          4.0  0.925075   9.840160   0.011250    0.051200\n",
       "2          5.0  0.950100   9.058546   0.007492    1.852849\n",
       "3          6.0  0.948682   9.364269   0.004998    1.606372\n",
       "4          7.0  0.958987   9.424991   0.004273    1.221917\n",
       "...        ...       ...        ...        ...         ...\n",
       "28045  29868.0  0.966454  35.713016   0.015612  225.608114\n",
       "28046  29872.0  0.966521  35.683620   0.015583  225.589430\n",
       "28047  29876.0  0.966588  35.692244   0.015554  225.175890\n",
       "28048  29883.0  0.966654  35.648903   0.015525  225.665215\n",
       "28049  29884.0  0.966721  35.609644   0.015496  225.984952\n",
       "\n",
       "[28050 rows x 5 columns]"
      ]
     },
     "execution_count": 16,
     "metadata": {},
     "output_type": "execute_result"
    }
   ],
   "source": [
    "pqr_agrs_100_30k.sort_values(by='step', inplace=True)\n",
    "\n",
    "step_sums = dict() \n",
    "# {key: (reward_sum, count, length_of_run) }\n",
    "\n",
    "for index, row, in pqr_agrs_100_30k.iterrows():\n",
    "    step = row['step']\n",
    "    if step in step_sums:\n",
    "        # adding rewards for the step\n",
    "        step_sums[step][0] += row['run/total_reward']\n",
    "        step_sums[step][1] += 1\n",
    "        step_sums[step][2] += row['run/length']\n",
    "    else:\n",
    "        step_sums[step] = [0, 1, row['run/length']]\n",
    "        step_sums[step][0] += row['run/total_reward']\n",
    "        \n",
    "\n",
    "# take average reward and length at each saved step\n",
    "df_av_at_step = pd.DataFrame(columns=['step', 'reward', 'length'])\n",
    "\n",
    "\n",
    "for key, value in step_sums.items():\n",
    "    \n",
    "    mean_reward = value[0] / value[1]\n",
    "    mean_length = value[2] / value[1]\n",
    "    \n",
    "    \n",
    "    df_av_at_step = df_av_at_step.append({'step': key, 'reward': mean_reward, 'length': mean_length}, ignore_index=True)\n",
    "df_av_at_step.set_index('step')\n",
    "\n",
    "\n",
    "rolling = df_av_at_step.ewm(adjust = True, span=1000).mean()\n",
    "rolling_se = df_av_at_step.ewm(adjust = True, span = 1000).var()\n",
    "rolling\n",
    "\n",
    "df_av_at_step['reward'] = rolling['reward']\n",
    "df_av_at_step['reward_se'] = rolling_se['reward']\n",
    "df_av_at_step['length_se'] = rolling_se['length']\n",
    "df_av_at_step['length'] = rolling['length']\n",
    "\n",
    "df_av_at_step = df_av_at_step.fillna(0);df_av_at_step\n",
    "df_agrs = df_av_at_step\n",
    "df_agrs"
   ]
  },
  {
   "cell_type": "code",
   "execution_count": 18,
   "metadata": {},
   "outputs": [
    {
     "data": {
      "text/html": [
       "<div>\n",
       "<style scoped>\n",
       "    .dataframe tbody tr th:only-of-type {\n",
       "        vertical-align: middle;\n",
       "    }\n",
       "\n",
       "    .dataframe tbody tr th {\n",
       "        vertical-align: top;\n",
       "    }\n",
       "\n",
       "    .dataframe thead th {\n",
       "        text-align: right;\n",
       "    }\n",
       "</style>\n",
       "<table border=\"1\" class=\"dataframe\">\n",
       "  <thead>\n",
       "    <tr style=\"text-align: right;\">\n",
       "      <th></th>\n",
       "      <th>step</th>\n",
       "      <th>reward</th>\n",
       "      <th>length</th>\n",
       "      <th>reward_se</th>\n",
       "      <th>length_se</th>\n",
       "    </tr>\n",
       "  </thead>\n",
       "  <tbody>\n",
       "    <tr>\n",
       "      <th>0</th>\n",
       "      <td>0.0</td>\n",
       "      <td>0.830000</td>\n",
       "      <td>9.900000</td>\n",
       "      <td>0.000000</td>\n",
       "      <td>0.000000</td>\n",
       "    </tr>\n",
       "    <tr>\n",
       "      <th>1</th>\n",
       "      <td>4.0</td>\n",
       "      <td>0.915085</td>\n",
       "      <td>9.449550</td>\n",
       "      <td>0.014450</td>\n",
       "      <td>0.405000</td>\n",
       "    </tr>\n",
       "    <tr>\n",
       "      <th>2</th>\n",
       "      <td>5.0</td>\n",
       "      <td>0.913083</td>\n",
       "      <td>10.392492</td>\n",
       "      <td>0.007230</td>\n",
       "      <td>2.861730</td>\n",
       "    </tr>\n",
       "    <tr>\n",
       "      <th>3</th>\n",
       "      <td>6.0</td>\n",
       "      <td>0.934877</td>\n",
       "      <td>10.544825</td>\n",
       "      <td>0.006707</td>\n",
       "      <td>1.998363</td>\n",
       "    </tr>\n",
       "    <tr>\n",
       "      <th>4</th>\n",
       "      <td>7.0</td>\n",
       "      <td>0.929700</td>\n",
       "      <td>10.398914</td>\n",
       "      <td>0.005159</td>\n",
       "      <td>1.603191</td>\n",
       "    </tr>\n",
       "    <tr>\n",
       "      <th>...</th>\n",
       "      <td>...</td>\n",
       "      <td>...</td>\n",
       "      <td>...</td>\n",
       "      <td>...</td>\n",
       "      <td>...</td>\n",
       "    </tr>\n",
       "    <tr>\n",
       "      <th>27890</th>\n",
       "      <td>29840.0</td>\n",
       "      <td>0.929825</td>\n",
       "      <td>39.156226</td>\n",
       "      <td>0.036225</td>\n",
       "      <td>195.990861</td>\n",
       "    </tr>\n",
       "    <tr>\n",
       "      <th>27891</th>\n",
       "      <td>29846.0</td>\n",
       "      <td>0.929965</td>\n",
       "      <td>39.201868</td>\n",
       "      <td>0.036162</td>\n",
       "      <td>196.640862</td>\n",
       "    </tr>\n",
       "    <tr>\n",
       "      <th>27892</th>\n",
       "      <td>29862.0</td>\n",
       "      <td>0.930105</td>\n",
       "      <td>39.231434</td>\n",
       "      <td>0.036100</td>\n",
       "      <td>196.685068</td>\n",
       "    </tr>\n",
       "    <tr>\n",
       "      <th>27893</th>\n",
       "      <td>29866.0</td>\n",
       "      <td>0.930245</td>\n",
       "      <td>39.234968</td>\n",
       "      <td>0.036037</td>\n",
       "      <td>196.298334</td>\n",
       "    </tr>\n",
       "    <tr>\n",
       "      <th>27894</th>\n",
       "      <td>29907.0</td>\n",
       "      <td>0.930384</td>\n",
       "      <td>39.200533</td>\n",
       "      <td>0.035975</td>\n",
       "      <td>196.499032</td>\n",
       "    </tr>\n",
       "  </tbody>\n",
       "</table>\n",
       "<p>27895 rows × 5 columns</p>\n",
       "</div>"
      ],
      "text/plain": [
       "          step    reward     length  reward_se   length_se\n",
       "0          0.0  0.830000   9.900000   0.000000    0.000000\n",
       "1          4.0  0.915085   9.449550   0.014450    0.405000\n",
       "2          5.0  0.913083  10.392492   0.007230    2.861730\n",
       "3          6.0  0.934877  10.544825   0.006707    1.998363\n",
       "4          7.0  0.929700  10.398914   0.005159    1.603191\n",
       "...        ...       ...        ...        ...         ...\n",
       "27890  29840.0  0.929825  39.156226   0.036225  195.990861\n",
       "27891  29846.0  0.929965  39.201868   0.036162  196.640862\n",
       "27892  29862.0  0.930105  39.231434   0.036100  196.685068\n",
       "27893  29866.0  0.930245  39.234968   0.036037  196.298334\n",
       "27894  29907.0  0.930384  39.200533   0.035975  196.499032\n",
       "\n",
       "[27895 rows x 5 columns]"
      ]
     },
     "execution_count": 18,
     "metadata": {},
     "output_type": "execute_result"
    }
   ],
   "source": [
    "pqr_no_agrs_100_30k = pd.read_csv('../cass_exp/sep7/maze_van_merge.csv', header = 2)\n",
    "\n",
    "pqr_no_agrs_100_30k.sort_values(by='step', inplace=True)\n",
    "\n",
    "#PIPELINE FOR AVERAGE OF MOVING AVERAGES\n",
    "\n",
    "step_sums = dict() \n",
    "# {key: (reward_sum, count, length_of_run) }\n",
    "\n",
    "for index, row, in pqr_no_agrs_100_30k.iterrows():\n",
    "    step = row['step']\n",
    "    if step in step_sums:\n",
    "        # adding rewards for the step\n",
    "        step_sums[step][0] += row['run/total_reward']\n",
    "        step_sums[step][1] += 1\n",
    "        step_sums[step][2] += row['run/length']\n",
    "    else:\n",
    "        step_sums[step] = [0, 1, row['run/length']]\n",
    "        step_sums[step][0] += row['run/total_reward']\n",
    "        \n",
    "# take average reward and length at each saved step\n",
    "df_av_at_step = pd.DataFrame(columns=['step', 'reward', 'length']);df_av_at_step\n",
    "\n",
    "for key, value in step_sums.items():\n",
    "    \n",
    "    mean_reward = value[0] / value[1]\n",
    "    mean_length = value[2] / value[1]\n",
    "    \n",
    "    \n",
    "    df_av_at_step = df_av_at_step.append({'step': key, 'reward': mean_reward, 'length': mean_length}, ignore_index=True)\n",
    "\n",
    "df_av_at_step.set_index('step')\n",
    "\n",
    "rolling = df_av_at_step.ewm(adjust = True, span=1000).mean()\n",
    "rolling_se = df_av_at_step.ewm(adjust = True, span=1000).var()\n",
    "df_av_at_step['reward'] = rolling['reward']\n",
    "df_av_at_step['reward_se'] = rolling_se['reward']\n",
    "df_av_at_step['length_se'] = rolling_se['length']\n",
    "df_av_at_step['length'] = rolling['length']\n",
    "\n",
    "\n",
    "df_av_at_step = df_av_at_step.fillna(0);df_av_at_step\n",
    "df_no_agrs = df_av_at_step\n",
    "df_no_agrs"
   ]
  },
  {
   "cell_type": "code",
   "execution_count": 19,
   "metadata": {},
   "outputs": [
    {
     "data": {
      "text/plain": [
       "<matplotlib.axes._subplots.AxesSubplot at 0x7fb6c50e9d10>"
      ]
     },
     "execution_count": 19,
     "metadata": {},
     "output_type": "execute_result"
    },
    {
     "data": {
      "image/png": "[encoded data removed]",
      "text/plain": [
       "<Figure size 432x288 with 1 Axes>"
      ]
     },
     "metadata": {
      "needs_background": "light"
     },
     "output_type": "display_data"
    }
   ],
   "source": [
    "plt.ylim(0.3, 1)\n",
    "sns.lineplot(x=\"step\", y=\"reward\", data=df_agrs)"
   ]
  },
  {
   "cell_type": "code",
   "execution_count": 20,
   "metadata": {
    "pycharm": {
     "name": "#%%\n"
    }
   },
   "outputs": [
    {
     "data": {
      "text/plain": [
       "<matplotlib.axes._subplots.AxesSubplot at 0x7fb6c3dd3410>"
      ]
     },
     "execution_count": 20,
     "metadata": {},
     "output_type": "execute_result"
    },
    {
     "data": {
      "image/png": "[encoded data removed]",
      "text/plain": [
       "<Figure size 432x288 with 1 Axes>"
      ]
     },
     "metadata": {
      "needs_background": "light"
     },
     "output_type": "display_data"
    }
   ],
   "source": [
    "plt.ylim(0.3, 1)\n",
    "sns.lineplot(x=\"step\", y=\"reward\", data=df_no_agrs)"
   ]
  },
  {
   "cell_type": "code",
   "execution_count": 21,
   "metadata": {
    "pycharm": {
     "name": "#%%\n"
    },
    "scrolled": true
   },
   "outputs": [
    {
     "data": {
      "text/plain": [
       "<matplotlib.legend.Legend at 0x7fb6c3fa0390>"
      ]
     },
     "execution_count": 21,
     "metadata": {},
     "output_type": "execute_result"
    },
    {
     "data": {
      "image/png": "[encoded data removed]",
      "text/plain": [
       "<Figure size 432x288 with 1 Axes>"
      ]
     },
     "metadata": {
      "needs_background": "light"
     },
     "output_type": "display_data"
    }
   ],
   "source": [
    "fig, axs = plt.subplots(ncols=1)\n",
    "plt.title('pqr 100 * 30k steps at 80 expansions')\n",
    "sns.lineplot(x=\"step\", y=\"reward\", data=df_agrs,ax=axs, ci=99)\n",
    "sns.lineplot(x=\"step\", y=\"reward\", data=df_no_agrs,ax=axs, ci=99)\n",
    "axs.ticklabel_format(axis=\"x\", style=\"sci\", scilimits=(0,0))\n",
    "\n",
    "axs.legend(['agrs','vanilla'], loc=4)"
   ]
  },
  {
   "cell_type": "code",
   "execution_count": null,
   "metadata": {},
   "outputs": [],
   "source": []
  },
  {
   "cell_type": "code",
   "execution_count": 24,
   "metadata": {},
   "outputs": [
    {
     "data": {
      "text/plain": [
       "<matplotlib.legend.Legend at 0x7fb6c3f3c050>"
      ]
     },
     "execution_count": 24,
     "metadata": {},
     "output_type": "execute_result"
    },
    {
     "data": {
      "image/png": "[encoded data removed]",
      "text/plain": [
       "<Figure size 432x288 with 1 Axes>"
      ]
     },
     "metadata": {
      "needs_background": "light"
     },
     "output_type": "display_data"
    }
   ],
   "source": [
    "fig, axs = plt.subplots(ncols=1)\n",
    "#plt.title('Mine Maze, Fixed 10x10')\n",
    "sns.lineplot(x=\"step\", y=\"reward\", data=df_agrs,ax=axs, ci=99)\n",
    "sns.lineplot(x=\"step\", y=\"reward\", data=df_no_agrs,ax=axs, ci=99)\n",
    "axs.fill_between(x=df_no_agrs[\"step\"], y1=df_no_agrs[\"reward\"] + df_no_agrs[\"reward_se\"], \n",
    "                 y2=df_no_agrs[\"reward\"] - df_no_agrs[\"reward_se\"], alpha=.5, color='#dd8452')\n",
    "axs.fill_between(x=df_agrs[\"step\"], y1=df_agrs[\"reward\"] + df_agrs[\"reward_se\"], \n",
    "                 y2=df_agrs[\"reward\"] - df_agrs[\"reward_se\"], alpha=.5, color='#4c72b0')\n",
    "\n",
    "axs.set(xlabel='Play steps', ylabel='Win rate')\n",
    "\n",
    "axs.legend(['Automaton', 'No Automaton'], loc=4)"
   ]
  },
  {
   "cell_type": "code",
   "execution_count": null,
   "metadata": {},
   "outputs": [],
   "source": []
  },
  {
   "cell_type": "code",
   "execution_count": null,
   "metadata": {},
   "outputs": [],
   "source": []
  },
  {
   "cell_type": "code",
   "execution_count": null,
   "metadata": {},
   "outputs": [],
   "source": []
  },
  {
   "cell_type": "code",
   "execution_count": null,
   "metadata": {},
   "outputs": [],
   "source": []
  }
 ],
 "metadata": {
  "kernelspec": {
   "display_name": "Python 3",
   "language": "python",
   "name": "python3"
  },
  "language_info": {
   "codemirror_mode": {
    "name": "ipython",
    "version": 3
   },
   "file_extension": ".py",
   "mimetype": "text/x-python",
   "name": "python",
   "nbconvert_exporter": "python",
   "pygments_lexer": "ipython3",
   "version": "3.7.6"
  },
  "pycharm": {
   "stem_cell": {
    "cell_type": "raw",
    "metadata": {
     "collapsed": false
    },
    "source": [
     "\n"
    ]
   }
  }
 },
 "nbformat": 4,
 "nbformat_minor": 1
}
