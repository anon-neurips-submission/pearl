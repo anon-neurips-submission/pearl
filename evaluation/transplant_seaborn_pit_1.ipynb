{
 "cells": [
  {
   "cell_type": "code",
   "execution_count": 15,
   "metadata": {
    "pycharm": {
     "name": "#%%\n"
    }
   },
   "outputs": [],
   "source": [
    "import pandas as pd\n",
    "import seaborn as sns\n",
    "%matplotlib inline\n",
    "import matplotlib.pyplot as plt\n",
    "import numpy as np"
   ]
  },
  {
   "cell_type": "code",
   "execution_count": null,
   "metadata": {},
   "outputs": [],
   "source": [
    "\n"
   ]
  },
  {
   "cell_type": "code",
   "execution_count": null,
   "metadata": {
    "pycharm": {
     "name": "#%%\n"
    }
   },
   "outputs": [],
   "source": [
    "\n"
   ]
  },
  {
   "cell_type": "code",
   "execution_count": 44,
   "metadata": {},
   "outputs": [
    {
     "data": {
      "text/html": [
       "<div>\n",
       "<style scoped>\n",
       "    .dataframe tbody tr th:only-of-type {\n",
       "        vertical-align: middle;\n",
       "    }\n",
       "\n",
       "    .dataframe tbody tr th {\n",
       "        vertical-align: top;\n",
       "    }\n",
       "\n",
       "    .dataframe thead th {\n",
       "        text-align: right;\n",
       "    }\n",
       "</style>\n",
       "<table border=\"1\" class=\"dataframe\">\n",
       "  <thead>\n",
       "    <tr style=\"text-align: right;\">\n",
       "      <th></th>\n",
       "      <th>step</th>\n",
       "      <th>reward</th>\n",
       "      <th>length</th>\n",
       "      <th>reward_se</th>\n",
       "      <th>length_se</th>\n",
       "    </tr>\n",
       "  </thead>\n",
       "  <tbody>\n",
       "    <tr>\n",
       "      <th>0</th>\n",
       "      <td>0.0</td>\n",
       "      <td>0.120000</td>\n",
       "      <td>451.080000</td>\n",
       "      <td>0.000000</td>\n",
       "      <td>0.000000</td>\n",
       "    </tr>\n",
       "    <tr>\n",
       "      <th>1</th>\n",
       "      <td>76.0</td>\n",
       "      <td>0.059940</td>\n",
       "      <td>475.564460</td>\n",
       "      <td>0.084853</td>\n",
       "      <td>34.591664</td>\n",
       "    </tr>\n",
       "    <tr>\n",
       "      <th>2</th>\n",
       "      <td>93.0</td>\n",
       "      <td>0.373920</td>\n",
       "      <td>354.133850</td>\n",
       "      <td>0.546317</td>\n",
       "      <td>211.427160</td>\n",
       "    </tr>\n",
       "    <tr>\n",
       "      <th>3</th>\n",
       "      <td>108.0</td>\n",
       "      <td>0.530910</td>\n",
       "      <td>296.678422</td>\n",
       "      <td>0.544945</td>\n",
       "      <td>207.178626</td>\n",
       "    </tr>\n",
       "    <tr>\n",
       "      <th>4</th>\n",
       "      <td>205.0</td>\n",
       "      <td>0.424303</td>\n",
       "      <td>337.505558</td>\n",
       "      <td>0.528246</td>\n",
       "      <td>201.128736</td>\n",
       "    </tr>\n",
       "    <tr>\n",
       "      <th>...</th>\n",
       "      <td>...</td>\n",
       "      <td>...</td>\n",
       "      <td>...</td>\n",
       "      <td>...</td>\n",
       "      <td>...</td>\n",
       "    </tr>\n",
       "    <tr>\n",
       "      <th>2542</th>\n",
       "      <td>59944.0</td>\n",
       "      <td>0.665671</td>\n",
       "      <td>228.101875</td>\n",
       "      <td>0.468771</td>\n",
       "      <td>194.989464</td>\n",
       "    </tr>\n",
       "    <tr>\n",
       "      <th>2543</th>\n",
       "      <td>59947.0</td>\n",
       "      <td>0.666343</td>\n",
       "      <td>227.786036</td>\n",
       "      <td>0.468539</td>\n",
       "      <td>194.920553</td>\n",
       "    </tr>\n",
       "    <tr>\n",
       "      <th>2544</th>\n",
       "      <td>59958.0</td>\n",
       "      <td>0.667014</td>\n",
       "      <td>227.438670</td>\n",
       "      <td>0.468307</td>\n",
       "      <td>194.878420</td>\n",
       "    </tr>\n",
       "    <tr>\n",
       "      <th>2545</th>\n",
       "      <td>59992.0</td>\n",
       "      <td>0.667683</td>\n",
       "      <td>227.105074</td>\n",
       "      <td>0.468074</td>\n",
       "      <td>194.824409</td>\n",
       "    </tr>\n",
       "    <tr>\n",
       "      <th>2546</th>\n",
       "      <td>60000.0</td>\n",
       "      <td>0.666341</td>\n",
       "      <td>227.653684</td>\n",
       "      <td>0.468559</td>\n",
       "      <td>195.012326</td>\n",
       "    </tr>\n",
       "  </tbody>\n",
       "</table>\n",
       "<p>2547 rows × 5 columns</p>\n",
       "</div>"
      ],
      "text/plain": [
       "         step    reward      length  reward_se   length_se\n",
       "0         0.0  0.120000  451.080000   0.000000    0.000000\n",
       "1        76.0  0.059940  475.564460   0.084853   34.591664\n",
       "2        93.0  0.373920  354.133850   0.546317  211.427160\n",
       "3       108.0  0.530910  296.678422   0.544945  207.178626\n",
       "4       205.0  0.424303  337.505558   0.528246  201.128736\n",
       "...       ...       ...         ...        ...         ...\n",
       "2542  59944.0  0.665671  228.101875   0.468771  194.989464\n",
       "2543  59947.0  0.666343  227.786036   0.468539  194.920553\n",
       "2544  59958.0  0.667014  227.438670   0.468307  194.878420\n",
       "2545  59992.0  0.667683  227.105074   0.468074  194.824409\n",
       "2546  60000.0  0.666341  227.653684   0.468559  195.012326\n",
       "\n",
       "[2547 rows x 5 columns]"
      ]
     },
     "execution_count": 44,
     "metadata": {},
     "output_type": "execute_result"
    }
   ],
   "source": [
    "\n",
    "\n",
    "pit_agrs_transplant_25_60k = pd.read_csv('../cass_exp/aug23/pit60k_25/pit_60_merge_agrs.csv', header = 2)\n",
    "\n",
    "pit_agrs_transplant_25_60k.sort_values(by='step', inplace=True)\n",
    "\n",
    "step_sums = dict() \n",
    "# {key: (reward_sum, count, length_of_run) }\n",
    "\n",
    "for index, row, in pit_agrs_transplant_25_60k.iterrows():\n",
    "    step = row['step']\n",
    "    if step in step_sums:\n",
    "        # adding rewards for the step\n",
    "        step_sums[step][0] += row['run/total_reward']\n",
    "        step_sums[step][1] += 1\n",
    "        step_sums[step][2] += row['run/length']\n",
    "    else:\n",
    "        step_sums[step] = [0, 1, row['run/length']]\n",
    "        step_sums[step][0] += row['run/total_reward']\n",
    "        \n",
    "\n",
    "# take average reward and length at each saved step\n",
    "df_av_at_step = pd.DataFrame(columns=['step', 'reward', 'length'])\n",
    "\n",
    "\n",
    "for key, value in step_sums.items():\n",
    "    \n",
    "    mean_reward = value[0] / value[1]\n",
    "    mean_length = value[2] / value[1]\n",
    "    \n",
    "    \n",
    "    df_av_at_step = df_av_at_step.append({'step': key, 'reward': mean_reward, 'length': mean_length}, ignore_index=True)\n",
    "df_av_at_step.set_index('step')\n",
    "\n",
    "\n",
    "rolling = df_av_at_step.ewm(adjust = True, span=1000).mean()\n",
    "rolling_se = df_av_at_step.ewm(adjust = True, span = 1000).std()\n",
    "rolling\n",
    "\n",
    "df_av_at_step['reward'] = rolling['reward']\n",
    "df_av_at_step['reward_se'] = rolling_se['reward']\n",
    "df_av_at_step['length_se'] = rolling_se['length']\n",
    "df_av_at_step['length'] = rolling['length']\n",
    "\n",
    "df_av_at_step = df_av_at_step.fillna(0);df_av_at_step\n",
    "df_agrs = df_av_at_step\n",
    "df_agrs"
   ]
  },
  {
   "cell_type": "code",
   "execution_count": 45,
   "metadata": {},
   "outputs": [
    {
     "data": {
      "text/html": [
       "<div>\n",
       "<style scoped>\n",
       "    .dataframe tbody tr th:only-of-type {\n",
       "        vertical-align: middle;\n",
       "    }\n",
       "\n",
       "    .dataframe tbody tr th {\n",
       "        vertical-align: top;\n",
       "    }\n",
       "\n",
       "    .dataframe thead th {\n",
       "        text-align: right;\n",
       "    }\n",
       "</style>\n",
       "<table border=\"1\" class=\"dataframe\">\n",
       "  <thead>\n",
       "    <tr style=\"text-align: right;\">\n",
       "      <th></th>\n",
       "      <th>step</th>\n",
       "      <th>reward</th>\n",
       "      <th>length</th>\n",
       "      <th>reward_se</th>\n",
       "      <th>length_se</th>\n",
       "    </tr>\n",
       "  </thead>\n",
       "  <tbody>\n",
       "    <tr>\n",
       "      <th>0</th>\n",
       "      <td>0.0</td>\n",
       "      <td>0.040000</td>\n",
       "      <td>483.680000</td>\n",
       "      <td>0.000000</td>\n",
       "      <td>0.000000</td>\n",
       "    </tr>\n",
       "    <tr>\n",
       "      <th>1</th>\n",
       "      <td>92.0</td>\n",
       "      <td>0.019980</td>\n",
       "      <td>491.848160</td>\n",
       "      <td>0.028284</td>\n",
       "      <td>11.539983</td>\n",
       "    </tr>\n",
       "    <tr>\n",
       "      <th>2</th>\n",
       "      <td>500.0</td>\n",
       "      <td>0.041140</td>\n",
       "      <td>483.590619</td>\n",
       "      <td>0.041699</td>\n",
       "      <td>16.445898</td>\n",
       "    </tr>\n",
       "    <tr>\n",
       "      <th>3</th>\n",
       "      <td>592.0</td>\n",
       "      <td>0.030824</td>\n",
       "      <td>487.705280</td>\n",
       "      <td>0.039775</td>\n",
       "      <td>15.734768</td>\n",
       "    </tr>\n",
       "    <tr>\n",
       "      <th>4</th>\n",
       "      <td>595.0</td>\n",
       "      <td>0.024635</td>\n",
       "      <td>490.174069</td>\n",
       "      <td>0.037093</td>\n",
       "      <td>14.690954</td>\n",
       "    </tr>\n",
       "    <tr>\n",
       "      <th>...</th>\n",
       "      <td>...</td>\n",
       "      <td>...</td>\n",
       "      <td>...</td>\n",
       "      <td>...</td>\n",
       "      <td>...</td>\n",
       "    </tr>\n",
       "    <tr>\n",
       "      <th>2198</th>\n",
       "      <td>59846.0</td>\n",
       "      <td>0.322203</td>\n",
       "      <td>384.100128</td>\n",
       "      <td>0.465719</td>\n",
       "      <td>170.342161</td>\n",
       "    </tr>\n",
       "    <tr>\n",
       "      <th>2199</th>\n",
       "      <td>59893.0</td>\n",
       "      <td>0.322562</td>\n",
       "      <td>383.938099</td>\n",
       "      <td>0.465316</td>\n",
       "      <td>170.207874</td>\n",
       "    </tr>\n",
       "    <tr>\n",
       "      <th>2200</th>\n",
       "      <td>59975.0</td>\n",
       "      <td>0.323933</td>\n",
       "      <td>383.392072</td>\n",
       "      <td>0.465841</td>\n",
       "      <td>170.468072</td>\n",
       "    </tr>\n",
       "    <tr>\n",
       "      <th>2201</th>\n",
       "      <td>59979.0</td>\n",
       "      <td>0.325300</td>\n",
       "      <td>382.944254</td>\n",
       "      <td>0.466361</td>\n",
       "      <td>170.586128</td>\n",
       "    </tr>\n",
       "    <tr>\n",
       "      <th>2202</th>\n",
       "      <td>60000.0</td>\n",
       "      <td>0.324642</td>\n",
       "      <td>383.181021</td>\n",
       "      <td>0.466119</td>\n",
       "      <td>170.494731</td>\n",
       "    </tr>\n",
       "  </tbody>\n",
       "</table>\n",
       "<p>2203 rows × 5 columns</p>\n",
       "</div>"
      ],
      "text/plain": [
       "         step    reward      length  reward_se   length_se\n",
       "0         0.0  0.040000  483.680000   0.000000    0.000000\n",
       "1        92.0  0.019980  491.848160   0.028284   11.539983\n",
       "2       500.0  0.041140  483.590619   0.041699   16.445898\n",
       "3       592.0  0.030824  487.705280   0.039775   15.734768\n",
       "4       595.0  0.024635  490.174069   0.037093   14.690954\n",
       "...       ...       ...         ...        ...         ...\n",
       "2198  59846.0  0.322203  384.100128   0.465719  170.342161\n",
       "2199  59893.0  0.322562  383.938099   0.465316  170.207874\n",
       "2200  59975.0  0.323933  383.392072   0.465841  170.468072\n",
       "2201  59979.0  0.325300  382.944254   0.466361  170.586128\n",
       "2202  60000.0  0.324642  383.181021   0.466119  170.494731\n",
       "\n",
       "[2203 rows x 5 columns]"
      ]
     },
     "execution_count": 45,
     "metadata": {},
     "output_type": "execute_result"
    }
   ],
   "source": [
    "pit_no_agrs_transplant_25_60k = pd.read_csv('../cass_exp/aug23/pit60k_25/pit_60_merge_no_agrs.csv', header = 2)\n",
    "\n",
    "pit_no_agrs_transplant_25_60k.sort_values(by='step', inplace=True)\n",
    "\n",
    "#PIPELINE FOR AVERAGE OF MOVING AVERAGES\n",
    "\n",
    "step_sums = dict() \n",
    "# {key: (reward_sum, count, length_of_run) }\n",
    "\n",
    "for index, row, in pit_no_agrs_transplant_25_60k.iterrows():\n",
    "    step = row['step']\n",
    "    if step in step_sums:\n",
    "        # adding rewards for the step\n",
    "        step_sums[step][0] += row['run/total_reward']\n",
    "        step_sums[step][1] += 1\n",
    "        step_sums[step][2] += row['run/length']\n",
    "    else:\n",
    "        step_sums[step] = [0, 1, row['run/length']]\n",
    "        step_sums[step][0] += row['run/total_reward']\n",
    "        \n",
    "# take average reward and length at each saved step\n",
    "df_av_at_step = pd.DataFrame(columns=['step', 'reward', 'length']);df_av_at_step\n",
    "\n",
    "for key, value in step_sums.items():\n",
    "    \n",
    "    mean_reward = value[0] / value[1]\n",
    "    mean_length = value[2] / value[1]\n",
    "    \n",
    "    \n",
    "    df_av_at_step = df_av_at_step.append({'step': key, 'reward': mean_reward, 'length': mean_length}, ignore_index=True)\n",
    "\n",
    "df_av_at_step.set_index('step')\n",
    "\n",
    "rolling = df_av_at_step.ewm(adjust = True, span=1000).mean()\n",
    "rolling_se = df_av_at_step.ewm(adjust = True, span=1000).std()\n",
    "df_av_at_step['reward'] = rolling['reward']\n",
    "df_av_at_step['reward_se'] = rolling_se['reward']\n",
    "df_av_at_step['length_se'] = rolling_se['length']\n",
    "df_av_at_step['length'] = rolling['length']\n",
    "\n",
    "\n",
    "df_av_at_step = df_av_at_step.fillna(0);df_av_at_step\n",
    "df_no_agrs = df_av_at_step\n",
    "df_no_agrs"
   ]
  },
  {
   "cell_type": "code",
   "execution_count": 46,
   "metadata": {
    "pycharm": {
     "name": "#%%\n"
    }
   },
   "outputs": [
    {
     "data": {
      "text/html": [
       "<div>\n",
       "<style scoped>\n",
       "    .dataframe tbody tr th:only-of-type {\n",
       "        vertical-align: middle;\n",
       "    }\n",
       "\n",
       "    .dataframe tbody tr th {\n",
       "        vertical-align: top;\n",
       "    }\n",
       "\n",
       "    .dataframe thead th {\n",
       "        text-align: right;\n",
       "    }\n",
       "</style>\n",
       "<table border=\"1\" class=\"dataframe\">\n",
       "  <thead>\n",
       "    <tr style=\"text-align: right;\">\n",
       "      <th></th>\n",
       "      <th>step</th>\n",
       "      <th>reward</th>\n",
       "      <th>length</th>\n",
       "      <th>reward_se</th>\n",
       "      <th>length_se</th>\n",
       "    </tr>\n",
       "  </thead>\n",
       "  <tbody>\n",
       "    <tr>\n",
       "      <th>0</th>\n",
       "      <td>0.0</td>\n",
       "      <td>0.038462</td>\n",
       "      <td>484.653846</td>\n",
       "      <td>0.000000</td>\n",
       "      <td>0.000000</td>\n",
       "    </tr>\n",
       "    <tr>\n",
       "      <th>1</th>\n",
       "      <td>101.0</td>\n",
       "      <td>0.019212</td>\n",
       "      <td>492.334596</td>\n",
       "      <td>0.027196</td>\n",
       "      <td>10.851369</td>\n",
       "    </tr>\n",
       "    <tr>\n",
       "      <th>2</th>\n",
       "      <td>500.0</td>\n",
       "      <td>0.012795</td>\n",
       "      <td>494.894843</td>\n",
       "      <td>0.022195</td>\n",
       "      <td>8.855673</td>\n",
       "    </tr>\n",
       "    <tr>\n",
       "      <th>3</th>\n",
       "      <td>601.0</td>\n",
       "      <td>0.009587</td>\n",
       "      <td>496.174963</td>\n",
       "      <td>0.019212</td>\n",
       "      <td>7.665400</td>\n",
       "    </tr>\n",
       "    <tr>\n",
       "      <th>4</th>\n",
       "      <td>1000.0</td>\n",
       "      <td>0.015694</td>\n",
       "      <td>493.786445</td>\n",
       "      <td>0.021496</td>\n",
       "      <td>8.509267</td>\n",
       "    </tr>\n",
       "    <tr>\n",
       "      <th>...</th>\n",
       "      <td>...</td>\n",
       "      <td>...</td>\n",
       "      <td>...</td>\n",
       "      <td>...</td>\n",
       "      <td>...</td>\n",
       "    </tr>\n",
       "    <tr>\n",
       "      <th>1795</th>\n",
       "      <td>59941.0</td>\n",
       "      <td>0.534432</td>\n",
       "      <td>306.693452</td>\n",
       "      <td>0.497040</td>\n",
       "      <td>184.189848</td>\n",
       "    </tr>\n",
       "    <tr>\n",
       "      <th>1796</th>\n",
       "      <td>59962.0</td>\n",
       "      <td>0.533334</td>\n",
       "      <td>307.090595</td>\n",
       "      <td>0.497119</td>\n",
       "      <td>184.208822</td>\n",
       "    </tr>\n",
       "    <tr>\n",
       "      <th>1797</th>\n",
       "      <td>59964.0</td>\n",
       "      <td>0.534293</td>\n",
       "      <td>306.636396</td>\n",
       "      <td>0.497058</td>\n",
       "      <td>184.291874</td>\n",
       "    </tr>\n",
       "    <tr>\n",
       "      <th>1798</th>\n",
       "      <td>59998.0</td>\n",
       "      <td>0.535250</td>\n",
       "      <td>306.470749</td>\n",
       "      <td>0.496995</td>\n",
       "      <td>184.138712</td>\n",
       "    </tr>\n",
       "    <tr>\n",
       "      <th>1799</th>\n",
       "      <td>60000.0</td>\n",
       "      <td>0.534150</td>\n",
       "      <td>306.868283</td>\n",
       "      <td>0.497076</td>\n",
       "      <td>184.158273</td>\n",
       "    </tr>\n",
       "  </tbody>\n",
       "</table>\n",
       "<p>1800 rows × 5 columns</p>\n",
       "</div>"
      ],
      "text/plain": [
       "         step    reward      length  reward_se   length_se\n",
       "0         0.0  0.038462  484.653846   0.000000    0.000000\n",
       "1       101.0  0.019212  492.334596   0.027196   10.851369\n",
       "2       500.0  0.012795  494.894843   0.022195    8.855673\n",
       "3       601.0  0.009587  496.174963   0.019212    7.665400\n",
       "4      1000.0  0.015694  493.786445   0.021496    8.509267\n",
       "...       ...       ...         ...        ...         ...\n",
       "1795  59941.0  0.534432  306.693452   0.497040  184.189848\n",
       "1796  59962.0  0.533334  307.090595   0.497119  184.208822\n",
       "1797  59964.0  0.534293  306.636396   0.497058  184.291874\n",
       "1798  59998.0  0.535250  306.470749   0.496995  184.138712\n",
       "1799  60000.0  0.534150  306.868283   0.497076  184.158273\n",
       "\n",
       "[1800 rows x 5 columns]"
      ]
     },
     "execution_count": 46,
     "metadata": {},
     "output_type": "execute_result"
    }
   ],
   "source": [
    "pit_agrs_no_transplant_25_60k = pd.read_csv('../cass_exp/aug23/pit60k_25/pit_60_merge_agrs_no_t.csv', header = 2)\n",
    "\n",
    "pit_agrs_no_transplant_25_60k.sort_values(by='step', inplace=True)\n",
    "\n",
    "#PIPELINE FOR AVERAGE OF MOVING AVERAGES\n",
    "\n",
    "step_sums = dict()\n",
    "# {key: (reward_sum, count, length_of_run) }\n",
    "\n",
    "for index, row, in pit_agrs_no_transplant_25_60k.iterrows():\n",
    "    step = row['step']\n",
    "    if step in step_sums:\n",
    "        # adding rewards for the step\n",
    "        step_sums[step][0] += row['run/total_reward']\n",
    "        step_sums[step][1] += 1\n",
    "        step_sums[step][2] += row['run/length']\n",
    "    else:\n",
    "        step_sums[step] = [0, 1, row['run/length']]\n",
    "        step_sums[step][0] += row['run/total_reward']\n",
    "\n",
    "# take average reward and length at each saved step\n",
    "df_av_at_step = pd.DataFrame(columns=['step', 'reward', 'length']);df_av_at_step\n",
    "\n",
    "for key, value in step_sums.items():\n",
    "\n",
    "    mean_reward = value[0] / value[1]\n",
    "    mean_length = value[2] / value[1]\n",
    "\n",
    "\n",
    "    df_av_at_step = df_av_at_step.append({'step': key, 'reward': mean_reward, 'length': mean_length}, ignore_index=True)\n",
    "\n",
    "df_av_at_step.set_index('step')\n",
    "\n",
    "rolling = df_av_at_step.ewm(adjust = True, span=1000).mean()\n",
    "rolling_se = df_av_at_step.ewm(adjust = True, span=1000).std()\n",
    "df_av_at_step['reward'] = rolling['reward']\n",
    "df_av_at_step['reward_se'] = rolling_se['reward']\n",
    "df_av_at_step['length_se'] = rolling_se['length']\n",
    "df_av_at_step['length'] = rolling['length']\n",
    "\n",
    "\n",
    "df_av_at_step = df_av_at_step.fillna(0);df_av_at_step\n",
    "df_agrs_no = df_av_at_step\n",
    "df_agrs_no\n"
   ]
  },
  {
   "cell_type": "code",
   "execution_count": 47,
   "metadata": {},
   "outputs": [
    {
     "data": {
      "text/plain": [
       "<matplotlib.axes._subplots.AxesSubplot at 0x7fa40c8e9590>"
      ]
     },
     "execution_count": 47,
     "metadata": {},
     "output_type": "execute_result"
    },
    {
     "data": {
      "image/png": "[encoded data removed]",
      "text/plain": [
       "<Figure size 432x288 with 1 Axes>"
      ]
     },
     "metadata": {
      "needs_background": "light"
     },
     "output_type": "display_data"
    }
   ],
   "source": [
    "plt.ylim(0.3, 1)\n",
    "sns.lineplot(x=\"step\", y=\"reward\", data=df_agrs)"
   ]
  },
  {
   "cell_type": "code",
   "execution_count": 48,
   "metadata": {},
   "outputs": [
    {
     "data": {
      "text/plain": [
       "<matplotlib.axes._subplots.AxesSubplot at 0x7fa40c513a10>"
      ]
     },
     "execution_count": 48,
     "metadata": {},
     "output_type": "execute_result"
    },
    {
     "data": {
      "image/png": "[encoded data removed]",
      "text/plain": [
       "<Figure size 432x288 with 1 Axes>"
      ]
     },
     "metadata": {
      "needs_background": "light"
     },
     "output_type": "display_data"
    }
   ],
   "source": [
    "plt.ylim(0.3, 1)\n",
    "sns.lineplot(x=\"step\", y=\"reward\", data=df_no_agrs)"
   ]
  },
  {
   "cell_type": "code",
   "execution_count": 49,
   "metadata": {},
   "outputs": [
    {
     "data": {
      "text/plain": [
       "['#4c72b0',\n",
       " '#dd8452',\n",
       " '#55a868',\n",
       " '#c44e52',\n",
       " '#8172b3',\n",
       " '#937860',\n",
       " '#da8bc3',\n",
       " '#8c8c8c',\n",
       " '#ccb974',\n",
       " '#64b5cd']"
      ]
     },
     "execution_count": 49,
     "metadata": {},
     "output_type": "execute_result"
    }
   ],
   "source": [
    "\n",
    "pal = sns.color_palette('deep')\n",
    "pal.as_hex()"
   ]
  },
  {
   "cell_type": "code",
   "execution_count": 50,
   "metadata": {},
   "outputs": [
    {
     "data": {
      "text/plain": [
       "<matplotlib.legend.Legend at 0x7fa40c48a550>"
      ]
     },
     "execution_count": 50,
     "metadata": {},
     "output_type": "execute_result"
    },
    {
     "data": {
      "image/png": "[encoded data removed]",
      "text/plain": [
       "<Figure size 432x288 with 1 Axes>"
      ]
     },
     "metadata": {
      "needs_background": "light"
     },
     "output_type": "display_data"
    }
   ],
   "source": [
    "fig, axs = plt.subplots(ncols=1)\n",
    "plt.title('Mine Recycler, 25x25 Fixed')\n",
    "\n",
    "sns.lineplot(x=\"step\", y=\"reward\", data=df_agrs_no,ax=axs, ci=99)\n",
    "sns.lineplot(x=\"step\", y=\"reward\", data=df_no_agrs,ax=axs, ci=99)\n",
    "sns.lineplot(x=\"step\", y=\"reward\", data=df_agrs,ax=axs, ci=99)\n",
    "\n",
    "axs.fill_between(x=df_no_agrs[\"step\"], y1=df_no_agrs[\"reward\"] + df_no_agrs[\"reward_se\"], \n",
    "                 y2=df_no_agrs[\"reward\"] - df_no_agrs[\"reward_se\"], alpha=.5, color='#dd8452')\n",
    "axs.fill_between(x=df_agrs_no[\"step\"], y1=df_agrs_no[\"reward\"] + df_agrs_no[\"reward_se\"], \n",
    "                 y2=df_agrs_no[\"reward\"] - df_agrs_no[\"reward_se\"], alpha=.5, color='#4c72b0')\n",
    "\n",
    "axs.fill_between(x=df_agrs[\"step\"], y1=df_agrs[\"reward\"] + df_agrs[\"reward_se\"], \n",
    "                 y2=df_agrs[\"reward\"] - df_agrs[\"reward_se\"], alpha=.5, color='#55a868')\n",
    "axs.set(xlabel='Play steps', ylabel='Win rate')\n",
    "\n",
    "axs.legend(['Automaton', 'No Automaton', 'Transfer, c$_{rate}$ = .997'], loc=1)"
   ]
  },
  {
   "cell_type": "code",
   "execution_count": 55,
   "metadata": {
    "pycharm": {
     "name": "#%%\n"
    }
   },
   "outputs": [
    {
     "data": {
      "text/plain": [
       "<matplotlib.legend.Legend at 0x7fa40c1dbdd0>"
      ]
     },
     "execution_count": 55,
     "metadata": {},
     "output_type": "execute_result"
    },
    {
     "data": {
      "image/png": "[encoded data removed]",
      "text/plain": [
       "<Figure size 432x288 with 1 Axes>"
      ]
     },
     "metadata": {
      "needs_background": "light"
     },
     "output_type": "display_data"
    }
   ],
   "source": [
    "fig, axs = plt.subplots(ncols=1)\n",
    "#plt.title('Pit transplant 25 * 60k steps at 80 expansions')\n",
    "\n",
    "sns.lineplot(x=\"step\", y=\"length\", data=df_agrs_no,ax=axs, ci=99)\n",
    "sns.lineplot(x=\"step\", y=\"length\", data=df_no_agrs,ax=axs, ci=99)\n",
    "sns.lineplot(x=\"step\", y=\"length\", data=df_agrs,ax=axs, ci=99)\n",
    "axs.fill_between(x=df_agrs_no[\"step\"], y1=df_agrs_no[\"length\"] + df_agrs_no[\"length_se\"], \n",
    "                 y2=df_agrs_no[\"length\"] - df_agrs_no[\"length_se\"], alpha=.5, color='#4c72b0')\n",
    "axs.fill_between(x=df_no_agrs[\"step\"], y1=df_no_agrs[\"length\"] + df_no_agrs[\"length_se\"], \n",
    "                 y2=df_no_agrs[\"length\"] - df_no_agrs[\"length_se\"], alpha=.5, color='#dd8452')\n",
    "\n",
    "\n",
    "axs.fill_between(x=df_agrs[\"step\"], y1=df_agrs[\"length\"] + df_agrs[\"length_se\"], \n",
    "                 y2=df_agrs[\"length\"] - df_agrs[\"length_se\"], alpha=.5, color='#55a868')\n",
    "\n",
    "axs.set(xlabel='Play steps', ylabel='Average Episode Length')\n",
    "axs.legend(['Automaton','No Automaton', 'Transfer, c_$_rate$ = .997'], loc=4)"
   ]
  },
  {
   "cell_type": "code",
   "execution_count": null,
   "metadata": {},
   "outputs": [],
   "source": []
  },
  {
   "cell_type": "code",
   "execution_count": null,
   "metadata": {},
   "outputs": [],
   "source": []
  },
  {
   "cell_type": "code",
   "execution_count": null,
   "metadata": {},
   "outputs": [],
   "source": []
  },
  {
   "cell_type": "code",
   "execution_count": null,
   "metadata": {},
   "outputs": [],
   "source": []
  }
 ],
 "metadata": {
  "kernelspec": {
   "display_name": "Python [conda env:vgcharm] *",
   "language": "python",
   "name": "conda-env-vgcharm-py"
  },
  "language_info": {
   "codemirror_mode": {
    "name": "ipython",
    "version": 3
   },
   "file_extension": ".py",
   "mimetype": "text/x-python",
   "name": "python",
   "nbconvert_exporter": "python",
   "pygments_lexer": "ipython3",
   "version": "3.7.6"
  },
  "pycharm": {
   "stem_cell": {
    "cell_type": "raw",
    "metadata": {
     "collapsed": false
    },
    "source": [
     "\n"
    ]
   }
  }
 },
 "nbformat": 4,
 "nbformat_minor": 1
}
