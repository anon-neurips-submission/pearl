{
 "cells": [
  {
   "cell_type": "code",
   "execution_count": 4,
   "metadata": {
    "pycharm": {
     "name": "#%%\n"
    }
   },
   "outputs": [],
   "source": [
    "import pandas as pd\n",
    "import seaborn as sns\n",
    "%matplotlib inline\n",
    "import matplotlib.pyplot as plt\n",
    "import numpy as np"
   ]
  },
  {
   "cell_type": "code",
   "execution_count": null,
   "metadata": {},
   "outputs": [],
   "source": [
    "\n"
   ]
  },
  {
   "cell_type": "code",
   "execution_count": null,
   "metadata": {
    "pycharm": {
     "name": "#%%\n"
    }
   },
   "outputs": [],
   "source": [
    "\n"
   ]
  },
  {
   "cell_type": "code",
   "execution_count": 5,
   "metadata": {},
   "outputs": [
    {
     "data": {
      "text/html": [
       "<div>\n",
       "<style scoped>\n",
       "    .dataframe tbody tr th:only-of-type {\n",
       "        vertical-align: middle;\n",
       "    }\n",
       "\n",
       "    .dataframe tbody tr th {\n",
       "        vertical-align: top;\n",
       "    }\n",
       "\n",
       "    .dataframe thead th {\n",
       "        text-align: right;\n",
       "    }\n",
       "</style>\n",
       "<table border=\"1\" class=\"dataframe\">\n",
       "  <thead>\n",
       "    <tr style=\"text-align: right;\">\n",
       "      <th></th>\n",
       "      <th>wall_time</th>\n",
       "      <th>step</th>\n",
       "      <th>run/total_reward</th>\n",
       "      <th>run/length</th>\n",
       "      <th>loss/value_loss</th>\n",
       "      <th>loss/policy_loss</th>\n",
       "      <th>loss/agent_loss</th>\n",
       "      <th>loss/entropy</th>\n",
       "      <th>total_loss</th>\n",
       "    </tr>\n",
       "  </thead>\n",
       "  <tbody>\n",
       "    <tr>\n",
       "      <th>0</th>\n",
       "      <td>1.597624e+09</td>\n",
       "      <td>0</td>\n",
       "      <td>1.0</td>\n",
       "      <td>4.0</td>\n",
       "      <td>1.372857e-01</td>\n",
       "      <td>1.664501</td>\n",
       "      <td>1.801787</td>\n",
       "      <td>1.701217</td>\n",
       "      <td>1.801787</td>\n",
       "    </tr>\n",
       "    <tr>\n",
       "      <th>1</th>\n",
       "      <td>1.597624e+09</td>\n",
       "      <td>4</td>\n",
       "      <td>1.0</td>\n",
       "      <td>4.0</td>\n",
       "      <td>2.576050e-05</td>\n",
       "      <td>1.574178</td>\n",
       "      <td>1.574203</td>\n",
       "      <td>1.592675</td>\n",
       "      <td>1.574203</td>\n",
       "    </tr>\n",
       "    <tr>\n",
       "      <th>2</th>\n",
       "      <td>1.597624e+09</td>\n",
       "      <td>8</td>\n",
       "      <td>1.0</td>\n",
       "      <td>6.0</td>\n",
       "      <td>3.474554e-13</td>\n",
       "      <td>1.575849</td>\n",
       "      <td>1.575849</td>\n",
       "      <td>1.585022</td>\n",
       "      <td>1.575849</td>\n",
       "    </tr>\n",
       "    <tr>\n",
       "      <th>3</th>\n",
       "      <td>1.597624e+09</td>\n",
       "      <td>14</td>\n",
       "      <td>1.0</td>\n",
       "      <td>6.0</td>\n",
       "      <td>6.423306e-14</td>\n",
       "      <td>1.559880</td>\n",
       "      <td>1.559880</td>\n",
       "      <td>1.566952</td>\n",
       "      <td>1.559880</td>\n",
       "    </tr>\n",
       "    <tr>\n",
       "      <th>4</th>\n",
       "      <td>1.597624e+09</td>\n",
       "      <td>20</td>\n",
       "      <td>1.0</td>\n",
       "      <td>9.0</td>\n",
       "      <td>2.232525e-12</td>\n",
       "      <td>1.549322</td>\n",
       "      <td>1.549322</td>\n",
       "      <td>1.478945</td>\n",
       "      <td>1.549322</td>\n",
       "    </tr>\n",
       "    <tr>\n",
       "      <th>...</th>\n",
       "      <td>...</td>\n",
       "      <td>...</td>\n",
       "      <td>...</td>\n",
       "      <td>...</td>\n",
       "      <td>...</td>\n",
       "      <td>...</td>\n",
       "      <td>...</td>\n",
       "      <td>...</td>\n",
       "      <td>...</td>\n",
       "    </tr>\n",
       "    <tr>\n",
       "      <th>15186</th>\n",
       "      <td>1.597738e+09</td>\n",
       "      <td>499376</td>\n",
       "      <td>1.0</td>\n",
       "      <td>11.0</td>\n",
       "      <td>5.571477e-02</td>\n",
       "      <td>0.551869</td>\n",
       "      <td>0.607584</td>\n",
       "      <td>0.436042</td>\n",
       "      <td>0.607584</td>\n",
       "    </tr>\n",
       "    <tr>\n",
       "      <th>15187</th>\n",
       "      <td>1.597738e+09</td>\n",
       "      <td>499387</td>\n",
       "      <td>1.0</td>\n",
       "      <td>57.0</td>\n",
       "      <td>3.720183e-02</td>\n",
       "      <td>0.434998</td>\n",
       "      <td>0.472199</td>\n",
       "      <td>0.457412</td>\n",
       "      <td>0.472199</td>\n",
       "    </tr>\n",
       "    <tr>\n",
       "      <th>15188</th>\n",
       "      <td>1.597738e+09</td>\n",
       "      <td>499444</td>\n",
       "      <td>1.0</td>\n",
       "      <td>86.0</td>\n",
       "      <td>1.780622e-02</td>\n",
       "      <td>0.483127</td>\n",
       "      <td>0.500933</td>\n",
       "      <td>0.449610</td>\n",
       "      <td>0.500933</td>\n",
       "    </tr>\n",
       "    <tr>\n",
       "      <th>15189</th>\n",
       "      <td>1.597738e+09</td>\n",
       "      <td>499530</td>\n",
       "      <td>1.0</td>\n",
       "      <td>47.0</td>\n",
       "      <td>2.248501e-02</td>\n",
       "      <td>0.602735</td>\n",
       "      <td>0.625220</td>\n",
       "      <td>0.519776</td>\n",
       "      <td>0.625220</td>\n",
       "    </tr>\n",
       "    <tr>\n",
       "      <th>15190</th>\n",
       "      <td>1.597738e+09</td>\n",
       "      <td>499577</td>\n",
       "      <td>1.0</td>\n",
       "      <td>14.0</td>\n",
       "      <td>3.397533e-02</td>\n",
       "      <td>0.605195</td>\n",
       "      <td>0.639171</td>\n",
       "      <td>0.549110</td>\n",
       "      <td>0.639171</td>\n",
       "    </tr>\n",
       "  </tbody>\n",
       "</table>\n",
       "<p>15191 rows × 9 columns</p>\n",
       "</div>"
      ],
      "text/plain": [
       "          wall_time    step  run/total_reward  run/length  loss/value_loss  \\\n",
       "0      1.597624e+09       0               1.0         4.0     1.372857e-01   \n",
       "1      1.597624e+09       4               1.0         4.0     2.576050e-05   \n",
       "2      1.597624e+09       8               1.0         6.0     3.474554e-13   \n",
       "3      1.597624e+09      14               1.0         6.0     6.423306e-14   \n",
       "4      1.597624e+09      20               1.0         9.0     2.232525e-12   \n",
       "...             ...     ...               ...         ...              ...   \n",
       "15186  1.597738e+09  499376               1.0        11.0     5.571477e-02   \n",
       "15187  1.597738e+09  499387               1.0        57.0     3.720183e-02   \n",
       "15188  1.597738e+09  499444               1.0        86.0     1.780622e-02   \n",
       "15189  1.597738e+09  499530               1.0        47.0     2.248501e-02   \n",
       "15190  1.597738e+09  499577               1.0        14.0     3.397533e-02   \n",
       "\n",
       "       loss/policy_loss  loss/agent_loss  loss/entropy  total_loss  \n",
       "0              1.664501         1.801787      1.701217    1.801787  \n",
       "1              1.574178         1.574203      1.592675    1.574203  \n",
       "2              1.575849         1.575849      1.585022    1.575849  \n",
       "3              1.559880         1.559880      1.566952    1.559880  \n",
       "4              1.549322         1.549322      1.478945    1.549322  \n",
       "...                 ...              ...           ...         ...  \n",
       "15186          0.551869         0.607584      0.436042    0.607584  \n",
       "15187          0.434998         0.472199      0.457412    0.472199  \n",
       "15188          0.483127         0.500933      0.449610    0.500933  \n",
       "15189          0.602735         0.625220      0.519776    0.625220  \n",
       "15190          0.605195         0.639171      0.549110    0.639171  \n",
       "\n",
       "[15191 rows x 9 columns]"
      ]
     },
     "execution_count": 5,
     "metadata": {},
     "output_type": "execute_result"
    }
   ],
   "source": [
    "pit_agrs_100_30k = pd.read_csv('../cass_exp/pretrans/pqr/agrs/scalarstr0.csv', header = 0);pit_agrs_100_30k"
   ]
  },
  {
   "cell_type": "code",
   "execution_count": 6,
   "metadata": {},
   "outputs": [
    {
     "data": {
      "text/html": [
       "<div>\n",
       "<style scoped>\n",
       "    .dataframe tbody tr th:only-of-type {\n",
       "        vertical-align: middle;\n",
       "    }\n",
       "\n",
       "    .dataframe tbody tr th {\n",
       "        vertical-align: top;\n",
       "    }\n",
       "\n",
       "    .dataframe thead th {\n",
       "        text-align: right;\n",
       "    }\n",
       "</style>\n",
       "<table border=\"1\" class=\"dataframe\">\n",
       "  <thead>\n",
       "    <tr style=\"text-align: right;\">\n",
       "      <th></th>\n",
       "      <th>step</th>\n",
       "      <th>reward</th>\n",
       "      <th>length</th>\n",
       "      <th>reward_se</th>\n",
       "      <th>length_se</th>\n",
       "    </tr>\n",
       "  </thead>\n",
       "  <tbody>\n",
       "    <tr>\n",
       "      <th>0</th>\n",
       "      <td>0.0</td>\n",
       "      <td>1.000000</td>\n",
       "      <td>4.000000</td>\n",
       "      <td>0.000000</td>\n",
       "      <td>0.000000</td>\n",
       "    </tr>\n",
       "    <tr>\n",
       "      <th>1</th>\n",
       "      <td>4.0</td>\n",
       "      <td>1.000000</td>\n",
       "      <td>4.000000</td>\n",
       "      <td>0.000000</td>\n",
       "      <td>0.000000</td>\n",
       "    </tr>\n",
       "    <tr>\n",
       "      <th>2</th>\n",
       "      <td>8.0</td>\n",
       "      <td>1.000000</td>\n",
       "      <td>4.668000</td>\n",
       "      <td>0.000000</td>\n",
       "      <td>1.155278</td>\n",
       "    </tr>\n",
       "    <tr>\n",
       "      <th>3</th>\n",
       "      <td>14.0</td>\n",
       "      <td>1.000000</td>\n",
       "      <td>5.002000</td>\n",
       "      <td>0.000000</td>\n",
       "      <td>1.154699</td>\n",
       "    </tr>\n",
       "    <tr>\n",
       "      <th>4</th>\n",
       "      <td>20.0</td>\n",
       "      <td>1.000000</td>\n",
       "      <td>5.804802</td>\n",
       "      <td>0.000000</td>\n",
       "      <td>2.050705</td>\n",
       "    </tr>\n",
       "    <tr>\n",
       "      <th>...</th>\n",
       "      <td>...</td>\n",
       "      <td>...</td>\n",
       "      <td>...</td>\n",
       "      <td>...</td>\n",
       "      <td>...</td>\n",
       "    </tr>\n",
       "    <tr>\n",
       "      <th>15186</th>\n",
       "      <td>499376.0</td>\n",
       "      <td>0.968604</td>\n",
       "      <td>29.364096</td>\n",
       "      <td>0.174472</td>\n",
       "      <td>21.011058</td>\n",
       "    </tr>\n",
       "    <tr>\n",
       "      <th>15187</th>\n",
       "      <td>499387.0</td>\n",
       "      <td>0.968667</td>\n",
       "      <td>29.419313</td>\n",
       "      <td>0.174303</td>\n",
       "      <td>21.026339</td>\n",
       "    </tr>\n",
       "    <tr>\n",
       "      <th>15188</th>\n",
       "      <td>499444.0</td>\n",
       "      <td>0.968730</td>\n",
       "      <td>29.532361</td>\n",
       "      <td>0.174135</td>\n",
       "      <td>21.156880</td>\n",
       "    </tr>\n",
       "    <tr>\n",
       "      <th>15189</th>\n",
       "      <td>499530.0</td>\n",
       "      <td>0.968792</td>\n",
       "      <td>29.567261</td>\n",
       "      <td>0.173966</td>\n",
       "      <td>21.150136</td>\n",
       "    </tr>\n",
       "    <tr>\n",
       "      <th>15190</th>\n",
       "      <td>499577.0</td>\n",
       "      <td>0.968854</td>\n",
       "      <td>29.536158</td>\n",
       "      <td>0.173798</td>\n",
       "      <td>21.140440</td>\n",
       "    </tr>\n",
       "  </tbody>\n",
       "</table>\n",
       "<p>15191 rows × 5 columns</p>\n",
       "</div>"
      ],
      "text/plain": [
       "           step    reward     length  reward_se  length_se\n",
       "0           0.0  1.000000   4.000000   0.000000   0.000000\n",
       "1           4.0  1.000000   4.000000   0.000000   0.000000\n",
       "2           8.0  1.000000   4.668000   0.000000   1.155278\n",
       "3          14.0  1.000000   5.002000   0.000000   1.154699\n",
       "4          20.0  1.000000   5.804802   0.000000   2.050705\n",
       "...         ...       ...        ...        ...        ...\n",
       "15186  499376.0  0.968604  29.364096   0.174472  21.011058\n",
       "15187  499387.0  0.968667  29.419313   0.174303  21.026339\n",
       "15188  499444.0  0.968730  29.532361   0.174135  21.156880\n",
       "15189  499530.0  0.968792  29.567261   0.173966  21.150136\n",
       "15190  499577.0  0.968854  29.536158   0.173798  21.140440\n",
       "\n",
       "[15191 rows x 5 columns]"
      ]
     },
     "execution_count": 6,
     "metadata": {},
     "output_type": "execute_result"
    }
   ],
   "source": [
    "pit_agrs_100_30k.sort_values(by='step', inplace=True)\n",
    "\n",
    "step_sums = dict() \n",
    "# {key: (reward_sum, count, length_of_run) }\n",
    "\n",
    "for index, row, in pit_agrs_100_30k.iterrows():\n",
    "    step = row['step']\n",
    "    if step in step_sums:\n",
    "        # adding rewards for the step\n",
    "        step_sums[step][0] += row['run/total_reward']\n",
    "        step_sums[step][1] += 1\n",
    "        step_sums[step][2] += row['run/length']\n",
    "    else:\n",
    "        step_sums[step] = [0, 1, row['run/length']]\n",
    "        step_sums[step][0] += row['run/total_reward']\n",
    "        \n",
    "\n",
    "# take average reward and length at each saved step\n",
    "df_av_at_step = pd.DataFrame(columns=['step', 'reward', 'length'])\n",
    "\n",
    "\n",
    "for key, value in step_sums.items():\n",
    "    \n",
    "    mean_reward = value[0] / value[1]\n",
    "    mean_length = value[2] / value[1]\n",
    "    \n",
    "    \n",
    "    df_av_at_step = df_av_at_step.append({'step': key, 'reward': mean_reward, 'length': mean_length}, ignore_index=True)\n",
    "df_av_at_step.set_index('step')\n",
    "\n",
    "\n",
    "rolling = df_av_at_step.ewm(adjust = True, span=1000).mean()\n",
    "rolling_se = df_av_at_step.ewm(adjust = True, span = 1000).std()\n",
    "rolling\n",
    "\n",
    "df_av_at_step['reward'] = rolling['reward']\n",
    "df_av_at_step['reward_se'] = rolling_se['reward']\n",
    "df_av_at_step['length_se'] = rolling_se['length']\n",
    "df_av_at_step['length'] = rolling['length']\n",
    "\n",
    "df_av_at_step = df_av_at_step.fillna(0);df_av_at_step\n",
    "df_agrs = df_av_at_step\n",
    "df_agrs"
   ]
  },
  {
   "cell_type": "code",
   "execution_count": 7,
   "metadata": {},
   "outputs": [
    {
     "data": {
      "text/html": [
       "<div>\n",
       "<style scoped>\n",
       "    .dataframe tbody tr th:only-of-type {\n",
       "        vertical-align: middle;\n",
       "    }\n",
       "\n",
       "    .dataframe tbody tr th {\n",
       "        vertical-align: top;\n",
       "    }\n",
       "\n",
       "    .dataframe thead th {\n",
       "        text-align: right;\n",
       "    }\n",
       "</style>\n",
       "<table border=\"1\" class=\"dataframe\">\n",
       "  <thead>\n",
       "    <tr style=\"text-align: right;\">\n",
       "      <th></th>\n",
       "      <th>step</th>\n",
       "      <th>reward</th>\n",
       "      <th>length</th>\n",
       "      <th>reward_se</th>\n",
       "      <th>length_se</th>\n",
       "    </tr>\n",
       "  </thead>\n",
       "  <tbody>\n",
       "    <tr>\n",
       "      <th>0</th>\n",
       "      <td>0.0</td>\n",
       "      <td>1.000000</td>\n",
       "      <td>6.000000</td>\n",
       "      <td>0.000000</td>\n",
       "      <td>0.000000</td>\n",
       "    </tr>\n",
       "    <tr>\n",
       "      <th>1</th>\n",
       "      <td>6.0</td>\n",
       "      <td>1.000000</td>\n",
       "      <td>11.505500</td>\n",
       "      <td>0.000000</td>\n",
       "      <td>7.778175</td>\n",
       "    </tr>\n",
       "    <tr>\n",
       "      <th>2</th>\n",
       "      <td>23.0</td>\n",
       "      <td>1.000000</td>\n",
       "      <td>12.338664</td>\n",
       "      <td>0.000000</td>\n",
       "      <td>5.682957</td>\n",
       "    </tr>\n",
       "    <tr>\n",
       "      <th>3</th>\n",
       "      <td>37.0</td>\n",
       "      <td>1.000000</td>\n",
       "      <td>12.002993</td>\n",
       "      <td>0.000000</td>\n",
       "      <td>4.685940</td>\n",
       "    </tr>\n",
       "    <tr>\n",
       "      <th>4</th>\n",
       "      <td>48.0</td>\n",
       "      <td>1.000000</td>\n",
       "      <td>12.203193</td>\n",
       "      <td>0.000000</td>\n",
       "      <td>4.080618</td>\n",
       "    </tr>\n",
       "    <tr>\n",
       "      <th>...</th>\n",
       "      <td>...</td>\n",
       "      <td>...</td>\n",
       "      <td>...</td>\n",
       "      <td>...</td>\n",
       "      <td>...</td>\n",
       "    </tr>\n",
       "    <tr>\n",
       "      <th>14131</th>\n",
       "      <td>499625.0</td>\n",
       "      <td>0.950151</td>\n",
       "      <td>31.557150</td>\n",
       "      <td>0.217742</td>\n",
       "      <td>23.346603</td>\n",
       "    </tr>\n",
       "    <tr>\n",
       "      <th>14132</th>\n",
       "      <td>499702.0</td>\n",
       "      <td>0.950250</td>\n",
       "      <td>31.599993</td>\n",
       "      <td>0.217536</td>\n",
       "      <td>23.342934</td>\n",
       "    </tr>\n",
       "    <tr>\n",
       "      <th>14133</th>\n",
       "      <td>499755.0</td>\n",
       "      <td>0.950350</td>\n",
       "      <td>31.578814</td>\n",
       "      <td>0.217330</td>\n",
       "      <td>23.324411</td>\n",
       "    </tr>\n",
       "    <tr>\n",
       "      <th>14134</th>\n",
       "      <td>499776.0</td>\n",
       "      <td>0.950449</td>\n",
       "      <td>31.563671</td>\n",
       "      <td>0.217124</td>\n",
       "      <td>23.303559</td>\n",
       "    </tr>\n",
       "    <tr>\n",
       "      <th>14135</th>\n",
       "      <td>499800.0</td>\n",
       "      <td>0.950548</td>\n",
       "      <td>31.512595</td>\n",
       "      <td>0.216918</td>\n",
       "      <td>23.308265</td>\n",
       "    </tr>\n",
       "  </tbody>\n",
       "</table>\n",
       "<p>14136 rows × 5 columns</p>\n",
       "</div>"
      ],
      "text/plain": [
       "           step    reward     length  reward_se  length_se\n",
       "0           0.0  1.000000   6.000000   0.000000   0.000000\n",
       "1           6.0  1.000000  11.505500   0.000000   7.778175\n",
       "2          23.0  1.000000  12.338664   0.000000   5.682957\n",
       "3          37.0  1.000000  12.002993   0.000000   4.685940\n",
       "4          48.0  1.000000  12.203193   0.000000   4.080618\n",
       "...         ...       ...        ...        ...        ...\n",
       "14131  499625.0  0.950151  31.557150   0.217742  23.346603\n",
       "14132  499702.0  0.950250  31.599993   0.217536  23.342934\n",
       "14133  499755.0  0.950350  31.578814   0.217330  23.324411\n",
       "14134  499776.0  0.950449  31.563671   0.217124  23.303559\n",
       "14135  499800.0  0.950548  31.512595   0.216918  23.308265\n",
       "\n",
       "[14136 rows x 5 columns]"
      ]
     },
     "execution_count": 7,
     "metadata": {},
     "output_type": "execute_result"
    }
   ],
   "source": [
    "pit_no_agrs_100_30k = pd.read_csv('../cass_exp/pretrans/pqr/no_agrs/scalarstr0.csv', header = 0)\n",
    "\n",
    "pit_no_agrs_100_30k.sort_values(by='step', inplace=True)\n",
    "\n",
    "#PIPELINE FOR AVERAGE OF MOVING AVERAGES\n",
    "\n",
    "step_sums = dict() \n",
    "# {key: (reward_sum, count, length_of_run) }\n",
    "\n",
    "for index, row, in pit_no_agrs_100_30k.iterrows():\n",
    "    step = row['step']\n",
    "    if step in step_sums:\n",
    "        # adding rewards for the step\n",
    "        step_sums[step][0] += row['run/total_reward']\n",
    "        step_sums[step][1] += 1\n",
    "        step_sums[step][2] += row['run/length']\n",
    "    else:\n",
    "        step_sums[step] = [0, 1, row['run/length']]\n",
    "        step_sums[step][0] += row['run/total_reward']\n",
    "        \n",
    "# take average reward and length at each saved step\n",
    "df_av_at_step = pd.DataFrame(columns=['step', 'reward', 'length']);df_av_at_step\n",
    "\n",
    "for key, value in step_sums.items():\n",
    "    \n",
    "    mean_reward = value[0] / value[1]\n",
    "    mean_length = value[2] / value[1]\n",
    "    \n",
    "    \n",
    "    df_av_at_step = df_av_at_step.append({'step': key, 'reward': mean_reward, 'length': mean_length}, ignore_index=True)\n",
    "\n",
    "df_av_at_step.set_index('step')\n",
    "\n",
    "rolling = df_av_at_step.ewm(adjust = True, span=1000).mean()\n",
    "rolling_se = df_av_at_step.ewm(adjust = True, span=1000).std()\n",
    "df_av_at_step['reward'] = rolling['reward']\n",
    "df_av_at_step['reward_se'] = rolling_se['reward']\n",
    "df_av_at_step['length_se'] = rolling_se['length']\n",
    "df_av_at_step['length'] = rolling['length']\n",
    "\n",
    "\n",
    "df_av_at_step = df_av_at_step.fillna(0);df_av_at_step\n",
    "df_no_agrs = df_av_at_step\n",
    "df_no_agrs"
   ]
  },
  {
   "cell_type": "code",
   "execution_count": 8,
   "metadata": {},
   "outputs": [
    {
     "data": {
      "text/plain": [
       "<matplotlib.axes._subplots.AxesSubplot at 0x7f9092216310>"
      ]
     },
     "execution_count": 8,
     "metadata": {},
     "output_type": "execute_result"
    },
    {
     "data": {
      "image/png": "[encoded data removed]",
      "text/plain": [
       "<Figure size 432x288 with 1 Axes>"
      ]
     },
     "metadata": {
      "needs_background": "light"
     },
     "output_type": "display_data"
    }
   ],
   "source": [
    "plt.ylim(0.3, 1)\n",
    "sns.lineplot(x=\"step\", y=\"reward\", data=df_agrs)"
   ]
  },
  {
   "cell_type": "code",
   "execution_count": 9,
   "metadata": {},
   "outputs": [
    {
     "data": {
      "text/plain": [
       "<matplotlib.axes._subplots.AxesSubplot at 0x7f90916e7610>"
      ]
     },
     "execution_count": 9,
     "metadata": {},
     "output_type": "execute_result"
    },
    {
     "data": {
      "image/png": "[encoded data removed]",
      "text/plain": [
       "<Figure size 432x288 with 1 Axes>"
      ]
     },
     "metadata": {
      "needs_background": "light"
     },
     "output_type": "display_data"
    }
   ],
   "source": [
    "plt.ylim(0.3, 1)\n",
    "sns.lineplot(x=\"step\", y=\"reward\", data=df_no_agrs)"
   ]
  },
  {
   "cell_type": "code",
   "execution_count": 11,
   "metadata": {},
   "outputs": [
    {
     "data": {
      "text/plain": [
       "<matplotlib.legend.Legend at 0x7f9090f1e150>"
      ]
     },
     "execution_count": 11,
     "metadata": {},
     "output_type": "execute_result"
    },
    {
     "data": {
      "image/png": "[encoded data removed]",
      "text/plain": [
       "<Figure size 432x288 with 1 Axes>"
      ]
     },
     "metadata": {
      "needs_background": "light"
     },
     "output_type": "display_data"
    }
   ],
   "source": [
    "fig, axs = plt.subplots(ncols=1)\n",
    "plt.title('Stochastic MineRecycler, Pre-Transplant')\n",
    "sns.lineplot(x=\"step\", y=\"reward\", data=df_agrs,ax=axs, ci=99)\n",
    "sns.lineplot(x=\"step\", y=\"reward\", data=df_no_agrs,ax=axs, ci=99)\n",
    "\n",
    "axs.legend(['agrs','vanilla'], loc=4)"
   ]
  },
  {
   "cell_type": "code",
   "execution_count": null,
   "metadata": {},
   "outputs": [],
   "source": []
  },
  {
   "cell_type": "code",
   "execution_count": null,
   "metadata": {},
   "outputs": [],
   "source": []
  },
  {
   "cell_type": "code",
   "execution_count": null,
   "metadata": {},
   "outputs": [],
   "source": []
  },
  {
   "cell_type": "code",
   "execution_count": null,
   "metadata": {},
   "outputs": [],
   "source": []
  },
  {
   "cell_type": "code",
   "execution_count": null,
   "metadata": {},
   "outputs": [],
   "source": [
    "\n"
   ]
  },
  {
   "cell_type": "code",
   "execution_count": null,
   "metadata": {},
   "outputs": [],
   "source": []
  },
  {
   "cell_type": "code",
   "execution_count": null,
   "metadata": {},
   "outputs": [],
   "source": []
  },
  {
   "cell_type": "code",
   "execution_count": null,
   "metadata": {},
   "outputs": [],
   "source": []
  },
  {
   "cell_type": "code",
   "execution_count": null,
   "metadata": {},
   "outputs": [],
   "source": []
  },
  {
   "cell_type": "code",
   "execution_count": null,
   "metadata": {},
   "outputs": [],
   "source": []
  },
  {
   "cell_type": "code",
   "execution_count": null,
   "metadata": {},
   "outputs": [],
   "source": []
  },
  {
   "cell_type": "code",
   "execution_count": null,
   "metadata": {},
   "outputs": [],
   "source": []
  },
  {
   "cell_type": "code",
   "execution_count": null,
   "metadata": {},
   "outputs": [],
   "source": []
  },
  {
   "cell_type": "code",
   "execution_count": null,
   "metadata": {},
   "outputs": [],
   "source": []
  },
  {
   "cell_type": "code",
   "execution_count": null,
   "metadata": {},
   "outputs": [],
   "source": []
  },
  {
   "cell_type": "code",
   "execution_count": 8,
   "metadata": {},
   "outputs": [
    {
     "ename": "AttributeError",
     "evalue": "module 'seaborn' has no attribute 'tsplot'",
     "output_type": "error",
     "traceback": [
      "\u001b[0;31m---------------------------------------------------------------------------\u001b[0m",
      "\u001b[0;31mAttributeError\u001b[0m                            Traceback (most recent call last)",
      "\u001b[0;32m<ipython-input-8-fcfe9c84c0d6>\u001b[0m in \u001b[0;36m<module>\u001b[0;34m\u001b[0m\n\u001b[1;32m      3\u001b[0m \u001b[0;34m\u001b[0m\u001b[0m\n\u001b[1;32m      4\u001b[0m \u001b[0;34m\u001b[0m\u001b[0m\n\u001b[0;32m----> 5\u001b[0;31m \u001b[0msns\u001b[0m\u001b[0;34m.\u001b[0m\u001b[0mtsplot\u001b[0m\u001b[0;34m(\u001b[0m\u001b[0mtime\u001b[0m\u001b[0;34m=\u001b[0m\u001b[0;34m'step'\u001b[0m\u001b[0;34m,\u001b[0m \u001b[0mvalue\u001b[0m\u001b[0;34m=\u001b[0m\u001b[0;34m'run/total_reward'\u001b[0m\u001b[0;34m,\u001b[0m \u001b[0mdata\u001b[0m\u001b[0;34m=\u001b[0m\u001b[0mpit_agrs_100_30k\u001b[0m\u001b[0;34m)\u001b[0m\u001b[0;34m\u001b[0m\u001b[0;34m\u001b[0m\u001b[0m\n\u001b[0m",
      "\u001b[0;31mAttributeError\u001b[0m: module 'seaborn' has no attribute 'tsplot'"
     ]
    }
   ],
   "source": [
    "# pit agrs 100 30k plot\n",
    "###########################\n",
    "\n",
    "\n",
    "sns.tsplot(time='step', value='run/total_reward', data=pit_agrs_100_30k)"
   ]
  },
  {
   "cell_type": "code",
   "execution_count": null,
   "metadata": {},
   "outputs": [],
   "source": [
    "pit_no_agrs_100_30k = pd.read_csv('cass_exp/pit_100_each/pit_no_agrs_100_30k_merge.csv', header = 2)"
   ]
  },
  {
   "cell_type": "code",
   "execution_count": null,
   "metadata": {},
   "outputs": [],
   "source": [
    "pit_no_agrs_100_30k\n"
   ]
  },
  {
   "cell_type": "code",
   "execution_count": null,
   "metadata": {},
   "outputs": [],
   "source": [
    "pit_no_agrs_100_30k.sort_values(by='step', inplace=True)"
   ]
  },
  {
   "cell_type": "code",
   "execution_count": null,
   "metadata": {},
   "outputs": [],
   "source": [
    "sns.set(style=\"darkgrid\")\n",
    "\n",
    "# Plot the responses for different events and regions\n",
    "#sns.lineplot(x=\"step\", y=\"run/total_reward\",\n",
    " #            data = pit_agrs_100_30k)\n",
    "fig, axs = plt.subplots(ncols=1)\n",
    "\n",
    "\n",
    "sns.regplot(x='step', y='run/total_reward', data=pit_no_agrs_100_30k, marker=' ', color='blue', ci=.99, ax=axs)\n",
    "sns.regplot(x='step', y='run/total_reward', data = pit_agrs_100_30k, marker = ' ', color='red', ci=.99, ax=axs)\n"
   ]
  },
  {
   "cell_type": "code",
   "execution_count": null,
   "metadata": {},
   "outputs": [],
   "source": [
    "import numpy as np; np.random.seed(1)\n",
    "\n",
    "x = pit_agrs_100_30k['step']\n",
    "y=pit_agrs_100_30k['run/total_reward']\n",
    "data = pd.DataFrame(y,x)\n",
    "fig, (ax) = plt.subplots(ncols=1, sharey=True)\n",
    "\n",
    "def tsplot(ax, data,**kw):\n",
    "    x = np.arange(data.shape[1])\n",
    "    est = np.mean(data, axis=0)\n",
    "    sd = np.std(data, axis=0)\n",
    "    cis = (est - sd, est + sd)\n",
    "    ax.fill_between(x,cis[0],cis[1],alpha=0.2, **kw)\n",
    "    ax.plot(x,est,**kw)\n",
    "    ax.margins(x=0) \n",
    "\n",
    "\n",
    "\n",
    "tsplot(ax, data)\n",
    "\n",
    "ax.set_title(\"sns.tsplot\")\n",
    "\n",
    "\n",
    "plt.show()"
   ]
  },
  {
   "cell_type": "code",
   "execution_count": null,
   "metadata": {},
   "outputs": [],
   "source": []
  },
  {
   "cell_type": "code",
   "execution_count": null,
   "metadata": {},
   "outputs": [],
   "source": [
    "time_series_array = pit_agrs_100_30k['run/total_reward']\n",
    "time_series_array"
   ]
  },
  {
   "cell_type": "code",
   "execution_count": null,
   "metadata": {},
   "outputs": [],
   "source": [
    "data"
   ]
  },
  {
   "cell_type": "code",
   "execution_count": null,
   "metadata": {},
   "outputs": [],
   "source": [
    "n_steps = 30\n",
    "\n",
    "time_series_df = pd.DataFrame(time_series_array)\n",
    "smooth_path = time_series_df.rolling(20).mean()\n",
    "smooth_path.fillna(0)\n",
    "path_deviation = time_series_df.rolling(20).std()\n",
    "path_deviation.fillna(0)\n",
    "\n",
    "left = (smooth_path-2*path_deviation).fillna(0)\n",
    "right =  (smooth_path+2*path_deviation).fillna(0)\n",
    "plt.plot(smooth_path, linewidth=2)\n",
    "plt.fill_between(path_deviation.index, left, right, color='b', alpha=.1)"
   ]
  },
  {
   "cell_type": "code",
   "execution_count": null,
   "metadata": {},
   "outputs": [],
   "source": [
    "right"
   ]
  },
  {
   "cell_type": "code",
   "execution_count": null,
   "metadata": {},
   "outputs": [],
   "source": []
  }
 ],
 "metadata": {
  "kernelspec": {
   "display_name": "Python [conda env:vgcharm] *",
   "language": "python",
   "name": "conda-env-vgcharm-py"
  },
  "language_info": {
   "codemirror_mode": {
    "name": "ipython",
    "version": 3
   },
   "file_extension": ".py",
   "mimetype": "text/x-python",
   "name": "python",
   "nbconvert_exporter": "python",
   "pygments_lexer": "ipython3",
   "version": "3.7.6"
  },
  "pycharm": {
   "stem_cell": {
    "cell_type": "raw",
    "metadata": {
     "collapsed": false
    },
    "source": [
     "\n"
    ]
   }
  }
 },
 "nbformat": 4,
 "nbformat_minor": 1
}
