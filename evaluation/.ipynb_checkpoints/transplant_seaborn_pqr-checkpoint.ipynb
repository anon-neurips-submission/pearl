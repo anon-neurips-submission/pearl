{
 "cells": [
  {
   "cell_type": "code",
   "execution_count": 1,
   "metadata": {
    "pycharm": {
     "name": "#%%\n"
    }
   },
   "outputs": [],
   "source": [
    "import pandas as pd\n",
    "import seaborn as sns\n",
    "%matplotlib inline\n",
    "import matplotlib.pyplot as plt\n",
    "import numpy as np"
   ]
  },
  {
   "cell_type": "code",
   "execution_count": null,
   "metadata": {},
   "outputs": [],
   "source": [
    "\n"
   ]
  },
  {
   "cell_type": "code",
   "execution_count": null,
   "metadata": {
    "pycharm": {
     "name": "#%%\n"
    }
   },
   "outputs": [],
   "source": [
    "\n"
   ]
  },
  {
   "cell_type": "code",
   "execution_count": 5,
   "metadata": {},
   "outputs": [
    {
     "data": {
      "text/html": [
       "<div>\n",
       "<style scoped>\n",
       "    .dataframe tbody tr th:only-of-type {\n",
       "        vertical-align: middle;\n",
       "    }\n",
       "\n",
       "    .dataframe tbody tr th {\n",
       "        vertical-align: top;\n",
       "    }\n",
       "\n",
       "    .dataframe thead th {\n",
       "        text-align: right;\n",
       "    }\n",
       "</style>\n",
       "<table border=\"1\" class=\"dataframe\">\n",
       "  <thead>\n",
       "    <tr style=\"text-align: right;\">\n",
       "      <th></th>\n",
       "      <th>step</th>\n",
       "      <th>reward</th>\n",
       "      <th>length</th>\n",
       "      <th>reward_se</th>\n",
       "      <th>length_se</th>\n",
       "    </tr>\n",
       "  </thead>\n",
       "  <tbody>\n",
       "    <tr>\n",
       "      <th>0</th>\n",
       "      <td>0.0</td>\n",
       "      <td>0.500000</td>\n",
       "      <td>47.250000</td>\n",
       "      <td>0.000000</td>\n",
       "      <td>0.000000</td>\n",
       "    </tr>\n",
       "    <tr>\n",
       "      <th>1</th>\n",
       "      <td>4.0</td>\n",
       "      <td>0.750250</td>\n",
       "      <td>26.103875</td>\n",
       "      <td>0.125000</td>\n",
       "      <td>892.531250</td>\n",
       "    </tr>\n",
       "    <tr>\n",
       "      <th>2</th>\n",
       "      <td>8.0</td>\n",
       "      <td>0.833667</td>\n",
       "      <td>54.459200</td>\n",
       "      <td>0.083250</td>\n",
       "      <td>2850.671688</td>\n",
       "    </tr>\n",
       "    <tr>\n",
       "      <th>3</th>\n",
       "      <td>9.0</td>\n",
       "      <td>0.875375</td>\n",
       "      <td>42.308031</td>\n",
       "      <td>0.062375</td>\n",
       "      <td>2486.794364</td>\n",
       "    </tr>\n",
       "    <tr>\n",
       "      <th>4</th>\n",
       "      <td>12.0</td>\n",
       "      <td>0.799999</td>\n",
       "      <td>53.089421</td>\n",
       "      <td>0.075000</td>\n",
       "      <td>2441.525210</td>\n",
       "    </tr>\n",
       "    <tr>\n",
       "      <th>...</th>\n",
       "      <td>...</td>\n",
       "      <td>...</td>\n",
       "      <td>...</td>\n",
       "      <td>...</td>\n",
       "      <td>...</td>\n",
       "    </tr>\n",
       "    <tr>\n",
       "      <th>6231</th>\n",
       "      <td>59823.0</td>\n",
       "      <td>0.533386</td>\n",
       "      <td>201.787100</td>\n",
       "      <td>0.241887</td>\n",
       "      <td>26648.634632</td>\n",
       "    </tr>\n",
       "    <tr>\n",
       "      <th>6232</th>\n",
       "      <td>59850.0</td>\n",
       "      <td>0.534319</td>\n",
       "      <td>201.495816</td>\n",
       "      <td>0.241839</td>\n",
       "      <td>26637.813433</td>\n",
       "    </tr>\n",
       "    <tr>\n",
       "      <th>6233</th>\n",
       "      <td>59853.0</td>\n",
       "      <td>0.535249</td>\n",
       "      <td>201.161157</td>\n",
       "      <td>0.241788</td>\n",
       "      <td>26640.588684</td>\n",
       "    </tr>\n",
       "    <tr>\n",
       "      <th>6234</th>\n",
       "      <td>59906.0</td>\n",
       "      <td>0.536178</td>\n",
       "      <td>201.156839</td>\n",
       "      <td>0.241736</td>\n",
       "      <td>26587.369852</td>\n",
       "    </tr>\n",
       "    <tr>\n",
       "      <th>6235</th>\n",
       "      <td>59927.0</td>\n",
       "      <td>0.535106</td>\n",
       "      <td>200.912769</td>\n",
       "      <td>0.241827</td>\n",
       "      <td>26564.033131</td>\n",
       "    </tr>\n",
       "  </tbody>\n",
       "</table>\n",
       "<p>6236 rows × 5 columns</p>\n",
       "</div>"
      ],
      "text/plain": [
       "         step    reward      length  reward_se     length_se\n",
       "0         0.0  0.500000   47.250000   0.000000      0.000000\n",
       "1         4.0  0.750250   26.103875   0.125000    892.531250\n",
       "2         8.0  0.833667   54.459200   0.083250   2850.671688\n",
       "3         9.0  0.875375   42.308031   0.062375   2486.794364\n",
       "4        12.0  0.799999   53.089421   0.075000   2441.525210\n",
       "...       ...       ...         ...        ...           ...\n",
       "6231  59823.0  0.533386  201.787100   0.241887  26648.634632\n",
       "6232  59850.0  0.534319  201.495816   0.241839  26637.813433\n",
       "6233  59853.0  0.535249  201.161157   0.241788  26640.588684\n",
       "6234  59906.0  0.536178  201.156839   0.241736  26587.369852\n",
       "6235  59927.0  0.535106  200.912769   0.241827  26564.033131\n",
       "\n",
       "[6236 rows x 5 columns]"
      ]
     },
     "execution_count": 5,
     "metadata": {},
     "output_type": "execute_result"
    }
   ],
   "source": [
    "\n",
    "\n",
    "pit_agrs_transplant_25_60k = pd.read_csv('../cass_exp/aug23/pqr60/pqr_60_merge_agrs.csv', header = 2)\n",
    "\n",
    "pit_agrs_transplant_25_60k.sort_values(by='step', inplace=True)\n",
    "\n",
    "step_sums = dict() \n",
    "# {key: (reward_sum, count, length_of_run) }\n",
    "\n",
    "for index, row, in pit_agrs_transplant_25_60k.iterrows():\n",
    "    step = row['step']\n",
    "    if step in step_sums:\n",
    "        # adding rewards for the step\n",
    "        step_sums[step][0] += row['run/total_reward']\n",
    "        step_sums[step][1] += 1\n",
    "        step_sums[step][2] += row['run/length']\n",
    "    else:\n",
    "        step_sums[step] = [0, 1, row['run/length']]\n",
    "        step_sums[step][0] += row['run/total_reward']\n",
    "        \n",
    "\n",
    "# take average reward and length at each saved step\n",
    "df_av_at_step = pd.DataFrame(columns=['step', 'reward', 'length'])\n",
    "\n",
    "\n",
    "for key, value in step_sums.items():\n",
    "    \n",
    "    mean_reward = value[0] / value[1]\n",
    "    mean_length = value[2] / value[1]\n",
    "    \n",
    "    \n",
    "    df_av_at_step = df_av_at_step.append({'step': key, 'reward': mean_reward, 'length': mean_length}, ignore_index=True)\n",
    "df_av_at_step.set_index('step')\n",
    "\n",
    "\n",
    "rolling = df_av_at_step.ewm(adjust = True, span=1000).mean()\n",
    "rolling_se = df_av_at_step.ewm(adjust = True, span = 1000).var()\n",
    "rolling\n",
    "\n",
    "df_av_at_step['reward'] = rolling['reward']\n",
    "df_av_at_step['reward_se'] = rolling_se['reward']\n",
    "df_av_at_step['length_se'] = rolling_se['length']\n",
    "df_av_at_step['length'] = rolling['length']\n",
    "\n",
    "df_av_at_step = df_av_at_step.fillna(0);df_av_at_step\n",
    "df_agrs = df_av_at_step\n",
    "df_agrs"
   ]
  },
  {
   "cell_type": "code",
   "execution_count": 6,
   "metadata": {},
   "outputs": [
    {
     "data": {
      "text/html": [
       "<div>\n",
       "<style scoped>\n",
       "    .dataframe tbody tr th:only-of-type {\n",
       "        vertical-align: middle;\n",
       "    }\n",
       "\n",
       "    .dataframe tbody tr th {\n",
       "        vertical-align: top;\n",
       "    }\n",
       "\n",
       "    .dataframe thead th {\n",
       "        text-align: right;\n",
       "    }\n",
       "</style>\n",
       "<table border=\"1\" class=\"dataframe\">\n",
       "  <thead>\n",
       "    <tr style=\"text-align: right;\">\n",
       "      <th></th>\n",
       "      <th>step</th>\n",
       "      <th>reward</th>\n",
       "      <th>length</th>\n",
       "      <th>reward_se</th>\n",
       "      <th>length_se</th>\n",
       "    </tr>\n",
       "  </thead>\n",
       "  <tbody>\n",
       "    <tr>\n",
       "      <th>0</th>\n",
       "      <td>0.0</td>\n",
       "      <td>0.440000</td>\n",
       "      <td>64.120000</td>\n",
       "      <td>0.000000</td>\n",
       "      <td>0.000000</td>\n",
       "    </tr>\n",
       "    <tr>\n",
       "      <th>1</th>\n",
       "      <td>8.0</td>\n",
       "      <td>0.720280</td>\n",
       "      <td>51.297190</td>\n",
       "      <td>0.156800</td>\n",
       "      <td>328.192200</td>\n",
       "    </tr>\n",
       "    <tr>\n",
       "      <th>2</th>\n",
       "      <td>9.0</td>\n",
       "      <td>0.813707</td>\n",
       "      <td>37.503919</td>\n",
       "      <td>0.104429</td>\n",
       "      <td>732.986267</td>\n",
       "    </tr>\n",
       "    <tr>\n",
       "      <th>3</th>\n",
       "      <td>10.0</td>\n",
       "      <td>0.609669</td>\n",
       "      <td>49.162835</td>\n",
       "      <td>0.235410</td>\n",
       "      <td>1029.721012</td>\n",
       "    </tr>\n",
       "    <tr>\n",
       "      <th>4</th>\n",
       "      <td>12.0</td>\n",
       "      <td>0.688048</td>\n",
       "      <td>42.905313</td>\n",
       "      <td>0.206944</td>\n",
       "      <td>966.325275</td>\n",
       "    </tr>\n",
       "    <tr>\n",
       "      <th>...</th>\n",
       "      <td>...</td>\n",
       "      <td>...</td>\n",
       "      <td>...</td>\n",
       "      <td>...</td>\n",
       "      <td>...</td>\n",
       "    </tr>\n",
       "    <tr>\n",
       "      <th>6207</th>\n",
       "      <td>59914.0</td>\n",
       "      <td>0.505589</td>\n",
       "      <td>218.103692</td>\n",
       "      <td>0.243654</td>\n",
       "      <td>28712.546742</td>\n",
       "    </tr>\n",
       "    <tr>\n",
       "      <th>6208</th>\n",
       "      <td>59924.0</td>\n",
       "      <td>0.504579</td>\n",
       "      <td>217.699887</td>\n",
       "      <td>0.243678</td>\n",
       "      <td>28736.707779</td>\n",
       "    </tr>\n",
       "    <tr>\n",
       "      <th>6209</th>\n",
       "      <td>59940.0</td>\n",
       "      <td>0.505569</td>\n",
       "      <td>217.272912</td>\n",
       "      <td>0.243681</td>\n",
       "      <td>28770.444801</td>\n",
       "    </tr>\n",
       "    <tr>\n",
       "      <th>6210</th>\n",
       "      <td>59944.0</td>\n",
       "      <td>0.504559</td>\n",
       "      <td>216.892745</td>\n",
       "      <td>0.243704</td>\n",
       "      <td>28785.224418</td>\n",
       "    </tr>\n",
       "    <tr>\n",
       "      <th>6211</th>\n",
       "      <td>59981.0</td>\n",
       "      <td>0.505549</td>\n",
       "      <td>216.649202</td>\n",
       "      <td>0.243707</td>\n",
       "      <td>28757.367710</td>\n",
       "    </tr>\n",
       "  </tbody>\n",
       "</table>\n",
       "<p>6212 rows × 5 columns</p>\n",
       "</div>"
      ],
      "text/plain": [
       "         step    reward      length  reward_se     length_se\n",
       "0         0.0  0.440000   64.120000   0.000000      0.000000\n",
       "1         8.0  0.720280   51.297190   0.156800    328.192200\n",
       "2         9.0  0.813707   37.503919   0.104429    732.986267\n",
       "3        10.0  0.609669   49.162835   0.235410   1029.721012\n",
       "4        12.0  0.688048   42.905313   0.206944    966.325275\n",
       "...       ...       ...         ...        ...           ...\n",
       "6207  59914.0  0.505589  218.103692   0.243654  28712.546742\n",
       "6208  59924.0  0.504579  217.699887   0.243678  28736.707779\n",
       "6209  59940.0  0.505569  217.272912   0.243681  28770.444801\n",
       "6210  59944.0  0.504559  216.892745   0.243704  28785.224418\n",
       "6211  59981.0  0.505549  216.649202   0.243707  28757.367710\n",
       "\n",
       "[6212 rows x 5 columns]"
      ]
     },
     "execution_count": 6,
     "metadata": {},
     "output_type": "execute_result"
    }
   ],
   "source": [
    "pit_no_agrs_transplant_25_60k = pd.read_csv('../cass_exp/aug23/pqr60/pqr_60_merge_no_agrs.csv', header = 2)\n",
    "\n",
    "pit_no_agrs_transplant_25_60k.sort_values(by='step', inplace=True)\n",
    "\n",
    "#PIPELINE FOR AVERAGE OF MOVING AVERAGES\n",
    "\n",
    "step_sums = dict() \n",
    "# {key: (reward_sum, count, length_of_run) }\n",
    "\n",
    "for index, row, in pit_no_agrs_transplant_25_60k.iterrows():\n",
    "    step = row['step']\n",
    "    if step in step_sums:\n",
    "        # adding rewards for the step\n",
    "        step_sums[step][0] += row['run/total_reward']\n",
    "        step_sums[step][1] += 1\n",
    "        step_sums[step][2] += row['run/length']\n",
    "    else:\n",
    "        step_sums[step] = [0, 1, row['run/length']]\n",
    "        step_sums[step][0] += row['run/total_reward']\n",
    "        \n",
    "# take average reward and length at each saved step\n",
    "df_av_at_step = pd.DataFrame(columns=['step', 'reward', 'length']);df_av_at_step\n",
    "\n",
    "for key, value in step_sums.items():\n",
    "    \n",
    "    mean_reward = value[0] / value[1]\n",
    "    mean_length = value[2] / value[1]\n",
    "    \n",
    "    \n",
    "    df_av_at_step = df_av_at_step.append({'step': key, 'reward': mean_reward, 'length': mean_length}, ignore_index=True)\n",
    "\n",
    "df_av_at_step.set_index('step')\n",
    "\n",
    "rolling = df_av_at_step.ewm(adjust = True, span=1000).mean()\n",
    "rolling_se = df_av_at_step.ewm(adjust = True, span=1000).var()\n",
    "df_av_at_step['reward'] = rolling['reward']\n",
    "df_av_at_step['reward_se'] = rolling_se['reward']\n",
    "df_av_at_step['length_se'] = rolling_se['length']\n",
    "df_av_at_step['length'] = rolling['length']\n",
    "\n",
    "\n",
    "df_av_at_step = df_av_at_step.fillna(0);df_av_at_step\n",
    "df_no_agrs = df_av_at_step\n",
    "df_no_agrs"
   ]
  },
  {
   "cell_type": "code",
   "execution_count": 7,
   "metadata": {
    "pycharm": {
     "name": "#%%\n"
    }
   },
   "outputs": [
    {
     "data": {
      "text/html": [
       "<div>\n",
       "<style scoped>\n",
       "    .dataframe tbody tr th:only-of-type {\n",
       "        vertical-align: middle;\n",
       "    }\n",
       "\n",
       "    .dataframe tbody tr th {\n",
       "        vertical-align: top;\n",
       "    }\n",
       "\n",
       "    .dataframe thead th {\n",
       "        text-align: right;\n",
       "    }\n",
       "</style>\n",
       "<table border=\"1\" class=\"dataframe\">\n",
       "  <thead>\n",
       "    <tr style=\"text-align: right;\">\n",
       "      <th></th>\n",
       "      <th>step</th>\n",
       "      <th>reward</th>\n",
       "      <th>length</th>\n",
       "      <th>reward_se</th>\n",
       "      <th>length_se</th>\n",
       "    </tr>\n",
       "  </thead>\n",
       "  <tbody>\n",
       "    <tr>\n",
       "      <th>0</th>\n",
       "      <td>0.0</td>\n",
       "      <td>0.560000</td>\n",
       "      <td>46.280000</td>\n",
       "      <td>0.000000</td>\n",
       "      <td>0.000000</td>\n",
       "    </tr>\n",
       "    <tr>\n",
       "      <th>1</th>\n",
       "      <td>2.0</td>\n",
       "      <td>0.780220</td>\n",
       "      <td>24.117860</td>\n",
       "      <td>0.096800</td>\n",
       "      <td>980.359200</td>\n",
       "    </tr>\n",
       "    <tr>\n",
       "      <th>2</th>\n",
       "      <td>4.0</td>\n",
       "      <td>0.853627</td>\n",
       "      <td>16.730490</td>\n",
       "      <td>0.064469</td>\n",
       "      <td>652.919010</td>\n",
       "    </tr>\n",
       "    <tr>\n",
       "      <th>3</th>\n",
       "      <td>6.0</td>\n",
       "      <td>0.890330</td>\n",
       "      <td>13.036812</td>\n",
       "      <td>0.048303</td>\n",
       "      <td>489.199242</td>\n",
       "    </tr>\n",
       "    <tr>\n",
       "      <th>4</th>\n",
       "      <td>8.0</td>\n",
       "      <td>0.845418</td>\n",
       "      <td>18.250241</td>\n",
       "      <td>0.046226</td>\n",
       "      <td>501.754299</td>\n",
       "    </tr>\n",
       "    <tr>\n",
       "      <th>...</th>\n",
       "      <td>...</td>\n",
       "      <td>...</td>\n",
       "      <td>...</td>\n",
       "      <td>...</td>\n",
       "      <td>...</td>\n",
       "    </tr>\n",
       "    <tr>\n",
       "      <th>6477</th>\n",
       "      <td>59816.0</td>\n",
       "      <td>0.521699</td>\n",
       "      <td>209.994393</td>\n",
       "      <td>0.242180</td>\n",
       "      <td>26914.251219</td>\n",
       "    </tr>\n",
       "    <tr>\n",
       "      <th>6478</th>\n",
       "      <td>59839.0</td>\n",
       "      <td>0.520657</td>\n",
       "      <td>210.573826</td>\n",
       "      <td>0.242240</td>\n",
       "      <td>27028.347356</td>\n",
       "    </tr>\n",
       "    <tr>\n",
       "      <th>6479</th>\n",
       "      <td>59851.0</td>\n",
       "      <td>0.521615</td>\n",
       "      <td>210.790462</td>\n",
       "      <td>0.242214</td>\n",
       "      <td>26997.810108</td>\n",
       "    </tr>\n",
       "    <tr>\n",
       "      <th>6480</th>\n",
       "      <td>59885.0</td>\n",
       "      <td>0.520572</td>\n",
       "      <td>210.529142</td>\n",
       "      <td>0.242273</td>\n",
       "      <td>26978.012350</td>\n",
       "    </tr>\n",
       "    <tr>\n",
       "      <th>6481</th>\n",
       "      <td>59944.0</td>\n",
       "      <td>0.521530</td>\n",
       "      <td>210.172439</td>\n",
       "      <td>0.242248</td>\n",
       "      <td>26987.728260</td>\n",
       "    </tr>\n",
       "  </tbody>\n",
       "</table>\n",
       "<p>6482 rows × 5 columns</p>\n",
       "</div>"
      ],
      "text/plain": [
       "         step    reward      length  reward_se     length_se\n",
       "0         0.0  0.560000   46.280000   0.000000      0.000000\n",
       "1         2.0  0.780220   24.117860   0.096800    980.359200\n",
       "2         4.0  0.853627   16.730490   0.064469    652.919010\n",
       "3         6.0  0.890330   13.036812   0.048303    489.199242\n",
       "4         8.0  0.845418   18.250241   0.046226    501.754299\n",
       "...       ...       ...         ...        ...           ...\n",
       "6477  59816.0  0.521699  209.994393   0.242180  26914.251219\n",
       "6478  59839.0  0.520657  210.573826   0.242240  27028.347356\n",
       "6479  59851.0  0.521615  210.790462   0.242214  26997.810108\n",
       "6480  59885.0  0.520572  210.529142   0.242273  26978.012350\n",
       "6481  59944.0  0.521530  210.172439   0.242248  26987.728260\n",
       "\n",
       "[6482 rows x 5 columns]"
      ]
     },
     "execution_count": 7,
     "metadata": {},
     "output_type": "execute_result"
    }
   ],
   "source": [
    "pit_agrs_no_transplant_25_60k = pd.read_csv('../cass_exp/aug23/pqr60/pqr_60_merge_agrs_no_t.csv', header = 2)\n",
    "\n",
    "pit_agrs_no_transplant_25_60k.sort_values(by='step', inplace=True)\n",
    "\n",
    "#PIPELINE FOR AVERAGE OF MOVING AVERAGES\n",
    "\n",
    "step_sums = dict()\n",
    "# {key: (reward_sum, count, length_of_run) }\n",
    "\n",
    "for index, row, in pit_agrs_no_transplant_25_60k.iterrows():\n",
    "    step = row['step']\n",
    "    if step in step_sums:\n",
    "        # adding rewards for the step\n",
    "        step_sums[step][0] += row['run/total_reward']\n",
    "        step_sums[step][1] += 1\n",
    "        step_sums[step][2] += row['run/length']\n",
    "    else:\n",
    "        step_sums[step] = [0, 1, row['run/length']]\n",
    "        step_sums[step][0] += row['run/total_reward']\n",
    "\n",
    "# take average reward and length at each saved step\n",
    "df_av_at_step = pd.DataFrame(columns=['step', 'reward', 'length']);df_av_at_step\n",
    "\n",
    "for key, value in step_sums.items():\n",
    "\n",
    "    mean_reward = value[0] / value[1]\n",
    "    mean_length = value[2] / value[1]\n",
    "\n",
    "\n",
    "    df_av_at_step = df_av_at_step.append({'step': key, 'reward': mean_reward, 'length': mean_length}, ignore_index=True)\n",
    "\n",
    "df_av_at_step.set_index('step')\n",
    "\n",
    "rolling = df_av_at_step.ewm(adjust = True, span=1000).mean()\n",
    "rolling_se = df_av_at_step.ewm(adjust = True, span=1000).var()\n",
    "df_av_at_step['reward'] = rolling['reward']\n",
    "df_av_at_step['reward_se'] = rolling_se['reward']\n",
    "df_av_at_step['length_se'] = rolling_se['length']\n",
    "df_av_at_step['length'] = rolling['length']\n",
    "\n",
    "\n",
    "df_av_at_step = df_av_at_step.fillna(0);df_av_at_step\n",
    "df_agrs_no = df_av_at_step\n",
    "df_agrs_no\n"
   ]
  },
  {
   "cell_type": "code",
   "execution_count": 8,
   "metadata": {},
   "outputs": [
    {
     "data": {
      "text/plain": [
       "<matplotlib.axes._subplots.AxesSubplot at 0x7f675b30de90>"
      ]
     },
     "execution_count": 8,
     "metadata": {},
     "output_type": "execute_result"
    },
    {
     "data": {
      "image/png": "[encoded data removed]",
      "text/plain": [
       "<Figure size 432x288 with 1 Axes>"
      ]
     },
     "metadata": {
      "needs_background": "light"
     },
     "output_type": "display_data"
    }
   ],
   "source": [
    "plt.ylim(0.3, 1)\n",
    "sns.lineplot(x=\"step\", y=\"reward\", data=df_agrs)"
   ]
  },
  {
   "cell_type": "code",
   "execution_count": 9,
   "metadata": {},
   "outputs": [
    {
     "data": {
      "text/plain": [
       "<matplotlib.axes._subplots.AxesSubplot at 0x7f675b23d8d0>"
      ]
     },
     "execution_count": 9,
     "metadata": {},
     "output_type": "execute_result"
    },
    {
     "data": {
      "image/png": "[encoded data removed]",
      "text/plain": [
       "<Figure size 432x288 with 1 Axes>"
      ]
     },
     "metadata": {
      "needs_background": "light"
     },
     "output_type": "display_data"
    }
   ],
   "source": [
    "plt.ylim(0.3, 1)\n",
    "sns.lineplot(x=\"step\", y=\"reward\", data=df_no_agrs)"
   ]
  },
  {
   "cell_type": "code",
   "execution_count": 10,
   "metadata": {},
   "outputs": [
    {
     "data": {
      "text/plain": [
       "['#4c72b0',\n",
       " '#dd8452',\n",
       " '#55a868',\n",
       " '#c44e52',\n",
       " '#8172b3',\n",
       " '#937860',\n",
       " '#da8bc3',\n",
       " '#8c8c8c',\n",
       " '#ccb974',\n",
       " '#64b5cd']"
      ]
     },
     "execution_count": 10,
     "metadata": {},
     "output_type": "execute_result"
    }
   ],
   "source": [
    "\n",
    "pal = sns.color_palette('deep')\n",
    "pal.as_hex()"
   ]
  },
  {
   "cell_type": "code",
   "execution_count": 11,
   "metadata": {},
   "outputs": [
    {
     "data": {
      "text/plain": [
       "<matplotlib.legend.Legend at 0x7f675b199f50>"
      ]
     },
     "execution_count": 11,
     "metadata": {},
     "output_type": "execute_result"
    },
    {
     "data": {
      "image/png": "[encoded data removed]",
      "text/plain": [
       "<Figure size 432x288 with 1 Axes>"
      ]
     },
     "metadata": {
      "needs_background": "light"
     },
     "output_type": "display_data"
    }
   ],
   "source": [
    "fig, axs = plt.subplots(ncols=1)\n",
    "plt.title('Pqr transplant 25 * 60k steps at 80 expansions')\n",
    "sns.lineplot(x=\"step\", y=\"reward\", data=df_agrs,ax=axs, ci=99)\n",
    "sns.lineplot(x=\"step\", y=\"reward\", data=df_agrs_no,ax=axs, ci=99)\n",
    "sns.lineplot(x=\"step\", y=\"reward\", data=df_no_agrs,ax=axs, ci=99)\n",
    "\n",
    "\n",
    "axs.fill_between(x=df_no_agrs[\"step\"], y1=df_no_agrs[\"reward\"] + df_no_agrs[\"reward_se\"], \n",
    "                 y2=df_no_agrs[\"reward\"] - df_no_agrs[\"reward_se\"], alpha=.5, color='#55a868')\n",
    "axs.fill_between(x=df_agrs_no[\"step\"], y1=df_agrs_no[\"reward\"] + df_agrs_no[\"reward_se\"], \n",
    "                 y2=df_agrs_no[\"reward\"] - df_agrs_no[\"reward_se\"], alpha=.5, color='#dd8452')\n",
    "\n",
    "axs.fill_between(x=df_agrs[\"step\"], y1=df_agrs[\"reward\"] + df_agrs[\"reward_se\"], \n",
    "                 y2=df_agrs[\"reward\"] - df_agrs[\"reward_se\"], alpha=.5, color='#4c72b0')\n",
    "axs.legend(['Transplant','AGRS-MCTS', 'MCTS'], loc=1)"
   ]
  },
  {
   "cell_type": "code",
   "execution_count": 12,
   "metadata": {
    "pycharm": {
     "name": "#%%\n"
    }
   },
   "outputs": [
    {
     "data": {
      "text/plain": [
       "<matplotlib.legend.Legend at 0x7f675b0fb550>"
      ]
     },
     "execution_count": 12,
     "metadata": {},
     "output_type": "execute_result"
    },
    {
     "data": {
      "image/png": "[encoded data removed]",
      "text/plain": [
       "<Figure size 432x288 with 1 Axes>"
      ]
     },
     "metadata": {
      "needs_background": "light"
     },
     "output_type": "display_data"
    }
   ],
   "source": [
    "fig, axs = plt.subplots(ncols=1)\n",
    "plt.title('Pqr transplant 25 * 60k steps at 80 expansions')\n",
    "sns.lineplot(x=\"step\", y=\"length\", data=df_agrs,ax=axs, ci=99)\n",
    "sns.lineplot(x=\"step\", y=\"length\", data=df_agrs_no,ax=axs, ci=99)\n",
    "sns.lineplot(x=\"step\", y=\"length\", data=df_no_agrs,ax=axs, ci=99)\n",
    "\n",
    "axs.set(ylim=(180, 250))\n",
    "#axs.fill_between(x=df_no_agrs[\"step\"], y1=df_no_agrs[\"length\"] + df_no_agrs[\"length_se\"], \n",
    "                 #y2=df_no_agrs[\"length\"] - df_no_agrs[\"length_se\"], alpha=.5, color='#55a868')\n",
    "#axs.fill_between(x=df_agrs_no[\"step\"], y1=df_agrs_no[\"length\"] + df_agrs_no[\"length_se\"], \n",
    "                 #y2=df_agrs_no[\"length\"] - df_agrs_no[\"length_se\"], alpha=.5, color='#dd8452')\n",
    "\n",
    "#axs.fill_between(x=df_agrs[\"step\"], y1=df_agrs[\"length\"] + df_agrs[\"length_se\"], \n",
    "                 #y2=df_agrs[\"length\"] - df_agrs[\"length_se\"], alpha=.5, color='#4c72b0')\n",
    "axs.legend(['Transplant','AGRS-MCTS', 'MCTS'], loc=4)"
   ]
  },
  {
   "cell_type": "code",
   "execution_count": null,
   "metadata": {},
   "outputs": [],
   "source": []
  },
  {
   "cell_type": "code",
   "execution_count": null,
   "metadata": {},
   "outputs": [],
   "source": []
  }
 ],
 "metadata": {
  "kernelspec": {
   "display_name": "Python [conda env:vgcharm] *",
   "language": "python",
   "name": "conda-env-vgcharm-py"
  },
  "language_info": {
   "codemirror_mode": {
    "name": "ipython",
    "version": 3
   },
   "file_extension": ".py",
   "mimetype": "text/x-python",
   "name": "python",
   "nbconvert_exporter": "python",
   "pygments_lexer": "ipython3",
   "version": "3.7.6"
  },
  "pycharm": {
   "stem_cell": {
    "cell_type": "raw",
    "metadata": {
     "collapsed": false
    },
    "source": [
     "\n"
    ]
   }
  }
 },
 "nbformat": 4,
 "nbformat_minor": 1
}
