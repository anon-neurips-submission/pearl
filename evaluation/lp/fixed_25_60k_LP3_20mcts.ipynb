{
 "cells": [
  {
   "cell_type": "code",
   "execution_count": 1,
   "metadata": {
    "pycharm": {
     "name": "#%%\n"
    }
   },
   "outputs": [],
   "source": [
    "import pandas as pd\n",
    "import seaborn as sns\n",
    "%matplotlib inline\n",
    "import matplotlib.pyplot as plt\n",
    "import numpy as np"
   ]
  },
  {
   "cell_type": "code",
   "execution_count": 1,
   "metadata": {},
   "outputs": [],
   "source": [
    "\n"
   ]
  },
  {
   "cell_type": "code",
   "execution_count": 1,
   "metadata": {
    "pycharm": {
     "name": "#%%\n"
    }
   },
   "outputs": [],
   "source": [
    "\n"
   ]
  },
  {
   "cell_type": "code",
   "execution_count": 2,
   "metadata": {},
   "outputs": [],
   "source": [
    "pqr_agrs_100_30k = pd.read_csv('../../lp_csv/mLP3_20.csv', header = 2)"
   ]
  },
  {
   "cell_type": "code",
   "execution_count": 3,
   "metadata": {},
   "outputs": [
    {
     "data": {
      "text/plain": "          wall_time   step  run/total_reward  run/length  lp/lp_total_reward  \\\n0      1.606564e+09      0               1.0        61.0                 0.0   \n1      1.606564e+09     61               0.0       100.0                 0.0   \n2      1.606564e+09    161               1.0        53.0                 0.0   \n3      1.606564e+09    214               1.0        67.0                 0.0   \n4      1.606564e+09    281               0.0       100.0                 0.0   \n...             ...    ...               ...         ...                 ...   \n34996  1.606557e+09  59807               1.0        20.0                 0.0   \n34997  1.606557e+09  59827               1.0        29.0                 0.0   \n34998  1.606557e+09  59856               1.0        47.0                 0.0   \n34999  1.606557e+09  59903               1.0        38.0                 0.0   \n35000  1.606557e+09  59941               1.0        25.0                 0.0   \n\n       lp/lp_length  lp/count_used_lp  loss/value_loss  loss/policy_loss  \\\n0               0.0               0.0         0.152438          1.708914   \n1               0.0               0.0         0.129817          1.564239   \n2               0.0               0.0         0.110945          1.510500   \n3               0.0               0.0         0.087361          1.523278   \n4               0.0               0.0         0.075496          1.543279   \n...             ...               ...              ...               ...   \n34996           0.0               0.0         0.014076          0.668721   \n34997           0.0               0.0         0.012760          0.825142   \n34998           0.0               0.0         0.017625          0.748193   \n34999           0.0               0.0         0.009275          0.685224   \n35000           0.0               0.0         0.016508          0.678928   \n\n       loss/agent_loss  loss/entropy  total_loss  \n0             1.861352      1.786367    1.861352  \n1             1.694056      1.549234    1.694056  \n2             1.621445      1.532096    1.621445  \n3             1.610639      1.485613    1.610639  \n4             1.618775      1.519336    1.618775  \n...                ...           ...         ...  \n34996         0.682797      0.710573    0.682797  \n34997         0.837902      0.682613    0.837902  \n34998         0.765818      0.670348    0.765818  \n34999         0.694499      0.696274    0.694499  \n35000         0.695436      0.658724    0.695436  \n\n[35001 rows x 12 columns]",
      "text/html": "<div>\n<style scoped>\n    .dataframe tbody tr th:only-of-type {\n        vertical-align: middle;\n    }\n\n    .dataframe tbody tr th {\n        vertical-align: top;\n    }\n\n    .dataframe thead th {\n        text-align: right;\n    }\n</style>\n<table border=\"1\" class=\"dataframe\">\n  <thead>\n    <tr style=\"text-align: right;\">\n      <th></th>\n      <th>wall_time</th>\n      <th>step</th>\n      <th>run/total_reward</th>\n      <th>run/length</th>\n      <th>lp/lp_total_reward</th>\n      <th>lp/lp_length</th>\n      <th>lp/count_used_lp</th>\n      <th>loss/value_loss</th>\n      <th>loss/policy_loss</th>\n      <th>loss/agent_loss</th>\n      <th>loss/entropy</th>\n      <th>total_loss</th>\n    </tr>\n  </thead>\n  <tbody>\n    <tr>\n      <th>0</th>\n      <td>1.606564e+09</td>\n      <td>0</td>\n      <td>1.0</td>\n      <td>61.0</td>\n      <td>0.0</td>\n      <td>0.0</td>\n      <td>0.0</td>\n      <td>0.152438</td>\n      <td>1.708914</td>\n      <td>1.861352</td>\n      <td>1.786367</td>\n      <td>1.861352</td>\n    </tr>\n    <tr>\n      <th>1</th>\n      <td>1.606564e+09</td>\n      <td>61</td>\n      <td>0.0</td>\n      <td>100.0</td>\n      <td>0.0</td>\n      <td>0.0</td>\n      <td>0.0</td>\n      <td>0.129817</td>\n      <td>1.564239</td>\n      <td>1.694056</td>\n      <td>1.549234</td>\n      <td>1.694056</td>\n    </tr>\n    <tr>\n      <th>2</th>\n      <td>1.606564e+09</td>\n      <td>161</td>\n      <td>1.0</td>\n      <td>53.0</td>\n      <td>0.0</td>\n      <td>0.0</td>\n      <td>0.0</td>\n      <td>0.110945</td>\n      <td>1.510500</td>\n      <td>1.621445</td>\n      <td>1.532096</td>\n      <td>1.621445</td>\n    </tr>\n    <tr>\n      <th>3</th>\n      <td>1.606564e+09</td>\n      <td>214</td>\n      <td>1.0</td>\n      <td>67.0</td>\n      <td>0.0</td>\n      <td>0.0</td>\n      <td>0.0</td>\n      <td>0.087361</td>\n      <td>1.523278</td>\n      <td>1.610639</td>\n      <td>1.485613</td>\n      <td>1.610639</td>\n    </tr>\n    <tr>\n      <th>4</th>\n      <td>1.606564e+09</td>\n      <td>281</td>\n      <td>0.0</td>\n      <td>100.0</td>\n      <td>0.0</td>\n      <td>0.0</td>\n      <td>0.0</td>\n      <td>0.075496</td>\n      <td>1.543279</td>\n      <td>1.618775</td>\n      <td>1.519336</td>\n      <td>1.618775</td>\n    </tr>\n    <tr>\n      <th>...</th>\n      <td>...</td>\n      <td>...</td>\n      <td>...</td>\n      <td>...</td>\n      <td>...</td>\n      <td>...</td>\n      <td>...</td>\n      <td>...</td>\n      <td>...</td>\n      <td>...</td>\n      <td>...</td>\n      <td>...</td>\n    </tr>\n    <tr>\n      <th>34996</th>\n      <td>1.606557e+09</td>\n      <td>59807</td>\n      <td>1.0</td>\n      <td>20.0</td>\n      <td>0.0</td>\n      <td>0.0</td>\n      <td>0.0</td>\n      <td>0.014076</td>\n      <td>0.668721</td>\n      <td>0.682797</td>\n      <td>0.710573</td>\n      <td>0.682797</td>\n    </tr>\n    <tr>\n      <th>34997</th>\n      <td>1.606557e+09</td>\n      <td>59827</td>\n      <td>1.0</td>\n      <td>29.0</td>\n      <td>0.0</td>\n      <td>0.0</td>\n      <td>0.0</td>\n      <td>0.012760</td>\n      <td>0.825142</td>\n      <td>0.837902</td>\n      <td>0.682613</td>\n      <td>0.837902</td>\n    </tr>\n    <tr>\n      <th>34998</th>\n      <td>1.606557e+09</td>\n      <td>59856</td>\n      <td>1.0</td>\n      <td>47.0</td>\n      <td>0.0</td>\n      <td>0.0</td>\n      <td>0.0</td>\n      <td>0.017625</td>\n      <td>0.748193</td>\n      <td>0.765818</td>\n      <td>0.670348</td>\n      <td>0.765818</td>\n    </tr>\n    <tr>\n      <th>34999</th>\n      <td>1.606557e+09</td>\n      <td>59903</td>\n      <td>1.0</td>\n      <td>38.0</td>\n      <td>0.0</td>\n      <td>0.0</td>\n      <td>0.0</td>\n      <td>0.009275</td>\n      <td>0.685224</td>\n      <td>0.694499</td>\n      <td>0.696274</td>\n      <td>0.694499</td>\n    </tr>\n    <tr>\n      <th>35000</th>\n      <td>1.606557e+09</td>\n      <td>59941</td>\n      <td>1.0</td>\n      <td>25.0</td>\n      <td>0.0</td>\n      <td>0.0</td>\n      <td>0.0</td>\n      <td>0.016508</td>\n      <td>0.678928</td>\n      <td>0.695436</td>\n      <td>0.658724</td>\n      <td>0.695436</td>\n    </tr>\n  </tbody>\n</table>\n<p>35001 rows × 12 columns</p>\n</div>"
     },
     "execution_count": 3,
     "metadata": {},
     "output_type": "execute_result"
    }
   ],
   "source": [
    "pqr_agrs_100_30k"
   ]
  },
  {
   "cell_type": "code",
   "execution_count": 4,
   "metadata": {},
   "outputs": [
    {
     "data": {
      "text/plain": "          step    reward     length  reward_se   length_se\n0          0.0  0.280000  84.280000   0.000000    0.000000\n1         27.0  0.139860  92.147860   0.039200  123.559200\n2         33.0  0.093147  94.770477   0.026107   82.290400\n3         43.0  0.195165  89.687644   0.058853  157.733888\n4         48.0  0.356777  82.320736   0.174036  388.186545\n...        ...       ...        ...        ...         ...\n26175  59988.0  0.998954  34.293304   0.000674   87.447962\n26176  59992.0  0.998956  34.284726   0.000672   87.310032\n26177  59996.0  0.998958  34.276165   0.000671   87.172230\n26178  59998.0  0.998960  34.309579   0.000670   87.556316\n26179  60000.0  0.998962  34.300969   0.000668   87.418449\n\n[26180 rows x 5 columns]",
      "text/html": "<div>\n<style scoped>\n    .dataframe tbody tr th:only-of-type {\n        vertical-align: middle;\n    }\n\n    .dataframe tbody tr th {\n        vertical-align: top;\n    }\n\n    .dataframe thead th {\n        text-align: right;\n    }\n</style>\n<table border=\"1\" class=\"dataframe\">\n  <thead>\n    <tr style=\"text-align: right;\">\n      <th></th>\n      <th>step</th>\n      <th>reward</th>\n      <th>length</th>\n      <th>reward_se</th>\n      <th>length_se</th>\n    </tr>\n  </thead>\n  <tbody>\n    <tr>\n      <th>0</th>\n      <td>0.0</td>\n      <td>0.280000</td>\n      <td>84.280000</td>\n      <td>0.000000</td>\n      <td>0.000000</td>\n    </tr>\n    <tr>\n      <th>1</th>\n      <td>27.0</td>\n      <td>0.139860</td>\n      <td>92.147860</td>\n      <td>0.039200</td>\n      <td>123.559200</td>\n    </tr>\n    <tr>\n      <th>2</th>\n      <td>33.0</td>\n      <td>0.093147</td>\n      <td>94.770477</td>\n      <td>0.026107</td>\n      <td>82.290400</td>\n    </tr>\n    <tr>\n      <th>3</th>\n      <td>43.0</td>\n      <td>0.195165</td>\n      <td>89.687644</td>\n      <td>0.058853</td>\n      <td>157.733888</td>\n    </tr>\n    <tr>\n      <th>4</th>\n      <td>48.0</td>\n      <td>0.356777</td>\n      <td>82.320736</td>\n      <td>0.174036</td>\n      <td>388.186545</td>\n    </tr>\n    <tr>\n      <th>...</th>\n      <td>...</td>\n      <td>...</td>\n      <td>...</td>\n      <td>...</td>\n      <td>...</td>\n    </tr>\n    <tr>\n      <th>26175</th>\n      <td>59988.0</td>\n      <td>0.998954</td>\n      <td>34.293304</td>\n      <td>0.000674</td>\n      <td>87.447962</td>\n    </tr>\n    <tr>\n      <th>26176</th>\n      <td>59992.0</td>\n      <td>0.998956</td>\n      <td>34.284726</td>\n      <td>0.000672</td>\n      <td>87.310032</td>\n    </tr>\n    <tr>\n      <th>26177</th>\n      <td>59996.0</td>\n      <td>0.998958</td>\n      <td>34.276165</td>\n      <td>0.000671</td>\n      <td>87.172230</td>\n    </tr>\n    <tr>\n      <th>26178</th>\n      <td>59998.0</td>\n      <td>0.998960</td>\n      <td>34.309579</td>\n      <td>0.000670</td>\n      <td>87.556316</td>\n    </tr>\n    <tr>\n      <th>26179</th>\n      <td>60000.0</td>\n      <td>0.998962</td>\n      <td>34.300969</td>\n      <td>0.000668</td>\n      <td>87.418449</td>\n    </tr>\n  </tbody>\n</table>\n<p>26180 rows × 5 columns</p>\n</div>"
     },
     "execution_count": 4,
     "metadata": {},
     "output_type": "execute_result"
    }
   ],
   "source": [
    "pqr_agrs_100_30k.sort_values(by='step', inplace=True)\n",
    "\n",
    "step_sums = dict() \n",
    "# {key: (reward_sum, count, length_of_run) }\n",
    "\n",
    "for index, row, in pqr_agrs_100_30k.iterrows():\n",
    "    step = row['step']\n",
    "    if step in step_sums:\n",
    "        # adding rewards for the step\n",
    "        step_sums[step][0] += row['run/total_reward']\n",
    "        step_sums[step][1] += 1\n",
    "        step_sums[step][2] += row['run/length']\n",
    "    else:\n",
    "        step_sums[step] = [0, 1, row['run/length']]\n",
    "        step_sums[step][0] += row['run/total_reward']\n",
    "        \n",
    "\n",
    "# take average reward and length at each saved step\n",
    "df_av_at_step = pd.DataFrame(columns=['step', 'reward', 'length'])\n",
    "\n",
    "\n",
    "for key, value in step_sums.items():\n",
    "    \n",
    "    mean_reward = value[0] / value[1]\n",
    "    mean_length = value[2] / value[1]\n",
    "    \n",
    "    \n",
    "    df_av_at_step = df_av_at_step.append({'step': key, 'reward': mean_reward, 'length': mean_length}, ignore_index=True)\n",
    "df_av_at_step.set_index('step')\n",
    "\n",
    "\n",
    "rolling = df_av_at_step.ewm(adjust = True, span=1000).mean()\n",
    "rolling_se = df_av_at_step.ewm(adjust = True, span = 1000).var()\n",
    "rolling\n",
    "\n",
    "df_av_at_step['reward'] = rolling['reward']\n",
    "df_av_at_step['reward_se'] = rolling_se['reward']\n",
    "df_av_at_step['length_se'] = rolling_se['length']\n",
    "df_av_at_step['length'] = rolling['length']\n",
    "\n",
    "df_av_at_step = df_av_at_step.fillna(0);df_av_at_step\n",
    "df_agrs = df_av_at_step\n",
    "df_agrs"
   ]
  },
  {
   "cell_type": "code",
   "execution_count": 5,
   "metadata": {},
   "outputs": [
    {
     "data": {
      "text/plain": "          step    reward     length  reward_se   length_se\n0          0.0  0.320000  82.440000   0.000000    0.000000\n1         33.0  0.660340  62.199780   0.231200  817.696800\n2         41.0  0.439786  74.825062   0.260979  885.201222\n3         45.0  0.329510  81.137690   0.222262  748.305083\n4         46.0  0.464145  73.680412   0.256711  837.336616\n...        ...       ...        ...        ...         ...\n26279  59990.0  0.998987  34.170974   0.000485   82.213256\n26280  59992.0  0.998989  34.172631   0.000484   82.050366\n26281  59994.0  0.998991  34.152306   0.000483   82.092980\n26282  59996.0  0.998993  34.186966   0.000482   82.529642\n26283  59997.0  0.998995  34.197582   0.000482   82.421091\n\n[26284 rows x 5 columns]",
      "text/html": "<div>\n<style scoped>\n    .dataframe tbody tr th:only-of-type {\n        vertical-align: middle;\n    }\n\n    .dataframe tbody tr th {\n        vertical-align: top;\n    }\n\n    .dataframe thead th {\n        text-align: right;\n    }\n</style>\n<table border=\"1\" class=\"dataframe\">\n  <thead>\n    <tr style=\"text-align: right;\">\n      <th></th>\n      <th>step</th>\n      <th>reward</th>\n      <th>length</th>\n      <th>reward_se</th>\n      <th>length_se</th>\n    </tr>\n  </thead>\n  <tbody>\n    <tr>\n      <th>0</th>\n      <td>0.0</td>\n      <td>0.320000</td>\n      <td>82.440000</td>\n      <td>0.000000</td>\n      <td>0.000000</td>\n    </tr>\n    <tr>\n      <th>1</th>\n      <td>33.0</td>\n      <td>0.660340</td>\n      <td>62.199780</td>\n      <td>0.231200</td>\n      <td>817.696800</td>\n    </tr>\n    <tr>\n      <th>2</th>\n      <td>41.0</td>\n      <td>0.439786</td>\n      <td>74.825062</td>\n      <td>0.260979</td>\n      <td>885.201222</td>\n    </tr>\n    <tr>\n      <th>3</th>\n      <td>45.0</td>\n      <td>0.329510</td>\n      <td>81.137690</td>\n      <td>0.222262</td>\n      <td>748.305083</td>\n    </tr>\n    <tr>\n      <th>4</th>\n      <td>46.0</td>\n      <td>0.464145</td>\n      <td>73.680412</td>\n      <td>0.256711</td>\n      <td>837.336616</td>\n    </tr>\n    <tr>\n      <th>...</th>\n      <td>...</td>\n      <td>...</td>\n      <td>...</td>\n      <td>...</td>\n      <td>...</td>\n    </tr>\n    <tr>\n      <th>26279</th>\n      <td>59990.0</td>\n      <td>0.998987</td>\n      <td>34.170974</td>\n      <td>0.000485</td>\n      <td>82.213256</td>\n    </tr>\n    <tr>\n      <th>26280</th>\n      <td>59992.0</td>\n      <td>0.998989</td>\n      <td>34.172631</td>\n      <td>0.000484</td>\n      <td>82.050366</td>\n    </tr>\n    <tr>\n      <th>26281</th>\n      <td>59994.0</td>\n      <td>0.998991</td>\n      <td>34.152306</td>\n      <td>0.000483</td>\n      <td>82.092980</td>\n    </tr>\n    <tr>\n      <th>26282</th>\n      <td>59996.0</td>\n      <td>0.998993</td>\n      <td>34.186966</td>\n      <td>0.000482</td>\n      <td>82.529642</td>\n    </tr>\n    <tr>\n      <th>26283</th>\n      <td>59997.0</td>\n      <td>0.998995</td>\n      <td>34.197582</td>\n      <td>0.000482</td>\n      <td>82.421091</td>\n    </tr>\n  </tbody>\n</table>\n<p>26284 rows × 5 columns</p>\n</div>"
     },
     "execution_count": 5,
     "metadata": {},
     "output_type": "execute_result"
    }
   ],
   "source": [
    "pqr_no_agrs_100_30k = pd.read_csv('../../lp_csv/mNoLP3_20_1.csv', header = 2)\n",
    "\n",
    "pqr_no_agrs_100_30k.sort_values(by='step', inplace=True)\n",
    "\n",
    "#PIPELINE FOR AVERAGE OF MOVING AVERAGES\n",
    "\n",
    "step_sums = dict() \n",
    "# {key: (reward_sum, count, length_of_run) }\n",
    "\n",
    "for index, row, in pqr_no_agrs_100_30k.iterrows():\n",
    "    step = row['step']\n",
    "    if step in step_sums:\n",
    "        # adding rewards for the step\n",
    "        step_sums[step][0] += row['run/total_reward']\n",
    "        step_sums[step][1] += 1\n",
    "        step_sums[step][2] += row['run/length']\n",
    "    else:\n",
    "        step_sums[step] = [0, 1, row['run/length']]\n",
    "        step_sums[step][0] += row['run/total_reward']\n",
    "        \n",
    "# take average reward and length at each saved step\n",
    "df_av_at_step = pd.DataFrame(columns=['step', 'reward', 'length']);df_av_at_step\n",
    "\n",
    "for key, value in step_sums.items():\n",
    "    \n",
    "    mean_reward = value[0] / value[1]\n",
    "    mean_length = value[2] / value[1]\n",
    "    \n",
    "    \n",
    "    df_av_at_step = df_av_at_step.append({'step': key, 'reward': mean_reward, 'length': mean_length}, ignore_index=True)\n",
    "\n",
    "df_av_at_step.set_index('step')\n",
    "\n",
    "rolling = df_av_at_step.ewm(adjust = True, span=1000).mean()\n",
    "rolling_se = df_av_at_step.ewm(adjust = True, span=1000).var()\n",
    "df_av_at_step['reward'] = rolling['reward']\n",
    "df_av_at_step['reward_se'] = rolling_se['reward']\n",
    "df_av_at_step['length_se'] = rolling_se['length']\n",
    "df_av_at_step['length'] = rolling['length']\n",
    "\n",
    "\n",
    "df_av_at_step = df_av_at_step.fillna(0);df_av_at_step\n",
    "df_no_agrs = df_av_at_step\n",
    "df_no_agrs\n"
   ]
  },
  {
   "cell_type": "code",
   "execution_count": 6,
   "metadata": {
    "pycharm": {
     "name": "#%%\n"
    }
   },
   "outputs": [
    {
     "data": {
      "text/plain": "          step    reward     length  reward_se   length_se\n0          0.0  0.200000  90.120000   0.000000    0.000000\n1         42.0  0.099900  95.064940   0.020000   48.807200\n2         48.0  0.066533  96.713251   0.013320   32.505584\n3         54.0  0.175225  92.773146   0.055938   83.498730\n4         55.0  0.340841  82.979459   0.178371  539.753093\n...        ...       ...        ...        ...         ...\n19520  59989.0  0.971232  43.727895   0.023932  197.995617\n19521  59993.0  0.971289  43.744422   0.023886  197.736603\n19522  59994.0  0.971346  43.738939   0.023840  197.356559\n19523  59995.0  0.971404  43.727473   0.023794  197.027979\n19524  59997.0  0.971461  43.751993   0.023748  196.934945\n\n[19525 rows x 5 columns]",
      "text/html": "<div>\n<style scoped>\n    .dataframe tbody tr th:only-of-type {\n        vertical-align: middle;\n    }\n\n    .dataframe tbody tr th {\n        vertical-align: top;\n    }\n\n    .dataframe thead th {\n        text-align: right;\n    }\n</style>\n<table border=\"1\" class=\"dataframe\">\n  <thead>\n    <tr style=\"text-align: right;\">\n      <th></th>\n      <th>step</th>\n      <th>reward</th>\n      <th>length</th>\n      <th>reward_se</th>\n      <th>length_se</th>\n    </tr>\n  </thead>\n  <tbody>\n    <tr>\n      <th>0</th>\n      <td>0.0</td>\n      <td>0.200000</td>\n      <td>90.120000</td>\n      <td>0.000000</td>\n      <td>0.000000</td>\n    </tr>\n    <tr>\n      <th>1</th>\n      <td>42.0</td>\n      <td>0.099900</td>\n      <td>95.064940</td>\n      <td>0.020000</td>\n      <td>48.807200</td>\n    </tr>\n    <tr>\n      <th>2</th>\n      <td>48.0</td>\n      <td>0.066533</td>\n      <td>96.713251</td>\n      <td>0.013320</td>\n      <td>32.505584</td>\n    </tr>\n    <tr>\n      <th>3</th>\n      <td>54.0</td>\n      <td>0.175225</td>\n      <td>92.773146</td>\n      <td>0.055938</td>\n      <td>83.498730</td>\n    </tr>\n    <tr>\n      <th>4</th>\n      <td>55.0</td>\n      <td>0.340841</td>\n      <td>82.979459</td>\n      <td>0.178371</td>\n      <td>539.753093</td>\n    </tr>\n    <tr>\n      <th>...</th>\n      <td>...</td>\n      <td>...</td>\n      <td>...</td>\n      <td>...</td>\n      <td>...</td>\n    </tr>\n    <tr>\n      <th>19520</th>\n      <td>59989.0</td>\n      <td>0.971232</td>\n      <td>43.727895</td>\n      <td>0.023932</td>\n      <td>197.995617</td>\n    </tr>\n    <tr>\n      <th>19521</th>\n      <td>59993.0</td>\n      <td>0.971289</td>\n      <td>43.744422</td>\n      <td>0.023886</td>\n      <td>197.736603</td>\n    </tr>\n    <tr>\n      <th>19522</th>\n      <td>59994.0</td>\n      <td>0.971346</td>\n      <td>43.738939</td>\n      <td>0.023840</td>\n      <td>197.356559</td>\n    </tr>\n    <tr>\n      <th>19523</th>\n      <td>59995.0</td>\n      <td>0.971404</td>\n      <td>43.727473</td>\n      <td>0.023794</td>\n      <td>197.027979</td>\n    </tr>\n    <tr>\n      <th>19524</th>\n      <td>59997.0</td>\n      <td>0.971461</td>\n      <td>43.751993</td>\n      <td>0.023748</td>\n      <td>196.934945</td>\n    </tr>\n  </tbody>\n</table>\n<p>19525 rows × 5 columns</p>\n</div>"
     },
     "execution_count": 6,
     "metadata": {},
     "output_type": "execute_result"
    }
   ],
   "source": [
    "pqr_no_agrs_100_30k = pd.read_csv('../../lp_csv/NoLP3_20_noDFA.csv', header = 2)\n",
    "\n",
    "pqr_no_agrs_100_30k.sort_values(by='step', inplace=True)\n",
    "\n",
    "#PIPELINE FOR AVERAGE OF MOVING AVERAGES\n",
    "\n",
    "step_sums = dict()\n",
    "# {key: (reward_sum, count, length_of_run) }\n",
    "\n",
    "for index, row, in pqr_no_agrs_100_30k.iterrows():\n",
    "    step = row['step']\n",
    "    if step in step_sums:\n",
    "        # adding rewards for the step\n",
    "        step_sums[step][0] += row['run/total_reward']\n",
    "        step_sums[step][1] += 1\n",
    "        step_sums[step][2] += row['run/length']\n",
    "    else:\n",
    "        step_sums[step] = [0, 1, row['run/length']]\n",
    "        step_sums[step][0] += row['run/total_reward']\n",
    "\n",
    "# take average reward and length at each saved step\n",
    "df_av_at_step = pd.DataFrame(columns=['step', 'reward', 'length']);df_av_at_step\n",
    "\n",
    "for key, value in step_sums.items():\n",
    "\n",
    "    mean_reward = value[0] / value[1]\n",
    "    mean_length = value[2] / value[1]\n",
    "\n",
    "\n",
    "    df_av_at_step = df_av_at_step.append({'step': key, 'reward': mean_reward, 'length': mean_length}, ignore_index=True)\n",
    "\n",
    "df_av_at_step.set_index('step')\n",
    "\n",
    "rolling = df_av_at_step.ewm(adjust = True, span=1000).mean()\n",
    "rolling_se = df_av_at_step.ewm(adjust = True, span=1000).var()\n",
    "df_av_at_step['reward'] = rolling['reward']\n",
    "df_av_at_step['reward_se'] = rolling_se['reward']\n",
    "df_av_at_step['length_se'] = rolling_se['length']\n",
    "df_av_at_step['length'] = rolling['length']\n",
    "\n",
    "\n",
    "df_av_at_step = df_av_at_step.fillna(0);df_av_at_step\n",
    "df_no_lp_no_dfa = df_av_at_step\n",
    "df_no_lp_no_dfa"
   ]
  },
  {
   "cell_type": "code",
   "execution_count": 7,
   "metadata": {
    "pycharm": {
     "name": "#%%\n"
    }
   },
   "outputs": [
    {
     "data": {
      "text/plain": "          step    reward     length  reward_se   length_se\n0          0.0  0.320000  82.480000   0.000000    0.000000\n1         26.0  0.660340  67.725260   0.231200  434.535200\n2         36.0  0.439786  78.505030   0.260979  564.617050\n3         41.0  0.580260  72.861883   0.252429  502.907165\n4         43.0  0.463743  78.311238   0.256675  524.540457\n...        ...       ...        ...        ...         ...\n26227  59986.0  0.997284  34.014592   0.002625  104.269234\n26228  59987.0  0.997290  33.990587   0.002620  104.349029\n26229  59988.0  0.997295  33.981282   0.002615  104.183832\n26230  59990.0  0.997301  33.967333   0.002610  104.072955\n26231  59999.0  0.997306  33.949416   0.002604  104.025522\n\n[26232 rows x 5 columns]",
      "text/html": "<div>\n<style scoped>\n    .dataframe tbody tr th:only-of-type {\n        vertical-align: middle;\n    }\n\n    .dataframe tbody tr th {\n        vertical-align: top;\n    }\n\n    .dataframe thead th {\n        text-align: right;\n    }\n</style>\n<table border=\"1\" class=\"dataframe\">\n  <thead>\n    <tr style=\"text-align: right;\">\n      <th></th>\n      <th>step</th>\n      <th>reward</th>\n      <th>length</th>\n      <th>reward_se</th>\n      <th>length_se</th>\n    </tr>\n  </thead>\n  <tbody>\n    <tr>\n      <th>0</th>\n      <td>0.0</td>\n      <td>0.320000</td>\n      <td>82.480000</td>\n      <td>0.000000</td>\n      <td>0.000000</td>\n    </tr>\n    <tr>\n      <th>1</th>\n      <td>26.0</td>\n      <td>0.660340</td>\n      <td>67.725260</td>\n      <td>0.231200</td>\n      <td>434.535200</td>\n    </tr>\n    <tr>\n      <th>2</th>\n      <td>36.0</td>\n      <td>0.439786</td>\n      <td>78.505030</td>\n      <td>0.260979</td>\n      <td>564.617050</td>\n    </tr>\n    <tr>\n      <th>3</th>\n      <td>41.0</td>\n      <td>0.580260</td>\n      <td>72.861883</td>\n      <td>0.252429</td>\n      <td>502.907165</td>\n    </tr>\n    <tr>\n      <th>4</th>\n      <td>43.0</td>\n      <td>0.463743</td>\n      <td>78.311238</td>\n      <td>0.256675</td>\n      <td>524.540457</td>\n    </tr>\n    <tr>\n      <th>...</th>\n      <td>...</td>\n      <td>...</td>\n      <td>...</td>\n      <td>...</td>\n      <td>...</td>\n    </tr>\n    <tr>\n      <th>26227</th>\n      <td>59986.0</td>\n      <td>0.997284</td>\n      <td>34.014592</td>\n      <td>0.002625</td>\n      <td>104.269234</td>\n    </tr>\n    <tr>\n      <th>26228</th>\n      <td>59987.0</td>\n      <td>0.997290</td>\n      <td>33.990587</td>\n      <td>0.002620</td>\n      <td>104.349029</td>\n    </tr>\n    <tr>\n      <th>26229</th>\n      <td>59988.0</td>\n      <td>0.997295</td>\n      <td>33.981282</td>\n      <td>0.002615</td>\n      <td>104.183832</td>\n    </tr>\n    <tr>\n      <th>26230</th>\n      <td>59990.0</td>\n      <td>0.997301</td>\n      <td>33.967333</td>\n      <td>0.002610</td>\n      <td>104.072955</td>\n    </tr>\n    <tr>\n      <th>26231</th>\n      <td>59999.0</td>\n      <td>0.997306</td>\n      <td>33.949416</td>\n      <td>0.002604</td>\n      <td>104.025522</td>\n    </tr>\n  </tbody>\n</table>\n<p>26232 rows × 5 columns</p>\n</div>"
     },
     "execution_count": 7,
     "metadata": {},
     "output_type": "execute_result"
    }
   ],
   "source": [
    "# 12 runs of LP3_20_1LP_DFA\n",
    "pqr_no_agrs_100_30k = pd.read_csv('../../lp_csv/mLP3_20_1LP_DFA1.csv', header = 2)\n",
    "\n",
    "pqr_no_agrs_100_30k.sort_values(by='step', inplace=True)\n",
    "\n",
    "#PIPELINE FOR AVERAGE OF MOVING AVERAGES\n",
    "\n",
    "step_sums = dict()\n",
    "# {key: (reward_sum, count, length_of_run) }\n",
    "\n",
    "for index, row, in pqr_no_agrs_100_30k.iterrows():\n",
    "    step = row['step']\n",
    "    if step in step_sums:\n",
    "        # adding rewards for the step\n",
    "        step_sums[step][0] += row['run/total_reward']\n",
    "        step_sums[step][1] += 1\n",
    "        step_sums[step][2] += row['run/length']\n",
    "    else:\n",
    "        step_sums[step] = [0, 1, row['run/length']]\n",
    "        step_sums[step][0] += row['run/total_reward']\n",
    "\n",
    "# take average reward and length at each saved step\n",
    "df_av_at_step = pd.DataFrame(columns=['step', 'reward', 'length']);df_av_at_step\n",
    "\n",
    "for key, value in step_sums.items():\n",
    "\n",
    "    mean_reward = value[0] / value[1]\n",
    "    mean_length = value[2] / value[1]\n",
    "\n",
    "\n",
    "    df_av_at_step = df_av_at_step.append({'step': key, 'reward': mean_reward, 'length': mean_length}, ignore_index=True)\n",
    "\n",
    "df_av_at_step.set_index('step')\n",
    "\n",
    "rolling = df_av_at_step.ewm(adjust = True, span=1000).mean()\n",
    "rolling_se = df_av_at_step.ewm(adjust = True, span=1000).var()\n",
    "df_av_at_step['reward'] = rolling['reward']\n",
    "df_av_at_step['reward_se'] = rolling_se['reward']\n",
    "df_av_at_step['length_se'] = rolling_se['length']\n",
    "df_av_at_step['length'] = rolling['length']\n",
    "\n",
    "\n",
    "df_av_at_step = df_av_at_step.fillna(0);df_av_at_step\n",
    "df_1lp_dfa = df_av_at_step\n",
    "df_1lp_dfa\n",
    "\n"
   ]
  },
  {
   "cell_type": "code",
   "execution_count": 8,
   "metadata": {
    "pycharm": {
     "name": "#%%\n"
    }
   },
   "outputs": [
    {
     "data": {
      "text/plain": "        step    reward      length  reward_se    length_se\n0        0.0  0.000000  100.000000   0.000000     0.000000\n1      100.0  0.500500   75.976000   0.500000  1152.000000\n2      152.0  0.667333   80.326019   0.333000   632.022048\n3      241.0  0.499999   85.259279   0.333334   517.886459\n4      341.0  0.600400   76.171180   0.299901   798.936096\n..       ...       ...         ...        ...          ...\n372  28812.0  0.527301   74.730818   0.249956   711.201708\n373  28879.0  0.529094   74.572511   0.249852   715.098557\n374  28912.0  0.530877   74.456742   0.249744   715.921648\n375  28956.0  0.532650   74.375636   0.249629   714.949175\n376  29009.0  0.534414   74.223289   0.249509   718.391652\n\n[377 rows x 5 columns]",
      "text/html": "<div>\n<style scoped>\n    .dataframe tbody tr th:only-of-type {\n        vertical-align: middle;\n    }\n\n    .dataframe tbody tr th {\n        vertical-align: top;\n    }\n\n    .dataframe thead th {\n        text-align: right;\n    }\n</style>\n<table border=\"1\" class=\"dataframe\">\n  <thead>\n    <tr style=\"text-align: right;\">\n      <th></th>\n      <th>step</th>\n      <th>reward</th>\n      <th>length</th>\n      <th>reward_se</th>\n      <th>length_se</th>\n    </tr>\n  </thead>\n  <tbody>\n    <tr>\n      <th>0</th>\n      <td>0.0</td>\n      <td>0.000000</td>\n      <td>100.000000</td>\n      <td>0.000000</td>\n      <td>0.000000</td>\n    </tr>\n    <tr>\n      <th>1</th>\n      <td>100.0</td>\n      <td>0.500500</td>\n      <td>75.976000</td>\n      <td>0.500000</td>\n      <td>1152.000000</td>\n    </tr>\n    <tr>\n      <th>2</th>\n      <td>152.0</td>\n      <td>0.667333</td>\n      <td>80.326019</td>\n      <td>0.333000</td>\n      <td>632.022048</td>\n    </tr>\n    <tr>\n      <th>3</th>\n      <td>241.0</td>\n      <td>0.499999</td>\n      <td>85.259279</td>\n      <td>0.333334</td>\n      <td>517.886459</td>\n    </tr>\n    <tr>\n      <th>4</th>\n      <td>341.0</td>\n      <td>0.600400</td>\n      <td>76.171180</td>\n      <td>0.299901</td>\n      <td>798.936096</td>\n    </tr>\n    <tr>\n      <th>...</th>\n      <td>...</td>\n      <td>...</td>\n      <td>...</td>\n      <td>...</td>\n      <td>...</td>\n    </tr>\n    <tr>\n      <th>372</th>\n      <td>28812.0</td>\n      <td>0.527301</td>\n      <td>74.730818</td>\n      <td>0.249956</td>\n      <td>711.201708</td>\n    </tr>\n    <tr>\n      <th>373</th>\n      <td>28879.0</td>\n      <td>0.529094</td>\n      <td>74.572511</td>\n      <td>0.249852</td>\n      <td>715.098557</td>\n    </tr>\n    <tr>\n      <th>374</th>\n      <td>28912.0</td>\n      <td>0.530877</td>\n      <td>74.456742</td>\n      <td>0.249744</td>\n      <td>715.921648</td>\n    </tr>\n    <tr>\n      <th>375</th>\n      <td>28956.0</td>\n      <td>0.532650</td>\n      <td>74.375636</td>\n      <td>0.249629</td>\n      <td>714.949175</td>\n    </tr>\n    <tr>\n      <th>376</th>\n      <td>29009.0</td>\n      <td>0.534414</td>\n      <td>74.223289</td>\n      <td>0.249509</td>\n      <td>718.391652</td>\n    </tr>\n  </tbody>\n</table>\n<p>377 rows × 5 columns</p>\n</div>"
     },
     "execution_count": 8,
     "metadata": {},
     "output_type": "execute_result"
    }
   ],
   "source": [
    "# 1 runs of LP3_20_allLP1\n",
    "pqr_no_agrs_100_30k = pd.read_csv('../../lp_csv/mLP_20_allLP_onlyone.csv', header = 2)\n",
    "\n",
    "pqr_no_agrs_100_30k.sort_values(by='step', inplace=True)\n",
    "\n",
    "#PIPELINE FOR AVERAGE OF MOVING AVERAGES\n",
    "\n",
    "step_sums = dict()\n",
    "# {key: (reward_sum, count, length_of_run) }\n",
    "\n",
    "for index, row, in pqr_no_agrs_100_30k.iterrows():\n",
    "    step = row['step']\n",
    "    if step in step_sums:\n",
    "        # adding rewards for the step\n",
    "        step_sums[step][0] += row['run/total_reward']\n",
    "        step_sums[step][1] += 1\n",
    "        step_sums[step][2] += row['run/length']\n",
    "    else:\n",
    "        step_sums[step] = [0, 1, row['run/length']]\n",
    "        step_sums[step][0] += row['run/total_reward']\n",
    "\n",
    "# take average reward and length at each saved step\n",
    "df_av_at_step = pd.DataFrame(columns=['step', 'reward', 'length']);df_av_at_step\n",
    "\n",
    "for key, value in step_sums.items():\n",
    "\n",
    "    mean_reward = value[0] / value[1]\n",
    "    mean_length = value[2] / value[1]\n",
    "\n",
    "\n",
    "    df_av_at_step = df_av_at_step.append({'step': key, 'reward': mean_reward, 'length': mean_length}, ignore_index=True)\n",
    "\n",
    "df_av_at_step.set_index('step')\n",
    "\n",
    "rolling = df_av_at_step.ewm(adjust = True, span=1000).mean()\n",
    "rolling_se = df_av_at_step.ewm(adjust = True, span=1000).var()\n",
    "df_av_at_step['reward'] = rolling['reward']\n",
    "df_av_at_step['reward_se'] = rolling_se['reward']\n",
    "df_av_at_step['length_se'] = rolling_se['length']\n",
    "df_av_at_step['length'] = rolling['length']\n",
    "\n",
    "\n",
    "df_av_at_step = df_av_at_step.fillna(0);df_av_at_step\n",
    "df_all_lp_noDFA = df_av_at_step\n",
    "df_all_lp_noDFA"
   ]
  },
  {
   "cell_type": "code",
   "execution_count": 9,
   "metadata": {
    "pycharm": {
     "name": "#%%\n"
    }
   },
   "outputs": [
    {
     "data": {
      "text/plain": "          step    reward     length  reward_se   length_se\n0          0.0  0.214286  92.285714   0.000000    0.000000\n1         47.0  0.607536  91.141714   0.308673    2.612245\n2         59.0  0.404619  94.100384   0.277339   27.487373\n3         86.0  0.303160  95.579715   0.225718   27.025355\n4        100.0  0.315304  93.674356   0.169853   38.310263\n...        ...       ...        ...        ...         ...\n16549  59981.0  0.997205  31.190059   0.002474  125.631635\n16550  59983.0  0.997211  31.167701   0.002469  125.630557\n16551  59996.0  0.997216  31.166367   0.002464  125.380437\n16552  59999.0  0.997222  31.205995   0.002459  125.915102\n16553  60000.0  0.997227  31.209579   0.002454  125.669947\n\n[16554 rows x 5 columns]",
      "text/html": "<div>\n<style scoped>\n    .dataframe tbody tr th:only-of-type {\n        vertical-align: middle;\n    }\n\n    .dataframe tbody tr th {\n        vertical-align: top;\n    }\n\n    .dataframe thead th {\n        text-align: right;\n    }\n</style>\n<table border=\"1\" class=\"dataframe\">\n  <thead>\n    <tr style=\"text-align: right;\">\n      <th></th>\n      <th>step</th>\n      <th>reward</th>\n      <th>length</th>\n      <th>reward_se</th>\n      <th>length_se</th>\n    </tr>\n  </thead>\n  <tbody>\n    <tr>\n      <th>0</th>\n      <td>0.0</td>\n      <td>0.214286</td>\n      <td>92.285714</td>\n      <td>0.000000</td>\n      <td>0.000000</td>\n    </tr>\n    <tr>\n      <th>1</th>\n      <td>47.0</td>\n      <td>0.607536</td>\n      <td>91.141714</td>\n      <td>0.308673</td>\n      <td>2.612245</td>\n    </tr>\n    <tr>\n      <th>2</th>\n      <td>59.0</td>\n      <td>0.404619</td>\n      <td>94.100384</td>\n      <td>0.277339</td>\n      <td>27.487373</td>\n    </tr>\n    <tr>\n      <th>3</th>\n      <td>86.0</td>\n      <td>0.303160</td>\n      <td>95.579715</td>\n      <td>0.225718</td>\n      <td>27.025355</td>\n    </tr>\n    <tr>\n      <th>4</th>\n      <td>100.0</td>\n      <td>0.315304</td>\n      <td>93.674356</td>\n      <td>0.169853</td>\n      <td>38.310263</td>\n    </tr>\n    <tr>\n      <th>...</th>\n      <td>...</td>\n      <td>...</td>\n      <td>...</td>\n      <td>...</td>\n      <td>...</td>\n    </tr>\n    <tr>\n      <th>16549</th>\n      <td>59981.0</td>\n      <td>0.997205</td>\n      <td>31.190059</td>\n      <td>0.002474</td>\n      <td>125.631635</td>\n    </tr>\n    <tr>\n      <th>16550</th>\n      <td>59983.0</td>\n      <td>0.997211</td>\n      <td>31.167701</td>\n      <td>0.002469</td>\n      <td>125.630557</td>\n    </tr>\n    <tr>\n      <th>16551</th>\n      <td>59996.0</td>\n      <td>0.997216</td>\n      <td>31.166367</td>\n      <td>0.002464</td>\n      <td>125.380437</td>\n    </tr>\n    <tr>\n      <th>16552</th>\n      <td>59999.0</td>\n      <td>0.997222</td>\n      <td>31.205995</td>\n      <td>0.002459</td>\n      <td>125.915102</td>\n    </tr>\n    <tr>\n      <th>16553</th>\n      <td>60000.0</td>\n      <td>0.997227</td>\n      <td>31.209579</td>\n      <td>0.002454</td>\n      <td>125.669947</td>\n    </tr>\n  </tbody>\n</table>\n<p>16554 rows × 5 columns</p>\n</div>"
     },
     "execution_count": 9,
     "metadata": {},
     "output_type": "execute_result"
    }
   ],
   "source": [
    "# 1 runs of LP3_20_1LP_noDFA\n",
    "pqr_no_agrs_100_30k = pd.read_csv('../../lp_csv/m0110_ratioLP.csv', header = 2)\n",
    "\n",
    "pqr_no_agrs_100_30k.sort_values(by='step', inplace=True)\n",
    "\n",
    "#PIPELINE FOR AVERAGE OF MOVING AVERAGES\n",
    "\n",
    "step_sums = dict()\n",
    "# {key: (reward_sum, count, length_of_run) }\n",
    "\n",
    "for index, row, in pqr_no_agrs_100_30k.iterrows():\n",
    "    step = row['step']\n",
    "    if step in step_sums:\n",
    "        # adding rewards for the step\n",
    "        step_sums[step][0] += row['run/total_reward']\n",
    "        step_sums[step][1] += 1\n",
    "        step_sums[step][2] += row['run/length']\n",
    "    else:\n",
    "        step_sums[step] = [0, 1, row['run/length']]\n",
    "        step_sums[step][0] += row['run/total_reward']\n",
    "\n",
    "# take average reward and length at each saved step\n",
    "df_av_at_step = pd.DataFrame(columns=['step', 'reward', 'length']);df_av_at_step\n",
    "\n",
    "for key, value in step_sums.items():\n",
    "\n",
    "    mean_reward = value[0] / value[1]\n",
    "    mean_length = value[2] / value[1]\n",
    "\n",
    "\n",
    "    df_av_at_step = df_av_at_step.append({'step': key, 'reward': mean_reward, 'length': mean_length}, ignore_index=True)\n",
    "\n",
    "df_av_at_step.set_index('step')\n",
    "\n",
    "rolling = df_av_at_step.ewm(adjust = True, span=1000).mean()\n",
    "rolling_se = df_av_at_step.ewm(adjust = True, span=1000).var()\n",
    "df_av_at_step['reward'] = rolling['reward']\n",
    "df_av_at_step['reward_se'] = rolling_se['reward']\n",
    "df_av_at_step['length_se'] = rolling_se['length']\n",
    "df_av_at_step['length'] = rolling['length']\n",
    "\n",
    "\n",
    "df_av_at_step = df_av_at_step.fillna(0);df_av_at_step\n",
    "df_perfectratio = df_av_at_step\n",
    "df_perfectratio"
   ]
  },
  {
   "cell_type": "code",
   "execution_count": 10,
   "outputs": [
    {
     "data": {
      "text/plain": "         step    reward     length  reward_se   length_se\n0         0.0  0.666667  66.833333   0.000000    0.000000\n1        40.0  0.833500  53.903750   0.055556  333.680556\n2        46.0  0.555111  69.299908   0.259556  875.669577\n3        55.0  0.415917  76.997971   0.250055  819.290908\n4        60.0  0.332400  81.616797   0.222055  719.989530\n...       ...       ...        ...        ...         ...\n8486  59930.0  0.998997  31.742653   0.001003  117.524680\n8487  59943.0  0.998999  31.766144   0.001001  117.565784\n8488  59951.0  0.999001  31.730647   0.000999  117.960899\n8489  59976.0  0.999003  31.703213   0.000997  118.101521\n8490  59994.0  0.999005  31.673836   0.000995  118.297059\n\n[8491 rows x 5 columns]",
      "text/html": "<div>\n<style scoped>\n    .dataframe tbody tr th:only-of-type {\n        vertical-align: middle;\n    }\n\n    .dataframe tbody tr th {\n        vertical-align: top;\n    }\n\n    .dataframe thead th {\n        text-align: right;\n    }\n</style>\n<table border=\"1\" class=\"dataframe\">\n  <thead>\n    <tr style=\"text-align: right;\">\n      <th></th>\n      <th>step</th>\n      <th>reward</th>\n      <th>length</th>\n      <th>reward_se</th>\n      <th>length_se</th>\n    </tr>\n  </thead>\n  <tbody>\n    <tr>\n      <th>0</th>\n      <td>0.0</td>\n      <td>0.666667</td>\n      <td>66.833333</td>\n      <td>0.000000</td>\n      <td>0.000000</td>\n    </tr>\n    <tr>\n      <th>1</th>\n      <td>40.0</td>\n      <td>0.833500</td>\n      <td>53.903750</td>\n      <td>0.055556</td>\n      <td>333.680556</td>\n    </tr>\n    <tr>\n      <th>2</th>\n      <td>46.0</td>\n      <td>0.555111</td>\n      <td>69.299908</td>\n      <td>0.259556</td>\n      <td>875.669577</td>\n    </tr>\n    <tr>\n      <th>3</th>\n      <td>55.0</td>\n      <td>0.415917</td>\n      <td>76.997971</td>\n      <td>0.250055</td>\n      <td>819.290908</td>\n    </tr>\n    <tr>\n      <th>4</th>\n      <td>60.0</td>\n      <td>0.332400</td>\n      <td>81.616797</td>\n      <td>0.222055</td>\n      <td>719.989530</td>\n    </tr>\n    <tr>\n      <th>...</th>\n      <td>...</td>\n      <td>...</td>\n      <td>...</td>\n      <td>...</td>\n      <td>...</td>\n    </tr>\n    <tr>\n      <th>8486</th>\n      <td>59930.0</td>\n      <td>0.998997</td>\n      <td>31.742653</td>\n      <td>0.001003</td>\n      <td>117.524680</td>\n    </tr>\n    <tr>\n      <th>8487</th>\n      <td>59943.0</td>\n      <td>0.998999</td>\n      <td>31.766144</td>\n      <td>0.001001</td>\n      <td>117.565784</td>\n    </tr>\n    <tr>\n      <th>8488</th>\n      <td>59951.0</td>\n      <td>0.999001</td>\n      <td>31.730647</td>\n      <td>0.000999</td>\n      <td>117.960899</td>\n    </tr>\n    <tr>\n      <th>8489</th>\n      <td>59976.0</td>\n      <td>0.999003</td>\n      <td>31.703213</td>\n      <td>0.000997</td>\n      <td>118.101521</td>\n    </tr>\n    <tr>\n      <th>8490</th>\n      <td>59994.0</td>\n      <td>0.999005</td>\n      <td>31.673836</td>\n      <td>0.000995</td>\n      <td>118.297059</td>\n    </tr>\n  </tbody>\n</table>\n<p>8491 rows × 5 columns</p>\n</div>"
     },
     "execution_count": 10,
     "metadata": {},
     "output_type": "execute_result"
    }
   ],
   "source": [
    "# 1 runs of LP3_20_1LP_noDFA\n",
    "pqr_no_agrs_100_30k = pd.read_csv('../../runs/pool_cass/cass_pool_train/merge-csv.com__60184e7c4e9ce.csv', header = 2)\n",
    "\n",
    "pqr_no_agrs_100_30k.sort_values(by='step', inplace=True)\n",
    "\n",
    "#PIPELINE FOR AVERAGE OF MOVING AVERAGES\n",
    "\n",
    "step_sums = dict()\n",
    "# {key: (reward_sum, count, length_of_run) }\n",
    "\n",
    "for index, row, in pqr_no_agrs_100_30k.iterrows():\n",
    "    step = row['step']\n",
    "    if step in step_sums:\n",
    "        # adding rewards for the step\n",
    "        step_sums[step][0] += row['run/total_reward']\n",
    "        step_sums[step][1] += 1\n",
    "        step_sums[step][2] += row['run/length']\n",
    "    else:\n",
    "        step_sums[step] = [0, 1, row['run/length']]\n",
    "        step_sums[step][0] += row['run/total_reward']\n",
    "\n",
    "# take average reward and length at each saved step\n",
    "df_av_at_step = pd.DataFrame(columns=['step', 'reward', 'length']);df_av_at_step\n",
    "\n",
    "for key, value in step_sums.items():\n",
    "\n",
    "    mean_reward = value[0] / value[1]\n",
    "    mean_length = value[2] / value[1]\n",
    "\n",
    "\n",
    "    df_av_at_step = df_av_at_step.append({'step': key, 'reward': mean_reward, 'length': mean_length}, ignore_index=True)\n",
    "\n",
    "df_av_at_step.set_index('step')\n",
    "\n",
    "rolling = df_av_at_step.ewm(adjust = True, span=1000).mean()\n",
    "rolling_se = df_av_at_step.ewm(adjust = True, span=1000).var()\n",
    "df_av_at_step['reward'] = rolling['reward']\n",
    "df_av_at_step['reward_se'] = rolling_se['reward']\n",
    "df_av_at_step['length_se'] = rolling_se['length']\n",
    "df_av_at_step['length'] = rolling['length']\n",
    "\n",
    "\n",
    "df_av_at_step = df_av_at_step.fillna(0);df_av_at_step\n",
    "df_third_decay = df_av_at_step\n",
    "df_third_decay\n"
   ],
   "metadata": {
    "collapsed": false,
    "pycharm": {
     "name": "#%%\n"
    }
   }
  },
  {
   "cell_type": "code",
   "execution_count": 11,
   "metadata": {},
   "outputs": [
    {
     "data": {
      "text/plain": "<matplotlib.axes._subplots.AxesSubplot at 0x7fb6c3483750>"
     },
     "execution_count": 11,
     "metadata": {},
     "output_type": "execute_result"
    },
    {
     "data": {
      "text/plain": "<Figure size 432x288 with 1 Axes>",
      "image/png": "[encoded data removed]"
     },
     "metadata": {
      "needs_background": "light"
     },
     "output_type": "display_data"
    }
   ],
   "source": [
    "plt.ylim(0.3, 1)\n",
    "sns.lineplot(x=\"step\", y=\"reward\", data=df_agrs)"
   ]
  },
  {
   "cell_type": "code",
   "execution_count": 12,
   "metadata": {
    "pycharm": {
     "name": "#%%\n"
    }
   },
   "outputs": [
    {
     "data": {
      "text/plain": "<matplotlib.axes._subplots.AxesSubplot at 0x7fb6c302cb50>"
     },
     "execution_count": 12,
     "metadata": {},
     "output_type": "execute_result"
    },
    {
     "data": {
      "text/plain": "<Figure size 432x288 with 1 Axes>",
      "image/png": "[encoded data removed]"
     },
     "metadata": {
      "needs_background": "light"
     },
     "output_type": "display_data"
    }
   ],
   "source": [
    "plt.ylim(0.3, 1)\n",
    "sns.lineplot(x=\"step\", y=\"reward\", data=df_no_agrs)"
   ]
  },
  {
   "cell_type": "code",
   "execution_count": 13,
   "metadata": {
    "pycharm": {
     "name": "#%%\n"
    },
    "scrolled": true
   },
   "outputs": [
    {
     "data": {
      "text/plain": "<matplotlib.legend.Legend at 0x7fb6c2f91e10>"
     },
     "execution_count": 13,
     "metadata": {},
     "output_type": "execute_result"
    },
    {
     "data": {
      "text/plain": "<Figure size 432x288 with 1 Axes>",
      "image/png": "[encoded data removed]"
     },
     "metadata": {
      "needs_background": "light"
     },
     "output_type": "display_data"
    }
   ],
   "source": [
    "fig, axs = plt.subplots(ncols=1)\n",
    "sns.lineplot(x=\"step\", y=\"reward\", data=df_agrs,ax=axs, ci=99)\n",
    "sns.lineplot(x=\"step\", y=\"reward\", data=df_no_agrs,ax=axs, ci=99)\n",
    "axs.ticklabel_format(axis=\"x\", style=\"sci\", scilimits=(0,0))\n",
    "\n",
    "axs.legend(['LP','No LP'], loc=4)"
   ]
  },
  {
   "cell_type": "code",
   "execution_count": 13,
   "metadata": {},
   "outputs": [],
   "source": []
  },
  {
   "cell_type": "code",
   "execution_count": 14,
   "metadata": {
    "scrolled": true
   },
   "outputs": [
    {
     "data": {
      "text/plain": "<matplotlib.legend.Legend at 0x7fb6c215a390>"
     },
     "execution_count": 14,
     "metadata": {},
     "output_type": "execute_result"
    },
    {
     "data": {
      "text/plain": "<Figure size 432x288 with 1 Axes>",
      "image/png": "[encoded data removed]"
     },
     "metadata": {
      "needs_background": "light"
     },
     "output_type": "display_data"
    }
   ],
   "source": [
    "import itertools\n",
    "marker = itertools.cycle((',', '+', '.', 'o', '*'))\n",
    "\n",
    "\n",
    "fig, axs = plt.subplots(ncols=1)\n",
    "#plt.title('Mine Recycler, Fixed 10x10')\n",
    "\n",
    "sns.lineplot(x=\"step\", y=\"reward\", data=df_no_agrs,ax=axs, ci=99, )\n",
    "\n",
    "\n",
    "sns.lineplot(x=\"step\", y=\"reward\", data=df_perfectratio,ax=axs, ci=99, )\n",
    "sns.lineplot(x=\"step\", y=\"reward\", data=df_third_decay ,ax=axs, ci=99, )\n",
    "\n",
    "\n",
    "#axs.fill_between(x=df_agrs[\"step\"], y1=df_agrs[\"reward\"] + df_agrs[\"reward_se\"],\n",
    "#                 y2=df_agrs[\"reward\"] - df_agrs[\"reward_se\"], alpha=.5)\n",
    "#axs.fill_between(x=df_no_agrs[\"step\"], y1=df_no_agrs[\"reward\"] + df_no_agrs[\"reward_se\"],\n",
    "#                 y2=df_no_agrs[\"reward\"] - df_no_agrs[\"reward_se\"], alpha=.5)\n",
    "#axs.fill_between(x=df_no_lp_no_dfa[\"step\"], y1=df_no_lp_no_dfa[\"reward\"] + df_no_lp_no_dfa[\"reward_se\"],\n",
    "#                 y2=df_no_lp_no_dfa[\"reward\"] - df_no_lp_no_dfa[\"reward_se\"], alpha=.5)\n",
    "axs.set(xlabel='Play steps', ylabel='Win rate')\n",
    "plt.title('Blind Craft 1LP vs noLP vs ratio at 20 MCTS expansions')\n",
    "\n",
    "axs.legend(['No LP / DFA', 'perfectRatioLP', 'third_decay_LP'])"
   ]
  },
  {
   "cell_type": "code",
   "execution_count": 14,
   "metadata": {},
   "outputs": [],
   "source": []
  },
  {
   "cell_type": "code",
   "execution_count": 15,
   "metadata": {},
   "outputs": [
    {
     "ename": "NameError",
     "evalue": "name 'df_all_lp_dfa' is not defined",
     "output_type": "error",
     "traceback": [
      "\u001B[0;31m---------------------------------------------------------------------------\u001B[0m",
      "\u001B[0;31mNameError\u001B[0m                                 Traceback (most recent call last)",
      "\u001B[0;32m<ipython-input-15-56a7002a10a7>\u001B[0m in \u001B[0;36m<module>\u001B[0;34m\u001B[0m\n\u001B[1;32m      3\u001B[0m \u001B[0msns\u001B[0m\u001B[0;34m.\u001B[0m\u001B[0mlineplot\u001B[0m\u001B[0;34m(\u001B[0m\u001B[0mx\u001B[0m\u001B[0;34m=\u001B[0m\u001B[0;34m\"step\"\u001B[0m\u001B[0;34m,\u001B[0m \u001B[0my\u001B[0m\u001B[0;34m=\u001B[0m\u001B[0;34m\"length\"\u001B[0m\u001B[0;34m,\u001B[0m \u001B[0mdata\u001B[0m\u001B[0;34m=\u001B[0m\u001B[0mdf_agrs\u001B[0m\u001B[0;34m,\u001B[0m\u001B[0max\u001B[0m\u001B[0;34m=\u001B[0m\u001B[0maxs\u001B[0m\u001B[0;34m,\u001B[0m \u001B[0mci\u001B[0m\u001B[0;34m=\u001B[0m\u001B[0;36m99\u001B[0m\u001B[0;34m)\u001B[0m\u001B[0;34m\u001B[0m\u001B[0;34m\u001B[0m\u001B[0m\n\u001B[1;32m      4\u001B[0m \u001B[0msns\u001B[0m\u001B[0;34m.\u001B[0m\u001B[0mlineplot\u001B[0m\u001B[0;34m(\u001B[0m\u001B[0mx\u001B[0m\u001B[0;34m=\u001B[0m\u001B[0;34m\"step\"\u001B[0m\u001B[0;34m,\u001B[0m \u001B[0my\u001B[0m\u001B[0;34m=\u001B[0m\u001B[0;34m\"length\"\u001B[0m\u001B[0;34m,\u001B[0m \u001B[0mdata\u001B[0m\u001B[0;34m=\u001B[0m\u001B[0mdf_no_agrs\u001B[0m\u001B[0;34m,\u001B[0m\u001B[0max\u001B[0m\u001B[0;34m=\u001B[0m\u001B[0maxs\u001B[0m\u001B[0;34m,\u001B[0m \u001B[0mci\u001B[0m\u001B[0;34m=\u001B[0m\u001B[0;36m99\u001B[0m\u001B[0;34m)\u001B[0m\u001B[0;34m\u001B[0m\u001B[0;34m\u001B[0m\u001B[0m\n\u001B[0;32m----> 5\u001B[0;31m \u001B[0msns\u001B[0m\u001B[0;34m.\u001B[0m\u001B[0mlineplot\u001B[0m\u001B[0;34m(\u001B[0m\u001B[0mx\u001B[0m\u001B[0;34m=\u001B[0m\u001B[0;34m\"step\"\u001B[0m\u001B[0;34m,\u001B[0m \u001B[0my\u001B[0m\u001B[0;34m=\u001B[0m\u001B[0;34m\"length\"\u001B[0m\u001B[0;34m,\u001B[0m \u001B[0mdata\u001B[0m\u001B[0;34m=\u001B[0m\u001B[0mdf_all_lp_dfa\u001B[0m\u001B[0;34m,\u001B[0m\u001B[0max\u001B[0m\u001B[0;34m=\u001B[0m\u001B[0maxs\u001B[0m\u001B[0;34m,\u001B[0m \u001B[0mci\u001B[0m\u001B[0;34m=\u001B[0m\u001B[0;36m99\u001B[0m\u001B[0;34m)\u001B[0m\u001B[0;34m\u001B[0m\u001B[0;34m\u001B[0m\u001B[0m\n\u001B[0m\u001B[1;32m      6\u001B[0m \u001B[0;34m\u001B[0m\u001B[0m\n\u001B[1;32m      7\u001B[0m \u001B[0msns\u001B[0m\u001B[0;34m.\u001B[0m\u001B[0mlineplot\u001B[0m\u001B[0;34m(\u001B[0m\u001B[0mx\u001B[0m\u001B[0;34m=\u001B[0m\u001B[0;34m\"step\"\u001B[0m\u001B[0;34m,\u001B[0m \u001B[0my\u001B[0m\u001B[0;34m=\u001B[0m\u001B[0;34m\"length\"\u001B[0m\u001B[0;34m,\u001B[0m \u001B[0mdata\u001B[0m\u001B[0;34m=\u001B[0m\u001B[0mdf_1LP_noDFA\u001B[0m\u001B[0;34m,\u001B[0m\u001B[0max\u001B[0m\u001B[0;34m=\u001B[0m\u001B[0maxs\u001B[0m\u001B[0;34m,\u001B[0m \u001B[0mci\u001B[0m\u001B[0;34m=\u001B[0m\u001B[0;36m99\u001B[0m\u001B[0;34m)\u001B[0m\u001B[0;34m\u001B[0m\u001B[0;34m\u001B[0m\u001B[0m\n",
      "\u001B[0;31mNameError\u001B[0m: name 'df_all_lp_dfa' is not defined"
     ]
    },
    {
     "data": {
      "text/plain": "<Figure size 432x288 with 1 Axes>",
      "image/png": "[encoded data removed]"
     },
     "metadata": {
      "needs_background": "light"
     },
     "output_type": "display_data"
    }
   ],
   "source": [
    "fig, axs = plt.subplots(ncols=1)\n",
    "#plt.title('Mine Recycler, Fixed 10x10')\n",
    "sns.lineplot(x=\"step\", y=\"length\", data=df_agrs,ax=axs, ci=99)\n",
    "sns.lineplot(x=\"step\", y=\"length\", data=df_no_agrs,ax=axs, ci=99)\n",
    "sns.lineplot(x=\"step\", y=\"length\", data=df_all_lp_dfa,ax=axs, ci=99)\n",
    "\n",
    "sns.lineplot(x=\"step\", y=\"length\", data=df_1LP_noDFA,ax=axs, ci=99)\n",
    "sns.lineplot(x=\"step\", y=\"length\", data=df_no_lp_no_dfa,ax=axs, ci=99)\n",
    "sns.lineplot(x=\"step\", y=\"length\", data=df_all_lp_noDFA,ax=axs, ci=99)\n",
    "\n",
    "axs.set(xlabel='Play steps', ylabel='Length per Episode')\n",
    "plt.title('Blind Craft 3threads, 1/3 LP, 25runs * 60k steps at 20 MCTS expansions')\n",
    "\n",
    "axs.legend(['1LP / DFA', 'No LP / DFA', 'ALL LP / DFA', '1LP / No DFA', 'No LP / No DFA', 'all LP / no DFA'], loc=1)\n",
    "\n"
   ]
  },
  {
   "cell_type": "code",
   "execution_count": null,
   "metadata": {},
   "outputs": [],
   "source": []
  },
  {
   "cell_type": "code",
   "execution_count": null,
   "metadata": {},
   "outputs": [],
   "source": []
  },
  {
   "cell_type": "code",
   "execution_count": null,
   "metadata": {},
   "outputs": [],
   "source": []
  },
  {
   "cell_type": "code",
   "execution_count": null,
   "metadata": {},
   "outputs": [],
   "source": []
  },
  {
   "cell_type": "code",
   "execution_count": null,
   "metadata": {},
   "outputs": [],
   "source": []
  },
  {
   "cell_type": "code",
   "execution_count": null,
   "metadata": {},
   "outputs": [],
   "source": []
  },
  {
   "cell_type": "code",
   "execution_count": null,
   "metadata": {},
   "outputs": [],
   "source": []
  }
 ],
 "metadata": {
  "kernelspec": {
   "display_name": "Python 3",
   "language": "python",
   "name": "python3"
  },
  "language_info": {
   "codemirror_mode": {
    "name": "ipython",
    "version": 3
   },
   "file_extension": ".py",
   "mimetype": "text/x-python",
   "name": "python",
   "nbconvert_exporter": "python",
   "pygments_lexer": "ipython3",
   "version": "3.7.6"
  },
  "pycharm": {
   "stem_cell": {
    "cell_type": "raw",
    "source": [
     "\n"
    ],
    "metadata": {
     "collapsed": false
    }
   }
  }
 },
 "nbformat": 4,
 "nbformat_minor": 1
}