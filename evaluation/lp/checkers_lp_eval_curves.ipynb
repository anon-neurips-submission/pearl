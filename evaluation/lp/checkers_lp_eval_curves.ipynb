{
 "cells": [
  {
   "cell_type": "code",
   "execution_count": 10,
   "metadata": {
    "pycharm": {
     "name": "#%%\n"
    }
   },
   "outputs": [],
   "source": [
    "import pandas as pd\n",
    "import seaborn as sns\n",
    "%matplotlib inline\n",
    "import matplotlib.pyplot as plt\n",
    "import numpy as np\n",
    "\n",
    "\n",
    "import numpy as np\n",
    "\n",
    "def sigmoid(x):\n",
    " return 1/(1 + np.exp(-x))"
   ]
  },
  {
   "cell_type": "code",
   "execution_count": 21,
   "metadata": {},
   "outputs": [],
   "source": [
    "\n",
    "\n",
    "\n",
    "pqr_agrs_100_30k = pd.read_csv('../../runs/cass_ALL_520/scalarOut/merge_checkers_mcts_LP.csv', header = 3)"
   ]
  },
  {
   "cell_type": "code",
   "execution_count": 22,
   "outputs": [
    {
     "data": {
      "text/plain": "         wall_time    step  run/total_games  run/total_wins  run/total_reward  \\\n0     1.621520e+09      17              109              30                 1   \n1     1.621520e+09      59              111              31                 1   \n2     1.621520e+09      86              113              31                -1   \n3     1.621520e+09     128              115              32                 1   \n4     1.621520e+09     151              117              32                -1   \n...            ...     ...              ...             ...               ...   \n4341  1.622660e+09   99820             4324            1095                 1   \n4342  1.622660e+09   99866             4326            1096                 1   \n4343  1.622660e+09   99940             4328            1097                 1   \n4344  1.622660e+09   99962             4330            1098                 1   \n4345  1.622660e+09  100000             4332            1099                 1   \n\n      run/length  \n0             42  \n1             27  \n2             42  \n3             23  \n4             45  \n...          ...  \n4341          59  \n4342          46  \n4343          74  \n4344          22  \n4345          38  \n\n[4346 rows x 6 columns]",
      "text/html": "<div>\n<style scoped>\n    .dataframe tbody tr th:only-of-type {\n        vertical-align: middle;\n    }\n\n    .dataframe tbody tr th {\n        vertical-align: top;\n    }\n\n    .dataframe thead th {\n        text-align: right;\n    }\n</style>\n<table border=\"1\" class=\"dataframe\">\n  <thead>\n    <tr style=\"text-align: right;\">\n      <th></th>\n      <th>wall_time</th>\n      <th>step</th>\n      <th>run/total_games</th>\n      <th>run/total_wins</th>\n      <th>run/total_reward</th>\n      <th>run/length</th>\n    </tr>\n  </thead>\n  <tbody>\n    <tr>\n      <th>0</th>\n      <td>1.621520e+09</td>\n      <td>17</td>\n      <td>109</td>\n      <td>30</td>\n      <td>1</td>\n      <td>42</td>\n    </tr>\n    <tr>\n      <th>1</th>\n      <td>1.621520e+09</td>\n      <td>59</td>\n      <td>111</td>\n      <td>31</td>\n      <td>1</td>\n      <td>27</td>\n    </tr>\n    <tr>\n      <th>2</th>\n      <td>1.621520e+09</td>\n      <td>86</td>\n      <td>113</td>\n      <td>31</td>\n      <td>-1</td>\n      <td>42</td>\n    </tr>\n    <tr>\n      <th>3</th>\n      <td>1.621520e+09</td>\n      <td>128</td>\n      <td>115</td>\n      <td>32</td>\n      <td>1</td>\n      <td>23</td>\n    </tr>\n    <tr>\n      <th>4</th>\n      <td>1.621520e+09</td>\n      <td>151</td>\n      <td>117</td>\n      <td>32</td>\n      <td>-1</td>\n      <td>45</td>\n    </tr>\n    <tr>\n      <th>...</th>\n      <td>...</td>\n      <td>...</td>\n      <td>...</td>\n      <td>...</td>\n      <td>...</td>\n      <td>...</td>\n    </tr>\n    <tr>\n      <th>4341</th>\n      <td>1.622660e+09</td>\n      <td>99820</td>\n      <td>4324</td>\n      <td>1095</td>\n      <td>1</td>\n      <td>59</td>\n    </tr>\n    <tr>\n      <th>4342</th>\n      <td>1.622660e+09</td>\n      <td>99866</td>\n      <td>4326</td>\n      <td>1096</td>\n      <td>1</td>\n      <td>46</td>\n    </tr>\n    <tr>\n      <th>4343</th>\n      <td>1.622660e+09</td>\n      <td>99940</td>\n      <td>4328</td>\n      <td>1097</td>\n      <td>1</td>\n      <td>74</td>\n    </tr>\n    <tr>\n      <th>4344</th>\n      <td>1.622660e+09</td>\n      <td>99962</td>\n      <td>4330</td>\n      <td>1098</td>\n      <td>1</td>\n      <td>22</td>\n    </tr>\n    <tr>\n      <th>4345</th>\n      <td>1.622660e+09</td>\n      <td>100000</td>\n      <td>4332</td>\n      <td>1099</td>\n      <td>1</td>\n      <td>38</td>\n    </tr>\n  </tbody>\n</table>\n<p>4346 rows × 6 columns</p>\n</div>"
     },
     "execution_count": 22,
     "metadata": {},
     "output_type": "execute_result"
    }
   ],
   "source": [
    "pqr_agrs_100_30k"
   ],
   "metadata": {
    "collapsed": false,
    "pycharm": {
     "name": "#%%\n"
    }
   }
  },
  {
   "cell_type": "code",
   "execution_count": 23,
   "outputs": [
    {
     "data": {
      "text/plain": "          step    reward     length  reward_se  length_se\n0         17.0  1.000000  42.000000   0.000000   0.000000\n1         59.0  1.000000  34.492500   0.000000  10.606602\n2         86.0  0.666000  37.000007   1.155278   8.660257\n3        128.0  0.749751  33.489498   1.000333   9.952289\n4        151.0  0.599200  35.800816   1.095810  10.039401\n...        ...       ...        ...        ...        ...\n4284   99820.0  0.506474  39.609639   0.998892  21.171506\n4285   99866.0  0.507460  39.622409   0.998867  21.152268\n4286   99940.0  0.508445  39.691109   0.998839  21.186876\n4287   99962.0  0.509427  39.655755   0.998807  21.180450\n4288  100000.0  0.510407  39.652446   0.998771  21.159406\n\n[4289 rows x 5 columns]",
      "text/html": "<div>\n<style scoped>\n    .dataframe tbody tr th:only-of-type {\n        vertical-align: middle;\n    }\n\n    .dataframe tbody tr th {\n        vertical-align: top;\n    }\n\n    .dataframe thead th {\n        text-align: right;\n    }\n</style>\n<table border=\"1\" class=\"dataframe\">\n  <thead>\n    <tr style=\"text-align: right;\">\n      <th></th>\n      <th>step</th>\n      <th>reward</th>\n      <th>length</th>\n      <th>reward_se</th>\n      <th>length_se</th>\n    </tr>\n  </thead>\n  <tbody>\n    <tr>\n      <th>0</th>\n      <td>17.0</td>\n      <td>1.000000</td>\n      <td>42.000000</td>\n      <td>0.000000</td>\n      <td>0.000000</td>\n    </tr>\n    <tr>\n      <th>1</th>\n      <td>59.0</td>\n      <td>1.000000</td>\n      <td>34.492500</td>\n      <td>0.000000</td>\n      <td>10.606602</td>\n    </tr>\n    <tr>\n      <th>2</th>\n      <td>86.0</td>\n      <td>0.666000</td>\n      <td>37.000007</td>\n      <td>1.155278</td>\n      <td>8.660257</td>\n    </tr>\n    <tr>\n      <th>3</th>\n      <td>128.0</td>\n      <td>0.749751</td>\n      <td>33.489498</td>\n      <td>1.000333</td>\n      <td>9.952289</td>\n    </tr>\n    <tr>\n      <th>4</th>\n      <td>151.0</td>\n      <td>0.599200</td>\n      <td>35.800816</td>\n      <td>1.095810</td>\n      <td>10.039401</td>\n    </tr>\n    <tr>\n      <th>...</th>\n      <td>...</td>\n      <td>...</td>\n      <td>...</td>\n      <td>...</td>\n      <td>...</td>\n    </tr>\n    <tr>\n      <th>4284</th>\n      <td>99820.0</td>\n      <td>0.506474</td>\n      <td>39.609639</td>\n      <td>0.998892</td>\n      <td>21.171506</td>\n    </tr>\n    <tr>\n      <th>4285</th>\n      <td>99866.0</td>\n      <td>0.507460</td>\n      <td>39.622409</td>\n      <td>0.998867</td>\n      <td>21.152268</td>\n    </tr>\n    <tr>\n      <th>4286</th>\n      <td>99940.0</td>\n      <td>0.508445</td>\n      <td>39.691109</td>\n      <td>0.998839</td>\n      <td>21.186876</td>\n    </tr>\n    <tr>\n      <th>4287</th>\n      <td>99962.0</td>\n      <td>0.509427</td>\n      <td>39.655755</td>\n      <td>0.998807</td>\n      <td>21.180450</td>\n    </tr>\n    <tr>\n      <th>4288</th>\n      <td>100000.0</td>\n      <td>0.510407</td>\n      <td>39.652446</td>\n      <td>0.998771</td>\n      <td>21.159406</td>\n    </tr>\n  </tbody>\n</table>\n<p>4289 rows × 5 columns</p>\n</div>"
     },
     "execution_count": 23,
     "metadata": {},
     "output_type": "execute_result"
    }
   ],
   "source": [
    "pqr_agrs_100_30k.sort_values(by='step', inplace=True)\n",
    "\n",
    "step_sums = dict()\n",
    "# {key: (reward_sum, count, length_of_run) }\n",
    "\n",
    "for index, row, in pqr_agrs_100_30k.iterrows():\n",
    "    step = row['step']\n",
    "\n",
    "    if step in step_sums:\n",
    "        # adding rewards for the step\n",
    "        step_sums[step][0] += row['run/total_reward']\n",
    "        step_sums[step][1] += 1\n",
    "        step_sums[step][2] += row['run/length']\n",
    "    else:\n",
    "        step_sums[step] = [0, 1, row['run/length']]\n",
    "        step_sums[step][0] += row['run/total_reward']\n",
    "\n",
    "\n",
    "# take average reward and length at each saved step\n",
    "df_av_at_step = pd.DataFrame(columns=['step', 'reward', 'length'])\n",
    "\n",
    "\n",
    "for key, value in step_sums.items():\n",
    "\n",
    "    mean_reward = value[0] / value[1]\n",
    "    mean_length = value[2] / value[1]\n",
    "\n",
    "\n",
    "    df_av_at_step = df_av_at_step.append({'step': key, 'reward': mean_reward, 'length': mean_length}, ignore_index=True)\n",
    "df_av_at_step.set_index('step')\n",
    "\n",
    "\n",
    "rolling = df_av_at_step.ewm(adjust = True, span=1000).mean()\n",
    "rolling_se = df_av_at_step.ewm(adjust = True, span = 1000).std()\n",
    "rolling\n",
    "\n",
    "df_av_at_step['reward'] = (rolling['reward']/2) + .5\n",
    "df_av_at_step['reward_se'] = rolling_se['reward']\n",
    "df_av_at_step['length_se'] = rolling_se['length']\n",
    "df_av_at_step['length'] = rolling['length']\n",
    "\n",
    "df_av_at_step = df_av_at_step.fillna(0);df_av_at_step\n",
    "eval_pooledThirds = df_av_at_step\n",
    "eval_pooledThirds\n"
   ],
   "metadata": {
    "collapsed": false,
    "pycharm": {
     "name": "#%%\n"
    }
   }
  },
  {
   "cell_type": "code",
   "execution_count": 24,
   "metadata": {
    "pycharm": {
     "name": "#%%\n"
    }
   },
   "outputs": [],
   "source": [
    "\n",
    "pqr_agrs_100_30k = pd.read_csv('../../runs/cass_ALL_520/scalarOut/merge_checkers_mcts_noLP.csv', header = 2)"
   ]
  },
  {
   "cell_type": "code",
   "execution_count": 25,
   "outputs": [
    {
     "data": {
      "text/plain": "         wall_time    step  run/total_games  run/total_wins  run/total_reward  \\\n0     1.621520e+09      18              2.0             1.0               1.0   \n1     1.621520e+09      57              4.0             2.0               1.0   \n2     1.621520e+09      95              6.0             2.0              -1.0   \n3     1.621520e+09     133              8.0             3.0               1.0   \n4     1.621520e+09     164             10.0             4.0               1.0   \n...            ...     ...              ...             ...               ...   \n4395  1.622660e+09   99799           4323.0          1067.0              -1.0   \n4396  1.622660e+09   99858           4325.0          1067.0              -1.0   \n4397  1.622660e+09   99904           4327.0          1067.0              -1.0   \n4398  1.622660e+09   99978           4329.0          1067.0              -1.0   \n4399  1.622660e+09  100000           4331.0          1067.0              -1.0   \n\n      run/length  \n0           18.0  \n1           39.0  \n2           37.0  \n3           38.0  \n4           31.0  \n...          ...  \n4395        59.0  \n4396        46.0  \n4397        74.0  \n4398        22.0  \n4399        38.0  \n\n[4400 rows x 6 columns]",
      "text/html": "<div>\n<style scoped>\n    .dataframe tbody tr th:only-of-type {\n        vertical-align: middle;\n    }\n\n    .dataframe tbody tr th {\n        vertical-align: top;\n    }\n\n    .dataframe thead th {\n        text-align: right;\n    }\n</style>\n<table border=\"1\" class=\"dataframe\">\n  <thead>\n    <tr style=\"text-align: right;\">\n      <th></th>\n      <th>wall_time</th>\n      <th>step</th>\n      <th>run/total_games</th>\n      <th>run/total_wins</th>\n      <th>run/total_reward</th>\n      <th>run/length</th>\n    </tr>\n  </thead>\n  <tbody>\n    <tr>\n      <th>0</th>\n      <td>1.621520e+09</td>\n      <td>18</td>\n      <td>2.0</td>\n      <td>1.0</td>\n      <td>1.0</td>\n      <td>18.0</td>\n    </tr>\n    <tr>\n      <th>1</th>\n      <td>1.621520e+09</td>\n      <td>57</td>\n      <td>4.0</td>\n      <td>2.0</td>\n      <td>1.0</td>\n      <td>39.0</td>\n    </tr>\n    <tr>\n      <th>2</th>\n      <td>1.621520e+09</td>\n      <td>95</td>\n      <td>6.0</td>\n      <td>2.0</td>\n      <td>-1.0</td>\n      <td>37.0</td>\n    </tr>\n    <tr>\n      <th>3</th>\n      <td>1.621520e+09</td>\n      <td>133</td>\n      <td>8.0</td>\n      <td>3.0</td>\n      <td>1.0</td>\n      <td>38.0</td>\n    </tr>\n    <tr>\n      <th>4</th>\n      <td>1.621520e+09</td>\n      <td>164</td>\n      <td>10.0</td>\n      <td>4.0</td>\n      <td>1.0</td>\n      <td>31.0</td>\n    </tr>\n    <tr>\n      <th>...</th>\n      <td>...</td>\n      <td>...</td>\n      <td>...</td>\n      <td>...</td>\n      <td>...</td>\n      <td>...</td>\n    </tr>\n    <tr>\n      <th>4395</th>\n      <td>1.622660e+09</td>\n      <td>99799</td>\n      <td>4323.0</td>\n      <td>1067.0</td>\n      <td>-1.0</td>\n      <td>59.0</td>\n    </tr>\n    <tr>\n      <th>4396</th>\n      <td>1.622660e+09</td>\n      <td>99858</td>\n      <td>4325.0</td>\n      <td>1067.0</td>\n      <td>-1.0</td>\n      <td>46.0</td>\n    </tr>\n    <tr>\n      <th>4397</th>\n      <td>1.622660e+09</td>\n      <td>99904</td>\n      <td>4327.0</td>\n      <td>1067.0</td>\n      <td>-1.0</td>\n      <td>74.0</td>\n    </tr>\n    <tr>\n      <th>4398</th>\n      <td>1.622660e+09</td>\n      <td>99978</td>\n      <td>4329.0</td>\n      <td>1067.0</td>\n      <td>-1.0</td>\n      <td>22.0</td>\n    </tr>\n    <tr>\n      <th>4399</th>\n      <td>1.622660e+09</td>\n      <td>100000</td>\n      <td>4331.0</td>\n      <td>1067.0</td>\n      <td>-1.0</td>\n      <td>38.0</td>\n    </tr>\n  </tbody>\n</table>\n<p>4400 rows × 6 columns</p>\n</div>"
     },
     "execution_count": 25,
     "metadata": {},
     "output_type": "execute_result"
    }
   ],
   "source": [
    "pqr_agrs_100_30k"
   ],
   "metadata": {
    "collapsed": false,
    "pycharm": {
     "name": "#%%\n"
    }
   }
  },
  {
   "cell_type": "code",
   "execution_count": 26,
   "outputs": [
    {
     "data": {
      "text/plain": "          step    reward     length  reward_se  length_se\n0         18.0  1.000000  18.000000   0.000000   0.000000\n1         57.0  1.000000  28.510500   0.000000  14.849242\n2         95.0  0.666000  31.345995   1.155278  11.583939\n3        133.0  0.749751  33.014490   1.000333  10.022975\n4        164.0  0.800001  32.609979   0.894427   8.722596\n...        ...       ...        ...        ...        ...\n4339   99799.0  0.494094  39.824960   0.997992  21.080372\n4340   99858.0  0.493107  39.837300   0.997972  21.061106\n4341   99904.0  0.492121  39.905569   0.997948  21.095348\n4342   99978.0  0.491138  39.869787   0.997919  21.089440\n4343  100000.0  0.490156  39.866051   0.997888  21.068523\n\n[4344 rows x 5 columns]",
      "text/html": "<div>\n<style scoped>\n    .dataframe tbody tr th:only-of-type {\n        vertical-align: middle;\n    }\n\n    .dataframe tbody tr th {\n        vertical-align: top;\n    }\n\n    .dataframe thead th {\n        text-align: right;\n    }\n</style>\n<table border=\"1\" class=\"dataframe\">\n  <thead>\n    <tr style=\"text-align: right;\">\n      <th></th>\n      <th>step</th>\n      <th>reward</th>\n      <th>length</th>\n      <th>reward_se</th>\n      <th>length_se</th>\n    </tr>\n  </thead>\n  <tbody>\n    <tr>\n      <th>0</th>\n      <td>18.0</td>\n      <td>1.000000</td>\n      <td>18.000000</td>\n      <td>0.000000</td>\n      <td>0.000000</td>\n    </tr>\n    <tr>\n      <th>1</th>\n      <td>57.0</td>\n      <td>1.000000</td>\n      <td>28.510500</td>\n      <td>0.000000</td>\n      <td>14.849242</td>\n    </tr>\n    <tr>\n      <th>2</th>\n      <td>95.0</td>\n      <td>0.666000</td>\n      <td>31.345995</td>\n      <td>1.155278</td>\n      <td>11.583939</td>\n    </tr>\n    <tr>\n      <th>3</th>\n      <td>133.0</td>\n      <td>0.749751</td>\n      <td>33.014490</td>\n      <td>1.000333</td>\n      <td>10.022975</td>\n    </tr>\n    <tr>\n      <th>4</th>\n      <td>164.0</td>\n      <td>0.800001</td>\n      <td>32.609979</td>\n      <td>0.894427</td>\n      <td>8.722596</td>\n    </tr>\n    <tr>\n      <th>...</th>\n      <td>...</td>\n      <td>...</td>\n      <td>...</td>\n      <td>...</td>\n      <td>...</td>\n    </tr>\n    <tr>\n      <th>4339</th>\n      <td>99799.0</td>\n      <td>0.494094</td>\n      <td>39.824960</td>\n      <td>0.997992</td>\n      <td>21.080372</td>\n    </tr>\n    <tr>\n      <th>4340</th>\n      <td>99858.0</td>\n      <td>0.493107</td>\n      <td>39.837300</td>\n      <td>0.997972</td>\n      <td>21.061106</td>\n    </tr>\n    <tr>\n      <th>4341</th>\n      <td>99904.0</td>\n      <td>0.492121</td>\n      <td>39.905569</td>\n      <td>0.997948</td>\n      <td>21.095348</td>\n    </tr>\n    <tr>\n      <th>4342</th>\n      <td>99978.0</td>\n      <td>0.491138</td>\n      <td>39.869787</td>\n      <td>0.997919</td>\n      <td>21.089440</td>\n    </tr>\n    <tr>\n      <th>4343</th>\n      <td>100000.0</td>\n      <td>0.490156</td>\n      <td>39.866051</td>\n      <td>0.997888</td>\n      <td>21.068523</td>\n    </tr>\n  </tbody>\n</table>\n<p>4344 rows × 5 columns</p>\n</div>"
     },
     "execution_count": 26,
     "metadata": {},
     "output_type": "execute_result"
    }
   ],
   "source": [
    "pqr_agrs_100_30k.sort_values(by='step', inplace=True)\n",
    "\n",
    "step_sums = dict()\n",
    "# {key: (reward_sum, count, length_of_run) }\n",
    "\n",
    "for index, row, in pqr_agrs_100_30k.iterrows():\n",
    "    step = row['step']\n",
    "\n",
    "    if step in step_sums:\n",
    "        # adding rewards for the step\n",
    "        step_sums[step][0] += row['run/total_reward']\n",
    "        step_sums[step][1] += 1\n",
    "        step_sums[step][2] += row['run/length']\n",
    "    else:\n",
    "        step_sums[step] = [0, 1, row['run/length']]\n",
    "        step_sums[step][0] += row['run/total_reward']\n",
    "\n",
    "\n",
    "# take average reward and length at each saved step\n",
    "df_av_at_step = pd.DataFrame(columns=['step', 'reward', 'length'])\n",
    "\n",
    "\n",
    "for key, value in step_sums.items():\n",
    "\n",
    "    mean_reward = value[0] / value[1]\n",
    "    mean_length = value[2] / value[1]\n",
    "\n",
    "\n",
    "    df_av_at_step = df_av_at_step.append({'step': key, 'reward': mean_reward, 'length': mean_length}, ignore_index=True)\n",
    "df_av_at_step.set_index('step')\n",
    "\n",
    "\n",
    "rolling = df_av_at_step.ewm(adjust = True, span=1000).mean()\n",
    "rolling_se = df_av_at_step.ewm(adjust = True, span = 1000).std()\n",
    "rolling\n",
    "\n",
    "# center at 50 and divide space by 2 to put between 0 and 1\n",
    "df_av_at_step['reward'] = (rolling['reward']/2) + .5\n",
    "df_av_at_step['reward_se'] = rolling_se['reward']\n",
    "df_av_at_step['length_se'] = rolling_se['length']\n",
    "df_av_at_step['length'] = rolling['length']\n",
    "\n",
    "df_av_at_step = df_av_at_step.fillna(0);df_av_at_step\n",
    "eval_pooled = df_av_at_step\n",
    "eval_pooled\n",
    "\n"
   ],
   "metadata": {
    "collapsed": false,
    "pycharm": {
     "name": "#%%\n"
    }
   }
  },
  {
   "cell_type": "code",
   "execution_count": 26,
   "metadata": {
    "pycharm": {
     "name": "#%%\n"
    }
   },
   "outputs": [],
   "source": []
  },
  {
   "cell_type": "code",
   "execution_count": 27,
   "metadata": {},
   "outputs": [
    {
     "data": {
      "text/plain": "<matplotlib.legend.Legend at 0x7f5b8c47d450>"
     },
     "execution_count": 27,
     "metadata": {},
     "output_type": "execute_result"
    },
    {
     "data": {
      "text/plain": "<Figure size 432x288 with 1 Axes>",
      "image/png": "[encoded data removed]"
     },
     "metadata": {
      "needs_background": "light"
     },
     "output_type": "display_data"
    }
   ],
   "source": [
    "import itertools\n",
    "marker = itertools.cycle((',', '+', 'o', '*'))\n",
    "\n",
    "\n",
    "fig, axs = plt.subplots(ncols=1)\n",
    "#plt.title('Mine Recycler, Fixed 10x10')\n",
    "#sns.lineplot(x=\"step\", y=\"reward\", data=eval_LP3_DFA ,ax=axs, ci=99, )\n",
    "col=sns.color_palette(\"tab10\")\n",
    "#sns.lineplot(x=\"step\", y=\"reward\", data=eval_LP3_DFA,ax=axs, ci=99,\n",
    " #            )\n",
    "sns.lineplot(x=\"step\", y=\"reward\", data=eval_pooledThirds,ax=axs, ci=99,\n",
    "             )\n",
    "\n",
    "sns.lineplot(x=\"step\", y=\"reward\", data=eval_pooled,ax=axs, ci=99,\n",
    "             )\n",
    "#axs.fill_between(x=eval_pooledThirds[\"step\"], y1=eval_pooledThirds[\"reward\"] + eval_pooledThirds[\"reward_se\"],\n",
    "#                y2=eval_pooledThirds[\"reward\"] - eval_pooledThirds[\"reward_se\"], alpha=.5)\n",
    "#axs.fill_between(x=eval_pooled[\"step\"], y1=eval_pooled[\"reward\"] + eval_pooled[\"reward_se\"],\n",
    "#                 y2=eval_pooled[\"reward\"] - eval_pooled[\"reward_se\"], alpha=.5)\n",
    "#axs.fill_between(x=df_no_lp_no_dfa[\"step\"], y1=df_no_lp_no_dfa[\"reward\"] + df_no_lp_no_dfa[\"reward_se\"],\n",
    "#                 y2=df_no_lp_no_dfa[\"reward\"] - df_no_lp_no_dfa[\"reward_se\"], alpha=.5)\n",
    "axs.set(xlabel='Play steps', ylabel='Win rate', ylim=(0.3, 0.7))\n",
    "#plt.title('Go - Evaluation post 100k steps self-play training per checkpoint')\n",
    "\n",
    "axs.legend(['LP','No LP'], loc=4)\n"
   ]
  },
  {
   "cell_type": "code",
   "execution_count": 18,
   "metadata": {},
   "outputs": [
    {
     "data": {
      "text/plain": "<matplotlib.legend.Legend at 0x7f5b95394ed0>"
     },
     "execution_count": 18,
     "metadata": {},
     "output_type": "execute_result"
    },
    {
     "data": {
      "text/plain": "<Figure size 432x288 with 1 Axes>",
      "image/png": "[encoded data removed]"
     },
     "metadata": {
      "needs_background": "light"
     },
     "output_type": "display_data"
    }
   ],
   "source": [
    "fig, axs = plt.subplots(ncols=1)\n",
    "#plt.title('Mine Recycler, Fixed 10x10')\n",
    "\n",
    "sns.lineplot(x=\"step\", y=\"length\", data=eval_pooled,ax=axs, ci=99,\n",
    "             )\n",
    "\n",
    "sns.lineplot(x=\"step\", y=\"length\", data=eval_pooledThirds,ax=axs, ci=99,\n",
    "             )\n",
    "axs.set(xlabel='Play steps', ylabel='Length per Episode')\n",
    "plt.title('Go - Evaluation post 100k steps self-play training per checkpoint')\n",
    "\n",
    "axs.legend(['LP', 'No LP'], loc=4)\n",
    "\n"
   ]
  },
  {
   "cell_type": "code",
   "execution_count": 18,
   "metadata": {},
   "outputs": [],
   "source": []
  },
  {
   "cell_type": "code",
   "execution_count": 9,
   "metadata": {},
   "outputs": [],
   "source": []
  },
  {
   "cell_type": "code",
   "execution_count": 17,
   "metadata": {},
   "outputs": [],
   "source": []
  },
  {
   "cell_type": "code",
   "execution_count": 17,
   "metadata": {},
   "outputs": [],
   "source": []
  },
  {
   "cell_type": "code",
   "execution_count": 17,
   "metadata": {},
   "outputs": [],
   "source": []
  },
  {
   "cell_type": "code",
   "execution_count": 17,
   "metadata": {},
   "outputs": [],
   "source": []
  },
  {
   "cell_type": "code",
   "execution_count": 17,
   "metadata": {},
   "outputs": [],
   "source": []
  }
 ],
 "metadata": {
  "kernelspec": {
   "name": "conda-env-vgcharm-py",
   "language": "python",
   "display_name": "Python [conda env:vgcharm] *"
  },
  "language_info": {
   "codemirror_mode": {
    "name": "ipython",
    "version": 3
   },
   "file_extension": ".py",
   "mimetype": "text/x-python",
   "name": "python",
   "nbconvert_exporter": "python",
   "pygments_lexer": "ipython3",
   "version": "3.7.6"
  },
  "pycharm": {
   "stem_cell": {
    "cell_type": "raw",
    "source": [
     "\n"
    ],
    "metadata": {
     "collapsed": false
    }
   }
  }
 },
 "nbformat": 4,
 "nbformat_minor": 1
}