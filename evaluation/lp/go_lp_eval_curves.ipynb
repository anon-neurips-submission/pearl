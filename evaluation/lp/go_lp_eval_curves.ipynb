{
 "cells": [
  {
   "cell_type": "code",
   "execution_count": 1,
   "metadata": {
    "pycharm": {
     "name": "#%%\n"
    }
   },
   "outputs": [],
   "source": [
    "import pandas as pd\n",
    "import seaborn as sns\n",
    "%matplotlib inline\n",
    "import matplotlib.pyplot as plt\n",
    "import numpy as np\n",
    "\n",
    "\n",
    "import numpy as np\n",
    "\n",
    "def sigmoid(x):\n",
    " return 1/(1 + np.exp(-x))"
   ]
  },
  {
   "cell_type": "code",
   "execution_count": 44,
   "metadata": {},
   "outputs": [],
   "source": [
    "\n",
    "\n",
    "\n",
    "pqr_agrs_100_30k = pd.read_csv('../../runs/cass_ALL_520/scalarOut/merge_LP_mcts_GO.csv', header = 2)"
   ]
  },
  {
   "cell_type": "code",
   "execution_count": 45,
   "outputs": [
    {
     "data": {
      "text/plain": "          wall_time    step  run/total_games  run/total_wins  \\\n0      1.621526e+09      36              2.0             1.0   \n1      1.621526e+09      71              4.0             2.0   \n2      1.621526e+09     104              6.0             2.0   \n3      1.621526e+09     138              8.0             2.0   \n4      1.621526e+09     181             10.0             2.0   \n...             ...     ...              ...             ...   \n23723  1.621524e+09   99874           5264.0          1595.0   \n23724  1.621524e+09   99912           5266.0          1595.0   \n23725  1.621524e+09   99938           5268.0          1596.0   \n23726  1.621524e+09   99980           5270.0          1597.0   \n23727  1.621524e+09  100007           5272.0          1598.0   \n\n       run/total_reward  run/length  \n0                   1.0        35.0  \n1                   1.0        34.0  \n2                  -1.0        32.0  \n3                  -1.0        34.0  \n4                  -1.0        43.0  \n...                 ...         ...  \n23723               1.0        34.0  \n23724              -1.0        38.0  \n23725               1.0        26.0  \n23726               1.0        41.0  \n23727               1.0        26.0  \n\n[23728 rows x 6 columns]",
      "text/html": "<div>\n<style scoped>\n    .dataframe tbody tr th:only-of-type {\n        vertical-align: middle;\n    }\n\n    .dataframe tbody tr th {\n        vertical-align: top;\n    }\n\n    .dataframe thead th {\n        text-align: right;\n    }\n</style>\n<table border=\"1\" class=\"dataframe\">\n  <thead>\n    <tr style=\"text-align: right;\">\n      <th></th>\n      <th>wall_time</th>\n      <th>step</th>\n      <th>run/total_games</th>\n      <th>run/total_wins</th>\n      <th>run/total_reward</th>\n      <th>run/length</th>\n    </tr>\n  </thead>\n  <tbody>\n    <tr>\n      <th>0</th>\n      <td>1.621526e+09</td>\n      <td>36</td>\n      <td>2.0</td>\n      <td>1.0</td>\n      <td>1.0</td>\n      <td>35.0</td>\n    </tr>\n    <tr>\n      <th>1</th>\n      <td>1.621526e+09</td>\n      <td>71</td>\n      <td>4.0</td>\n      <td>2.0</td>\n      <td>1.0</td>\n      <td>34.0</td>\n    </tr>\n    <tr>\n      <th>2</th>\n      <td>1.621526e+09</td>\n      <td>104</td>\n      <td>6.0</td>\n      <td>2.0</td>\n      <td>-1.0</td>\n      <td>32.0</td>\n    </tr>\n    <tr>\n      <th>3</th>\n      <td>1.621526e+09</td>\n      <td>138</td>\n      <td>8.0</td>\n      <td>2.0</td>\n      <td>-1.0</td>\n      <td>34.0</td>\n    </tr>\n    <tr>\n      <th>4</th>\n      <td>1.621526e+09</td>\n      <td>181</td>\n      <td>10.0</td>\n      <td>2.0</td>\n      <td>-1.0</td>\n      <td>43.0</td>\n    </tr>\n    <tr>\n      <th>...</th>\n      <td>...</td>\n      <td>...</td>\n      <td>...</td>\n      <td>...</td>\n      <td>...</td>\n      <td>...</td>\n    </tr>\n    <tr>\n      <th>23723</th>\n      <td>1.621524e+09</td>\n      <td>99874</td>\n      <td>5264.0</td>\n      <td>1595.0</td>\n      <td>1.0</td>\n      <td>34.0</td>\n    </tr>\n    <tr>\n      <th>23724</th>\n      <td>1.621524e+09</td>\n      <td>99912</td>\n      <td>5266.0</td>\n      <td>1595.0</td>\n      <td>-1.0</td>\n      <td>38.0</td>\n    </tr>\n    <tr>\n      <th>23725</th>\n      <td>1.621524e+09</td>\n      <td>99938</td>\n      <td>5268.0</td>\n      <td>1596.0</td>\n      <td>1.0</td>\n      <td>26.0</td>\n    </tr>\n    <tr>\n      <th>23726</th>\n      <td>1.621524e+09</td>\n      <td>99980</td>\n      <td>5270.0</td>\n      <td>1597.0</td>\n      <td>1.0</td>\n      <td>41.0</td>\n    </tr>\n    <tr>\n      <th>23727</th>\n      <td>1.621524e+09</td>\n      <td>100007</td>\n      <td>5272.0</td>\n      <td>1598.0</td>\n      <td>1.0</td>\n      <td>26.0</td>\n    </tr>\n  </tbody>\n</table>\n<p>23728 rows × 6 columns</p>\n</div>"
     },
     "execution_count": 45,
     "metadata": {},
     "output_type": "execute_result"
    }
   ],
   "source": [
    "pqr_agrs_100_30k"
   ],
   "metadata": {
    "collapsed": false,
    "pycharm": {
     "name": "#%%\n"
    }
   }
  },
  {
   "cell_type": "code",
   "execution_count": 46,
   "outputs": [
    {
     "data": {
      "text/plain": "           step    reward     length  reward_se  length_se\n0          26.0  1.000000  25.000000   0.000000   0.000000\n1          27.0  1.000000  25.750750   0.000000   1.060660\n2          30.0  1.000000  26.836000   0.000000   2.021055\n3          31.0  0.749250  27.880125   1.000999   2.657777\n4          36.0  0.699200  29.309802   0.894761   3.932109\n...         ...       ...        ...        ...        ...\n21477  100022.0  0.597997  36.626002   0.956358   9.395507\n21478  100023.0  0.596802  36.620755   0.956895   9.386849\n21479  100026.0  0.597608  36.619514   0.956618   9.377508\n21480  100028.0  0.598411  36.614281   0.956338   9.368866\n21481  100034.0  0.597216  36.627039   0.956877   9.363849\n\n[21482 rows x 5 columns]",
      "text/html": "<div>\n<style scoped>\n    .dataframe tbody tr th:only-of-type {\n        vertical-align: middle;\n    }\n\n    .dataframe tbody tr th {\n        vertical-align: top;\n    }\n\n    .dataframe thead th {\n        text-align: right;\n    }\n</style>\n<table border=\"1\" class=\"dataframe\">\n  <thead>\n    <tr style=\"text-align: right;\">\n      <th></th>\n      <th>step</th>\n      <th>reward</th>\n      <th>length</th>\n      <th>reward_se</th>\n      <th>length_se</th>\n    </tr>\n  </thead>\n  <tbody>\n    <tr>\n      <th>0</th>\n      <td>26.0</td>\n      <td>1.000000</td>\n      <td>25.000000</td>\n      <td>0.000000</td>\n      <td>0.000000</td>\n    </tr>\n    <tr>\n      <th>1</th>\n      <td>27.0</td>\n      <td>1.000000</td>\n      <td>25.750750</td>\n      <td>0.000000</td>\n      <td>1.060660</td>\n    </tr>\n    <tr>\n      <th>2</th>\n      <td>30.0</td>\n      <td>1.000000</td>\n      <td>26.836000</td>\n      <td>0.000000</td>\n      <td>2.021055</td>\n    </tr>\n    <tr>\n      <th>3</th>\n      <td>31.0</td>\n      <td>0.749250</td>\n      <td>27.880125</td>\n      <td>1.000999</td>\n      <td>2.657777</td>\n    </tr>\n    <tr>\n      <th>4</th>\n      <td>36.0</td>\n      <td>0.699200</td>\n      <td>29.309802</td>\n      <td>0.894761</td>\n      <td>3.932109</td>\n    </tr>\n    <tr>\n      <th>...</th>\n      <td>...</td>\n      <td>...</td>\n      <td>...</td>\n      <td>...</td>\n      <td>...</td>\n    </tr>\n    <tr>\n      <th>21477</th>\n      <td>100022.0</td>\n      <td>0.597997</td>\n      <td>36.626002</td>\n      <td>0.956358</td>\n      <td>9.395507</td>\n    </tr>\n    <tr>\n      <th>21478</th>\n      <td>100023.0</td>\n      <td>0.596802</td>\n      <td>36.620755</td>\n      <td>0.956895</td>\n      <td>9.386849</td>\n    </tr>\n    <tr>\n      <th>21479</th>\n      <td>100026.0</td>\n      <td>0.597608</td>\n      <td>36.619514</td>\n      <td>0.956618</td>\n      <td>9.377508</td>\n    </tr>\n    <tr>\n      <th>21480</th>\n      <td>100028.0</td>\n      <td>0.598411</td>\n      <td>36.614281</td>\n      <td>0.956338</td>\n      <td>9.368866</td>\n    </tr>\n    <tr>\n      <th>21481</th>\n      <td>100034.0</td>\n      <td>0.597216</td>\n      <td>36.627039</td>\n      <td>0.956877</td>\n      <td>9.363849</td>\n    </tr>\n  </tbody>\n</table>\n<p>21482 rows × 5 columns</p>\n</div>"
     },
     "execution_count": 46,
     "metadata": {},
     "output_type": "execute_result"
    }
   ],
   "source": [
    "pqr_agrs_100_30k.sort_values(by='step', inplace=True)\n",
    "\n",
    "step_sums = dict()\n",
    "# {key: (reward_sum, count, length_of_run) }\n",
    "\n",
    "for index, row, in pqr_agrs_100_30k.iterrows():\n",
    "    step = row['step']\n",
    "\n",
    "    if step in step_sums:\n",
    "        # adding rewards for the step\n",
    "        step_sums[step][0] += row['run/total_reward']\n",
    "        step_sums[step][1] += 1\n",
    "        step_sums[step][2] += row['run/length']\n",
    "    else:\n",
    "        step_sums[step] = [0, 1, row['run/length']]\n",
    "        step_sums[step][0] += row['run/total_reward']\n",
    "\n",
    "\n",
    "# take average reward and length at each saved step\n",
    "df_av_at_step = pd.DataFrame(columns=['step', 'reward', 'length'])\n",
    "\n",
    "\n",
    "for key, value in step_sums.items():\n",
    "\n",
    "    mean_reward = value[0] / value[1]\n",
    "    mean_length = value[2] / value[1]\n",
    "\n",
    "\n",
    "    df_av_at_step = df_av_at_step.append({'step': key, 'reward': mean_reward, 'length': mean_length}, ignore_index=True)\n",
    "df_av_at_step.set_index('step')\n",
    "\n",
    "\n",
    "rolling = df_av_at_step.ewm(adjust = True, span=1000).mean()\n",
    "rolling_se = df_av_at_step.ewm(adjust = True, span = 1000).std()\n",
    "rolling\n",
    "\n",
    "df_av_at_step['reward'] = (rolling['reward']/2) + .5\n",
    "df_av_at_step['reward_se'] = rolling_se['reward']\n",
    "df_av_at_step['length_se'] = rolling_se['length']\n",
    "df_av_at_step['length'] = rolling['length']\n",
    "\n",
    "df_av_at_step = df_av_at_step.fillna(0);df_av_at_step\n",
    "eval_pooledThirds = df_av_at_step\n",
    "eval_pooledThirds\n"
   ],
   "metadata": {
    "collapsed": false,
    "pycharm": {
     "name": "#%%\n"
    }
   }
  },
  {
   "cell_type": "code",
   "execution_count": 47,
   "metadata": {
    "pycharm": {
     "name": "#%%\n"
    }
   },
   "outputs": [],
   "source": [
    "\n",
    "pqr_agrs_100_30k = pd.read_csv('../../runs/cass_ALL_520/scalarOut/merge_noLP_mcts_GO.csv', header = 2)"
   ]
  },
  {
   "cell_type": "code",
   "execution_count": 48,
   "outputs": [
    {
     "data": {
      "text/plain": "          wall_time   step  run/total_games  run/total_wins  run/total_reward  \\\n0      1.621524e+09      0              1.0             0.0              -1.0   \n1      1.621524e+09     27              3.0             0.0              -1.0   \n2      1.621524e+09     68              5.0             1.0               1.0   \n3      1.621524e+09    110              7.0             1.0              -1.0   \n4      1.621524e+09    137              9.0             2.0               1.0   \n...             ...    ...              ...             ...               ...   \n23722  1.621524e+09  99826           5303.0           723.0              -1.0   \n23723  1.621524e+09  99877           5305.0           723.0              -1.0   \n23724  1.621524e+09  99920           5307.0           723.0              -1.0   \n23725  1.621524e+09  99955           5309.0           723.0              -1.0   \n23726  1.621524e+09  99993           5311.0           723.0              -1.0   \n\n       run/length  \n0            27.0  \n1            41.0  \n2            42.0  \n3            27.0  \n4            50.0  \n...           ...  \n23722        51.0  \n23723        43.0  \n23724        35.0  \n23725        38.0  \n23726        35.0  \n\n[23727 rows x 6 columns]",
      "text/html": "<div>\n<style scoped>\n    .dataframe tbody tr th:only-of-type {\n        vertical-align: middle;\n    }\n\n    .dataframe tbody tr th {\n        vertical-align: top;\n    }\n\n    .dataframe thead th {\n        text-align: right;\n    }\n</style>\n<table border=\"1\" class=\"dataframe\">\n  <thead>\n    <tr style=\"text-align: right;\">\n      <th></th>\n      <th>wall_time</th>\n      <th>step</th>\n      <th>run/total_games</th>\n      <th>run/total_wins</th>\n      <th>run/total_reward</th>\n      <th>run/length</th>\n    </tr>\n  </thead>\n  <tbody>\n    <tr>\n      <th>0</th>\n      <td>1.621524e+09</td>\n      <td>0</td>\n      <td>1.0</td>\n      <td>0.0</td>\n      <td>-1.0</td>\n      <td>27.0</td>\n    </tr>\n    <tr>\n      <th>1</th>\n      <td>1.621524e+09</td>\n      <td>27</td>\n      <td>3.0</td>\n      <td>0.0</td>\n      <td>-1.0</td>\n      <td>41.0</td>\n    </tr>\n    <tr>\n      <th>2</th>\n      <td>1.621524e+09</td>\n      <td>68</td>\n      <td>5.0</td>\n      <td>1.0</td>\n      <td>1.0</td>\n      <td>42.0</td>\n    </tr>\n    <tr>\n      <th>3</th>\n      <td>1.621524e+09</td>\n      <td>110</td>\n      <td>7.0</td>\n      <td>1.0</td>\n      <td>-1.0</td>\n      <td>27.0</td>\n    </tr>\n    <tr>\n      <th>4</th>\n      <td>1.621524e+09</td>\n      <td>137</td>\n      <td>9.0</td>\n      <td>2.0</td>\n      <td>1.0</td>\n      <td>50.0</td>\n    </tr>\n    <tr>\n      <th>...</th>\n      <td>...</td>\n      <td>...</td>\n      <td>...</td>\n      <td>...</td>\n      <td>...</td>\n      <td>...</td>\n    </tr>\n    <tr>\n      <th>23722</th>\n      <td>1.621524e+09</td>\n      <td>99826</td>\n      <td>5303.0</td>\n      <td>723.0</td>\n      <td>-1.0</td>\n      <td>51.0</td>\n    </tr>\n    <tr>\n      <th>23723</th>\n      <td>1.621524e+09</td>\n      <td>99877</td>\n      <td>5305.0</td>\n      <td>723.0</td>\n      <td>-1.0</td>\n      <td>43.0</td>\n    </tr>\n    <tr>\n      <th>23724</th>\n      <td>1.621524e+09</td>\n      <td>99920</td>\n      <td>5307.0</td>\n      <td>723.0</td>\n      <td>-1.0</td>\n      <td>35.0</td>\n    </tr>\n    <tr>\n      <th>23725</th>\n      <td>1.621524e+09</td>\n      <td>99955</td>\n      <td>5309.0</td>\n      <td>723.0</td>\n      <td>-1.0</td>\n      <td>38.0</td>\n    </tr>\n    <tr>\n      <th>23726</th>\n      <td>1.621524e+09</td>\n      <td>99993</td>\n      <td>5311.0</td>\n      <td>723.0</td>\n      <td>-1.0</td>\n      <td>35.0</td>\n    </tr>\n  </tbody>\n</table>\n<p>23727 rows × 6 columns</p>\n</div>"
     },
     "execution_count": 48,
     "metadata": {},
     "output_type": "execute_result"
    }
   ],
   "source": [
    "pqr_agrs_100_30k"
   ],
   "metadata": {
    "collapsed": false,
    "pycharm": {
     "name": "#%%\n"
    }
   }
  },
  {
   "cell_type": "code",
   "execution_count": 49,
   "outputs": [
    {
     "data": {
      "text/plain": "          step    reward     length  reward_se  length_se\n0          0.0  0.444444  40.222222   0.000000   0.000000\n1         26.0  0.222000  35.106000   0.628539   7.228203\n2         27.0  0.314852  37.575598   0.548162   6.658776\n3         30.0  0.486653  39.938771   0.818833   7.195777\n4         31.0  0.388933  37.541456   0.832103   8.209016\n...        ...       ...        ...        ...        ...\n21468  99988.0  0.408739  37.103190   0.955897   9.504803\n21469  99990.0  0.407922  37.100986   0.955639   9.495431\n21470  99991.0  0.409105  37.112772   0.956149   9.489600\n21471  99993.0  0.408288  37.108551   0.955892   9.480585\n21472  99997.0  0.407472  37.084358   0.955634   9.486547\n\n[21473 rows x 5 columns]",
      "text/html": "<div>\n<style scoped>\n    .dataframe tbody tr th:only-of-type {\n        vertical-align: middle;\n    }\n\n    .dataframe tbody tr th {\n        vertical-align: top;\n    }\n\n    .dataframe thead th {\n        text-align: right;\n    }\n</style>\n<table border=\"1\" class=\"dataframe\">\n  <thead>\n    <tr style=\"text-align: right;\">\n      <th></th>\n      <th>step</th>\n      <th>reward</th>\n      <th>length</th>\n      <th>reward_se</th>\n      <th>length_se</th>\n    </tr>\n  </thead>\n  <tbody>\n    <tr>\n      <th>0</th>\n      <td>0.0</td>\n      <td>0.444444</td>\n      <td>40.222222</td>\n      <td>0.000000</td>\n      <td>0.000000</td>\n    </tr>\n    <tr>\n      <th>1</th>\n      <td>26.0</td>\n      <td>0.222000</td>\n      <td>35.106000</td>\n      <td>0.628539</td>\n      <td>7.228203</td>\n    </tr>\n    <tr>\n      <th>2</th>\n      <td>27.0</td>\n      <td>0.314852</td>\n      <td>37.575598</td>\n      <td>0.548162</td>\n      <td>6.658776</td>\n    </tr>\n    <tr>\n      <th>3</th>\n      <td>30.0</td>\n      <td>0.486653</td>\n      <td>39.938771</td>\n      <td>0.818833</td>\n      <td>7.195777</td>\n    </tr>\n    <tr>\n      <th>4</th>\n      <td>31.0</td>\n      <td>0.388933</td>\n      <td>37.541456</td>\n      <td>0.832103</td>\n      <td>8.209016</td>\n    </tr>\n    <tr>\n      <th>...</th>\n      <td>...</td>\n      <td>...</td>\n      <td>...</td>\n      <td>...</td>\n      <td>...</td>\n    </tr>\n    <tr>\n      <th>21468</th>\n      <td>99988.0</td>\n      <td>0.408739</td>\n      <td>37.103190</td>\n      <td>0.955897</td>\n      <td>9.504803</td>\n    </tr>\n    <tr>\n      <th>21469</th>\n      <td>99990.0</td>\n      <td>0.407922</td>\n      <td>37.100986</td>\n      <td>0.955639</td>\n      <td>9.495431</td>\n    </tr>\n    <tr>\n      <th>21470</th>\n      <td>99991.0</td>\n      <td>0.409105</td>\n      <td>37.112772</td>\n      <td>0.956149</td>\n      <td>9.489600</td>\n    </tr>\n    <tr>\n      <th>21471</th>\n      <td>99993.0</td>\n      <td>0.408288</td>\n      <td>37.108551</td>\n      <td>0.955892</td>\n      <td>9.480585</td>\n    </tr>\n    <tr>\n      <th>21472</th>\n      <td>99997.0</td>\n      <td>0.407472</td>\n      <td>37.084358</td>\n      <td>0.955634</td>\n      <td>9.486547</td>\n    </tr>\n  </tbody>\n</table>\n<p>21473 rows × 5 columns</p>\n</div>"
     },
     "execution_count": 49,
     "metadata": {},
     "output_type": "execute_result"
    }
   ],
   "source": [
    "pqr_agrs_100_30k.sort_values(by='step', inplace=True)\n",
    "\n",
    "step_sums = dict()\n",
    "# {key: (reward_sum, count, length_of_run) }\n",
    "\n",
    "for index, row, in pqr_agrs_100_30k.iterrows():\n",
    "    step = row['step']\n",
    "\n",
    "    if step in step_sums:\n",
    "        # adding rewards for the step\n",
    "        step_sums[step][0] += row['run/total_reward']\n",
    "        step_sums[step][1] += 1\n",
    "        step_sums[step][2] += row['run/length']\n",
    "    else:\n",
    "        step_sums[step] = [0, 1, row['run/length']]\n",
    "        step_sums[step][0] += row['run/total_reward']\n",
    "\n",
    "\n",
    "# take average reward and length at each saved step\n",
    "df_av_at_step = pd.DataFrame(columns=['step', 'reward', 'length'])\n",
    "\n",
    "\n",
    "for key, value in step_sums.items():\n",
    "\n",
    "    mean_reward = value[0] / value[1]\n",
    "    mean_length = value[2] / value[1]\n",
    "\n",
    "\n",
    "    df_av_at_step = df_av_at_step.append({'step': key, 'reward': mean_reward, 'length': mean_length}, ignore_index=True)\n",
    "df_av_at_step.set_index('step')\n",
    "\n",
    "\n",
    "rolling = df_av_at_step.ewm(adjust = True, span=1000).mean()\n",
    "rolling_se = df_av_at_step.ewm(adjust = True, span = 1000).std()\n",
    "rolling\n",
    "\n",
    "# center at 50 and divide space by 2 to put between 0 and 1\n",
    "df_av_at_step['reward'] = (rolling['reward']/2) + .5\n",
    "df_av_at_step['reward_se'] = rolling_se['reward']\n",
    "df_av_at_step['length_se'] = rolling_se['length']\n",
    "df_av_at_step['length'] = rolling['length']\n",
    "\n",
    "df_av_at_step = df_av_at_step.fillna(0);df_av_at_step\n",
    "eval_pooled = df_av_at_step\n",
    "eval_pooled\n",
    "\n"
   ],
   "metadata": {
    "collapsed": false,
    "pycharm": {
     "name": "#%%\n"
    }
   }
  },
  {
   "cell_type": "code",
   "execution_count": 49,
   "metadata": {
    "pycharm": {
     "name": "#%%\n"
    }
   },
   "outputs": [],
   "source": []
  },
  {
   "cell_type": "code",
   "execution_count": 51,
   "metadata": {},
   "outputs": [
    {
     "data": {
      "text/plain": "<matplotlib.legend.Legend at 0x7fc54a0fdcd0>"
     },
     "execution_count": 51,
     "metadata": {},
     "output_type": "execute_result"
    },
    {
     "data": {
      "text/plain": "<Figure size 432x288 with 1 Axes>",
      "image/png": "[encoded data removed]"
     },
     "metadata": {
      "needs_background": "light"
     },
     "output_type": "display_data"
    }
   ],
   "source": [
    "import itertools\n",
    "marker = itertools.cycle((',', '+', 'o', '*'))\n",
    "\n",
    "\n",
    "fig, axs = plt.subplots(ncols=1)\n",
    "#plt.title('Mine Recycler, Fixed 10x10')\n",
    "#sns.lineplot(x=\"step\", y=\"reward\", data=eval_LP3_DFA ,ax=axs, ci=99, )\n",
    "col=sns.color_palette(\"tab10\")\n",
    "#sns.lineplot(x=\"step\", y=\"reward\", data=eval_LP3_DFA,ax=axs, ci=99,\n",
    " #            )\n",
    "sns.lineplot(x=\"step\", y=\"reward\", data=eval_pooledThirds,ax=axs, ci=99,\n",
    "             )\n",
    "\n",
    "sns.lineplot(x=\"step\", y=\"reward\", data=eval_pooled,ax=axs, ci=99,\n",
    "             )\n",
    "#axs.fill_between(x=eval_pooledThirds[\"step\"], y1=eval_pooledThirds[\"reward\"] + eval_pooledThirds[\"reward_se\"],\n",
    "#                y2=eval_pooledThirds[\"reward\"] - eval_pooledThirds[\"reward_se\"], alpha=.5)\n",
    "#axs.fill_between(x=eval_pooled[\"step\"], y1=eval_pooled[\"reward\"] + eval_pooled[\"reward_se\"],\n",
    "#                 y2=eval_pooled[\"reward\"] - eval_pooled[\"reward_se\"], alpha=.5)\n",
    "#axs.fill_between(x=df_no_lp_no_dfa[\"step\"], y1=df_no_lp_no_dfa[\"reward\"] + df_no_lp_no_dfa[\"reward_se\"],\n",
    "#                 y2=df_no_lp_no_dfa[\"reward\"] - df_no_lp_no_dfa[\"reward_se\"], alpha=.5)\n",
    "axs.set(xlabel='Play steps', ylabel='Win rate', ylim=(0.3, 0.7))\n",
    "#plt.title('Go - Evaluation post 100k steps self-play training per checkpoint')\n",
    "\n",
    "axs.legend(['LP','No LP'], loc=4)\n"
   ]
  },
  {
   "cell_type": "code",
   "execution_count": 9,
   "metadata": {},
   "outputs": [
    {
     "data": {
      "text/plain": "<matplotlib.legend.Legend at 0x7fd68698e910>"
     },
     "execution_count": 9,
     "metadata": {},
     "output_type": "execute_result"
    },
    {
     "data": {
      "text/plain": "<Figure size 432x288 with 1 Axes>",
      "image/png": "[encoded data removed]"
     },
     "metadata": {
      "needs_background": "light"
     },
     "output_type": "display_data"
    }
   ],
   "source": [
    "fig, axs = plt.subplots(ncols=1)\n",
    "#plt.title('Mine Recycler, Fixed 10x10')\n",
    "\n",
    "sns.lineplot(x=\"step\", y=\"length\", data=eval_pooled,ax=axs, ci=99,\n",
    "             )\n",
    "\n",
    "sns.lineplot(x=\"step\", y=\"length\", data=eval_pooledThirds,ax=axs, ci=99,\n",
    "             )\n",
    "axs.set(xlabel='Play steps', ylabel='Length per Episode')\n",
    "plt.title('Go - Evaluation post 100k steps self-play training per checkpoint')\n",
    "\n",
    "axs.legend(['LP', 'No LP'], loc=4)\n",
    "\n"
   ]
  },
  {
   "cell_type": "code",
   "execution_count": 9,
   "metadata": {},
   "outputs": [],
   "source": []
  },
  {
   "cell_type": "code",
   "execution_count": 9,
   "metadata": {},
   "outputs": [],
   "source": []
  },
  {
   "cell_type": "code",
   "execution_count": 17,
   "metadata": {},
   "outputs": [],
   "source": []
  },
  {
   "cell_type": "code",
   "execution_count": 17,
   "metadata": {},
   "outputs": [],
   "source": []
  },
  {
   "cell_type": "code",
   "execution_count": 17,
   "metadata": {},
   "outputs": [],
   "source": []
  },
  {
   "cell_type": "code",
   "execution_count": 17,
   "metadata": {},
   "outputs": [],
   "source": []
  },
  {
   "cell_type": "code",
   "execution_count": 17,
   "metadata": {},
   "outputs": [],
   "source": []
  }
 ],
 "metadata": {
  "kernelspec": {
   "name": "conda-env-vgcharm-py",
   "language": "python",
   "display_name": "Python [conda env:vgcharm] *"
  },
  "language_info": {
   "codemirror_mode": {
    "name": "ipython",
    "version": 3
   },
   "file_extension": ".py",
   "mimetype": "text/x-python",
   "name": "python",
   "nbconvert_exporter": "python",
   "pygments_lexer": "ipython3",
   "version": "3.7.6"
  },
  "pycharm": {
   "stem_cell": {
    "cell_type": "raw",
    "source": [
     "\n"
    ],
    "metadata": {
     "collapsed": false
    }
   }
  }
 },
 "nbformat": 4,
 "nbformat_minor": 1
}