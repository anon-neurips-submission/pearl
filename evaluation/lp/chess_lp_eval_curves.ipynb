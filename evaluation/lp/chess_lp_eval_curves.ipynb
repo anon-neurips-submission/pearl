{
 "cells": [
  {
   "cell_type": "code",
   "execution_count": 1,
   "metadata": {
    "pycharm": {
     "name": "#%%\n"
    }
   },
   "outputs": [],
   "source": [
    "import pandas as pd\n",
    "import seaborn as sns\n",
    "%matplotlib inline\n",
    "import matplotlib.pyplot as plt\n",
    "import numpy as np\n",
    "\n",
    "\n",
    "import numpy as np\n",
    "\n",
    "def sigmoid(x):\n",
    " return 1/(1 + np.exp(-x))"
   ]
  },
  {
   "cell_type": "code",
   "execution_count": 9,
   "metadata": {},
   "outputs": [],
   "source": [
    "\n",
    "\n",
    "\n",
    "pqr_agrs_100_30k = pd.read_csv('../../runs/cass_ALL_520/scalarOut/merge_LP_mcts_chess.csv', header = 2)"
   ]
  },
  {
   "cell_type": "code",
   "execution_count": 10,
   "outputs": [
    {
     "data": {
      "text/plain": "         wall_time   step  run/total_games  run/total_wins  run/total_reward  \\\n0     1.621531e+09    108              2.0             0.0              -1.0   \n1     1.621531e+09    155              4.0             0.0              -1.0   \n2     1.621531e+09    190              6.0             1.0               1.0   \n3     1.621531e+09    291              8.0             1.0              -1.0   \n4     1.621531e+09    389             10.0             1.0              -1.0   \n...            ...    ...              ...             ...               ...   \n6633  1.621550e+09  23728            546.0           132.0              -1.0   \n6634  1.621550e+09  23777            548.0           133.0               1.0   \n6635  1.621550e+09  23848            550.0           134.0               1.0   \n6636  1.621550e+09  23896            552.0           135.0               1.0   \n6637  1.621550e+09  23977            554.0           136.0               1.0   \n\n      run/length  \n0          108.0  \n1           47.0  \n2           34.0  \n3          101.0  \n4           98.0  \n...          ...  \n6633       110.0  \n6634        48.0  \n6635        70.0  \n6636        47.0  \n6637        80.0  \n\n[6638 rows x 6 columns]",
      "text/html": "<div>\n<style scoped>\n    .dataframe tbody tr th:only-of-type {\n        vertical-align: middle;\n    }\n\n    .dataframe tbody tr th {\n        vertical-align: top;\n    }\n\n    .dataframe thead th {\n        text-align: right;\n    }\n</style>\n<table border=\"1\" class=\"dataframe\">\n  <thead>\n    <tr style=\"text-align: right;\">\n      <th></th>\n      <th>wall_time</th>\n      <th>step</th>\n      <th>run/total_games</th>\n      <th>run/total_wins</th>\n      <th>run/total_reward</th>\n      <th>run/length</th>\n    </tr>\n  </thead>\n  <tbody>\n    <tr>\n      <th>0</th>\n      <td>1.621531e+09</td>\n      <td>108</td>\n      <td>2.0</td>\n      <td>0.0</td>\n      <td>-1.0</td>\n      <td>108.0</td>\n    </tr>\n    <tr>\n      <th>1</th>\n      <td>1.621531e+09</td>\n      <td>155</td>\n      <td>4.0</td>\n      <td>0.0</td>\n      <td>-1.0</td>\n      <td>47.0</td>\n    </tr>\n    <tr>\n      <th>2</th>\n      <td>1.621531e+09</td>\n      <td>190</td>\n      <td>6.0</td>\n      <td>1.0</td>\n      <td>1.0</td>\n      <td>34.0</td>\n    </tr>\n    <tr>\n      <th>3</th>\n      <td>1.621531e+09</td>\n      <td>291</td>\n      <td>8.0</td>\n      <td>1.0</td>\n      <td>-1.0</td>\n      <td>101.0</td>\n    </tr>\n    <tr>\n      <th>4</th>\n      <td>1.621531e+09</td>\n      <td>389</td>\n      <td>10.0</td>\n      <td>1.0</td>\n      <td>-1.0</td>\n      <td>98.0</td>\n    </tr>\n    <tr>\n      <th>...</th>\n      <td>...</td>\n      <td>...</td>\n      <td>...</td>\n      <td>...</td>\n      <td>...</td>\n      <td>...</td>\n    </tr>\n    <tr>\n      <th>6633</th>\n      <td>1.621550e+09</td>\n      <td>23728</td>\n      <td>546.0</td>\n      <td>132.0</td>\n      <td>-1.0</td>\n      <td>110.0</td>\n    </tr>\n    <tr>\n      <th>6634</th>\n      <td>1.621550e+09</td>\n      <td>23777</td>\n      <td>548.0</td>\n      <td>133.0</td>\n      <td>1.0</td>\n      <td>48.0</td>\n    </tr>\n    <tr>\n      <th>6635</th>\n      <td>1.621550e+09</td>\n      <td>23848</td>\n      <td>550.0</td>\n      <td>134.0</td>\n      <td>1.0</td>\n      <td>70.0</td>\n    </tr>\n    <tr>\n      <th>6636</th>\n      <td>1.621550e+09</td>\n      <td>23896</td>\n      <td>552.0</td>\n      <td>135.0</td>\n      <td>1.0</td>\n      <td>47.0</td>\n    </tr>\n    <tr>\n      <th>6637</th>\n      <td>1.621550e+09</td>\n      <td>23977</td>\n      <td>554.0</td>\n      <td>136.0</td>\n      <td>1.0</td>\n      <td>80.0</td>\n    </tr>\n  </tbody>\n</table>\n<p>6638 rows × 6 columns</p>\n</div>"
     },
     "execution_count": 10,
     "metadata": {},
     "output_type": "execute_result"
    }
   ],
   "source": [
    "pqr_agrs_100_30k"
   ],
   "metadata": {
    "collapsed": false,
    "pycharm": {
     "name": "#%%\n"
    }
   }
  },
  {
   "cell_type": "code",
   "execution_count": 11,
   "outputs": [
    {
     "data": {
      "text/plain": "          step    reward     length  reward_se  length_se\n0          8.0  0.000000   8.000000   0.000000   0.000000\n1         84.0  0.000000  46.038000   0.000000  53.740115\n2        108.0  0.000000  66.733322   0.000000  52.188107\n3        123.0  0.000000  80.842219   0.000000  51.058630\n4        130.0  0.200801  90.512340   0.895768  49.178324\n...        ...       ...        ...        ...        ...\n5479  100019.0  0.538765  92.812022   0.992774  39.328259\n5480  100031.0  0.537689  92.776433   0.992949  39.297008\n5481  100040.0  0.536614  92.890768   0.993120  39.340888\n5482  100094.0  0.535542  92.952925   0.993285  39.326135\n5483  100097.0  0.536470  92.982990   0.993160  39.292579\n\n[5484 rows x 5 columns]",
      "text/html": "<div>\n<style scoped>\n    .dataframe tbody tr th:only-of-type {\n        vertical-align: middle;\n    }\n\n    .dataframe tbody tr th {\n        vertical-align: top;\n    }\n\n    .dataframe thead th {\n        text-align: right;\n    }\n</style>\n<table border=\"1\" class=\"dataframe\">\n  <thead>\n    <tr style=\"text-align: right;\">\n      <th></th>\n      <th>step</th>\n      <th>reward</th>\n      <th>length</th>\n      <th>reward_se</th>\n      <th>length_se</th>\n    </tr>\n  </thead>\n  <tbody>\n    <tr>\n      <th>0</th>\n      <td>8.0</td>\n      <td>0.000000</td>\n      <td>8.000000</td>\n      <td>0.000000</td>\n      <td>0.000000</td>\n    </tr>\n    <tr>\n      <th>1</th>\n      <td>84.0</td>\n      <td>0.000000</td>\n      <td>46.038000</td>\n      <td>0.000000</td>\n      <td>53.740115</td>\n    </tr>\n    <tr>\n      <th>2</th>\n      <td>108.0</td>\n      <td>0.000000</td>\n      <td>66.733322</td>\n      <td>0.000000</td>\n      <td>52.188107</td>\n    </tr>\n    <tr>\n      <th>3</th>\n      <td>123.0</td>\n      <td>0.000000</td>\n      <td>80.842219</td>\n      <td>0.000000</td>\n      <td>51.058630</td>\n    </tr>\n    <tr>\n      <th>4</th>\n      <td>130.0</td>\n      <td>0.200801</td>\n      <td>90.512340</td>\n      <td>0.895768</td>\n      <td>49.178324</td>\n    </tr>\n    <tr>\n      <th>...</th>\n      <td>...</td>\n      <td>...</td>\n      <td>...</td>\n      <td>...</td>\n      <td>...</td>\n    </tr>\n    <tr>\n      <th>5479</th>\n      <td>100019.0</td>\n      <td>0.538765</td>\n      <td>92.812022</td>\n      <td>0.992774</td>\n      <td>39.328259</td>\n    </tr>\n    <tr>\n      <th>5480</th>\n      <td>100031.0</td>\n      <td>0.537689</td>\n      <td>92.776433</td>\n      <td>0.992949</td>\n      <td>39.297008</td>\n    </tr>\n    <tr>\n      <th>5481</th>\n      <td>100040.0</td>\n      <td>0.536614</td>\n      <td>92.890768</td>\n      <td>0.993120</td>\n      <td>39.340888</td>\n    </tr>\n    <tr>\n      <th>5482</th>\n      <td>100094.0</td>\n      <td>0.535542</td>\n      <td>92.952925</td>\n      <td>0.993285</td>\n      <td>39.326135</td>\n    </tr>\n    <tr>\n      <th>5483</th>\n      <td>100097.0</td>\n      <td>0.536470</td>\n      <td>92.982990</td>\n      <td>0.993160</td>\n      <td>39.292579</td>\n    </tr>\n  </tbody>\n</table>\n<p>5484 rows × 5 columns</p>\n</div>"
     },
     "execution_count": 11,
     "metadata": {},
     "output_type": "execute_result"
    }
   ],
   "source": [
    "pqr_agrs_100_30k.sort_values(by='step', inplace=True)\n",
    "\n",
    "step_sums = dict()\n",
    "# {key: (reward_sum, count, length_of_run) }\n",
    "\n",
    "for index, row, in pqr_agrs_100_30k.iterrows():\n",
    "    step = row['step']\n",
    "\n",
    "    if step in step_sums:\n",
    "        # adding rewards for the step\n",
    "        step_sums[step][0] += row['run/total_reward']\n",
    "        step_sums[step][1] += 1\n",
    "        step_sums[step][2] += row['run/length']\n",
    "    else:\n",
    "        step_sums[step] = [0, 1, row['run/length']]\n",
    "        step_sums[step][0] += row['run/total_reward']\n",
    "\n",
    "\n",
    "# take average reward and length at each saved step\n",
    "df_av_at_step = pd.DataFrame(columns=['step', 'reward', 'length'])\n",
    "\n",
    "\n",
    "for key, value in step_sums.items():\n",
    "\n",
    "    mean_reward = value[0] / value[1]\n",
    "    mean_length = value[2] / value[1]\n",
    "\n",
    "\n",
    "    df_av_at_step = df_av_at_step.append({'step': key, 'reward': mean_reward, 'length': mean_length}, ignore_index=True)\n",
    "df_av_at_step.set_index('step')\n",
    "\n",
    "\n",
    "rolling = df_av_at_step.ewm(adjust = True, span=1000).mean()\n",
    "rolling_se = df_av_at_step.ewm(adjust = True, span = 1000).std()\n",
    "rolling\n",
    "\n",
    "df_av_at_step['reward'] = (rolling['reward']/2) + .5\n",
    "df_av_at_step['reward_se'] = rolling_se['reward']\n",
    "df_av_at_step['length_se'] = rolling_se['length']\n",
    "df_av_at_step['length'] = rolling['length']\n",
    "\n",
    "df_av_at_step = df_av_at_step.fillna(0);df_av_at_step\n",
    "eval_pooledThirds = df_av_at_step\n",
    "eval_pooledThirds\n"
   ],
   "metadata": {
    "collapsed": false,
    "pycharm": {
     "name": "#%%\n"
    }
   }
  },
  {
   "cell_type": "code",
   "execution_count": 12,
   "metadata": {
    "pycharm": {
     "name": "#%%\n"
    }
   },
   "outputs": [],
   "source": [
    "\n",
    "pqr_agrs_100_30k = pd.read_csv('../../runs/cass_ALL_520/scalarOut/merge_noLP_mcts_chess.csv', header = 2)"
   ]
  },
  {
   "cell_type": "code",
   "execution_count": 13,
   "outputs": [
    {
     "data": {
      "text/plain": "         wall_time   step  run/total_games  run/total_wins  run/total_reward  \\\n0     1.621549e+09      0              1.0             1.0               1.0   \n1     1.621549e+09      8              3.0             1.0              -1.0   \n2     1.621549e+09    134              5.0             1.0              -1.0   \n3     1.621549e+09    203              7.0             2.0               1.0   \n4     1.621549e+09    367              9.0             3.0               1.0   \n...            ...    ...              ...             ...               ...   \n6633  1.621548e+09  99640           2109.0           487.0               1.0   \n6634  1.621548e+09  99823           2111.0           487.0              -1.0   \n6635  1.621548e+09  99831           2113.0           487.0              -1.0   \n6636  1.621548e+09  99930           2115.0           487.0              -1.0   \n6637  1.621548e+09  99969           2117.0           488.0               1.0   \n\n      run/length  \n0            8.0  \n1          126.0  \n2           69.0  \n3          164.0  \n4          130.0  \n...          ...  \n6633       183.0  \n6634         8.0  \n6635        99.0  \n6636        39.0  \n6637        50.0  \n\n[6638 rows x 6 columns]",
      "text/html": "<div>\n<style scoped>\n    .dataframe tbody tr th:only-of-type {\n        vertical-align: middle;\n    }\n\n    .dataframe tbody tr th {\n        vertical-align: top;\n    }\n\n    .dataframe thead th {\n        text-align: right;\n    }\n</style>\n<table border=\"1\" class=\"dataframe\">\n  <thead>\n    <tr style=\"text-align: right;\">\n      <th></th>\n      <th>wall_time</th>\n      <th>step</th>\n      <th>run/total_games</th>\n      <th>run/total_wins</th>\n      <th>run/total_reward</th>\n      <th>run/length</th>\n    </tr>\n  </thead>\n  <tbody>\n    <tr>\n      <th>0</th>\n      <td>1.621549e+09</td>\n      <td>0</td>\n      <td>1.0</td>\n      <td>1.0</td>\n      <td>1.0</td>\n      <td>8.0</td>\n    </tr>\n    <tr>\n      <th>1</th>\n      <td>1.621549e+09</td>\n      <td>8</td>\n      <td>3.0</td>\n      <td>1.0</td>\n      <td>-1.0</td>\n      <td>126.0</td>\n    </tr>\n    <tr>\n      <th>2</th>\n      <td>1.621549e+09</td>\n      <td>134</td>\n      <td>5.0</td>\n      <td>1.0</td>\n      <td>-1.0</td>\n      <td>69.0</td>\n    </tr>\n    <tr>\n      <th>3</th>\n      <td>1.621549e+09</td>\n      <td>203</td>\n      <td>7.0</td>\n      <td>2.0</td>\n      <td>1.0</td>\n      <td>164.0</td>\n    </tr>\n    <tr>\n      <th>4</th>\n      <td>1.621549e+09</td>\n      <td>367</td>\n      <td>9.0</td>\n      <td>3.0</td>\n      <td>1.0</td>\n      <td>130.0</td>\n    </tr>\n    <tr>\n      <th>...</th>\n      <td>...</td>\n      <td>...</td>\n      <td>...</td>\n      <td>...</td>\n      <td>...</td>\n      <td>...</td>\n    </tr>\n    <tr>\n      <th>6633</th>\n      <td>1.621548e+09</td>\n      <td>99640</td>\n      <td>2109.0</td>\n      <td>487.0</td>\n      <td>1.0</td>\n      <td>183.0</td>\n    </tr>\n    <tr>\n      <th>6634</th>\n      <td>1.621548e+09</td>\n      <td>99823</td>\n      <td>2111.0</td>\n      <td>487.0</td>\n      <td>-1.0</td>\n      <td>8.0</td>\n    </tr>\n    <tr>\n      <th>6635</th>\n      <td>1.621548e+09</td>\n      <td>99831</td>\n      <td>2113.0</td>\n      <td>487.0</td>\n      <td>-1.0</td>\n      <td>99.0</td>\n    </tr>\n    <tr>\n      <th>6636</th>\n      <td>1.621548e+09</td>\n      <td>99930</td>\n      <td>2115.0</td>\n      <td>487.0</td>\n      <td>-1.0</td>\n      <td>39.0</td>\n    </tr>\n    <tr>\n      <th>6637</th>\n      <td>1.621548e+09</td>\n      <td>99969</td>\n      <td>2117.0</td>\n      <td>488.0</td>\n      <td>1.0</td>\n      <td>50.0</td>\n    </tr>\n  </tbody>\n</table>\n<p>6638 rows × 6 columns</p>\n</div>"
     },
     "execution_count": 13,
     "metadata": {},
     "output_type": "execute_result"
    }
   ],
   "source": [
    "pqr_agrs_100_30k"
   ],
   "metadata": {
    "collapsed": false,
    "pycharm": {
     "name": "#%%\n"
    }
   }
  },
  {
   "cell_type": "code",
   "execution_count": 14,
   "outputs": [
    {
     "data": {
      "text/plain": "         step    reward      length  reward_se  length_se\n0         0.0  0.571429  102.571429   0.000000   0.000000\n1         8.0  0.285429  114.297429   0.808122  16.566502\n2        84.0  0.524096  107.518083   1.003843  16.569643\n3       108.0  0.643429   92.343143   0.947664  33.170666\n4       123.0  0.514228  112.555121   1.002532  53.449375\n...       ...       ...         ...        ...        ...\n5474  99930.0  0.462792   93.495893   0.992939  39.166135\n5475  99956.0  0.463866   93.458938   0.993108  39.135713\n5476  99969.0  0.464937   93.372105   0.993271  39.144778\n5477  99970.0  0.466006   93.433301   0.993429  39.129586\n5478  99988.0  0.465075   93.464404   0.993309  39.096661\n\n[5479 rows x 5 columns]",
      "text/html": "<div>\n<style scoped>\n    .dataframe tbody tr th:only-of-type {\n        vertical-align: middle;\n    }\n\n    .dataframe tbody tr th {\n        vertical-align: top;\n    }\n\n    .dataframe thead th {\n        text-align: right;\n    }\n</style>\n<table border=\"1\" class=\"dataframe\">\n  <thead>\n    <tr style=\"text-align: right;\">\n      <th></th>\n      <th>step</th>\n      <th>reward</th>\n      <th>length</th>\n      <th>reward_se</th>\n      <th>length_se</th>\n    </tr>\n  </thead>\n  <tbody>\n    <tr>\n      <th>0</th>\n      <td>0.0</td>\n      <td>0.571429</td>\n      <td>102.571429</td>\n      <td>0.000000</td>\n      <td>0.000000</td>\n    </tr>\n    <tr>\n      <th>1</th>\n      <td>8.0</td>\n      <td>0.285429</td>\n      <td>114.297429</td>\n      <td>0.808122</td>\n      <td>16.566502</td>\n    </tr>\n    <tr>\n      <th>2</th>\n      <td>84.0</td>\n      <td>0.524096</td>\n      <td>107.518083</td>\n      <td>1.003843</td>\n      <td>16.569643</td>\n    </tr>\n    <tr>\n      <th>3</th>\n      <td>108.0</td>\n      <td>0.643429</td>\n      <td>92.343143</td>\n      <td>0.947664</td>\n      <td>33.170666</td>\n    </tr>\n    <tr>\n      <th>4</th>\n      <td>123.0</td>\n      <td>0.514228</td>\n      <td>112.555121</td>\n      <td>1.002532</td>\n      <td>53.449375</td>\n    </tr>\n    <tr>\n      <th>...</th>\n      <td>...</td>\n      <td>...</td>\n      <td>...</td>\n      <td>...</td>\n      <td>...</td>\n    </tr>\n    <tr>\n      <th>5474</th>\n      <td>99930.0</td>\n      <td>0.462792</td>\n      <td>93.495893</td>\n      <td>0.992939</td>\n      <td>39.166135</td>\n    </tr>\n    <tr>\n      <th>5475</th>\n      <td>99956.0</td>\n      <td>0.463866</td>\n      <td>93.458938</td>\n      <td>0.993108</td>\n      <td>39.135713</td>\n    </tr>\n    <tr>\n      <th>5476</th>\n      <td>99969.0</td>\n      <td>0.464937</td>\n      <td>93.372105</td>\n      <td>0.993271</td>\n      <td>39.144778</td>\n    </tr>\n    <tr>\n      <th>5477</th>\n      <td>99970.0</td>\n      <td>0.466006</td>\n      <td>93.433301</td>\n      <td>0.993429</td>\n      <td>39.129586</td>\n    </tr>\n    <tr>\n      <th>5478</th>\n      <td>99988.0</td>\n      <td>0.465075</td>\n      <td>93.464404</td>\n      <td>0.993309</td>\n      <td>39.096661</td>\n    </tr>\n  </tbody>\n</table>\n<p>5479 rows × 5 columns</p>\n</div>"
     },
     "execution_count": 14,
     "metadata": {},
     "output_type": "execute_result"
    }
   ],
   "source": [
    "pqr_agrs_100_30k.sort_values(by='step', inplace=True)\n",
    "\n",
    "step_sums = dict()\n",
    "# {key: (reward_sum, count, length_of_run) }\n",
    "\n",
    "for index, row, in pqr_agrs_100_30k.iterrows():\n",
    "    step = row['step']\n",
    "\n",
    "    if step in step_sums:\n",
    "        # adding rewards for the step\n",
    "        step_sums[step][0] += row['run/total_reward']\n",
    "        step_sums[step][1] += 1\n",
    "        step_sums[step][2] += row['run/length']\n",
    "    else:\n",
    "        step_sums[step] = [0, 1, row['run/length']]\n",
    "        step_sums[step][0] += row['run/total_reward']\n",
    "\n",
    "\n",
    "# take average reward and length at each saved step\n",
    "df_av_at_step = pd.DataFrame(columns=['step', 'reward', 'length'])\n",
    "\n",
    "\n",
    "for key, value in step_sums.items():\n",
    "\n",
    "    mean_reward = value[0] / value[1]\n",
    "    mean_length = value[2] / value[1]\n",
    "\n",
    "\n",
    "    df_av_at_step = df_av_at_step.append({'step': key, 'reward': mean_reward, 'length': mean_length}, ignore_index=True)\n",
    "df_av_at_step.set_index('step')\n",
    "\n",
    "\n",
    "rolling = df_av_at_step.ewm(adjust = True, span=1000).mean()\n",
    "rolling_se = df_av_at_step.ewm(adjust = True, span = 1000).std()\n",
    "rolling\n",
    "\n",
    "# center at 50 and divide space by 2 to put between 0 and 1\n",
    "df_av_at_step['reward'] = (rolling['reward']/2) + .5\n",
    "df_av_at_step['reward_se'] = rolling_se['reward']\n",
    "df_av_at_step['length_se'] = rolling_se['length']\n",
    "df_av_at_step['length'] = rolling['length']\n",
    "\n",
    "df_av_at_step = df_av_at_step.fillna(0);df_av_at_step\n",
    "eval_pooled = df_av_at_step\n",
    "eval_pooled\n",
    "\n"
   ],
   "metadata": {
    "collapsed": false,
    "pycharm": {
     "name": "#%%\n"
    }
   }
  },
  {
   "cell_type": "code",
   "execution_count": 14,
   "metadata": {
    "pycharm": {
     "name": "#%%\n"
    }
   },
   "outputs": [],
   "source": []
  },
  {
   "cell_type": "code",
   "execution_count": 15,
   "metadata": {},
   "outputs": [
    {
     "data": {
      "text/plain": "<matplotlib.legend.Legend at 0x7fc54a53ec90>"
     },
     "execution_count": 15,
     "metadata": {},
     "output_type": "execute_result"
    },
    {
     "data": {
      "text/plain": "<Figure size 432x288 with 1 Axes>",
      "image/png": "[encoded data removed]"
     },
     "metadata": {
      "needs_background": "light"
     },
     "output_type": "display_data"
    }
   ],
   "source": [
    "import itertools\n",
    "marker = itertools.cycle((',', '+', 'o', '*'))\n",
    "\n",
    "\n",
    "fig, axs = plt.subplots(ncols=1)\n",
    "#plt.title('Mine Recycler, Fixed 10x10')\n",
    "#sns.lineplot(x=\"step\", y=\"reward\", data=eval_LP3_DFA ,ax=axs, ci=99, )\n",
    "col=sns.color_palette(\"tab10\")\n",
    "#sns.lineplot(x=\"step\", y=\"reward\", data=eval_LP3_DFA,ax=axs, ci=99,\n",
    " #            )\n",
    "sns.lineplot(x=\"step\", y=\"reward\", data=eval_pooledThirds,ax=axs, ci=99,\n",
    "             )\n",
    "\n",
    "sns.lineplot(x=\"step\", y=\"reward\", data=eval_pooled,ax=axs, ci=99,\n",
    "             )\n",
    "#axs.fill_between(x=eval_pooledThirds[\"step\"], y1=eval_pooledThirds[\"reward\"] + eval_pooledThirds[\"reward_se\"],\n",
    "#                y2=eval_pooledThirds[\"reward\"] - eval_pooledThirds[\"reward_se\"], alpha=.5)\n",
    "#axs.fill_between(x=eval_pooled[\"step\"], y1=eval_pooled[\"reward\"] + eval_pooled[\"reward_se\"],\n",
    "#                 y2=eval_pooled[\"reward\"] - eval_pooled[\"reward_se\"], alpha=.5)\n",
    "#axs.fill_between(x=df_no_lp_no_dfa[\"step\"], y1=df_no_lp_no_dfa[\"reward\"] + df_no_lp_no_dfa[\"reward_se\"],\n",
    "#                 y2=df_no_lp_no_dfa[\"reward\"] - df_no_lp_no_dfa[\"reward_se\"], alpha=.5)\n",
    "axs.set(xlabel='Play steps', ylabel='Win rate', ylim=(0.3, 0.7))\n",
    "#plt.title('Go - Evaluation post 100k steps self-play training per checkpoint')\n",
    "\n",
    "axs.legend(['LP','No LP'], loc=4)\n"
   ]
  },
  {
   "cell_type": "code",
   "execution_count": 9,
   "metadata": {},
   "outputs": [
    {
     "data": {
      "text/plain": "<matplotlib.legend.Legend at 0x7fd68698e910>"
     },
     "execution_count": 9,
     "metadata": {},
     "output_type": "execute_result"
    },
    {
     "data": {
      "text/plain": "<Figure size 432x288 with 1 Axes>",
      "image/png": "[encoded data removed]"
     },
     "metadata": {
      "needs_background": "light"
     },
     "output_type": "display_data"
    }
   ],
   "source": [
    "fig, axs = plt.subplots(ncols=1)\n",
    "#plt.title('Mine Recycler, Fixed 10x10')\n",
    "\n",
    "sns.lineplot(x=\"step\", y=\"length\", data=eval_pooled,ax=axs, ci=99,\n",
    "             )\n",
    "\n",
    "sns.lineplot(x=\"step\", y=\"length\", data=eval_pooledThirds,ax=axs, ci=99,\n",
    "             )\n",
    "axs.set(xlabel='Play steps', ylabel='Length per Episode')\n",
    "plt.title('Go - Evaluation post 100k steps self-play training per checkpoint')\n",
    "\n",
    "axs.legend(['LP', 'No LP'], loc=4)\n",
    "\n"
   ]
  },
  {
   "cell_type": "code",
   "execution_count": 9,
   "metadata": {},
   "outputs": [],
   "source": []
  },
  {
   "cell_type": "code",
   "execution_count": 9,
   "metadata": {},
   "outputs": [],
   "source": []
  },
  {
   "cell_type": "code",
   "execution_count": 17,
   "metadata": {},
   "outputs": [],
   "source": []
  },
  {
   "cell_type": "code",
   "execution_count": 17,
   "metadata": {},
   "outputs": [],
   "source": []
  },
  {
   "cell_type": "code",
   "execution_count": 17,
   "metadata": {},
   "outputs": [],
   "source": []
  },
  {
   "cell_type": "code",
   "execution_count": 17,
   "metadata": {},
   "outputs": [],
   "source": []
  },
  {
   "cell_type": "code",
   "execution_count": 17,
   "metadata": {},
   "outputs": [],
   "source": []
  }
 ],
 "metadata": {
  "kernelspec": {
   "name": "conda-env-vgcharm-py",
   "language": "python",
   "display_name": "Python [conda env:vgcharm] *"
  },
  "language_info": {
   "codemirror_mode": {
    "name": "ipython",
    "version": 3
   },
   "file_extension": ".py",
   "mimetype": "text/x-python",
   "name": "python",
   "nbconvert_exporter": "python",
   "pygments_lexer": "ipython3",
   "version": "3.7.6"
  },
  "pycharm": {
   "stem_cell": {
    "cell_type": "raw",
    "source": [
     "\n"
    ],
    "metadata": {
     "collapsed": false
    }
   }
  }
 },
 "nbformat": 4,
 "nbformat_minor": 1
}