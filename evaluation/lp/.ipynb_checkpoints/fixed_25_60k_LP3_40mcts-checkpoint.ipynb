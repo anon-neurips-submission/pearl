{
 "cells": [
  {
   "cell_type": "code",
   "execution_count": 2,
   "metadata": {
    "pycharm": {
     "name": "#%%\n"
    }
   },
   "outputs": [],
   "source": [
    "import pandas as pd\n",
    "import seaborn as sns\n",
    "%matplotlib inline\n",
    "import matplotlib.pyplot as plt\n",
    "import numpy as np"
   ]
  },
  {
   "cell_type": "code",
   "execution_count": null,
   "metadata": {},
   "outputs": [],
   "source": [
    "\n"
   ]
  },
  {
   "cell_type": "code",
   "execution_count": null,
   "metadata": {
    "pycharm": {
     "name": "#%%\n"
    }
   },
   "outputs": [],
   "source": [
    "\n"
   ]
  },
  {
   "cell_type": "code",
   "execution_count": 3,
   "metadata": {},
   "outputs": [],
   "source": [
    "pqr_agrs_100_30k = pd.read_csv('../../lp_csv/mLP3.csv', header = 2)"
   ]
  },
  {
   "cell_type": "code",
   "execution_count": 4,
   "metadata": {},
   "outputs": [
    {
     "data": {
      "text/html": [
       "<div>\n",
       "<style scoped>\n",
       "    .dataframe tbody tr th:only-of-type {\n",
       "        vertical-align: middle;\n",
       "    }\n",
       "\n",
       "    .dataframe tbody tr th {\n",
       "        vertical-align: top;\n",
       "    }\n",
       "\n",
       "    .dataframe thead th {\n",
       "        text-align: right;\n",
       "    }\n",
       "</style>\n",
       "<table border=\"1\" class=\"dataframe\">\n",
       "  <thead>\n",
       "    <tr style=\"text-align: right;\">\n",
       "      <th></th>\n",
       "      <th>wall_time</th>\n",
       "      <th>step</th>\n",
       "      <th>run/total_reward</th>\n",
       "      <th>run/length</th>\n",
       "      <th>lp/lp_total_reward</th>\n",
       "      <th>lp/lp_length</th>\n",
       "      <th>lp/count_used_lp</th>\n",
       "      <th>loss/value_loss</th>\n",
       "      <th>loss/policy_loss</th>\n",
       "      <th>loss/agent_loss</th>\n",
       "      <th>loss/entropy</th>\n",
       "      <th>total_loss</th>\n",
       "    </tr>\n",
       "  </thead>\n",
       "  <tbody>\n",
       "    <tr>\n",
       "      <th>0</th>\n",
       "      <td>1.606572e+09</td>\n",
       "      <td>0</td>\n",
       "      <td>0.0</td>\n",
       "      <td>100.0</td>\n",
       "      <td>0.0</td>\n",
       "      <td>0.0</td>\n",
       "      <td>0.0</td>\n",
       "      <td>0.000272</td>\n",
       "      <td>1.699034</td>\n",
       "      <td>1.699306</td>\n",
       "      <td>1.788294</td>\n",
       "      <td>1.699306</td>\n",
       "    </tr>\n",
       "    <tr>\n",
       "      <th>1</th>\n",
       "      <td>1.606572e+09</td>\n",
       "      <td>100</td>\n",
       "      <td>1.0</td>\n",
       "      <td>43.0</td>\n",
       "      <td>0.0</td>\n",
       "      <td>0.0</td>\n",
       "      <td>0.0</td>\n",
       "      <td>0.179110</td>\n",
       "      <td>1.206681</td>\n",
       "      <td>1.385790</td>\n",
       "      <td>0.983613</td>\n",
       "      <td>1.385790</td>\n",
       "    </tr>\n",
       "    <tr>\n",
       "      <th>2</th>\n",
       "      <td>1.606572e+09</td>\n",
       "      <td>143</td>\n",
       "      <td>0.0</td>\n",
       "      <td>100.0</td>\n",
       "      <td>0.0</td>\n",
       "      <td>0.0</td>\n",
       "      <td>0.0</td>\n",
       "      <td>0.090715</td>\n",
       "      <td>1.018804</td>\n",
       "      <td>1.109519</td>\n",
       "      <td>1.073544</td>\n",
       "      <td>1.109519</td>\n",
       "    </tr>\n",
       "    <tr>\n",
       "      <th>3</th>\n",
       "      <td>1.606572e+09</td>\n",
       "      <td>243</td>\n",
       "      <td>0.0</td>\n",
       "      <td>100.0</td>\n",
       "      <td>0.0</td>\n",
       "      <td>0.0</td>\n",
       "      <td>0.0</td>\n",
       "      <td>0.042355</td>\n",
       "      <td>1.068833</td>\n",
       "      <td>1.111188</td>\n",
       "      <td>1.268782</td>\n",
       "      <td>1.111188</td>\n",
       "    </tr>\n",
       "    <tr>\n",
       "      <th>4</th>\n",
       "      <td>1.606572e+09</td>\n",
       "      <td>343</td>\n",
       "      <td>0.0</td>\n",
       "      <td>100.0</td>\n",
       "      <td>0.0</td>\n",
       "      <td>0.0</td>\n",
       "      <td>0.0</td>\n",
       "      <td>0.061504</td>\n",
       "      <td>1.355460</td>\n",
       "      <td>1.416963</td>\n",
       "      <td>1.228502</td>\n",
       "      <td>1.416963</td>\n",
       "    </tr>\n",
       "    <tr>\n",
       "      <th>...</th>\n",
       "      <td>...</td>\n",
       "      <td>...</td>\n",
       "      <td>...</td>\n",
       "      <td>...</td>\n",
       "      <td>...</td>\n",
       "      <td>...</td>\n",
       "      <td>...</td>\n",
       "      <td>...</td>\n",
       "      <td>...</td>\n",
       "      <td>...</td>\n",
       "      <td>...</td>\n",
       "      <td>...</td>\n",
       "    </tr>\n",
       "    <tr>\n",
       "      <th>45514</th>\n",
       "      <td>1.606632e+09</td>\n",
       "      <td>59910</td>\n",
       "      <td>1.0</td>\n",
       "      <td>24.0</td>\n",
       "      <td>0.0</td>\n",
       "      <td>0.0</td>\n",
       "      <td>1.0</td>\n",
       "      <td>0.003391</td>\n",
       "      <td>0.619442</td>\n",
       "      <td>0.622833</td>\n",
       "      <td>0.521876</td>\n",
       "      <td>0.622833</td>\n",
       "    </tr>\n",
       "    <tr>\n",
       "      <th>45515</th>\n",
       "      <td>1.606632e+09</td>\n",
       "      <td>59934</td>\n",
       "      <td>1.0</td>\n",
       "      <td>29.0</td>\n",
       "      <td>0.0</td>\n",
       "      <td>0.0</td>\n",
       "      <td>1.0</td>\n",
       "      <td>0.015159</td>\n",
       "      <td>0.667284</td>\n",
       "      <td>0.682443</td>\n",
       "      <td>0.588962</td>\n",
       "      <td>0.682443</td>\n",
       "    </tr>\n",
       "    <tr>\n",
       "      <th>45516</th>\n",
       "      <td>1.606632e+09</td>\n",
       "      <td>59963</td>\n",
       "      <td>1.0</td>\n",
       "      <td>15.0</td>\n",
       "      <td>0.0</td>\n",
       "      <td>0.0</td>\n",
       "      <td>1.0</td>\n",
       "      <td>0.016581</td>\n",
       "      <td>0.556762</td>\n",
       "      <td>0.573343</td>\n",
       "      <td>0.583876</td>\n",
       "      <td>0.573343</td>\n",
       "    </tr>\n",
       "    <tr>\n",
       "      <th>45517</th>\n",
       "      <td>1.606632e+09</td>\n",
       "      <td>59978</td>\n",
       "      <td>1.0</td>\n",
       "      <td>15.0</td>\n",
       "      <td>0.0</td>\n",
       "      <td>0.0</td>\n",
       "      <td>1.0</td>\n",
       "      <td>0.009564</td>\n",
       "      <td>0.421157</td>\n",
       "      <td>0.430720</td>\n",
       "      <td>0.462350</td>\n",
       "      <td>0.430720</td>\n",
       "    </tr>\n",
       "    <tr>\n",
       "      <th>45518</th>\n",
       "      <td>1.606632e+09</td>\n",
       "      <td>59993</td>\n",
       "      <td>1.0</td>\n",
       "      <td>29.0</td>\n",
       "      <td>0.0</td>\n",
       "      <td>0.0</td>\n",
       "      <td>1.0</td>\n",
       "      <td>0.024498</td>\n",
       "      <td>0.513277</td>\n",
       "      <td>0.537774</td>\n",
       "      <td>0.534655</td>\n",
       "      <td>0.537774</td>\n",
       "    </tr>\n",
       "  </tbody>\n",
       "</table>\n",
       "<p>45519 rows × 12 columns</p>\n",
       "</div>"
      ],
      "text/plain": [
       "          wall_time   step  run/total_reward  run/length  lp/lp_total_reward  \\\n",
       "0      1.606572e+09      0               0.0       100.0                 0.0   \n",
       "1      1.606572e+09    100               1.0        43.0                 0.0   \n",
       "2      1.606572e+09    143               0.0       100.0                 0.0   \n",
       "3      1.606572e+09    243               0.0       100.0                 0.0   \n",
       "4      1.606572e+09    343               0.0       100.0                 0.0   \n",
       "...             ...    ...               ...         ...                 ...   \n",
       "45514  1.606632e+09  59910               1.0        24.0                 0.0   \n",
       "45515  1.606632e+09  59934               1.0        29.0                 0.0   \n",
       "45516  1.606632e+09  59963               1.0        15.0                 0.0   \n",
       "45517  1.606632e+09  59978               1.0        15.0                 0.0   \n",
       "45518  1.606632e+09  59993               1.0        29.0                 0.0   \n",
       "\n",
       "       lp/lp_length  lp/count_used_lp  loss/value_loss  loss/policy_loss  \\\n",
       "0               0.0               0.0         0.000272          1.699034   \n",
       "1               0.0               0.0         0.179110          1.206681   \n",
       "2               0.0               0.0         0.090715          1.018804   \n",
       "3               0.0               0.0         0.042355          1.068833   \n",
       "4               0.0               0.0         0.061504          1.355460   \n",
       "...             ...               ...              ...               ...   \n",
       "45514           0.0               1.0         0.003391          0.619442   \n",
       "45515           0.0               1.0         0.015159          0.667284   \n",
       "45516           0.0               1.0         0.016581          0.556762   \n",
       "45517           0.0               1.0         0.009564          0.421157   \n",
       "45518           0.0               1.0         0.024498          0.513277   \n",
       "\n",
       "       loss/agent_loss  loss/entropy  total_loss  \n",
       "0             1.699306      1.788294    1.699306  \n",
       "1             1.385790      0.983613    1.385790  \n",
       "2             1.109519      1.073544    1.109519  \n",
       "3             1.111188      1.268782    1.111188  \n",
       "4             1.416963      1.228502    1.416963  \n",
       "...                ...           ...         ...  \n",
       "45514         0.622833      0.521876    0.622833  \n",
       "45515         0.682443      0.588962    0.682443  \n",
       "45516         0.573343      0.583876    0.573343  \n",
       "45517         0.430720      0.462350    0.430720  \n",
       "45518         0.537774      0.534655    0.537774  \n",
       "\n",
       "[45519 rows x 12 columns]"
      ]
     },
     "execution_count": 4,
     "metadata": {},
     "output_type": "execute_result"
    }
   ],
   "source": [
    "pqr_agrs_100_30k"
   ]
  },
  {
   "cell_type": "code",
   "execution_count": 5,
   "metadata": {},
   "outputs": [
    {
     "data": {
      "text/html": [
       "<div>\n",
       "<style scoped>\n",
       "    .dataframe tbody tr th:only-of-type {\n",
       "        vertical-align: middle;\n",
       "    }\n",
       "\n",
       "    .dataframe tbody tr th {\n",
       "        vertical-align: top;\n",
       "    }\n",
       "\n",
       "    .dataframe thead th {\n",
       "        text-align: right;\n",
       "    }\n",
       "</style>\n",
       "<table border=\"1\" class=\"dataframe\">\n",
       "  <thead>\n",
       "    <tr style=\"text-align: right;\">\n",
       "      <th></th>\n",
       "      <th>step</th>\n",
       "      <th>reward</th>\n",
       "      <th>length</th>\n",
       "      <th>reward_se</th>\n",
       "      <th>length_se</th>\n",
       "    </tr>\n",
       "  </thead>\n",
       "  <tbody>\n",
       "    <tr>\n",
       "      <th>0</th>\n",
       "      <td>0.0</td>\n",
       "      <td>0.480000</td>\n",
       "      <td>67.040000</td>\n",
       "      <td>0.000000</td>\n",
       "      <td>0.000000</td>\n",
       "    </tr>\n",
       "    <tr>\n",
       "      <th>1</th>\n",
       "      <td>24.0</td>\n",
       "      <td>0.239760</td>\n",
       "      <td>83.536480</td>\n",
       "      <td>0.115200</td>\n",
       "      <td>543.180800</td>\n",
       "    </tr>\n",
       "    <tr>\n",
       "      <th>2</th>\n",
       "      <td>27.0</td>\n",
       "      <td>0.271014</td>\n",
       "      <td>81.575961</td>\n",
       "      <td>0.060464</td>\n",
       "      <td>282.815194</td>\n",
       "    </tr>\n",
       "    <tr>\n",
       "      <th>3</th>\n",
       "      <td>28.0</td>\n",
       "      <td>0.203057</td>\n",
       "      <td>86.195798</td>\n",
       "      <td>0.058668</td>\n",
       "      <td>273.385881</td>\n",
       "    </tr>\n",
       "    <tr>\n",
       "      <th>4</th>\n",
       "      <td>30.0</td>\n",
       "      <td>0.363084</td>\n",
       "      <td>78.124450</td>\n",
       "      <td>0.171362</td>\n",
       "      <td>528.944414</td>\n",
       "    </tr>\n",
       "    <tr>\n",
       "      <th>...</th>\n",
       "      <td>...</td>\n",
       "      <td>...</td>\n",
       "      <td>...</td>\n",
       "      <td>...</td>\n",
       "      <td>...</td>\n",
       "    </tr>\n",
       "    <tr>\n",
       "      <th>31832</th>\n",
       "      <td>59993.0</td>\n",
       "      <td>0.999524</td>\n",
       "      <td>29.721897</td>\n",
       "      <td>0.000380</td>\n",
       "      <td>51.647112</td>\n",
       "    </tr>\n",
       "    <tr>\n",
       "      <th>31833</th>\n",
       "      <td>59994.0</td>\n",
       "      <td>0.999525</td>\n",
       "      <td>29.740435</td>\n",
       "      <td>0.000380</td>\n",
       "      <td>51.715743</td>\n",
       "    </tr>\n",
       "    <tr>\n",
       "      <th>31834</th>\n",
       "      <td>59995.0</td>\n",
       "      <td>0.999526</td>\n",
       "      <td>29.730963</td>\n",
       "      <td>0.000379</td>\n",
       "      <td>51.657269</td>\n",
       "    </tr>\n",
       "    <tr>\n",
       "      <th>31835</th>\n",
       "      <td>59997.0</td>\n",
       "      <td>0.999527</td>\n",
       "      <td>29.725507</td>\n",
       "      <td>0.000378</td>\n",
       "      <td>51.568944</td>\n",
       "    </tr>\n",
       "    <tr>\n",
       "      <th>31836</th>\n",
       "      <td>60000.0</td>\n",
       "      <td>0.999528</td>\n",
       "      <td>29.740041</td>\n",
       "      <td>0.000377</td>\n",
       "      <td>51.571534</td>\n",
       "    </tr>\n",
       "  </tbody>\n",
       "</table>\n",
       "<p>31837 rows × 5 columns</p>\n",
       "</div>"
      ],
      "text/plain": [
       "          step    reward     length  reward_se   length_se\n",
       "0          0.0  0.480000  67.040000   0.000000    0.000000\n",
       "1         24.0  0.239760  83.536480   0.115200  543.180800\n",
       "2         27.0  0.271014  81.575961   0.060464  282.815194\n",
       "3         28.0  0.203057  86.195798   0.058668  273.385881\n",
       "4         30.0  0.363084  78.124450   0.171362  528.944414\n",
       "...        ...       ...        ...        ...         ...\n",
       "31832  59993.0  0.999524  29.721897   0.000380   51.647112\n",
       "31833  59994.0  0.999525  29.740435   0.000380   51.715743\n",
       "31834  59995.0  0.999526  29.730963   0.000379   51.657269\n",
       "31835  59997.0  0.999527  29.725507   0.000378   51.568944\n",
       "31836  60000.0  0.999528  29.740041   0.000377   51.571534\n",
       "\n",
       "[31837 rows x 5 columns]"
      ]
     },
     "execution_count": 5,
     "metadata": {},
     "output_type": "execute_result"
    }
   ],
   "source": [
    "pqr_agrs_100_30k.sort_values(by='step', inplace=True)\n",
    "\n",
    "step_sums = dict() \n",
    "# {key: (reward_sum, count, length_of_run) }\n",
    "\n",
    "for index, row, in pqr_agrs_100_30k.iterrows():\n",
    "    step = row['step']\n",
    "    if step in step_sums:\n",
    "        # adding rewards for the step\n",
    "        step_sums[step][0] += row['run/total_reward']\n",
    "        step_sums[step][1] += 1\n",
    "        step_sums[step][2] += row['run/length']\n",
    "    else:\n",
    "        step_sums[step] = [0, 1, row['run/length']]\n",
    "        step_sums[step][0] += row['run/total_reward']\n",
    "        \n",
    "\n",
    "# take average reward and length at each saved step\n",
    "df_av_at_step = pd.DataFrame(columns=['step', 'reward', 'length'])\n",
    "\n",
    "\n",
    "for key, value in step_sums.items():\n",
    "    \n",
    "    mean_reward = value[0] / value[1]\n",
    "    mean_length = value[2] / value[1]\n",
    "    \n",
    "    \n",
    "    df_av_at_step = df_av_at_step.append({'step': key, 'reward': mean_reward, 'length': mean_length}, ignore_index=True)\n",
    "df_av_at_step.set_index('step')\n",
    "\n",
    "\n",
    "rolling = df_av_at_step.ewm(adjust = True, span=1000).mean()\n",
    "rolling_se = df_av_at_step.ewm(adjust = True, span = 1000).var()\n",
    "rolling\n",
    "\n",
    "df_av_at_step['reward'] = rolling['reward']\n",
    "df_av_at_step['reward_se'] = rolling_se['reward']\n",
    "df_av_at_step['length_se'] = rolling_se['length']\n",
    "df_av_at_step['length'] = rolling['length']\n",
    "\n",
    "df_av_at_step = df_av_at_step.fillna(0);df_av_at_step\n",
    "df_agrs = df_av_at_step\n",
    "df_agrs"
   ]
  },
  {
   "cell_type": "code",
   "execution_count": 6,
   "metadata": {},
   "outputs": [
    {
     "data": {
      "text/html": [
       "<div>\n",
       "<style scoped>\n",
       "    .dataframe tbody tr th:only-of-type {\n",
       "        vertical-align: middle;\n",
       "    }\n",
       "\n",
       "    .dataframe tbody tr th {\n",
       "        vertical-align: top;\n",
       "    }\n",
       "\n",
       "    .dataframe thead th {\n",
       "        text-align: right;\n",
       "    }\n",
       "</style>\n",
       "<table border=\"1\" class=\"dataframe\">\n",
       "  <thead>\n",
       "    <tr style=\"text-align: right;\">\n",
       "      <th></th>\n",
       "      <th>step</th>\n",
       "      <th>reward</th>\n",
       "      <th>length</th>\n",
       "      <th>reward_se</th>\n",
       "      <th>length_se</th>\n",
       "    </tr>\n",
       "  </thead>\n",
       "  <tbody>\n",
       "    <tr>\n",
       "      <th>0</th>\n",
       "      <td>0.0</td>\n",
       "      <td>0.520000</td>\n",
       "      <td>63.120000</td>\n",
       "      <td>0.000000</td>\n",
       "      <td>0.000000</td>\n",
       "    </tr>\n",
       "    <tr>\n",
       "      <th>1</th>\n",
       "      <td>23.0</td>\n",
       "      <td>0.259740</td>\n",
       "      <td>81.578440</td>\n",
       "      <td>0.135200</td>\n",
       "      <td>680.067200</td>\n",
       "    </tr>\n",
       "    <tr>\n",
       "      <th>2</th>\n",
       "      <td>24.0</td>\n",
       "      <td>0.506987</td>\n",
       "      <td>62.347228</td>\n",
       "      <td>0.250377</td>\n",
       "      <td>1445.890541</td>\n",
       "    </tr>\n",
       "    <tr>\n",
       "      <th>3</th>\n",
       "      <td>25.0</td>\n",
       "      <td>0.379860</td>\n",
       "      <td>71.788680</td>\n",
       "      <td>0.231138</td>\n",
       "      <td>1318.104449</td>\n",
       "    </tr>\n",
       "    <tr>\n",
       "      <th>4</th>\n",
       "      <td>28.0</td>\n",
       "      <td>0.504384</td>\n",
       "      <td>66.811093</td>\n",
       "      <td>0.250326</td>\n",
       "      <td>1110.853637</td>\n",
       "    </tr>\n",
       "    <tr>\n",
       "      <th>...</th>\n",
       "      <td>...</td>\n",
       "      <td>...</td>\n",
       "      <td>...</td>\n",
       "      <td>...</td>\n",
       "      <td>...</td>\n",
       "    </tr>\n",
       "    <tr>\n",
       "      <th>30974</th>\n",
       "      <td>59991.0</td>\n",
       "      <td>0.999179</td>\n",
       "      <td>29.709731</td>\n",
       "      <td>0.000819</td>\n",
       "      <td>49.581054</td>\n",
       "    </tr>\n",
       "    <tr>\n",
       "      <th>30975</th>\n",
       "      <td>59994.0</td>\n",
       "      <td>0.999181</td>\n",
       "      <td>29.730291</td>\n",
       "      <td>0.000818</td>\n",
       "      <td>49.693347</td>\n",
       "    </tr>\n",
       "    <tr>\n",
       "      <th>30976</th>\n",
       "      <td>59996.0</td>\n",
       "      <td>0.999182</td>\n",
       "      <td>29.740820</td>\n",
       "      <td>0.000816</td>\n",
       "      <td>49.649489</td>\n",
       "    </tr>\n",
       "    <tr>\n",
       "      <th>30977</th>\n",
       "      <td>59997.0</td>\n",
       "      <td>0.999184</td>\n",
       "      <td>29.739340</td>\n",
       "      <td>0.000814</td>\n",
       "      <td>49.551384</td>\n",
       "    </tr>\n",
       "    <tr>\n",
       "      <th>30978</th>\n",
       "      <td>59999.0</td>\n",
       "      <td>0.999186</td>\n",
       "      <td>29.725874</td>\n",
       "      <td>0.000813</td>\n",
       "      <td>49.543036</td>\n",
       "    </tr>\n",
       "  </tbody>\n",
       "</table>\n",
       "<p>30979 rows × 5 columns</p>\n",
       "</div>"
      ],
      "text/plain": [
       "          step    reward     length  reward_se    length_se\n",
       "0          0.0  0.520000  63.120000   0.000000     0.000000\n",
       "1         23.0  0.259740  81.578440   0.135200   680.067200\n",
       "2         24.0  0.506987  62.347228   0.250377  1445.890541\n",
       "3         25.0  0.379860  71.788680   0.231138  1318.104449\n",
       "4         28.0  0.504384  66.811093   0.250326  1110.853637\n",
       "...        ...       ...        ...        ...          ...\n",
       "30974  59991.0  0.999179  29.709731   0.000819    49.581054\n",
       "30975  59994.0  0.999181  29.730291   0.000818    49.693347\n",
       "30976  59996.0  0.999182  29.740820   0.000816    49.649489\n",
       "30977  59997.0  0.999184  29.739340   0.000814    49.551384\n",
       "30978  59999.0  0.999186  29.725874   0.000813    49.543036\n",
       "\n",
       "[30979 rows x 5 columns]"
      ]
     },
     "execution_count": 6,
     "metadata": {},
     "output_type": "execute_result"
    }
   ],
   "source": [
    "pqr_no_agrs_100_30k = pd.read_csv('../../lp_csv/mNoLP3.csv', header = 2)\n",
    "\n",
    "pqr_no_agrs_100_30k.sort_values(by='step', inplace=True)\n",
    "\n",
    "#PIPELINE FOR AVERAGE OF MOVING AVERAGES\n",
    "\n",
    "step_sums = dict() \n",
    "# {key: (reward_sum, count, length_of_run) }\n",
    "\n",
    "for index, row, in pqr_no_agrs_100_30k.iterrows():\n",
    "    step = row['step']\n",
    "    if step in step_sums:\n",
    "        # adding rewards for the step\n",
    "        step_sums[step][0] += row['run/total_reward']\n",
    "        step_sums[step][1] += 1\n",
    "        step_sums[step][2] += row['run/length']\n",
    "    else:\n",
    "        step_sums[step] = [0, 1, row['run/length']]\n",
    "        step_sums[step][0] += row['run/total_reward']\n",
    "        \n",
    "# take average reward and length at each saved step\n",
    "df_av_at_step = pd.DataFrame(columns=['step', 'reward', 'length']);df_av_at_step\n",
    "\n",
    "for key, value in step_sums.items():\n",
    "    \n",
    "    mean_reward = value[0] / value[1]\n",
    "    mean_length = value[2] / value[1]\n",
    "    \n",
    "    \n",
    "    df_av_at_step = df_av_at_step.append({'step': key, 'reward': mean_reward, 'length': mean_length}, ignore_index=True)\n",
    "\n",
    "df_av_at_step.set_index('step')\n",
    "\n",
    "rolling = df_av_at_step.ewm(adjust = True, span=1000).mean()\n",
    "rolling_se = df_av_at_step.ewm(adjust = True, span=1000).var()\n",
    "df_av_at_step['reward'] = rolling['reward']\n",
    "df_av_at_step['reward_se'] = rolling_se['reward']\n",
    "df_av_at_step['length_se'] = rolling_se['length']\n",
    "df_av_at_step['length'] = rolling['length']\n",
    "\n",
    "\n",
    "df_av_at_step = df_av_at_step.fillna(0);df_av_at_step\n",
    "df_no_agrs = df_av_at_step\n",
    "df_no_agrs"
   ]
  },
  {
   "cell_type": "code",
   "execution_count": 7,
   "metadata": {},
   "outputs": [
    {
     "data": {
      "text/plain": [
       "<matplotlib.axes._subplots.AxesSubplot at 0x7fa97fd58050>"
      ]
     },
     "execution_count": 7,
     "metadata": {},
     "output_type": "execute_result"
    },
    {
     "data": {
      "image/png": "[encoded data removed]",
      "text/plain": [
       "<Figure size 432x288 with 1 Axes>"
      ]
     },
     "metadata": {
      "needs_background": "light"
     },
     "output_type": "display_data"
    }
   ],
   "source": [
    "plt.ylim(0.3, 1)\n",
    "sns.lineplot(x=\"step\", y=\"reward\", data=df_agrs)"
   ]
  },
  {
   "cell_type": "code",
   "execution_count": 8,
   "metadata": {
    "pycharm": {
     "name": "#%%\n"
    }
   },
   "outputs": [
    {
     "data": {
      "text/plain": [
       "<matplotlib.axes._subplots.AxesSubplot at 0x7fa97eaa9f90>"
      ]
     },
     "execution_count": 8,
     "metadata": {},
     "output_type": "execute_result"
    },
    {
     "data": {
      "image/png": "[encoded data removed]",
      "text/plain": [
       "<Figure size 432x288 with 1 Axes>"
      ]
     },
     "metadata": {
      "needs_background": "light"
     },
     "output_type": "display_data"
    }
   ],
   "source": [
    "plt.ylim(0.3, 1)\n",
    "sns.lineplot(x=\"step\", y=\"reward\", data=df_no_agrs)"
   ]
  },
  {
   "cell_type": "code",
   "execution_count": 13,
   "metadata": {
    "pycharm": {
     "name": "#%%\n"
    },
    "scrolled": true
   },
   "outputs": [
    {
     "data": {
      "text/plain": [
       "<matplotlib.legend.Legend at 0x7fa97e1557d0>"
      ]
     },
     "execution_count": 13,
     "metadata": {},
     "output_type": "execute_result"
    },
    {
     "data": {
      "image/png": "[encoded data removed]",
      "text/plain": [
       "<Figure size 432x288 with 1 Axes>"
      ]
     },
     "metadata": {
      "needs_background": "light"
     },
     "output_type": "display_data"
    }
   ],
   "source": [
    "fig, axs = plt.subplots(ncols=1)\n",
    "plt.title('pqr 25 * 60k steps at 40 expansions')\n",
    "sns.lineplot(x=\"step\", y=\"reward\", data=df_agrs,ax=axs, ci=99)\n",
    "sns.lineplot(x=\"step\", y=\"reward\", data=df_no_agrs,ax=axs, ci=99)\n",
    "axs.ticklabel_format(axis=\"x\", style=\"sci\", scilimits=(0,0))\n",
    "\n",
    "axs.legend(['LP','No LP'], loc=4)"
   ]
  },
  {
   "cell_type": "code",
   "execution_count": null,
   "metadata": {},
   "outputs": [],
   "source": []
  },
  {
   "cell_type": "code",
   "execution_count": 14,
   "metadata": {},
   "outputs": [
    {
     "data": {
      "text/plain": [
       "<matplotlib.legend.Legend at 0x7fa97fd57390>"
      ]
     },
     "execution_count": 14,
     "metadata": {},
     "output_type": "execute_result"
    },
    {
     "data": {
      "image/png": "[encoded data removed]",
      "text/plain": [
       "<Figure size 432x288 with 1 Axes>"
      ]
     },
     "metadata": {
      "needs_background": "light"
     },
     "output_type": "display_data"
    }
   ],
   "source": [
    "fig, axs = plt.subplots(ncols=1)\n",
    "#plt.title('Mine Recycler, Fixed 10x10')\n",
    "sns.lineplot(x=\"step\", y=\"reward\", data=df_agrs,ax=axs, ci=99)\n",
    "sns.lineplot(x=\"step\", y=\"reward\", data=df_no_agrs,ax=axs, ci=99)\n",
    "\n",
    "axs.fill_between(x=df_agrs[\"step\"], y1=df_agrs[\"reward\"] + df_agrs[\"reward_se\"], \n",
    "                 y2=df_agrs[\"reward\"] - df_agrs[\"reward_se\"], alpha=.5)\n",
    "axs.fill_between(x=df_no_agrs[\"step\"], y1=df_no_agrs[\"reward\"] + df_no_agrs[\"reward_se\"], \n",
    "                 y2=df_no_agrs[\"reward\"] - df_no_agrs[\"reward_se\"], alpha=.5)\n",
    "axs.set(xlabel='Play steps', ylabel='Win rate')\n",
    "\n",
    "axs.legend(['LP', 'No LP'], loc=4)"
   ]
  },
  {
   "cell_type": "code",
   "execution_count": null,
   "metadata": {},
   "outputs": [],
   "source": []
  },
  {
   "cell_type": "code",
   "execution_count": null,
   "metadata": {},
   "outputs": [],
   "source": []
  },
  {
   "cell_type": "code",
   "execution_count": null,
   "metadata": {},
   "outputs": [],
   "source": []
  },
  {
   "cell_type": "code",
   "execution_count": null,
   "metadata": {},
   "outputs": [],
   "source": []
  },
  {
   "cell_type": "code",
   "execution_count": null,
   "metadata": {},
   "outputs": [],
   "source": []
  },
  {
   "cell_type": "code",
   "execution_count": null,
   "metadata": {},
   "outputs": [],
   "source": []
  },
  {
   "cell_type": "code",
   "execution_count": null,
   "metadata": {},
   "outputs": [],
   "source": []
  },
  {
   "cell_type": "code",
   "execution_count": null,
   "metadata": {},
   "outputs": [],
   "source": []
  }
 ],
 "metadata": {
  "kernelspec": {
   "display_name": "Python 3",
   "language": "python",
   "name": "python3"
  },
  "language_info": {
   "codemirror_mode": {
    "name": "ipython",
    "version": 3
   },
   "file_extension": ".py",
   "mimetype": "text/x-python",
   "name": "python",
   "nbconvert_exporter": "python",
   "pygments_lexer": "ipython3",
   "version": "3.7.6"
  },
  "pycharm": {
   "stem_cell": {
    "cell_type": "raw",
    "metadata": {
     "collapsed": false
    },
    "source": [
     "\n"
    ]
   }
  }
 },
 "nbformat": 4,
 "nbformat_minor": 1
}
