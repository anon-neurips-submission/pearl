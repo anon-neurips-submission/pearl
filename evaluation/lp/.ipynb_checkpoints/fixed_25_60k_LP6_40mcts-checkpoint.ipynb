{
 "cells": [
  {
   "cell_type": "code",
   "execution_count": 1,
   "metadata": {
    "pycharm": {
     "name": "#%%\n"
    }
   },
   "outputs": [],
   "source": [
    "import pandas as pd\n",
    "import seaborn as sns\n",
    "%matplotlib inline\n",
    "import matplotlib.pyplot as plt\n",
    "import numpy as np"
   ]
  },
  {
   "cell_type": "code",
   "execution_count": null,
   "metadata": {},
   "outputs": [],
   "source": [
    "\n"
   ]
  },
  {
   "cell_type": "code",
   "execution_count": null,
   "metadata": {
    "pycharm": {
     "name": "#%%\n"
    }
   },
   "outputs": [],
   "source": [
    "\n"
   ]
  },
  {
   "cell_type": "code",
   "execution_count": 2,
   "metadata": {},
   "outputs": [],
   "source": [
    "pqr_agrs_100_30k = pd.read_csv('../../lp_csv/mLP3_20.csv', header = 2)"
   ]
  },
  {
   "cell_type": "code",
   "execution_count": 3,
   "metadata": {},
   "outputs": [
    {
     "data": {
      "text/html": [
       "<div>\n",
       "<style scoped>\n",
       "    .dataframe tbody tr th:only-of-type {\n",
       "        vertical-align: middle;\n",
       "    }\n",
       "\n",
       "    .dataframe tbody tr th {\n",
       "        vertical-align: top;\n",
       "    }\n",
       "\n",
       "    .dataframe thead th {\n",
       "        text-align: right;\n",
       "    }\n",
       "</style>\n",
       "<table border=\"1\" class=\"dataframe\">\n",
       "  <thead>\n",
       "    <tr style=\"text-align: right;\">\n",
       "      <th></th>\n",
       "      <th>wall_time</th>\n",
       "      <th>step</th>\n",
       "      <th>run/total_reward</th>\n",
       "      <th>run/length</th>\n",
       "      <th>lp/lp_total_reward</th>\n",
       "      <th>lp/lp_length</th>\n",
       "      <th>lp/count_used_lp</th>\n",
       "      <th>loss/value_loss</th>\n",
       "      <th>loss/policy_loss</th>\n",
       "      <th>loss/agent_loss</th>\n",
       "      <th>loss/entropy</th>\n",
       "      <th>total_loss</th>\n",
       "    </tr>\n",
       "  </thead>\n",
       "  <tbody>\n",
       "    <tr>\n",
       "      <th>0</th>\n",
       "      <td>1.606564e+09</td>\n",
       "      <td>0</td>\n",
       "      <td>1.0</td>\n",
       "      <td>61.0</td>\n",
       "      <td>0.0</td>\n",
       "      <td>0.0</td>\n",
       "      <td>0.0</td>\n",
       "      <td>0.152438</td>\n",
       "      <td>1.708914</td>\n",
       "      <td>1.861352</td>\n",
       "      <td>1.786367</td>\n",
       "      <td>1.861352</td>\n",
       "    </tr>\n",
       "    <tr>\n",
       "      <th>1</th>\n",
       "      <td>1.606564e+09</td>\n",
       "      <td>61</td>\n",
       "      <td>0.0</td>\n",
       "      <td>100.0</td>\n",
       "      <td>0.0</td>\n",
       "      <td>0.0</td>\n",
       "      <td>0.0</td>\n",
       "      <td>0.129817</td>\n",
       "      <td>1.564239</td>\n",
       "      <td>1.694056</td>\n",
       "      <td>1.549234</td>\n",
       "      <td>1.694056</td>\n",
       "    </tr>\n",
       "    <tr>\n",
       "      <th>2</th>\n",
       "      <td>1.606564e+09</td>\n",
       "      <td>161</td>\n",
       "      <td>1.0</td>\n",
       "      <td>53.0</td>\n",
       "      <td>0.0</td>\n",
       "      <td>0.0</td>\n",
       "      <td>0.0</td>\n",
       "      <td>0.110945</td>\n",
       "      <td>1.510500</td>\n",
       "      <td>1.621445</td>\n",
       "      <td>1.532096</td>\n",
       "      <td>1.621445</td>\n",
       "    </tr>\n",
       "    <tr>\n",
       "      <th>3</th>\n",
       "      <td>1.606564e+09</td>\n",
       "      <td>214</td>\n",
       "      <td>1.0</td>\n",
       "      <td>67.0</td>\n",
       "      <td>0.0</td>\n",
       "      <td>0.0</td>\n",
       "      <td>0.0</td>\n",
       "      <td>0.087361</td>\n",
       "      <td>1.523278</td>\n",
       "      <td>1.610639</td>\n",
       "      <td>1.485613</td>\n",
       "      <td>1.610639</td>\n",
       "    </tr>\n",
       "    <tr>\n",
       "      <th>4</th>\n",
       "      <td>1.606564e+09</td>\n",
       "      <td>281</td>\n",
       "      <td>0.0</td>\n",
       "      <td>100.0</td>\n",
       "      <td>0.0</td>\n",
       "      <td>0.0</td>\n",
       "      <td>0.0</td>\n",
       "      <td>0.075496</td>\n",
       "      <td>1.543279</td>\n",
       "      <td>1.618775</td>\n",
       "      <td>1.519336</td>\n",
       "      <td>1.618775</td>\n",
       "    </tr>\n",
       "    <tr>\n",
       "      <th>...</th>\n",
       "      <td>...</td>\n",
       "      <td>...</td>\n",
       "      <td>...</td>\n",
       "      <td>...</td>\n",
       "      <td>...</td>\n",
       "      <td>...</td>\n",
       "      <td>...</td>\n",
       "      <td>...</td>\n",
       "      <td>...</td>\n",
       "      <td>...</td>\n",
       "      <td>...</td>\n",
       "      <td>...</td>\n",
       "    </tr>\n",
       "    <tr>\n",
       "      <th>34996</th>\n",
       "      <td>1.606557e+09</td>\n",
       "      <td>59807</td>\n",
       "      <td>1.0</td>\n",
       "      <td>20.0</td>\n",
       "      <td>0.0</td>\n",
       "      <td>0.0</td>\n",
       "      <td>0.0</td>\n",
       "      <td>0.014076</td>\n",
       "      <td>0.668721</td>\n",
       "      <td>0.682797</td>\n",
       "      <td>0.710573</td>\n",
       "      <td>0.682797</td>\n",
       "    </tr>\n",
       "    <tr>\n",
       "      <th>34997</th>\n",
       "      <td>1.606557e+09</td>\n",
       "      <td>59827</td>\n",
       "      <td>1.0</td>\n",
       "      <td>29.0</td>\n",
       "      <td>0.0</td>\n",
       "      <td>0.0</td>\n",
       "      <td>0.0</td>\n",
       "      <td>0.012760</td>\n",
       "      <td>0.825142</td>\n",
       "      <td>0.837902</td>\n",
       "      <td>0.682613</td>\n",
       "      <td>0.837902</td>\n",
       "    </tr>\n",
       "    <tr>\n",
       "      <th>34998</th>\n",
       "      <td>1.606557e+09</td>\n",
       "      <td>59856</td>\n",
       "      <td>1.0</td>\n",
       "      <td>47.0</td>\n",
       "      <td>0.0</td>\n",
       "      <td>0.0</td>\n",
       "      <td>0.0</td>\n",
       "      <td>0.017625</td>\n",
       "      <td>0.748193</td>\n",
       "      <td>0.765818</td>\n",
       "      <td>0.670348</td>\n",
       "      <td>0.765818</td>\n",
       "    </tr>\n",
       "    <tr>\n",
       "      <th>34999</th>\n",
       "      <td>1.606557e+09</td>\n",
       "      <td>59903</td>\n",
       "      <td>1.0</td>\n",
       "      <td>38.0</td>\n",
       "      <td>0.0</td>\n",
       "      <td>0.0</td>\n",
       "      <td>0.0</td>\n",
       "      <td>0.009275</td>\n",
       "      <td>0.685224</td>\n",
       "      <td>0.694499</td>\n",
       "      <td>0.696274</td>\n",
       "      <td>0.694499</td>\n",
       "    </tr>\n",
       "    <tr>\n",
       "      <th>35000</th>\n",
       "      <td>1.606557e+09</td>\n",
       "      <td>59941</td>\n",
       "      <td>1.0</td>\n",
       "      <td>25.0</td>\n",
       "      <td>0.0</td>\n",
       "      <td>0.0</td>\n",
       "      <td>0.0</td>\n",
       "      <td>0.016508</td>\n",
       "      <td>0.678928</td>\n",
       "      <td>0.695436</td>\n",
       "      <td>0.658724</td>\n",
       "      <td>0.695436</td>\n",
       "    </tr>\n",
       "  </tbody>\n",
       "</table>\n",
       "<p>35001 rows × 12 columns</p>\n",
       "</div>"
      ],
      "text/plain": [
       "          wall_time   step  run/total_reward  run/length  lp/lp_total_reward  \\\n",
       "0      1.606564e+09      0               1.0        61.0                 0.0   \n",
       "1      1.606564e+09     61               0.0       100.0                 0.0   \n",
       "2      1.606564e+09    161               1.0        53.0                 0.0   \n",
       "3      1.606564e+09    214               1.0        67.0                 0.0   \n",
       "4      1.606564e+09    281               0.0       100.0                 0.0   \n",
       "...             ...    ...               ...         ...                 ...   \n",
       "34996  1.606557e+09  59807               1.0        20.0                 0.0   \n",
       "34997  1.606557e+09  59827               1.0        29.0                 0.0   \n",
       "34998  1.606557e+09  59856               1.0        47.0                 0.0   \n",
       "34999  1.606557e+09  59903               1.0        38.0                 0.0   \n",
       "35000  1.606557e+09  59941               1.0        25.0                 0.0   \n",
       "\n",
       "       lp/lp_length  lp/count_used_lp  loss/value_loss  loss/policy_loss  \\\n",
       "0               0.0               0.0         0.152438          1.708914   \n",
       "1               0.0               0.0         0.129817          1.564239   \n",
       "2               0.0               0.0         0.110945          1.510500   \n",
       "3               0.0               0.0         0.087361          1.523278   \n",
       "4               0.0               0.0         0.075496          1.543279   \n",
       "...             ...               ...              ...               ...   \n",
       "34996           0.0               0.0         0.014076          0.668721   \n",
       "34997           0.0               0.0         0.012760          0.825142   \n",
       "34998           0.0               0.0         0.017625          0.748193   \n",
       "34999           0.0               0.0         0.009275          0.685224   \n",
       "35000           0.0               0.0         0.016508          0.678928   \n",
       "\n",
       "       loss/agent_loss  loss/entropy  total_loss  \n",
       "0             1.861352      1.786367    1.861352  \n",
       "1             1.694056      1.549234    1.694056  \n",
       "2             1.621445      1.532096    1.621445  \n",
       "3             1.610639      1.485613    1.610639  \n",
       "4             1.618775      1.519336    1.618775  \n",
       "...                ...           ...         ...  \n",
       "34996         0.682797      0.710573    0.682797  \n",
       "34997         0.837902      0.682613    0.837902  \n",
       "34998         0.765818      0.670348    0.765818  \n",
       "34999         0.694499      0.696274    0.694499  \n",
       "35000         0.695436      0.658724    0.695436  \n",
       "\n",
       "[35001 rows x 12 columns]"
      ]
     },
     "execution_count": 3,
     "metadata": {},
     "output_type": "execute_result"
    }
   ],
   "source": [
    "pqr_agrs_100_30k"
   ]
  },
  {
   "cell_type": "code",
   "execution_count": 4,
   "metadata": {},
   "outputs": [
    {
     "data": {
      "text/html": [
       "<div>\n",
       "<style scoped>\n",
       "    .dataframe tbody tr th:only-of-type {\n",
       "        vertical-align: middle;\n",
       "    }\n",
       "\n",
       "    .dataframe tbody tr th {\n",
       "        vertical-align: top;\n",
       "    }\n",
       "\n",
       "    .dataframe thead th {\n",
       "        text-align: right;\n",
       "    }\n",
       "</style>\n",
       "<table border=\"1\" class=\"dataframe\">\n",
       "  <thead>\n",
       "    <tr style=\"text-align: right;\">\n",
       "      <th></th>\n",
       "      <th>step</th>\n",
       "      <th>reward</th>\n",
       "      <th>length</th>\n",
       "      <th>reward_se</th>\n",
       "      <th>length_se</th>\n",
       "    </tr>\n",
       "  </thead>\n",
       "  <tbody>\n",
       "    <tr>\n",
       "      <th>0</th>\n",
       "      <td>0.0</td>\n",
       "      <td>0.280000</td>\n",
       "      <td>84.280000</td>\n",
       "      <td>0.000000</td>\n",
       "      <td>0.000000</td>\n",
       "    </tr>\n",
       "    <tr>\n",
       "      <th>1</th>\n",
       "      <td>27.0</td>\n",
       "      <td>0.139860</td>\n",
       "      <td>92.147860</td>\n",
       "      <td>0.039200</td>\n",
       "      <td>123.559200</td>\n",
       "    </tr>\n",
       "    <tr>\n",
       "      <th>2</th>\n",
       "      <td>33.0</td>\n",
       "      <td>0.093147</td>\n",
       "      <td>94.770477</td>\n",
       "      <td>0.026107</td>\n",
       "      <td>82.290400</td>\n",
       "    </tr>\n",
       "    <tr>\n",
       "      <th>3</th>\n",
       "      <td>43.0</td>\n",
       "      <td>0.195165</td>\n",
       "      <td>89.687644</td>\n",
       "      <td>0.058853</td>\n",
       "      <td>157.733888</td>\n",
       "    </tr>\n",
       "    <tr>\n",
       "      <th>4</th>\n",
       "      <td>48.0</td>\n",
       "      <td>0.356777</td>\n",
       "      <td>82.320736</td>\n",
       "      <td>0.174036</td>\n",
       "      <td>388.186545</td>\n",
       "    </tr>\n",
       "    <tr>\n",
       "      <th>...</th>\n",
       "      <td>...</td>\n",
       "      <td>...</td>\n",
       "      <td>...</td>\n",
       "      <td>...</td>\n",
       "      <td>...</td>\n",
       "    </tr>\n",
       "    <tr>\n",
       "      <th>26175</th>\n",
       "      <td>59988.0</td>\n",
       "      <td>0.998954</td>\n",
       "      <td>34.293304</td>\n",
       "      <td>0.000674</td>\n",
       "      <td>87.447962</td>\n",
       "    </tr>\n",
       "    <tr>\n",
       "      <th>26176</th>\n",
       "      <td>59992.0</td>\n",
       "      <td>0.998956</td>\n",
       "      <td>34.284726</td>\n",
       "      <td>0.000672</td>\n",
       "      <td>87.310032</td>\n",
       "    </tr>\n",
       "    <tr>\n",
       "      <th>26177</th>\n",
       "      <td>59996.0</td>\n",
       "      <td>0.998958</td>\n",
       "      <td>34.276165</td>\n",
       "      <td>0.000671</td>\n",
       "      <td>87.172230</td>\n",
       "    </tr>\n",
       "    <tr>\n",
       "      <th>26178</th>\n",
       "      <td>59998.0</td>\n",
       "      <td>0.998960</td>\n",
       "      <td>34.309579</td>\n",
       "      <td>0.000670</td>\n",
       "      <td>87.556316</td>\n",
       "    </tr>\n",
       "    <tr>\n",
       "      <th>26179</th>\n",
       "      <td>60000.0</td>\n",
       "      <td>0.998962</td>\n",
       "      <td>34.300969</td>\n",
       "      <td>0.000668</td>\n",
       "      <td>87.418449</td>\n",
       "    </tr>\n",
       "  </tbody>\n",
       "</table>\n",
       "<p>26180 rows × 5 columns</p>\n",
       "</div>"
      ],
      "text/plain": [
       "          step    reward     length  reward_se   length_se\n",
       "0          0.0  0.280000  84.280000   0.000000    0.000000\n",
       "1         27.0  0.139860  92.147860   0.039200  123.559200\n",
       "2         33.0  0.093147  94.770477   0.026107   82.290400\n",
       "3         43.0  0.195165  89.687644   0.058853  157.733888\n",
       "4         48.0  0.356777  82.320736   0.174036  388.186545\n",
       "...        ...       ...        ...        ...         ...\n",
       "26175  59988.0  0.998954  34.293304   0.000674   87.447962\n",
       "26176  59992.0  0.998956  34.284726   0.000672   87.310032\n",
       "26177  59996.0  0.998958  34.276165   0.000671   87.172230\n",
       "26178  59998.0  0.998960  34.309579   0.000670   87.556316\n",
       "26179  60000.0  0.998962  34.300969   0.000668   87.418449\n",
       "\n",
       "[26180 rows x 5 columns]"
      ]
     },
     "execution_count": 4,
     "metadata": {},
     "output_type": "execute_result"
    }
   ],
   "source": [
    "pqr_agrs_100_30k.sort_values(by='step', inplace=True)\n",
    "\n",
    "step_sums = dict() \n",
    "# {key: (reward_sum, count, length_of_run) }\n",
    "\n",
    "for index, row, in pqr_agrs_100_30k.iterrows():\n",
    "    step = row['step']\n",
    "    if step in step_sums:\n",
    "        # adding rewards for the step\n",
    "        step_sums[step][0] += row['run/total_reward']\n",
    "        step_sums[step][1] += 1\n",
    "        step_sums[step][2] += row['run/length']\n",
    "    else:\n",
    "        step_sums[step] = [0, 1, row['run/length']]\n",
    "        step_sums[step][0] += row['run/total_reward']\n",
    "        \n",
    "\n",
    "# take average reward and length at each saved step\n",
    "df_av_at_step = pd.DataFrame(columns=['step', 'reward', 'length'])\n",
    "\n",
    "\n",
    "for key, value in step_sums.items():\n",
    "    \n",
    "    mean_reward = value[0] / value[1]\n",
    "    mean_length = value[2] / value[1]\n",
    "    \n",
    "    \n",
    "    df_av_at_step = df_av_at_step.append({'step': key, 'reward': mean_reward, 'length': mean_length}, ignore_index=True)\n",
    "df_av_at_step.set_index('step')\n",
    "\n",
    "\n",
    "rolling = df_av_at_step.ewm(adjust = True, span=1000).mean()\n",
    "rolling_se = df_av_at_step.ewm(adjust = True, span = 1000).var()\n",
    "rolling\n",
    "\n",
    "df_av_at_step['reward'] = rolling['reward']\n",
    "df_av_at_step['reward_se'] = rolling_se['reward']\n",
    "df_av_at_step['length_se'] = rolling_se['length']\n",
    "df_av_at_step['length'] = rolling['length']\n",
    "\n",
    "df_av_at_step = df_av_at_step.fillna(0);df_av_at_step\n",
    "df_agrs = df_av_at_step\n",
    "df_agrs"
   ]
  },
  {
   "cell_type": "code",
   "execution_count": 5,
   "metadata": {},
   "outputs": [
    {
     "data": {
      "text/html": [
       "<div>\n",
       "<style scoped>\n",
       "    .dataframe tbody tr th:only-of-type {\n",
       "        vertical-align: middle;\n",
       "    }\n",
       "\n",
       "    .dataframe tbody tr th {\n",
       "        vertical-align: top;\n",
       "    }\n",
       "\n",
       "    .dataframe thead th {\n",
       "        text-align: right;\n",
       "    }\n",
       "</style>\n",
       "<table border=\"1\" class=\"dataframe\">\n",
       "  <thead>\n",
       "    <tr style=\"text-align: right;\">\n",
       "      <th></th>\n",
       "      <th>step</th>\n",
       "      <th>reward</th>\n",
       "      <th>length</th>\n",
       "      <th>reward_se</th>\n",
       "      <th>length_se</th>\n",
       "    </tr>\n",
       "  </thead>\n",
       "  <tbody>\n",
       "    <tr>\n",
       "      <th>0</th>\n",
       "      <td>0.0</td>\n",
       "      <td>0.440000</td>\n",
       "      <td>70.320000</td>\n",
       "      <td>0.000000</td>\n",
       "      <td>0.000000</td>\n",
       "    </tr>\n",
       "    <tr>\n",
       "      <th>1</th>\n",
       "      <td>24.0</td>\n",
       "      <td>0.219780</td>\n",
       "      <td>85.174840</td>\n",
       "      <td>0.096800</td>\n",
       "      <td>440.451200</td>\n",
       "    </tr>\n",
       "    <tr>\n",
       "      <th>2</th>\n",
       "      <td>27.0</td>\n",
       "      <td>0.146373</td>\n",
       "      <td>90.126447</td>\n",
       "      <td>0.064469</td>\n",
       "      <td>293.340401</td>\n",
       "    </tr>\n",
       "    <tr>\n",
       "      <th>3</th>\n",
       "      <td>29.0</td>\n",
       "      <td>0.235045</td>\n",
       "      <td>83.449852</td>\n",
       "      <td>0.074262</td>\n",
       "      <td>372.961042</td>\n",
       "    </tr>\n",
       "    <tr>\n",
       "      <th>4</th>\n",
       "      <td>31.0</td>\n",
       "      <td>0.187848</td>\n",
       "      <td>86.773135</td>\n",
       "      <td>0.066723</td>\n",
       "      <td>334.386754</td>\n",
       "    </tr>\n",
       "    <tr>\n",
       "      <th>...</th>\n",
       "      <td>...</td>\n",
       "      <td>...</td>\n",
       "      <td>...</td>\n",
       "      <td>...</td>\n",
       "      <td>...</td>\n",
       "    </tr>\n",
       "    <tr>\n",
       "      <th>31791</th>\n",
       "      <td>59987.0</td>\n",
       "      <td>0.999473</td>\n",
       "      <td>29.868014</td>\n",
       "      <td>0.000232</td>\n",
       "      <td>55.566758</td>\n",
       "    </tr>\n",
       "    <tr>\n",
       "      <th>31792</th>\n",
       "      <td>59989.0</td>\n",
       "      <td>0.999474</td>\n",
       "      <td>29.872940</td>\n",
       "      <td>0.000232</td>\n",
       "      <td>55.467867</td>\n",
       "    </tr>\n",
       "    <tr>\n",
       "      <th>31793</th>\n",
       "      <td>59992.0</td>\n",
       "      <td>0.999475</td>\n",
       "      <td>29.863204</td>\n",
       "      <td>0.000231</td>\n",
       "      <td>55.404438</td>\n",
       "    </tr>\n",
       "    <tr>\n",
       "      <th>31794</th>\n",
       "      <td>59995.0</td>\n",
       "      <td>0.999476</td>\n",
       "      <td>29.869471</td>\n",
       "      <td>0.000231</td>\n",
       "      <td>55.313380</td>\n",
       "    </tr>\n",
       "    <tr>\n",
       "      <th>31795</th>\n",
       "      <td>59998.0</td>\n",
       "      <td>0.999477</td>\n",
       "      <td>29.877724</td>\n",
       "      <td>0.000230</td>\n",
       "      <td>55.236918</td>\n",
       "    </tr>\n",
       "  </tbody>\n",
       "</table>\n",
       "<p>31796 rows × 5 columns</p>\n",
       "</div>"
      ],
      "text/plain": [
       "          step    reward     length  reward_se   length_se\n",
       "0          0.0  0.440000  70.320000   0.000000    0.000000\n",
       "1         24.0  0.219780  85.174840   0.096800  440.451200\n",
       "2         27.0  0.146373  90.126447   0.064469  293.340401\n",
       "3         29.0  0.235045  83.449852   0.074262  372.961042\n",
       "4         31.0  0.187848  86.773135   0.066723  334.386754\n",
       "...        ...       ...        ...        ...         ...\n",
       "31791  59987.0  0.999473  29.868014   0.000232   55.566758\n",
       "31792  59989.0  0.999474  29.872940   0.000232   55.467867\n",
       "31793  59992.0  0.999475  29.863204   0.000231   55.404438\n",
       "31794  59995.0  0.999476  29.869471   0.000231   55.313380\n",
       "31795  59998.0  0.999477  29.877724   0.000230   55.236918\n",
       "\n",
       "[31796 rows x 5 columns]"
      ]
     },
     "execution_count": 5,
     "metadata": {},
     "output_type": "execute_result"
    }
   ],
   "source": [
    "pqr_no_agrs_100_30k = pd.read_csv('../../lp_csv/mNoLP3_20.csv', header = 2)\n",
    "\n",
    "pqr_no_agrs_100_30k.sort_values(by='step', inplace=True)\n",
    "\n",
    "#PIPELINE FOR AVERAGE OF MOVING AVERAGES\n",
    "\n",
    "step_sums = dict() \n",
    "# {key: (reward_sum, count, length_of_run) }\n",
    "\n",
    "for index, row, in pqr_no_agrs_100_30k.iterrows():\n",
    "    step = row['step']\n",
    "    if step in step_sums:\n",
    "        # adding rewards for the step\n",
    "        step_sums[step][0] += row['run/total_reward']\n",
    "        step_sums[step][1] += 1\n",
    "        step_sums[step][2] += row['run/length']\n",
    "    else:\n",
    "        step_sums[step] = [0, 1, row['run/length']]\n",
    "        step_sums[step][0] += row['run/total_reward']\n",
    "        \n",
    "# take average reward and length at each saved step\n",
    "df_av_at_step = pd.DataFrame(columns=['step', 'reward', 'length']);df_av_at_step\n",
    "\n",
    "for key, value in step_sums.items():\n",
    "    \n",
    "    mean_reward = value[0] / value[1]\n",
    "    mean_length = value[2] / value[1]\n",
    "    \n",
    "    \n",
    "    df_av_at_step = df_av_at_step.append({'step': key, 'reward': mean_reward, 'length': mean_length}, ignore_index=True)\n",
    "\n",
    "df_av_at_step.set_index('step')\n",
    "\n",
    "rolling = df_av_at_step.ewm(adjust = True, span=1000).mean()\n",
    "rolling_se = df_av_at_step.ewm(adjust = True, span=1000).var()\n",
    "df_av_at_step['reward'] = rolling['reward']\n",
    "df_av_at_step['reward_se'] = rolling_se['reward']\n",
    "df_av_at_step['length_se'] = rolling_se['length']\n",
    "df_av_at_step['length'] = rolling['length']\n",
    "\n",
    "\n",
    "df_av_at_step = df_av_at_step.fillna(0);df_av_at_step\n",
    "df_no_agrs = df_av_at_step\n",
    "df_no_agrs"
   ]
  },
  {
   "cell_type": "code",
   "execution_count": 6,
   "metadata": {},
   "outputs": [
    {
     "data": {
      "text/plain": [
       "<matplotlib.axes._subplots.AxesSubplot at 0x7fcc8c952e50>"
      ]
     },
     "execution_count": 6,
     "metadata": {},
     "output_type": "execute_result"
    },
    {
     "data": {
      "image/png": "[encoded data removed]",
      "text/plain": [
       "<Figure size 432x288 with 1 Axes>"
      ]
     },
     "metadata": {
      "needs_background": "light"
     },
     "output_type": "display_data"
    }
   ],
   "source": [
    "plt.ylim(0.3, 1)\n",
    "sns.lineplot(x=\"step\", y=\"reward\", data=df_agrs)"
   ]
  },
  {
   "cell_type": "code",
   "execution_count": 7,
   "metadata": {
    "pycharm": {
     "name": "#%%\n"
    }
   },
   "outputs": [
    {
     "data": {
      "text/plain": [
       "<matplotlib.axes._subplots.AxesSubplot at 0x7fcc8b2f5790>"
      ]
     },
     "execution_count": 7,
     "metadata": {},
     "output_type": "execute_result"
    },
    {
     "data": {
      "image/png": "[encoded data removed]",
      "text/plain": [
       "<Figure size 432x288 with 1 Axes>"
      ]
     },
     "metadata": {
      "needs_background": "light"
     },
     "output_type": "display_data"
    }
   ],
   "source": [
    "plt.ylim(0.3, 1)\n",
    "sns.lineplot(x=\"step\", y=\"reward\", data=df_no_agrs)"
   ]
  },
  {
   "cell_type": "code",
   "execution_count": 8,
   "metadata": {
    "pycharm": {
     "name": "#%%\n"
    },
    "scrolled": true
   },
   "outputs": [
    {
     "data": {
      "text/plain": [
       "<matplotlib.legend.Legend at 0x7fcc8b350610>"
      ]
     },
     "execution_count": 8,
     "metadata": {},
     "output_type": "execute_result"
    },
    {
     "data": {
      "image/png": "[encoded data removed]",
      "text/plain": [
       "<Figure size 432x288 with 1 Axes>"
      ]
     },
     "metadata": {
      "needs_background": "light"
     },
     "output_type": "display_data"
    }
   ],
   "source": [
    "fig, axs = plt.subplots(ncols=1)\n",
    "sns.lineplot(x=\"step\", y=\"reward\", data=df_agrs,ax=axs, ci=99)\n",
    "sns.lineplot(x=\"step\", y=\"reward\", data=df_no_agrs,ax=axs, ci=99)\n",
    "axs.ticklabel_format(axis=\"x\", style=\"sci\", scilimits=(0,0))\n",
    "\n",
    "axs.legend(['LP','No LP'], loc=4)"
   ]
  },
  {
   "cell_type": "code",
   "execution_count": null,
   "metadata": {},
   "outputs": [],
   "source": []
  },
  {
   "cell_type": "code",
   "execution_count": 10,
   "metadata": {
    "scrolled": true
   },
   "outputs": [
    {
     "data": {
      "text/plain": [
       "<matplotlib.legend.Legend at 0x7fcc8aa87210>"
      ]
     },
     "execution_count": 10,
     "metadata": {},
     "output_type": "execute_result"
    },
    {
     "data": {
      "image/png": "[encoded data removed]",
      "text/plain": [
       "<Figure size 432x288 with 1 Axes>"
      ]
     },
     "metadata": {
      "needs_background": "light"
     },
     "output_type": "display_data"
    }
   ],
   "source": [
    "fig, axs = plt.subplots(ncols=1)\n",
    "#plt.title('Mine Recycler, Fixed 10x10')\n",
    "sns.lineplot(x=\"step\", y=\"reward\", data=df_agrs,ax=axs, ci=99)\n",
    "sns.lineplot(x=\"step\", y=\"reward\", data=df_no_agrs,ax=axs, ci=99)\n",
    "\n",
    "axs.fill_between(x=df_agrs[\"step\"], y1=df_agrs[\"reward\"] + df_agrs[\"reward_se\"], \n",
    "                 y2=df_agrs[\"reward\"] - df_agrs[\"reward_se\"], alpha=.5)\n",
    "axs.fill_between(x=df_no_agrs[\"step\"], y1=df_no_agrs[\"reward\"] + df_no_agrs[\"reward_se\"], \n",
    "                 y2=df_no_agrs[\"reward\"] - df_no_agrs[\"reward_se\"], alpha=.5)\n",
    "axs.set(xlabel='Play steps', ylabel='Win rate')\n",
    "plt.title('Blind Craft 3threads, 1/3 LP, 25 * 60k steps at 20 expansions')\n",
    "\n",
    "axs.legend(['LP', 'No LP'], loc=4)"
   ]
  },
  {
   "cell_type": "code",
   "execution_count": null,
   "metadata": {},
   "outputs": [],
   "source": []
  },
  {
   "cell_type": "code",
   "execution_count": null,
   "metadata": {},
   "outputs": [],
   "source": []
  },
  {
   "cell_type": "code",
   "execution_count": null,
   "metadata": {},
   "outputs": [],
   "source": []
  },
  {
   "cell_type": "code",
   "execution_count": null,
   "metadata": {},
   "outputs": [],
   "source": []
  },
  {
   "cell_type": "code",
   "execution_count": null,
   "metadata": {},
   "outputs": [],
   "source": []
  },
  {
   "cell_type": "code",
   "execution_count": null,
   "metadata": {},
   "outputs": [],
   "source": []
  },
  {
   "cell_type": "code",
   "execution_count": null,
   "metadata": {},
   "outputs": [],
   "source": []
  },
  {
   "cell_type": "code",
   "execution_count": null,
   "metadata": {},
   "outputs": [],
   "source": []
  },
  {
   "cell_type": "code",
   "execution_count": null,
   "metadata": {},
   "outputs": [],
   "source": []
  }
 ],
 "metadata": {
  "kernelspec": {
   "display_name": "Python 3",
   "language": "python",
   "name": "python3"
  },
  "language_info": {
   "codemirror_mode": {
    "name": "ipython",
    "version": 3
   },
   "file_extension": ".py",
   "mimetype": "text/x-python",
   "name": "python",
   "nbconvert_exporter": "python",
   "pygments_lexer": "ipython3",
   "version": "3.7.6"
  },
  "pycharm": {
   "stem_cell": {
    "cell_type": "raw",
    "metadata": {
     "collapsed": false
    },
    "source": [
     "\n"
    ]
   }
  }
 },
 "nbformat": 4,
 "nbformat_minor": 1
}
