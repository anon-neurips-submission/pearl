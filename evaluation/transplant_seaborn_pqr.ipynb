{
 "cells": [
  {
   "cell_type": "code",
   "execution_count": 1,
   "metadata": {
    "pycharm": {
     "name": "#%%\n"
    }
   },
   "outputs": [],
   "source": [
    "import pandas as pd\n",
    "import seaborn as sns\n",
    "%matplotlib inline\n",
    "import matplotlib.pyplot as plt\n",
    "import numpy as np"
   ]
  },
  {
   "cell_type": "code",
   "execution_count": null,
   "metadata": {},
   "outputs": [],
   "source": [
    "\n"
   ]
  },
  {
   "cell_type": "code",
   "execution_count": null,
   "metadata": {
    "pycharm": {
     "name": "#%%\n"
    }
   },
   "outputs": [],
   "source": [
    "\n"
   ]
  },
  {
   "cell_type": "code",
   "execution_count": 5,
   "metadata": {},
   "outputs": [
    {
     "data": {
      "text/html": [
       "<div>\n",
       "<style scoped>\n",
       "    .dataframe tbody tr th:only-of-type {\n",
       "        vertical-align: middle;\n",
       "    }\n",
       "\n",
       "    .dataframe tbody tr th {\n",
       "        vertical-align: top;\n",
       "    }\n",
       "\n",
       "    .dataframe thead th {\n",
       "        text-align: right;\n",
       "    }\n",
       "</style>\n",
       "<table border=\"1\" class=\"dataframe\">\n",
       "  <thead>\n",
       "    <tr style=\"text-align: right;\">\n",
       "      <th></th>\n",
       "      <th>step</th>\n",
       "      <th>reward</th>\n",
       "      <th>length</th>\n",
       "      <th>reward_se</th>\n",
       "      <th>length_se</th>\n",
       "    </tr>\n",
       "  </thead>\n",
       "  <tbody>\n",
       "    <tr>\n",
       "      <th>0</th>\n",
       "      <td>0.0</td>\n",
       "      <td>0.500000</td>\n",
       "      <td>47.250000</td>\n",
       "      <td>0.000000</td>\n",
       "      <td>0.000000e+00</td>\n",
       "    </tr>\n",
       "    <tr>\n",
       "      <th>1</th>\n",
       "      <td>4.0</td>\n",
       "      <td>0.750250</td>\n",
       "      <td>26.103875</td>\n",
       "      <td>0.015625</td>\n",
       "      <td>7.966120e+05</td>\n",
       "    </tr>\n",
       "    <tr>\n",
       "      <th>2</th>\n",
       "      <td>8.0</td>\n",
       "      <td>0.833667</td>\n",
       "      <td>54.459200</td>\n",
       "      <td>0.006931</td>\n",
       "      <td>8.126329e+06</td>\n",
       "    </tr>\n",
       "    <tr>\n",
       "      <th>3</th>\n",
       "      <td>9.0</td>\n",
       "      <td>0.875375</td>\n",
       "      <td>42.308031</td>\n",
       "      <td>0.003891</td>\n",
       "      <td>6.184146e+06</td>\n",
       "    </tr>\n",
       "    <tr>\n",
       "      <th>4</th>\n",
       "      <td>12.0</td>\n",
       "      <td>0.799999</td>\n",
       "      <td>53.089421</td>\n",
       "      <td>0.005625</td>\n",
       "      <td>5.961045e+06</td>\n",
       "    </tr>\n",
       "    <tr>\n",
       "      <th>...</th>\n",
       "      <td>...</td>\n",
       "      <td>...</td>\n",
       "      <td>...</td>\n",
       "      <td>...</td>\n",
       "      <td>...</td>\n",
       "    </tr>\n",
       "    <tr>\n",
       "      <th>6231</th>\n",
       "      <td>59823.0</td>\n",
       "      <td>0.533386</td>\n",
       "      <td>201.787100</td>\n",
       "      <td>0.058510</td>\n",
       "      <td>7.101497e+08</td>\n",
       "    </tr>\n",
       "    <tr>\n",
       "      <th>6232</th>\n",
       "      <td>59850.0</td>\n",
       "      <td>0.534319</td>\n",
       "      <td>201.495816</td>\n",
       "      <td>0.058486</td>\n",
       "      <td>7.095731e+08</td>\n",
       "    </tr>\n",
       "    <tr>\n",
       "      <th>6233</th>\n",
       "      <td>59853.0</td>\n",
       "      <td>0.535249</td>\n",
       "      <td>201.161157</td>\n",
       "      <td>0.058462</td>\n",
       "      <td>7.097210e+08</td>\n",
       "    </tr>\n",
       "    <tr>\n",
       "      <th>6234</th>\n",
       "      <td>59906.0</td>\n",
       "      <td>0.536178</td>\n",
       "      <td>201.156839</td>\n",
       "      <td>0.058437</td>\n",
       "      <td>7.068882e+08</td>\n",
       "    </tr>\n",
       "    <tr>\n",
       "      <th>6235</th>\n",
       "      <td>59927.0</td>\n",
       "      <td>0.535106</td>\n",
       "      <td>200.912769</td>\n",
       "      <td>0.058480</td>\n",
       "      <td>7.056479e+08</td>\n",
       "    </tr>\n",
       "  </tbody>\n",
       "</table>\n",
       "<p>6236 rows × 5 columns</p>\n",
       "</div>"
      ],
      "text/plain": [
       "         step    reward      length  reward_se     length_se\n",
       "0         0.0  0.500000   47.250000   0.000000  0.000000e+00\n",
       "1         4.0  0.750250   26.103875   0.015625  7.966120e+05\n",
       "2         8.0  0.833667   54.459200   0.006931  8.126329e+06\n",
       "3         9.0  0.875375   42.308031   0.003891  6.184146e+06\n",
       "4        12.0  0.799999   53.089421   0.005625  5.961045e+06\n",
       "...       ...       ...         ...        ...           ...\n",
       "6231  59823.0  0.533386  201.787100   0.058510  7.101497e+08\n",
       "6232  59850.0  0.534319  201.495816   0.058486  7.095731e+08\n",
       "6233  59853.0  0.535249  201.161157   0.058462  7.097210e+08\n",
       "6234  59906.0  0.536178  201.156839   0.058437  7.068882e+08\n",
       "6235  59927.0  0.535106  200.912769   0.058480  7.056479e+08\n",
       "\n",
       "[6236 rows x 5 columns]"
      ]
     },
     "execution_count": 5,
     "metadata": {},
     "output_type": "execute_result"
    }
   ],
   "source": [
    "\n",
    "\n",
    "pit_agrs_transplant_25_60k = pd.read_csv('../cass_exp/aug23/pqr60/pqr_60_merge_agrs.csv', header = 2)\n",
    "\n",
    "pit_agrs_transplant_25_60k.sort_values(by='step', inplace=True)\n",
    "\n",
    "step_sums = dict() \n",
    "# {key: (reward_sum, count, length_of_run) }\n",
    "\n",
    "for index, row, in pit_agrs_transplant_25_60k.iterrows():\n",
    "    step = row['step']\n",
    "    if step in step_sums:\n",
    "        # adding rewards for the step\n",
    "        step_sums[step][0] += row['run/total_reward']\n",
    "        step_sums[step][1] += 1\n",
    "        step_sums[step][2] += row['run/length']\n",
    "    else:\n",
    "        step_sums[step] = [0, 1, row['run/length']]\n",
    "        step_sums[step][0] += row['run/total_reward']\n",
    "        \n",
    "\n",
    "# take average reward and length at each saved step\n",
    "df_av_at_step = pd.DataFrame(columns=['step', 'reward', 'length'])\n",
    "\n",
    "\n",
    "for key, value in step_sums.items():\n",
    "    \n",
    "    mean_reward = value[0] / value[1]\n",
    "    mean_length = value[2] / value[1]\n",
    "    \n",
    "    \n",
    "    df_av_at_step = df_av_at_step.append({'step': key, 'reward': mean_reward, 'length': mean_length}, ignore_index=True)\n",
    "df_av_at_step.set_index('step')\n",
    "\n",
    "\n",
    "rolling = df_av_at_step.ewm(adjust = True, span=1000).mean()\n",
    "rolling_se = df_av_at_step.ewm(adjust = True, span = 1000).var()**2\n",
    "rolling\n",
    "\n",
    "df_av_at_step['reward'] = rolling['reward']\n",
    "df_av_at_step['reward_se'] = rolling_se['reward']\n",
    "df_av_at_step['length_se'] = rolling_se['length']\n",
    "df_av_at_step['length'] = rolling['length']\n",
    "\n",
    "df_av_at_step = df_av_at_step.fillna(0);df_av_at_step\n",
    "df_agrs = df_av_at_step\n",
    "df_agrs"
   ]
  },
  {
   "cell_type": "code",
   "execution_count": 6,
   "metadata": {},
   "outputs": [
    {
     "data": {
      "text/html": [
       "<div>\n",
       "<style scoped>\n",
       "    .dataframe tbody tr th:only-of-type {\n",
       "        vertical-align: middle;\n",
       "    }\n",
       "\n",
       "    .dataframe tbody tr th {\n",
       "        vertical-align: top;\n",
       "    }\n",
       "\n",
       "    .dataframe thead th {\n",
       "        text-align: right;\n",
       "    }\n",
       "</style>\n",
       "<table border=\"1\" class=\"dataframe\">\n",
       "  <thead>\n",
       "    <tr style=\"text-align: right;\">\n",
       "      <th></th>\n",
       "      <th>step</th>\n",
       "      <th>reward</th>\n",
       "      <th>length</th>\n",
       "      <th>reward_se</th>\n",
       "      <th>length_se</th>\n",
       "    </tr>\n",
       "  </thead>\n",
       "  <tbody>\n",
       "    <tr>\n",
       "      <th>0</th>\n",
       "      <td>0.0</td>\n",
       "      <td>0.440000</td>\n",
       "      <td>64.120000</td>\n",
       "      <td>0.000000</td>\n",
       "      <td>0.000000e+00</td>\n",
       "    </tr>\n",
       "    <tr>\n",
       "      <th>1</th>\n",
       "      <td>8.0</td>\n",
       "      <td>0.720280</td>\n",
       "      <td>51.297190</td>\n",
       "      <td>0.024586</td>\n",
       "      <td>1.077101e+05</td>\n",
       "    </tr>\n",
       "    <tr>\n",
       "      <th>2</th>\n",
       "      <td>9.0</td>\n",
       "      <td>0.813707</td>\n",
       "      <td>37.503919</td>\n",
       "      <td>0.010905</td>\n",
       "      <td>5.372689e+05</td>\n",
       "    </tr>\n",
       "    <tr>\n",
       "      <th>3</th>\n",
       "      <td>10.0</td>\n",
       "      <td>0.609669</td>\n",
       "      <td>49.162835</td>\n",
       "      <td>0.055418</td>\n",
       "      <td>1.060325e+06</td>\n",
       "    </tr>\n",
       "    <tr>\n",
       "      <th>4</th>\n",
       "      <td>12.0</td>\n",
       "      <td>0.688048</td>\n",
       "      <td>42.905313</td>\n",
       "      <td>0.042826</td>\n",
       "      <td>9.337845e+05</td>\n",
       "    </tr>\n",
       "    <tr>\n",
       "      <th>...</th>\n",
       "      <td>...</td>\n",
       "      <td>...</td>\n",
       "      <td>...</td>\n",
       "      <td>...</td>\n",
       "      <td>...</td>\n",
       "    </tr>\n",
       "    <tr>\n",
       "      <th>6207</th>\n",
       "      <td>59914.0</td>\n",
       "      <td>0.505589</td>\n",
       "      <td>218.103692</td>\n",
       "      <td>0.059367</td>\n",
       "      <td>8.244103e+08</td>\n",
       "    </tr>\n",
       "    <tr>\n",
       "      <th>6208</th>\n",
       "      <td>59924.0</td>\n",
       "      <td>0.504579</td>\n",
       "      <td>217.699887</td>\n",
       "      <td>0.059379</td>\n",
       "      <td>8.257984e+08</td>\n",
       "    </tr>\n",
       "    <tr>\n",
       "      <th>6209</th>\n",
       "      <td>59940.0</td>\n",
       "      <td>0.505569</td>\n",
       "      <td>217.272912</td>\n",
       "      <td>0.059380</td>\n",
       "      <td>8.277385e+08</td>\n",
       "    </tr>\n",
       "    <tr>\n",
       "      <th>6210</th>\n",
       "      <td>59944.0</td>\n",
       "      <td>0.504559</td>\n",
       "      <td>216.892745</td>\n",
       "      <td>0.059392</td>\n",
       "      <td>8.285891e+08</td>\n",
       "    </tr>\n",
       "    <tr>\n",
       "      <th>6211</th>\n",
       "      <td>59981.0</td>\n",
       "      <td>0.505549</td>\n",
       "      <td>216.649202</td>\n",
       "      <td>0.059393</td>\n",
       "      <td>8.269862e+08</td>\n",
       "    </tr>\n",
       "  </tbody>\n",
       "</table>\n",
       "<p>6212 rows × 5 columns</p>\n",
       "</div>"
      ],
      "text/plain": [
       "         step    reward      length  reward_se     length_se\n",
       "0         0.0  0.440000   64.120000   0.000000  0.000000e+00\n",
       "1         8.0  0.720280   51.297190   0.024586  1.077101e+05\n",
       "2         9.0  0.813707   37.503919   0.010905  5.372689e+05\n",
       "3        10.0  0.609669   49.162835   0.055418  1.060325e+06\n",
       "4        12.0  0.688048   42.905313   0.042826  9.337845e+05\n",
       "...       ...       ...         ...        ...           ...\n",
       "6207  59914.0  0.505589  218.103692   0.059367  8.244103e+08\n",
       "6208  59924.0  0.504579  217.699887   0.059379  8.257984e+08\n",
       "6209  59940.0  0.505569  217.272912   0.059380  8.277385e+08\n",
       "6210  59944.0  0.504559  216.892745   0.059392  8.285891e+08\n",
       "6211  59981.0  0.505549  216.649202   0.059393  8.269862e+08\n",
       "\n",
       "[6212 rows x 5 columns]"
      ]
     },
     "execution_count": 6,
     "metadata": {},
     "output_type": "execute_result"
    }
   ],
   "source": [
    "pit_no_agrs_transplant_25_60k = pd.read_csv('../cass_exp/aug23/pqr60/pqr_60_merge_no_agrs.csv', header = 2)\n",
    "\n",
    "pit_no_agrs_transplant_25_60k.sort_values(by='step', inplace=True)\n",
    "\n",
    "#PIPELINE FOR AVERAGE OF MOVING AVERAGES\n",
    "\n",
    "step_sums = dict() \n",
    "# {key: (reward_sum, count, length_of_run) }\n",
    "\n",
    "for index, row, in pit_no_agrs_transplant_25_60k.iterrows():\n",
    "    step = row['step']\n",
    "    if step in step_sums:\n",
    "        # adding rewards for the step\n",
    "        step_sums[step][0] += row['run/total_reward']\n",
    "        step_sums[step][1] += 1\n",
    "        step_sums[step][2] += row['run/length']\n",
    "    else:\n",
    "        step_sums[step] = [0, 1, row['run/length']]\n",
    "        step_sums[step][0] += row['run/total_reward']\n",
    "        \n",
    "# take average reward and length at each saved step\n",
    "df_av_at_step = pd.DataFrame(columns=['step', 'reward', 'length']);df_av_at_step\n",
    "\n",
    "for key, value in step_sums.items():\n",
    "    \n",
    "    mean_reward = value[0] / value[1]\n",
    "    mean_length = value[2] / value[1]\n",
    "    \n",
    "    \n",
    "    df_av_at_step = df_av_at_step.append({'step': key, 'reward': mean_reward, 'length': mean_length}, ignore_index=True)\n",
    "\n",
    "df_av_at_step.set_index('step')\n",
    "\n",
    "rolling = df_av_at_step.ewm(adjust = True, span=1000).mean()\n",
    "rolling_se = df_av_at_step.ewm(adjust = True, span=1000).var()**2\n",
    "df_av_at_step['reward'] = rolling['reward']\n",
    "df_av_at_step['reward_se'] = rolling_se['reward']\n",
    "df_av_at_step['length_se'] = rolling_se['length']\n",
    "df_av_at_step['length'] = rolling['length']\n",
    "\n",
    "\n",
    "df_av_at_step = df_av_at_step.fillna(0);df_av_at_step\n",
    "df_no_agrs = df_av_at_step\n",
    "df_no_agrs"
   ]
  },
  {
   "cell_type": "code",
   "execution_count": 7,
   "metadata": {
    "pycharm": {
     "name": "#%%\n"
    }
   },
   "outputs": [
    {
     "data": {
      "text/html": [
       "<div>\n",
       "<style scoped>\n",
       "    .dataframe tbody tr th:only-of-type {\n",
       "        vertical-align: middle;\n",
       "    }\n",
       "\n",
       "    .dataframe tbody tr th {\n",
       "        vertical-align: top;\n",
       "    }\n",
       "\n",
       "    .dataframe thead th {\n",
       "        text-align: right;\n",
       "    }\n",
       "</style>\n",
       "<table border=\"1\" class=\"dataframe\">\n",
       "  <thead>\n",
       "    <tr style=\"text-align: right;\">\n",
       "      <th></th>\n",
       "      <th>step</th>\n",
       "      <th>reward</th>\n",
       "      <th>length</th>\n",
       "      <th>reward_se</th>\n",
       "      <th>length_se</th>\n",
       "    </tr>\n",
       "  </thead>\n",
       "  <tbody>\n",
       "    <tr>\n",
       "      <th>0</th>\n",
       "      <td>0.0</td>\n",
       "      <td>0.560000</td>\n",
       "      <td>46.280000</td>\n",
       "      <td>0.000000</td>\n",
       "      <td>0.000000e+00</td>\n",
       "    </tr>\n",
       "    <tr>\n",
       "      <th>1</th>\n",
       "      <td>2.0</td>\n",
       "      <td>0.780220</td>\n",
       "      <td>24.117860</td>\n",
       "      <td>0.009370</td>\n",
       "      <td>9.611042e+05</td>\n",
       "    </tr>\n",
       "    <tr>\n",
       "      <th>2</th>\n",
       "      <td>4.0</td>\n",
       "      <td>0.853627</td>\n",
       "      <td>16.730490</td>\n",
       "      <td>0.004156</td>\n",
       "      <td>4.263032e+05</td>\n",
       "    </tr>\n",
       "    <tr>\n",
       "      <th>3</th>\n",
       "      <td>6.0</td>\n",
       "      <td>0.890330</td>\n",
       "      <td>13.036812</td>\n",
       "      <td>0.002333</td>\n",
       "      <td>2.393159e+05</td>\n",
       "    </tr>\n",
       "    <tr>\n",
       "      <th>4</th>\n",
       "      <td>8.0</td>\n",
       "      <td>0.845418</td>\n",
       "      <td>18.250241</td>\n",
       "      <td>0.002137</td>\n",
       "      <td>2.517574e+05</td>\n",
       "    </tr>\n",
       "    <tr>\n",
       "      <th>...</th>\n",
       "      <td>...</td>\n",
       "      <td>...</td>\n",
       "      <td>...</td>\n",
       "      <td>...</td>\n",
       "      <td>...</td>\n",
       "    </tr>\n",
       "    <tr>\n",
       "      <th>6477</th>\n",
       "      <td>59816.0</td>\n",
       "      <td>0.521699</td>\n",
       "      <td>209.994393</td>\n",
       "      <td>0.058651</td>\n",
       "      <td>7.243769e+08</td>\n",
       "    </tr>\n",
       "    <tr>\n",
       "      <th>6478</th>\n",
       "      <td>59839.0</td>\n",
       "      <td>0.520657</td>\n",
       "      <td>210.573826</td>\n",
       "      <td>0.058680</td>\n",
       "      <td>7.305316e+08</td>\n",
       "    </tr>\n",
       "    <tr>\n",
       "      <th>6479</th>\n",
       "      <td>59851.0</td>\n",
       "      <td>0.521615</td>\n",
       "      <td>210.790462</td>\n",
       "      <td>0.058668</td>\n",
       "      <td>7.288818e+08</td>\n",
       "    </tr>\n",
       "    <tr>\n",
       "      <th>6480</th>\n",
       "      <td>59885.0</td>\n",
       "      <td>0.520572</td>\n",
       "      <td>210.529142</td>\n",
       "      <td>0.058696</td>\n",
       "      <td>7.278132e+08</td>\n",
       "    </tr>\n",
       "    <tr>\n",
       "      <th>6481</th>\n",
       "      <td>59944.0</td>\n",
       "      <td>0.521530</td>\n",
       "      <td>210.172439</td>\n",
       "      <td>0.058684</td>\n",
       "      <td>7.283375e+08</td>\n",
       "    </tr>\n",
       "  </tbody>\n",
       "</table>\n",
       "<p>6482 rows × 5 columns</p>\n",
       "</div>"
      ],
      "text/plain": [
       "         step    reward      length  reward_se     length_se\n",
       "0         0.0  0.560000   46.280000   0.000000  0.000000e+00\n",
       "1         2.0  0.780220   24.117860   0.009370  9.611042e+05\n",
       "2         4.0  0.853627   16.730490   0.004156  4.263032e+05\n",
       "3         6.0  0.890330   13.036812   0.002333  2.393159e+05\n",
       "4         8.0  0.845418   18.250241   0.002137  2.517574e+05\n",
       "...       ...       ...         ...        ...           ...\n",
       "6477  59816.0  0.521699  209.994393   0.058651  7.243769e+08\n",
       "6478  59839.0  0.520657  210.573826   0.058680  7.305316e+08\n",
       "6479  59851.0  0.521615  210.790462   0.058668  7.288818e+08\n",
       "6480  59885.0  0.520572  210.529142   0.058696  7.278132e+08\n",
       "6481  59944.0  0.521530  210.172439   0.058684  7.283375e+08\n",
       "\n",
       "[6482 rows x 5 columns]"
      ]
     },
     "execution_count": 7,
     "metadata": {},
     "output_type": "execute_result"
    }
   ],
   "source": [
    "pit_agrs_no_transplant_25_60k = pd.read_csv('../cass_exp/aug23/pqr60/pqr_60_merge_agrs_no_t.csv', header = 2)\n",
    "\n",
    "pit_agrs_no_transplant_25_60k.sort_values(by='step', inplace=True)\n",
    "\n",
    "#PIPELINE FOR AVERAGE OF MOVING AVERAGES\n",
    "\n",
    "step_sums = dict()\n",
    "# {key: (reward_sum, count, length_of_run) }\n",
    "\n",
    "for index, row, in pit_agrs_no_transplant_25_60k.iterrows():\n",
    "    step = row['step']\n",
    "    if step in step_sums:\n",
    "        # adding rewards for the step\n",
    "        step_sums[step][0] += row['run/total_reward']\n",
    "        step_sums[step][1] += 1\n",
    "        step_sums[step][2] += row['run/length']\n",
    "    else:\n",
    "        step_sums[step] = [0, 1, row['run/length']]\n",
    "        step_sums[step][0] += row['run/total_reward']\n",
    "\n",
    "# take average reward and length at each saved step\n",
    "df_av_at_step = pd.DataFrame(columns=['step', 'reward', 'length']);df_av_at_step\n",
    "\n",
    "for key, value in step_sums.items():\n",
    "\n",
    "    mean_reward = value[0] / value[1]\n",
    "    mean_length = value[2] / value[1]\n",
    "\n",
    "\n",
    "    df_av_at_step = df_av_at_step.append({'step': key, 'reward': mean_reward, 'length': mean_length}, ignore_index=True)\n",
    "\n",
    "df_av_at_step.set_index('step')\n",
    "\n",
    "rolling = df_av_at_step.ewm(adjust = True, span=1000).mean()\n",
    "rolling_se = df_av_at_step.ewm(adjust = True, span=1000).var()**2\n",
    "df_av_at_step['reward'] = rolling['reward']\n",
    "df_av_at_step['reward_se'] = rolling_se['reward']\n",
    "df_av_at_step['length_se'] = rolling_se['length']\n",
    "df_av_at_step['length'] = rolling['length']\n",
    "\n",
    "\n",
    "df_av_at_step = df_av_at_step.fillna(0);df_av_at_step\n",
    "df_agrs_no = df_av_at_step\n",
    "df_agrs_no\n"
   ]
  },
  {
   "cell_type": "code",
   "execution_count": 8,
   "metadata": {},
   "outputs": [
    {
     "data": {
      "text/plain": [
       "<matplotlib.axes._subplots.AxesSubplot at 0x7fb563b34a90>"
      ]
     },
     "execution_count": 8,
     "metadata": {},
     "output_type": "execute_result"
    },
    {
     "data": {
      "image/png": "[encoded data removed]",
      "text/plain": [
       "<Figure size 432x288 with 1 Axes>"
      ]
     },
     "metadata": {
      "needs_background": "light"
     },
     "output_type": "display_data"
    }
   ],
   "source": [
    "plt.ylim(0.3, 1)\n",
    "sns.lineplot(x=\"step\", y=\"reward\", data=df_agrs)"
   ]
  },
  {
   "cell_type": "code",
   "execution_count": 9,
   "metadata": {},
   "outputs": [
    {
     "data": {
      "text/plain": [
       "<matplotlib.axes._subplots.AxesSubplot at 0x7fb5633f1910>"
      ]
     },
     "execution_count": 9,
     "metadata": {},
     "output_type": "execute_result"
    },
    {
     "data": {
      "image/png": "[encoded data removed]",
      "text/plain": [
       "<Figure size 432x288 with 1 Axes>"
      ]
     },
     "metadata": {
      "needs_background": "light"
     },
     "output_type": "display_data"
    }
   ],
   "source": [
    "plt.ylim(0.3, 1)\n",
    "sns.lineplot(x=\"step\", y=\"reward\", data=df_no_agrs)"
   ]
  },
  {
   "cell_type": "code",
   "execution_count": 10,
   "metadata": {},
   "outputs": [
    {
     "data": {
      "text/plain": [
       "['#4c72b0',\n",
       " '#dd8452',\n",
       " '#55a868',\n",
       " '#c44e52',\n",
       " '#8172b3',\n",
       " '#937860',\n",
       " '#da8bc3',\n",
       " '#8c8c8c',\n",
       " '#ccb974',\n",
       " '#64b5cd']"
      ]
     },
     "execution_count": 10,
     "metadata": {},
     "output_type": "execute_result"
    }
   ],
   "source": [
    "\n",
    "pal = sns.color_palette('deep')\n",
    "pal.as_hex()"
   ]
  },
  {
   "cell_type": "code",
   "execution_count": 11,
   "metadata": {},
   "outputs": [
    {
     "data": {
      "text/plain": [
       "<matplotlib.legend.Legend at 0x7fb56338ecd0>"
      ]
     },
     "execution_count": 11,
     "metadata": {},
     "output_type": "execute_result"
    },
    {
     "data": {
      "image/png": "[encoded data removed]",
      "text/plain": [
       "<Figure size 432x288 with 1 Axes>"
      ]
     },
     "metadata": {
      "needs_background": "light"
     },
     "output_type": "display_data"
    }
   ],
   "source": [
    "fig, axs = plt.subplots(ncols=1)\n",
    "#plt.title('Mine Recycler, 25x25 Fixed')\n",
    "\n",
    "sns.lineplot(x=\"step\", y=\"reward\", data=df_agrs_no,ax=axs, ci=99)\n",
    "sns.lineplot(x=\"step\", y=\"reward\", data=df_no_agrs,ax=axs, ci=99)\n",
    "sns.lineplot(x=\"step\", y=\"reward\", data=df_agrs,ax=axs, ci=99)\n",
    "\n",
    "axs.fill_between(x=df_no_agrs[\"step\"], y1=df_no_agrs[\"reward\"] + df_no_agrs[\"reward_se\"], \n",
    "                 y2=df_no_agrs[\"reward\"] - df_no_agrs[\"reward_se\"], alpha=.5, color='#dd8452')\n",
    "axs.fill_between(x=df_agrs_no[\"step\"], y1=df_agrs_no[\"reward\"] + df_agrs_no[\"reward_se\"], \n",
    "                 y2=df_agrs_no[\"reward\"] - df_agrs_no[\"reward_se\"], alpha=.5, color='#4c72b0')\n",
    "\n",
    "axs.fill_between(x=df_agrs[\"step\"], y1=df_agrs[\"reward\"] + df_agrs[\"reward_se\"], \n",
    "                 y2=df_agrs[\"reward\"] - df_agrs[\"reward_se\"], alpha=.5, color='#55a868')\n",
    "axs.set(xlabel='Play steps', ylabel='Win rate')\n",
    "\n",
    "axs.legend(['Automaton', 'No Automaton', 'Transfer, c$_{rate}$ = .997'], loc=1)"
   ]
  },
  {
   "cell_type": "code",
   "execution_count": null,
   "metadata": {
    "pycharm": {
     "name": "#%%\n"
    }
   },
   "outputs": [],
   "source": [
    "fig, axs = plt.subplots(ncols=1)\n",
    "plt.title('Pqr transplant 25 * 60k steps at 80 expansions')\n",
    "sns.lineplot(x=\"step\", y=\"length\", data=df_agrs,ax=axs, ci=99)\n",
    "sns.lineplot(x=\"step\", y=\"length\", data=df_agrs_no,ax=axs, ci=99)\n",
    "sns.lineplot(x=\"step\", y=\"length\", data=df_no_agrs,ax=axs, ci=99)\n",
    "\n",
    "axs.set(ylim=(180, 250))\n",
    "#axs.fill_between(x=df_no_agrs[\"step\"], y1=df_no_agrs[\"length\"] + df_no_agrs[\"length_se\"], \n",
    "                 #y2=df_no_agrs[\"length\"] - df_no_agrs[\"length_se\"], alpha=.5, color='#55a868')\n",
    "#axs.fill_between(x=df_agrs_no[\"step\"], y1=df_agrs_no[\"length\"] + df_agrs_no[\"length_se\"], \n",
    "                 #y2=df_agrs_no[\"length\"] - df_agrs_no[\"length_se\"], alpha=.5, color='#dd8452')\n",
    "\n",
    "#axs.fill_between(x=df_agrs[\"step\"], y1=df_agrs[\"length\"] + df_agrs[\"length_se\"], \n",
    "                 #y2=df_agrs[\"length\"] - df_agrs[\"length_se\"], alpha=.5, color='#4c72b0')\n",
    "axs.legend(['Transplant','AGRS-MCTS', 'MCTS'], loc=4)"
   ]
  },
  {
   "cell_type": "code",
   "execution_count": null,
   "metadata": {},
   "outputs": [],
   "source": []
  },
  {
   "cell_type": "code",
   "execution_count": null,
   "metadata": {},
   "outputs": [],
   "source": []
  },
  {
   "cell_type": "code",
   "execution_count": null,
   "metadata": {},
   "outputs": [],
   "source": []
  },
  {
   "cell_type": "code",
   "execution_count": null,
   "metadata": {},
   "outputs": [],
   "source": []
  }
 ],
 "metadata": {
  "kernelspec": {
   "display_name": "Python [conda env:vgcharm] *",
   "language": "python",
   "name": "conda-env-vgcharm-py"
  },
  "language_info": {
   "codemirror_mode": {
    "name": "ipython",
    "version": 3
   },
   "file_extension": ".py",
   "mimetype": "text/x-python",
   "name": "python",
   "nbconvert_exporter": "python",
   "pygments_lexer": "ipython3",
   "version": "3.7.6"
  },
  "pycharm": {
   "stem_cell": {
    "cell_type": "raw",
    "metadata": {
     "collapsed": false
    },
    "source": [
     "\n"
    ]
   }
  }
 },
 "nbformat": 4,
 "nbformat_minor": 1
}
